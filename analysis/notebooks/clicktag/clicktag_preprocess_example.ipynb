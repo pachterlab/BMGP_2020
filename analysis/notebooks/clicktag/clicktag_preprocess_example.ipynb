{
  "nbformat": 4,
  "nbformat_minor": 5,
  "metadata": {
    "colab": {
      "name": "clicktag_preprocess.ipynb",
      "provenance": [],
      "include_colab_link": true
    },
    "kernelspec": {
      "display_name": "Python 3",
      "language": "python",
      "name": "python3"
    },
    "language_info": {
      "codemirror_mode": {
        "name": "ipython",
        "version": 3
      },
      "file_extension": ".py",
      "mimetype": "text/x-python",
      "name": "python",
      "nbconvert_exporter": "python",
      "pygments_lexer": "ipython3",
      "version": "3.7.4"
    }
  },
  "cells": [
    {
      "cell_type": "markdown",
      "metadata": {
        "id": "view-in-github",
        "colab_type": "text"
      },
      "source": [
        "<a href=\"https://colab.research.google.com/github/pachterlab/BMGP_2020/blob/main/analysis/notebooks/clicktag/clicktag_preprocess_example.ipynb\" target=\"_parent\"><img src=\"https://colab.research.google.com/assets/colab-badge.svg\" alt=\"Open In Colab\"/></a>"
      ]
    },
    {
      "cell_type": "code",
      "metadata": {
        "colab": {
          "base_uri": "https://localhost:8080/"
        },
        "id": "essential-parish",
        "outputId": "4c3dbc17-0f0d-4661-9fdd-1eaed123994e"
      },
      "source": [
        "!date"
      ],
      "id": "essential-parish",
      "execution_count": 1,
      "outputs": [
        {
          "output_type": "stream",
          "name": "stdout",
          "text": [
            "Tue 07 Mar 2023 11:21:50 AM UTC\n"
          ]
        }
      ]
    },
    {
      "cell_type": "markdown",
      "metadata": {
        "id": "settled-stomach"
      },
      "source": [
        "# Install packages and download data"
      ],
      "id": "settled-stomach"
    },
    {
      "cell_type": "code",
      "metadata": {
        "id": "antique-survey"
      },
      "source": [
        "import sys\n",
        "COLAB = \"google.colab\" in sys.modules\n"
      ],
      "id": "antique-survey",
      "execution_count": 2,
      "outputs": []
    },
    {
      "cell_type": "code",
      "metadata": {
        "colab": {
          "base_uri": "https://localhost:8080/"
        },
        "id": "declared-retail",
        "outputId": "33ddf390-f978-4bb9-880c-36a7004964ec"
      },
      "source": [
        "if COLAB:\n",
        "    !git clone https://github.com/sbooeshaghi/BMGP_2020.git"
      ],
      "id": "declared-retail",
      "execution_count": 3,
      "outputs": [
        {
          "output_type": "stream",
          "name": "stdout",
          "text": [
            "Cloning into 'BMGP_2020'...\n",
            "remote: Enumerating objects: 1154, done.\u001b[K\n",
            "remote: Counting objects: 100% (337/337), done.\u001b[K\n",
            "remote: Compressing objects: 100% (221/221), done.\u001b[K\n",
            "remote: Total 1154 (delta 146), reused 256 (delta 114), pack-reused 817\u001b[K\n",
            "Receiving objects: 100% (1154/1154), 496.73 MiB | 22.70 MiB/s, done.\n",
            "Resolving deltas: 100% (470/470), done.\n",
            "Updating files: 100% (154/154), done.\n"
          ]
        }
      ]
    },
    {
      "cell_type": "code",
      "metadata": {
        "colab": {
          "base_uri": "https://localhost:8080/"
        },
        "id": "another-episode",
        "outputId": "5d0c7278-7697-4512-e70d-90b2a29ef150"
      },
      "source": [
        "if COLAB:\n",
        "    !pip install --quiet \\\n",
        "    kb-python==0.26.3 \\\n",
        "    anndata==0.7.6"
      ],
      "id": "another-episode",
      "execution_count": 4,
      "outputs": [
        {
          "output_type": "stream",
          "name": "stdout",
          "text": [
            "\u001b[2K     \u001b[90m━━━━━━━━━━━━━━━━━━━━━━━━━━━━━━━━━━━━━━━━\u001b[0m \u001b[32m7.4/7.4 MB\u001b[0m \u001b[31m15.4 MB/s\u001b[0m eta \u001b[36m0:00:00\u001b[0m\n",
            "\u001b[?25h  Preparing metadata (setup.py) ... \u001b[?25l\u001b[?25hdone\n",
            "\u001b[2K     \u001b[90m━━━━━━━━━━━━━━━━━━━━━━━━━━━━━━━━━━━━━━\u001b[0m \u001b[32m127.6/127.6 KB\u001b[0m \u001b[31m12.8 MB/s\u001b[0m eta \u001b[36m0:00:00\u001b[0m\n",
            "\u001b[2K     \u001b[90m━━━━━━━━━━━━━━━━━━━━━━━━━━━━━━━━━━━━━━━━\u001b[0m \u001b[32m4.8/4.8 MB\u001b[0m \u001b[31m72.6 MB/s\u001b[0m eta \u001b[36m0:00:00\u001b[0m\n",
            "\u001b[?25h  Preparing metadata (setup.py) ... \u001b[?25l\u001b[?25hdone\n",
            "\u001b[2K     \u001b[90m━━━━━━━━━━━━━━━━━━━━━━━━━━━━━━━━━━━━━━━━\u001b[0m \u001b[32m45.2/45.2 MB\u001b[0m \u001b[31m11.6 MB/s\u001b[0m eta \u001b[36m0:00:00\u001b[0m\n",
            "\u001b[?25h  Preparing metadata (setup.py) ... \u001b[?25l\u001b[?25hdone\n",
            "\u001b[2K     \u001b[90m━━━━━━━━━━━━━━━━━━━━━━━━━━━━━━━━━━━━━━━━\u001b[0m \u001b[32m2.0/2.0 MB\u001b[0m \u001b[31m54.5 MB/s\u001b[0m eta \u001b[36m0:00:00\u001b[0m\n",
            "\u001b[2K     \u001b[90m━━━━━━━━━━━━━━━━━━━━━━━━━━━━━━━━━━━━━━━━\u001b[0m \u001b[32m16.1/16.1 MB\u001b[0m \u001b[31m75.0 MB/s\u001b[0m eta \u001b[36m0:00:00\u001b[0m\n",
            "\u001b[2K     \u001b[90m━━━━━━━━━━━━━━━━━━━━━━━━━━━━━━━━━━━━━━━━\u001b[0m \u001b[32m88.2/88.2 KB\u001b[0m \u001b[31m9.8 MB/s\u001b[0m eta \u001b[36m0:00:00\u001b[0m\n",
            "\u001b[?25h  Preparing metadata (setup.py) ... \u001b[?25l\u001b[?25hdone\n",
            "  Preparing metadata (setup.py) ... \u001b[?25l\u001b[?25hdone\n",
            "\u001b[2K     \u001b[90m━━━━━━━━━━━━━━━━━━━━━━━━━━━━━━━━━━━━━━━━\u001b[0m \u001b[32m1.1/1.1 MB\u001b[0m \u001b[31m55.7 MB/s\u001b[0m eta \u001b[36m0:00:00\u001b[0m\n",
            "\u001b[?25h  Preparing metadata (setup.py) ... \u001b[?25l\u001b[?25hdone\n",
            "\u001b[2K     \u001b[90m━━━━━━━━━━━━━━━━━━━━━━━━━━━━━━━━━━━━━━━━\u001b[0m \u001b[32m63.5/63.5 KB\u001b[0m \u001b[31m7.5 MB/s\u001b[0m eta \u001b[36m0:00:00\u001b[0m\n",
            "\u001b[?25h  Building wheel for kb-python (setup.py) ... \u001b[?25l\u001b[?25hdone\n",
            "  Building wheel for loompy (setup.py) ... \u001b[?25l\u001b[?25hdone\n",
            "  Building wheel for ngs-tools (setup.py) ... \u001b[?25l\u001b[?25hdone\n",
            "  Building wheel for umap-learn (setup.py) ... \u001b[?25l\u001b[?25hdone\n",
            "  Building wheel for session-info (setup.py) ... \u001b[?25l\u001b[?25hdone\n",
            "  Building wheel for pynndescent (setup.py) ... \u001b[?25l\u001b[?25hdone\n"
          ]
        }
      ]
    },
    {
      "cell_type": "code",
      "metadata": {
        "colab": {
          "base_uri": "https://localhost:8080/"
        },
        "id": "universal-spouse",
        "outputId": "1f404b57-4ffa-487b-d0b6-47c359baac22"
      },
      "source": [
        "if COLAB:\n",
        "    # download the relevant data\n",
        "    !wget -O clicktag_fastqs.tar.gz \\\n",
        "    -q --show-progress --progress=bar:force  \\\n",
        "    https://caltech.box.com/shared/static/zqaom7yuul7ujetqyhnd4lvf8vhzqsyg.gz \\\n",
        "    2>&1\n",
        "    !tar -xf clicktag_fastqs.tar.gz"
      ],
      "id": "universal-spouse",
      "execution_count": 5,
      "outputs": [
        {
          "output_type": "stream",
          "name": "stdout",
          "text": [
            "clicktag_fastqs.tar 100%[===================>]   1.47G  16.3MB/s    in 2m 15s  \n"
          ]
        }
      ]
    },
    {
      "cell_type": "markdown",
      "metadata": {
        "id": "dressed-ballet"
      },
      "source": [
        "# Preprocess with kb"
      ],
      "id": "dressed-ballet"
    },
    {
      "cell_type": "markdown",
      "source": [
        "## Generate pseudoalignment index"
      ],
      "metadata": {
        "id": "FWjbkboO3Cd3"
      },
      "id": "FWjbkboO3Cd3"
    },
    {
      "cell_type": "code",
      "metadata": {
        "colab": {
          "base_uri": "https://localhost:8080/"
        },
        "id": "confused-explorer",
        "outputId": "bd845982-260b-4bc1-a8bc-6bc3248da536"
      },
      "source": [
        "%%time\n",
        "!INDEX=\"BMGP_2020/references/clicktag/kite/features.idx\" && \\\n",
        "F2B=\"BMGP_2020/references/clicktag/kite/f2b.txt\" && \\\n",
        "FASTA=\"BMGP_2020/references/clicktag/kite/features.fa\" && \\\n",
        "FB=\"BMGP_2020/references/clicktag/kite/feature_barcodes.txt\" && \\\n",
        "kb ref \\\n",
        "-i $INDEX \\\n",
        "-g $F2B \\\n",
        "-f1 $FASTA \\\n",
        "--workflow kite \\\n",
        "$FB"
      ],
      "id": "confused-explorer",
      "execution_count": 6,
      "outputs": [
        {
          "output_type": "stream",
          "name": "stdout",
          "text": [
            "[2023-03-07 11:36:05,991]    INFO [ref_kite] Generating mismatch FASTA at BMGP_2020/references/clicktag/kite/features.fa\n",
            "[2023-03-07 11:36:06,030]    INFO [ref_kite] Creating transcript-to-gene mapping at BMGP_2020/references/clicktag/kite/f2b.txt\n",
            "[2023-03-07 11:36:06,040]    INFO [ref_kite] Skipping kallisto index because BMGP_2020/references/clicktag/kite/features.idx already exists. Use the --overwrite flag to overwrite.\n",
            "CPU times: user 55.1 ms, sys: 14.9 ms, total: 70 ms\n",
            "Wall time: 4.14 s\n"
          ]
        }
      ]
    },
    {
      "cell_type": "markdown",
      "metadata": {
        "id": "celtic-question"
      },
      "source": [
        "## Pseudoalign reads"
      ],
      "id": "celtic-question"
    },
    {
      "cell_type": "code",
      "metadata": {
        "id": "absent-rocket",
        "outputId": "5baf69c4-e757-4b45-bfdc-9eacb30cfe98",
        "colab": {
          "base_uri": "https://localhost:8080/"
        }
      },
      "source": [
        "%%bash\n",
        "FB=\"BMGP_2020/references/clicktag/kite/feature_barcodes.txt\" && \\\n",
        "INDEX=\"BMGP_2020/references/clicktag/kite/features.idx\" && \\\n",
        "F2B=\"BMGP_2020/references/clicktag/kite/f2b.txt\" && \\\n",
        "FASTA=\"BMGP_2020/references/clicktag/kite/features.fa\" && \\\n",
        "OUT=\"kite_out\" && \\\n",
        "FASTQS=$(FASTQDIR=\"fastqs/\" && paste -d\" \" \\\n",
        "<(ls $FASTQDIR | awk -v p=$FASTQDIR '{print p$0}' | grep R1) \\\n",
        "<(ls $FASTQDIR | awk -v p=$FASTQDIR '{print p$0}' | grep R2)) && \\\n",
        "kb count \\\n",
        "-i $INDEX \\\n",
        "-g $F2B \\\n",
        "-x 10xv2 \\\n",
        "-o $OUT \\\n",
        "--workflow kite \\\n",
        "--h5ad \\\n",
        "--filter bustools \\\n",
        "--overwrite \\\n",
        "$FASTQS"
      ],
      "id": "absent-rocket",
      "execution_count": 8,
      "outputs": [
        {
          "output_type": "stream",
          "name": "stderr",
          "text": [
            "[2023-03-07 11:37:34,593]    INFO [count] Using index BMGP_2020/references/clicktag/kite/features.idx to generate BUS file to kite_out from\n",
            "[2023-03-07 11:37:34,594]    INFO [count]         fastqs/NSC_Fixed_S2_L001_R1_001.fastq.gz\n",
            "[2023-03-07 11:37:34,594]    INFO [count]         fastqs/NSC_Fixed_S2_L001_R2_001.fastq.gz\n",
            "[2023-03-07 11:39:54,495]    INFO [count] Sorting BUS file kite_out/output.bus to kite_out/tmp/output.s.bus\n",
            "[2023-03-07 11:40:17,691]    INFO [count] Whitelist not provided\n",
            "[2023-03-07 11:40:17,691]    INFO [count] Copying pre-packaged 10XV2 whitelist to kite_out\n",
            "[2023-03-07 11:40:17,928]    INFO [count] Inspecting BUS file kite_out/tmp/output.s.bus\n",
            "[2023-03-07 11:40:25,588]    INFO [count] Correcting BUS records in kite_out/tmp/output.s.bus to kite_out/tmp/output.s.c.bus with whitelist kite_out/10x_version2_whitelist.txt\n",
            "[2023-03-07 11:40:34,033]    INFO [count] Sorting BUS file kite_out/tmp/output.s.c.bus to kite_out/output.unfiltered.bus\n",
            "[2023-03-07 11:40:49,543]    INFO [count] Generating count matrix kite_out/counts_unfiltered/cells_x_features from BUS file kite_out/output.unfiltered.bus\n",
            "[2023-03-07 11:40:51,564]    INFO [count] Reading matrix kite_out/counts_unfiltered/cells_x_features.mtx\n",
            "[2023-03-07 11:40:52,617]    INFO [count] Writing matrix to h5ad kite_out/counts_unfiltered/adata.h5ad\n",
            "[2023-03-07 11:40:52,778]    INFO [count] Filtering with bustools\n",
            "[2023-03-07 11:40:52,778]    INFO [count] Generating whitelist kite_out/filter_barcodes.txt from BUS file kite_out/output.unfiltered.bus\n",
            "[2023-03-07 11:40:52,910]    INFO [count] Correcting BUS records in kite_out/output.unfiltered.bus to kite_out/tmp/output.unfiltered.c.bus with whitelist kite_out/filter_barcodes.txt\n",
            "[2023-03-07 11:40:58,872]    INFO [count] Sorting BUS file kite_out/tmp/output.unfiltered.c.bus to kite_out/output.filtered.bus\n",
            "[2023-03-07 11:41:11,358]    INFO [count] Generating count matrix kite_out/counts_filtered/cells_x_features from BUS file kite_out/output.filtered.bus\n",
            "[2023-03-07 11:41:12,130]    INFO [count] Reading matrix kite_out/counts_filtered/cells_x_features.mtx\n",
            "[2023-03-07 11:41:12,188]    INFO [count] Writing matrix to h5ad kite_out/counts_filtered/adata.h5ad\n"
          ]
        }
      ]
    },
    {
      "cell_type": "code",
      "metadata": {
        "colab": {
          "base_uri": "https://localhost:8080/"
        },
        "id": "outdoor-swimming",
        "outputId": "19e3421c-e619-40e9-b71a-f0a38a34b6de"
      },
      "source": [
        "!cat kite_out/run_info.json"
      ],
      "id": "outdoor-swimming",
      "execution_count": 9,
      "outputs": [
        {
          "output_type": "stream",
          "name": "stdout",
          "text": [
            "{\n",
            "\t\"n_targets\": 0,\n",
            "\t\"n_bootstraps\": 0,\n",
            "\t\"n_processed\": 15928888,\n",
            "\t\"n_pseudoaligned\": 15357069,\n",
            "\t\"n_unique\": 15357069,\n",
            "\t\"p_pseudoaligned\": 96.4,\n",
            "\t\"p_unique\": 96.4,\n",
            "\t\"kallisto_version\": \"0.46.2\",\n",
            "\t\"index_version\": 0,\n",
            "\t\"start_time\": \"Tue Mar  7 11:37:34 2023\",\n",
            "\t\"call\": \"/usr/local/lib/python3.8/dist-packages/kb_python/bins/linux/kallisto/kallisto bus -i BMGP_2020/references/clicktag/kite/features.idx -o kite_out -x 10xv2 -t 8 fastqs/NSC_Fixed_S2_L001_R1_001.fastq.gz fastqs/NSC_Fixed_S2_L001_R2_001.fastq.gz\"\n",
            "}\n"
          ]
        }
      ]
    },
    {
      "cell_type": "code",
      "source": [
        "import matplotlib\n",
        "import matplotlib.pyplot as plt\n",
        "import numpy as np\n",
        "import pandas as pd\n",
        "import anndata\n",
        "\n",
        "fsize = 15\n",
        "\n",
        "\n",
        "def nd(arr):\n",
        "    return np.asarray(arr).reshape(-1)\n",
        "\n",
        "\n",
        "def yex(ax):\n",
        "    lims = [\n",
        "        np.min([ax.get_xlim(), ax.get_ylim()]),  # min of both axes\n",
        "        np.max([ax.get_xlim(), ax.get_ylim()]),  # max of both axes\n",
        "    ]\n",
        "\n",
        "    # now plot both limits against eachother\n",
        "    ax.plot(lims, lims, \"white\", alpha=0.75, zorder=0)\n",
        "    ax.set(**{\"aspect\": \"equal\", \"xlim\": lims, \"ylim\": lims})\n",
        "    return ax\n",
        "\n",
        "\n",
        "plt.rcParams.update({\"font.size\": fsize})\n",
        "%config InlineBackend.figure_format = 'retina'"
      ],
      "metadata": {
        "id": "pULXM_qp4LWc"
      },
      "id": "pULXM_qp4LWc",
      "execution_count": 11,
      "outputs": []
    },
    {
      "cell_type": "code",
      "source": [
        "adata = anndata.read_h5ad(\"/content/kite_out/counts_unfiltered/adata.h5ad\")"
      ],
      "metadata": {
        "id": "CZzN5tOM4F0F"
      },
      "id": "CZzN5tOM4F0F",
      "execution_count": 14,
      "outputs": []
    },
    {
      "cell_type": "code",
      "source": [
        "fig, ax = plt.subplots(figsize=(7,7))\n",
        "\n",
        "x = np.sort(nd(adata.X.sum(1)))[::-1]\n",
        "y = np.arange(x.shape[0])\n",
        "\n",
        "ax.scatter(x,y)\n",
        "\n",
        "ax.set(**{\n",
        "    \"xlabel\": \"UMI counts\",\n",
        "    \"ylabel\": \"Barcode rank\",\n",
        "    \"xscale\": \"log\",\n",
        "    \"yscale\": \"log\"\n",
        "})\n",
        "\n",
        "fig.show()"
      ],
      "metadata": {
        "id": "RCu0-u5T4Kb4",
        "outputId": "1ac280e7-3557-47d5-bad0-afc1cc715da3",
        "colab": {
          "base_uri": "https://localhost:8080/",
          "height": 453
        }
      },
      "id": "RCu0-u5T4Kb4",
      "execution_count": 15,
      "outputs": [
        {
          "output_type": "display_data",
          "data": {
            "text/plain": [
              "<Figure size 504x504 with 1 Axes>"
            ],
            "image/png": "[encoded data removed]"
          },
          "metadata": {
            "image/png": {
              "width": 456,
              "height": 436
            },
            "needs_background": "light"
          }
        }
      ]
    },
    {
      "cell_type": "code",
      "source": [],
      "metadata": {
        "id": "9ae8M7es4srm"
      },
      "id": "9ae8M7es4srm",
      "execution_count": null,
      "outputs": []
    }
  ]
}