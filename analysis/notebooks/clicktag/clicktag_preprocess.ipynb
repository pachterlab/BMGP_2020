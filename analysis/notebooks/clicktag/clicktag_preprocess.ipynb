{
 "cells": [
  {
   "cell_type": "markdown",
   "id": "independent-hanging",
   "metadata": {
    "colab_type": "text",
    "id": "view-in-github"
   },
   "source": [
    "<a href=\"https://colab.research.google.com/github/sbooeshaghi/BMGP_2020/blob/main/analysis/notebooks/clicktag/clicktag_preprocess.ipynb\" target=\"_parent\"><img src=\"https://colab.research.google.com/assets/colab-badge.svg\" alt=\"Open In Colab\"/></a>"
   ]
  },
  {
   "cell_type": "code",
   "execution_count": 1,
   "id": "essential-parish",
   "metadata": {
    "colab": {
     "base_uri": "https://localhost:8080/"
    },
    "id": "differential-jordan",
    "outputId": "a9548721-1d03-40de-a8f7-d555b061cb0a"
   },
   "outputs": [
    {
     "name": "stdout",
     "output_type": "stream",
     "text": [
      "Mon Jun 14 22:21:46 UTC 2021\n"
     ]
    }
   ],
   "source": [
    "!date"
   ]
  },
  {
   "cell_type": "markdown",
   "id": "settled-stomach",
   "metadata": {
    "id": "quiet-currency"
   },
   "source": [
    "# Install packages and download data"
   ]
  },
  {
   "cell_type": "code",
   "execution_count": 2,
   "id": "antique-survey",
   "metadata": {
    "id": "incoming-coupon"
   },
   "outputs": [],
   "source": [
    "import sys\n",
    "COLAB = \"google.colab\" in sys.modules\n"
   ]
  },
  {
   "cell_type": "code",
   "execution_count": null,
   "id": "declared-retail",
   "metadata": {
    "colab": {
     "base_uri": "https://localhost:8080/"
    },
    "id": "increasing-trading",
    "outputId": "2ca66764-4a6c-4ddd-ee16-997941aa5930"
   },
   "outputs": [
    {
     "name": "stdout",
     "output_type": "stream",
     "text": [
      "Cloning into 'BMGP_2020'...\n",
      "remote: Enumerating objects: 719, done.\u001b[K\n",
      "remote: Counting objects: 100% (423/423), done.\u001b[K\n",
      "remote: Compressing objects: 100% (360/360), done.\u001b[K\n",
      "remote: Total 719 (delta 175), reused 208 (delta 60), pack-reused 296\u001b[K\n",
      "Receiving objects: 100% (719/719), 469.82 MiB | 8.57 MiB/s, done.\n",
      "Resolving deltas: 100% (266/266), done.\n",
      "Checking out files: 100% (148/148)   \r"
     ]
    }
   ],
   "source": [
    "if COLAB:\n",
    "    !git clone https://github.com/sbooeshaghi/BMGP_2020.git"
   ]
  },
  {
   "cell_type": "code",
   "execution_count": 4,
   "id": "formed-working",
   "metadata": {
    "colab": {
     "base_uri": "https://localhost:8080/"
    },
    "id": "scientific-space",
    "outputId": "7c364c17-9eeb-4e09-b3e4-f075ea0b0a03"
   },
   "outputs": [
    {
     "name": "stdout",
     "output_type": "stream",
     "text": [
      "\u001b[K     |████████████████████████████████| 51kB 3.7MB/s \n",
      "\u001b[K     |████████████████████████████████| 81kB 5.7MB/s \n",
      "\u001b[K     |████████████████████████████████| 225kB 40.2MB/s \n",
      "\u001b[K     |████████████████████████████████| 9.9MB 19.0MB/s \n",
      "\u001b[?25h  Building wheel for CITE-seq-Count (setup.py) ... \u001b[?25l\u001b[?25hdone\n",
      "  Building wheel for python-levenshtein (setup.py) ... \u001b[?25l\u001b[?25hdone\n",
      "  Building wheel for umi-tools (setup.py) ... \u001b[?25l\u001b[?25hdone\n",
      "  Building wheel for pytest-dependency (setup.py) ... \u001b[?25l\u001b[?25hdone\n",
      "  Building wheel for pybktree (setup.py) ... \u001b[?25l\u001b[?25hdone\n",
      "\u001b[31mERROR: datascience 0.10.6 has requirement folium==0.2.1, but you'll have folium 0.8.3 which is incompatible.\u001b[0m\n"
     ]
    }
   ],
   "source": [
    "!pip --quiet install CITE-seq-Count==1.4.4"
   ]
  },
  {
   "cell_type": "code",
   "execution_count": 5,
   "id": "another-episode",
   "metadata": {
    "colab": {
     "base_uri": "https://localhost:8080/"
    },
    "id": "drawn-hunter",
    "outputId": "b090d3bd-bbae-4531-fb6b-9d03fcd43f49"
   },
   "outputs": [
    {
     "name": "stdout",
     "output_type": "stream",
     "text": [
      "\u001b[K     |████████████████████████████████| 59.1MB 73kB/s \n",
      "\u001b[K     |████████████████████████████████| 133kB 45.2MB/s \n",
      "\u001b[K     |████████████████████████████████| 10.3MB 25.0MB/s \n",
      "\u001b[K     |████████████████████████████████| 51kB 7.1MB/s \n",
      "\u001b[K     |████████████████████████████████| 13.2MB 144kB/s \n",
      "\u001b[K     |████████████████████████████████| 81kB 10.1MB/s \n",
      "\u001b[K     |████████████████████████████████| 112kB 55.5MB/s \n",
      "\u001b[K     |████████████████████████████████| 71kB 8.0MB/s \n",
      "\u001b[K     |████████████████████████████████| 1.2MB 30.7MB/s \n",
      "\u001b[?25h  Building wheel for loompy (setup.py) ... \u001b[?25l\u001b[?25hdone\n",
      "  Building wheel for sinfo (setup.py) ... \u001b[?25l\u001b[?25hdone\n",
      "  Building wheel for umap-learn (setup.py) ... \u001b[?25l\u001b[?25hdone\n",
      "  Building wheel for numpy-groupies (setup.py) ... \u001b[?25l\u001b[?25hdone\n",
      "  Building wheel for pynndescent (setup.py) ... \u001b[?25l\u001b[?25hdone\n"
     ]
    }
   ],
   "source": [
    "if COLAB:\n",
    "    !pip install --quiet \\\n",
    "    kb-python==0.26.0 \\\n",
    "    anndata==0.7.6 \\\n",
    "    CITE-seq-Count==1.4.4"
   ]
  },
  {
   "cell_type": "code",
   "execution_count": 6,
   "id": "universal-spouse",
   "metadata": {
    "colab": {
     "base_uri": "https://localhost:8080/"
    },
    "id": "parliamentary-proceeding",
    "outputId": "8f79fc39-cae6-44d1-a1e8-ee8f318d51e0"
   },
   "outputs": [
    {
     "name": "stdout",
     "output_type": "stream",
     "text": [
      "clicktag_fastqs.tar 100%[===================>]   1.47G  24.7MB/s    in 79s     \n"
     ]
    }
   ],
   "source": [
    "if COLAB:\n",
    "    # download the relevant data\n",
    "    !wget -O clicktag_fastqs.tar.gz \\\n",
    "    -q --show-progress --progress=bar:force  \\\n",
    "    https://caltech.box.com/shared/static/zqaom7yuul7ujetqyhnd4lvf8vhzqsyg.gz \\\n",
    "    2>&1\n",
    "    !tar -xf clicktag_fastqs.tar.gz"
   ]
  },
  {
   "cell_type": "markdown",
   "id": "dressed-ballet",
   "metadata": {
    "id": "median-assembly"
   },
   "source": [
    "# Preprocess with kb"
   ]
  },
  {
   "cell_type": "code",
   "execution_count": 7,
   "id": "confused-explorer",
   "metadata": {
    "colab": {
     "base_uri": "https://localhost:8080/"
    },
    "id": "improving-contrast",
    "outputId": "3328fa00-d6da-4baf-afe8-22072abbd710"
   },
   "outputs": [
    {
     "name": "stdout",
     "output_type": "stream",
     "text": [
      "[2021-06-14 22:24:43,832]    INFO Generating mismatch FASTA at BMGP_2020/references/clicktag/kite/features.fa\n",
      "[2021-06-14 22:24:43,844]    INFO Creating transcript-to-gene mapping at BMGP_2020/references/clicktag/kite/f2b.txt\n",
      "[2021-06-14 22:24:43,848]    INFO Skipping kallisto index because BMGP_2020/references/clicktag/kite/features.idx already exists. Use the --overwrite flag to overwrite.\n",
      "CPU times: user 15 ms, sys: 5.59 ms, total: 20.5 ms\n",
      "Wall time: 1.62 s\n"
     ]
    }
   ],
   "source": [
    "%%time\n",
    "!INDEX=\"BMGP_2020/references/clicktag/kite/features.idx\" && \\\n",
    "F2B=\"BMGP_2020/references/clicktag/kite/f2b.txt\" && \\\n",
    "FASTA=\"BMGP_2020/references/clicktag/kite/features.fa\" && \\\n",
    "FB=\"BMGP_2020/references/clicktag/kite/feature_barcodes.txt\" && \\\n",
    "kb ref \\\n",
    "-i $INDEX \\\n",
    "-g $F2B \\\n",
    "-f1 $FASTA \\\n",
    "--workflow kite \\\n",
    "$FB"
   ]
  },
  {
   "cell_type": "markdown",
   "id": "celtic-question",
   "metadata": {
    "id": "smooth-temple"
   },
   "source": [
    "## No mismatches comparison"
   ]
  },
  {
   "cell_type": "code",
   "execution_count": 12,
   "id": "focal-health",
   "metadata": {
    "colab": {
     "base_uri": "https://localhost:8080/"
    },
    "id": "graduate-station",
    "outputId": "57c051d3-12ea-4342-9501-54ed44fdfc75"
   },
   "outputs": [
    {
     "name": "stdout",
     "output_type": "stream",
     "text": [
      "[2021-06-14 22:30:55,157]    INFO Generating mismatch FASTA at BMGP_2020/references/clicktag/kite_no_mismatches/features.fa\n",
      "[2021-06-14 22:30:55,171]    INFO Creating transcript-to-gene mapping at BMGP_2020/references/clicktag/kite_no_mismatches/f2b.txt\n",
      "[2021-06-14 22:30:55,172]    INFO Skipping kallisto index because BMGP_2020/references/clicktag/kite_no_mismatches/features.idx already exists. Use the --overwrite flag to overwrite.\n",
      "CPU times: user 12.9 ms, sys: 6.97 ms, total: 19.9 ms\n",
      "Wall time: 1.11 s\n"
     ]
    }
   ],
   "source": [
    "%%time\n",
    "#FB=\"BMGP_2020/references/clicktag/kite_no_mismatches/feature_barcodes.txt\" && \\\n",
    "!FB=\"BMGP_2020/references/clicktag/kite_no_mismatches/feature_barcodes.txt\" && \\\n",
    "INDEX=\"BMGP_2020/references/clicktag/kite_no_mismatches/features.idx\" && \\\n",
    "F2B=\"BMGP_2020/references/clicktag/kite_no_mismatches/f2b.txt\" && \\\n",
    "FASTA=\"BMGP_2020/references/clicktag/kite_no_mismatches/features.fa\" && \\\n",
    "kb ref \\\n",
    "-i $INDEX \\\n",
    "-g $F2B \\\n",
    "-f1 $FASTA \\\n",
    "--workflow kite \\\n",
    "--no-mismatches \\\n",
    "$FB"
   ]
  },
  {
   "cell_type": "code",
   "execution_count": null,
   "id": "absent-rocket",
   "metadata": {
    "colab": {
     "base_uri": "https://localhost:8080/"
    },
    "id": "disabled-century",
    "outputId": "6280136d-c8e2-47d4-f7c5-1f6af35ee5fa"
   },
   "outputs": [],
   "source": [
    "%%bash\n",
    "FB=\"BMGP_2020/references/clicktag/kite/feature_barcodes.txt\" && \\\n",
    "INDEX=\"BMGP_2020/references/clicktag/kite/features.idx\" && \\\n",
    "F2B=\"BMGP_2020/references/clicktag/kite/f2b.txt\" && \\\n",
    "FASTA=\"BMGP_2020/references/clicktag/kite/features.fa\" && \\\n",
    "OUT=\"kite_out\" && \\\n",
    "FASTQS=$(FASTQDIR=\"fastqs/\" && paste -d\" \" \\\n",
    "<(ls $FASTQDIR | awk -v p=$FASTQDIR '{print p$0}' | grep R1) \\\n",
    "<(ls $FASTQDIR | awk -v p=$FASTQDIR '{print p$0}' | grep R2)) && \\\n",
    "/usr/bin/time --output=memtime_0.log -v kb count \\\n",
    "-i $INDEX \\\n",
    "-g $F2B \\\n",
    "-x 10xv2 \\\n",
    "-o $OUT \\\n",
    "--workflow kite \\\n",
    "--h5ad \\\n",
    "--filter bustools \\\n",
    "--overwrite \\\n",
    "$FASTQS"
   ]
  },
  {
   "cell_type": "code",
   "execution_count": 9,
   "id": "outdoor-swimming",
   "metadata": {
    "colab": {
     "base_uri": "https://localhost:8080/"
    },
    "id": "Elg4UNzwnsiV",
    "outputId": "7293bd79-35ce-4601-ad9e-51d91cf93158"
   },
   "outputs": [
    {
     "name": "stdout",
     "output_type": "stream",
     "text": [
      "{\n",
      "\t\"n_targets\": 0,\n",
      "\t\"n_bootstraps\": 0,\n",
      "\t\"n_processed\": 15928888,\n",
      "\t\"n_pseudoaligned\": 15357069,\n",
      "\t\"n_unique\": 15357069,\n",
      "\t\"p_pseudoaligned\": 96.4,\n",
      "\t\"p_unique\": 96.4,\n",
      "\t\"kallisto_version\": \"0.46.2\",\n",
      "\t\"index_version\": 0,\n",
      "\t\"start_time\": \"Mon Jun 14 22:24:47 2021\",\n",
      "\t\"call\": \"/usr/local/lib/python3.7/dist-packages/kb_python/bins/linux/kallisto/kallisto bus -i BMGP_2020/references/clicktag/kite/features.idx -o kite_out -x 10xv2 -t 8 fastqs/NSC_Fixed_S2_L001_R1_001.fastq.gz fastqs/NSC_Fixed_S2_L001_R2_001.fastq.gz\"\n",
      "}\n"
     ]
    }
   ],
   "source": [
    "!cat kite_out/run_info.json"
   ]
  },
  {
   "cell_type": "code",
   "execution_count": 14,
   "id": "intellectual-arrival",
   "metadata": {
    "colab": {
     "base_uri": "https://localhost:8080/"
    },
    "id": "pregnant-hollywood",
    "outputId": "f9305b94-9d8e-43b5-fecf-1cac1ba8d362"
   },
   "outputs": [
    {
     "name": "stderr",
     "output_type": "stream",
     "text": [
      "[2021-06-14 22:31:24,101]    INFO Using index BMGP_2020/references/clicktag/kite_no_mismatches/features.idx to generate BUS file to kite_no_mismatches from\n",
      "[2021-06-14 22:31:24,101]    INFO         fastqs/NSC_Fixed_S2_L001_R1_001.fastq.gz\n",
      "[2021-06-14 22:31:24,101]    INFO         fastqs/NSC_Fixed_S2_L001_R2_001.fastq.gz\n",
      "[2021-06-14 22:33:01,777]    INFO Sorting BUS file kite_no_mismatches/output.bus to kite_no_mismatches/tmp/output.s.bus\n",
      "[2021-06-14 22:33:14,742]    INFO Whitelist not provided\n",
      "[2021-06-14 22:33:14,742]    INFO Copying pre-packaged 10XV2 whitelist to kite_no_mismatches\n",
      "[2021-06-14 22:33:14,849]    INFO Inspecting BUS file kite_no_mismatches/tmp/output.s.bus\n",
      "[2021-06-14 22:33:20,465]    INFO Correcting BUS records in kite_no_mismatches/tmp/output.s.bus to kite_no_mismatches/tmp/output.s.c.bus with whitelist kite_no_mismatches/10xv2_whitelist.txt\n",
      "[2021-06-14 22:33:26,175]    INFO Sorting BUS file kite_no_mismatches/tmp/output.s.c.bus to kite_no_mismatches/output.unfiltered.bus\n",
      "[2021-06-14 22:33:37,514]    INFO Generating count matrix kite_no_mismatches/counts_unfiltered/cells_x_features from BUS file kite_no_mismatches/output.unfiltered.bus\n",
      "[2021-06-14 22:33:39,529]    INFO Reading matrix kite_no_mismatches/counts_unfiltered/cells_x_features.mtx\n",
      "[2021-06-14 22:33:40,662]    INFO Writing matrix to h5ad kite_no_mismatches/counts_unfiltered/adata.h5ad\n",
      "[2021-06-14 22:33:40,815]    INFO Filtering with bustools\n",
      "[2021-06-14 22:33:40,815]    INFO Generating whitelist kite_no_mismatches/filter_barcodes.txt from BUS file kite_no_mismatches/output.unfiltered.bus\n",
      "[2021-06-14 22:33:40,928]    INFO Correcting BUS records in kite_no_mismatches/output.unfiltered.bus to kite_no_mismatches/tmp/output.unfiltered.c.bus with whitelist kite_no_mismatches/filter_barcodes.txt\n",
      "[2021-06-14 22:33:45,468]    INFO Sorting BUS file kite_no_mismatches/tmp/output.unfiltered.c.bus to kite_no_mismatches/output.filtered.bus\n",
      "[2021-06-14 22:33:54,453]    INFO Generating count matrix kite_no_mismatches/counts_filtered/cells_x_features from BUS file kite_no_mismatches/output.filtered.bus\n",
      "[2021-06-14 22:33:55,143]    INFO Reading matrix kite_no_mismatches/counts_filtered/cells_x_features.mtx\n",
      "[2021-06-14 22:33:55,203]    INFO Writing matrix to h5ad kite_no_mismatches/counts_filtered/adata.h5ad\n"
     ]
    }
   ],
   "source": [
    "%%bash\n",
    "FB=\"BMGP_2020/references/clicktag/kite_no_mismatches/feature_barcodes.txt\" && \\\n",
    "INDEX=\"BMGP_2020/references/clicktag/kite_no_mismatches/features.idx\" && \\\n",
    "F2B=\"BMGP_2020/references/clicktag/kite_no_mismatches/f2b.txt\" && \\\n",
    "FASTA=\"BMGP_2020/references/clicktag/kite_no_mismatches/features.fa\" && \\\n",
    "OUT=\"kite_no_mismatches\" && \\\n",
    "FASTQS=$(FASTQDIR=\"fastqs/\" && paste -d\" \" \\\n",
    "<(ls $FASTQDIR | awk -v p=$FASTQDIR '{print p$0}' | grep R1) \\\n",
    "<(ls $FASTQDIR | awk -v p=$FASTQDIR '{print p$0}' | grep R2)) && \\\n",
    "kb count \\\n",
    "-i $INDEX \\\n",
    "-g $F2B \\\n",
    "-x 10xv2 \\\n",
    "-o $OUT \\\n",
    "--workflow kite \\\n",
    "--h5ad \\\n",
    "--filter bustools \\\n",
    "--overwrite \\\n",
    "$FASTQS"
   ]
  },
  {
   "cell_type": "code",
   "execution_count": 16,
   "id": "threatened-century",
   "metadata": {
    "colab": {
     "base_uri": "https://localhost:8080/"
    },
    "id": "B1k1QCOdptTf",
    "outputId": "696ace26-0daa-4b21-f18e-939d5d6ac9d6"
   },
   "outputs": [
    {
     "name": "stdout",
     "output_type": "stream",
     "text": [
      "{\n",
      "\t\"n_targets\": 0,\n",
      "\t\"n_bootstraps\": 0,\n",
      "\t\"n_processed\": 15928888,\n",
      "\t\"n_pseudoaligned\": 15058183,\n",
      "\t\"n_unique\": 15058183,\n",
      "\t\"p_pseudoaligned\": 94.5,\n",
      "\t\"p_unique\": 94.5,\n",
      "\t\"kallisto_version\": \"0.46.2\",\n",
      "\t\"index_version\": 0,\n",
      "\t\"start_time\": \"Mon Jun 14 22:31:24 2021\",\n",
      "\t\"call\": \"/usr/local/lib/python3.7/dist-packages/kb_python/bins/linux/kallisto/kallisto bus -i BMGP_2020/references/clicktag/kite_no_mismatches/features.idx -o kite_no_mismatches -x 10xv2 -t 8 fastqs/NSC_Fixed_S2_L001_R1_001.fastq.gz fastqs/NSC_Fixed_S2_L001_R2_001.fastq.gz\"\n",
      "}\n"
     ]
    }
   ],
   "source": [
    "!cat kite_no_mismatches/run_info.json"
   ]
  },
  {
   "cell_type": "markdown",
   "id": "alternative-understanding",
   "metadata": {
    "id": "forty-subsection"
   },
   "source": [
    "# Preprocess with cite-seq-count"
   ]
  },
  {
   "cell_type": "code",
   "execution_count": null,
   "id": "irish-coordination",
   "metadata": {
    "id": "particular-elder"
   },
   "outputs": [],
   "source": [
    "!gunzip BMGP_2020/references/whitelist_10xv2.txt.gz"
   ]
  },
  {
   "cell_type": "code",
   "execution_count": null,
   "id": "heard-journalism",
   "metadata": {
    "id": "statewide-router",
    "outputId": "23405c26-9fa8-400d-b12e-72e66d1ff9f3"
   },
   "outputs": [
    {
     "name": "stdout",
     "output_type": "stream",
     "text": [
      "Loading whitelist\n",
      "Counting number of reads\n",
      "Started mapping\n",
      "Processing 15,928,888 reads\n",
      "CITE-seq-Count is running with 48 cores.\n",
      "Mapping done for process 48987. Processed 331,851 reads\n",
      "Mapping done for process 48988. Processed 331,851 reads\n",
      "Mapping done for process 48990. Processed 331,851 reads\n",
      "Mapping done for process 48989. Processed 331,851 reads\n",
      "Mapping done for process 48991. Processed 331,851 reads\n",
      "Mapping done for process 48992. Processed 331,851 reads\n",
      "Mapping done for process 48993. Processed 331,851 reads\n",
      "Mapping done for process 48994. Processed 331,851 reads\n",
      "Mapping done for process 48995. Processed 331,851 reads\n",
      "Mapping done for process 48996. Processed 331,851 reads\n",
      "Mapping done for process 48997. Processed 331,851 reads\n",
      "Mapping done for process 48998. Processed 331,851 reads\n",
      "Mapping done for process 48999. Processed 331,851 reads\n",
      "Mapping done for process 49000. Processed 331,851 reads\n",
      "Mapping done for process 49001. Processed 331,851 reads\n",
      "Mapping done for process 49002. Processed 331,851 reads\n",
      "Mapping done for process 49003. Processed 331,851 reads\n",
      "Mapping done for process 49004. Processed 331,851 reads\n",
      "Mapping done for process 49005. Processed 331,851 reads\n",
      "Mapping done for process 49007. Processed 331,851 reads\n",
      "Mapping done for process 49006. Processed 331,851 reads\n",
      "Mapping done for process 49009. Processed 331,851 reads\n",
      "Mapping done for process 49008. Processed 331,851 reads\n",
      "Mapping done for process 49010. Processed 331,851 reads\n",
      "Mapping done for process 49011. Processed 331,851 reads\n",
      "Mapping done for process 49012. Processed 331,851 reads\n",
      "Mapping done for process 49014. Processed 331,851 reads\n",
      "Mapping done for process 49013. Processed 331,851 reads\n",
      "Mapping done for process 49017. Processed 331,851 reads\n",
      "Mapping done for process 49015. Processed 331,851 reads\n",
      "Mapping done for process 49016. Processed 331,851 reads\n",
      "Mapping done for process 49018. Processed 331,851 reads\n",
      "Mapping done for process 49019. Processed 331,851 reads\n",
      "Mapping done for process 49020. Processed 331,851 reads\n",
      "Mapping done for process 49021. Processed 331,851 reads\n",
      "Mapping done for process 49022. Processed 331,851 reads\n",
      "Mapping done for process 49024. Processed 331,851 reads\n",
      "Mapping done for process 49023. Processed 331,851 reads\n",
      "Mapping done for process 49025. Processed 331,851 reads\n",
      "Mapping done for process 49026. Processed 331,851 reads\n",
      "Mapping done for process 49028. Processed 331,851 reads\n",
      "Mapping done for process 49027. Processed 331,851 reads\n",
      "Mapping done for process 49029. Processed 331,851 reads\n",
      "Mapping done for process 49030. Processed 331,851 reads\n",
      "Mapping done for process 49031. Processed 331,851 reads\n",
      "Mapping done for process 49032. Processed 331,851 reads\n",
      "Mapping done for process 49033. Processed 331,851 reads\n",
      "Mapping done for process 49034. Processed 331,891 reads\n",
      "Mapping done\n",
      "Merging results\n",
      "Correcting cell barcodes\n",
      "Generated barcode tree from whitelist\n",
      "Finding reference candidates\n",
      "Processing 494,151 cell barcodes\n",
      "Collapsing cell barcodes\n",
      "\tCommand being timed: \"CITE-seq-Count -R1 fastqs/NSC_Fixed_S2_L001_R1_001.fastq.gz -R2 fastqs/NSC_Fixed_S2_L001_R2_001.fastq.gz --no_umi_correction -t BMGP_2020/references/clicktag/cite_seq_barcodes.csv -wl BMGP_2020/references/whitelist_10xv2.txt -cbf 1 -cbl 16 -umif 17 -umil 26 -cells 21000 --start-trim 28 -o ./cite_seq_out\"\n",
      "\tUser time (seconds): 7651.70\n",
      "\tSystem time (seconds): 275.54\n",
      "\tPercent of CPU this job got: 216%\n",
      "\tElapsed (wall clock) time (h:mm:ss or m:ss): 1:00:58\n",
      "\tAverage shared text size (kbytes): 0\n",
      "\tAverage unshared data size (kbytes): 0\n",
      "\tAverage stack size (kbytes): 0\n",
      "\tAverage total size (kbytes): 0\n",
      "\tMaximum resident set size (kbytes): 6488268\n",
      "\tAverage resident set size (kbytes): 0\n",
      "\tMajor (requiring I/O) page faults: 19\n",
      "\tMinor (reclaiming a frame) page faults: 35679872\n",
      "\tVoluntary context switches: 246249\n",
      "\tInvoluntary context switches: 1730161\n",
      "\tSwaps: 0\n",
      "\tFile system inputs: 30232\n",
      "\tFile system outputs: 46288\n",
      "\tSocket messages sent: 0\n",
      "\tSocket messages received: 0\n",
      "\tSignals delivered: 0\n",
      "\tPage size (bytes): 4096\n",
      "\tExit status: 0\n"
     ]
    }
   ],
   "source": [
    "!R1=\"fastqs/NSC_Fixed_S2_L001_R1_001.fastq.gz\" && \\\n",
    "R2=\"fastqs/NSC_Fixed_S2_L001_R2_001.fastq.gz\" && \\\n",
    "FB=\"BMGP_2020/references/clicktag/cite_seq_barcodes.csv\" && \\\n",
    "WL=\"BMGP_2020/references/whitelist_10xv2.txt\" && \\\n",
    "/usr/bin/time --output=memtime_1.log -v  CITE-seq-Count -R1 $R1  -R2 $R2 --no_umi_correction -t $FB -wl $WL -cbf 1 -cbl 16 -umif 17 -umil 26 -cells 21000 --start-trim 28  -o ./cite_seq_out"
   ]
  }
 ],
 "metadata": {
  "colab": {
   "include_colab_link": true,
   "name": "clicktag_preprocess.ipynb",
   "provenance": []
  },
  "kernelspec": {
   "display_name": "Python 3",
   "language": "python",
   "name": "python3"
  },
  "language_info": {
   "codemirror_mode": {
    "name": "ipython",
    "version": 3
   },
   "file_extension": ".py",
   "mimetype": "text/x-python",
   "name": "python",
   "nbconvert_exporter": "python",
   "pygments_lexer": "ipython3",
   "version": "3.7.4"
  }
 },
 "nbformat": 4,
 "nbformat_minor": 5
}
