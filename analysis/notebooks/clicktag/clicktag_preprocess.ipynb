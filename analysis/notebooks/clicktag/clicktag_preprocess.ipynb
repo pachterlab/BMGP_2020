{
 "cells": [
  {
   "cell_type": "code",
   "execution_count": 1,
   "id": "differential-jordan",
   "metadata": {},
   "outputs": [
    {
     "name": "stdout",
     "output_type": "stream",
     "text": [
      "Tue Apr 27 11:45:40 PDT 2021\n"
     ]
    }
   ],
   "source": [
    "!date"
   ]
  },
  {
   "cell_type": "markdown",
   "id": "quiet-currency",
   "metadata": {},
   "source": [
    "# Install packages and download data"
   ]
  },
  {
   "cell_type": "code",
   "execution_count": 7,
   "id": "incoming-coupon",
   "metadata": {},
   "outputs": [],
   "source": [
    "import sys\n",
    "COLAB = \"google.colab\" in sys.modules\n"
   ]
  },
  {
   "cell_type": "code",
   "execution_count": 1,
   "id": "increasing-trading",
   "metadata": {},
   "outputs": [
    {
     "name": "stdout",
     "output_type": "stream",
     "text": [
      "Cloning into 'BMGP_2020'...\n",
      "remote: Enumerating objects: 98, done.\u001b[K\n",
      "remote: Counting objects: 100% (98/98), done.\u001b[K\n",
      "remote: Compressing objects: 100% (81/81), done.\u001b[K\n",
      "remote: Total 98 (delta 24), reused 77 (delta 10), pack-reused 0\u001b[K\n",
      "Unpacking objects: 100% (98/98), done.\n"
     ]
    }
   ],
   "source": [
    "if COLAB:\n",
    "    !git clone https://github.com/sbooeshaghi/BMGP_2020.git"
   ]
  },
  {
   "cell_type": "code",
   "execution_count": 2,
   "id": "scientific-space",
   "metadata": {},
   "outputs": [],
   "source": [
    "!pip --quiet install CITE-seq-Count==1.4.4"
   ]
  },
  {
   "cell_type": "code",
   "execution_count": 4,
   "id": "drawn-hunter",
   "metadata": {},
   "outputs": [],
   "source": [
    "if COLAB:\n",
    "    !pip install --quiet \\\n",
    "    kb-python==0.26.0 \\\n",
    "    anndata==0.7.6 \\\n",
    "    CITE-seq-Count==1.4.4"
   ]
  },
  {
   "cell_type": "code",
   "execution_count": 7,
   "id": "parliamentary-proceeding",
   "metadata": {},
   "outputs": [
    {
     "name": "stdout",
     "output_type": "stream",
     "text": [
      "clicktag_fastqs.tar 100%[===================>]   1.47G  12.7MB/s    in 89s     \n"
     ]
    }
   ],
   "source": [
    "if COLAB:\n",
    "    # download the relevant data\n",
    "    !wget -O clicktag_fastqs.tar.gz \\\n",
    "    -q --show-progress --progress=bar:force  \\\n",
    "    https://caltech.box.com/shared/static/zqaom7yuul7ujetqyhnd4lvf8vhzqsyg.gz \\\n",
    "    2>&1\n",
    "    !tar -xf clicktag_fastqs.tar.gz"
   ]
  },
  {
   "cell_type": "markdown",
   "id": "median-assembly",
   "metadata": {},
   "source": [
    "# Preprocess with kb"
   ]
  },
  {
   "cell_type": "code",
   "execution_count": 9,
   "id": "improving-contrast",
   "metadata": {},
   "outputs": [
    {
     "name": "stdout",
     "output_type": "stream",
     "text": [
      "[2021-04-29 11:28:29,716]    INFO Generating mismatch FASTA at BMGP_2020/references/clicktag/kite/features.fa\n",
      "[2021-04-29 11:28:29,763]    INFO Creating transcript-to-gene mapping at BMGP_2020/references/clicktag/kite/f2b.txt\n",
      "[2021-04-29 11:28:29,781]    INFO Skipping kallisto index because BMGP_2020/references/clicktag/kite/features.idx already exists. Use the --overwrite flag to overwrite.\n",
      "CPU times: user 123 ms, sys: 32 ms, total: 155 ms\n",
      "Wall time: 5.09 s\n"
     ]
    }
   ],
   "source": [
    "%%time\n",
    "!INDEX=\"BMGP_2020/references/clicktag/kite/features.idx\" && \\\n",
    "F2B=\"BMGP_2020/references/clicktag/kite/f2b.txt\" && \\\n",
    "FASTA=\"BMGP_2020/references/clicktag/kite/features.fa\" && \\\n",
    "FB=\"BMGP_2020/references/clicktag/kite/feature_barcodes.txt\" && \\\n",
    "kb ref \\\n",
    "-i $INDEX \\\n",
    "-g $F2B \\\n",
    "-f1 $FASTA \\\n",
    "--workflow kite \\\n",
    "$FB"
   ]
  },
  {
   "cell_type": "markdown",
   "id": "smooth-temple",
   "metadata": {},
   "source": [
    "## No mismatches comparison"
   ]
  },
  {
   "cell_type": "code",
   "execution_count": 4,
   "id": "graduate-station",
   "metadata": {},
   "outputs": [
    {
     "name": "stdout",
     "output_type": "stream",
     "text": [
      "[2021-06-11 12:30:59,081]    INFO Generating mismatch FASTA at ../../../references/clicktag/kite_no_mismatches/features.fa\n",
      "[2021-06-11 12:30:59,088]    INFO Creating transcript-to-gene mapping at ../../../references/clicktag/kite_no_mismatches/f2b.txt\n",
      "[2021-06-11 12:30:59,089]    INFO Indexing ../../../references/clicktag/kite_no_mismatches/features.fa to ../../../references/clicktag/kite_no_mismatches/features.idx\n",
      "CPU times: user 25 ms, sys: 6.84 ms, total: 31.8 ms\n",
      "Wall time: 1.63 s\n"
     ]
    }
   ],
   "source": [
    "%%time\n",
    "#FB=\"BMGP_2020/references/clicktag/kite_no_mismatches/feature_barcodes.txt\" && \\\n",
    "!INDEX=\"../../../references/clicktag/kite_no_mismatches/features.idx\" && \\\n",
    "F2B=\"../../../references/clicktag/kite_no_mismatches/f2b.txt\" && \\\n",
    "FASTA=\"../../../references/clicktag/kite_no_mismatches/features.fa\" && \\\n",
    "FB=\"../../../references/clicktag/kite_no_mismatches/feature_barcodes.txt\" && \\\n",
    "kb ref \\\n",
    "-i $INDEX \\\n",
    "-g $F2B \\\n",
    "-f1 $FASTA \\\n",
    "--workflow kite \\\n",
    "--no-mismatches \\\n",
    "$FB"
   ]
  },
  {
   "cell_type": "code",
   "execution_count": 18,
   "id": "disabled-century",
   "metadata": {},
   "outputs": [
    {
     "name": "stderr",
     "output_type": "stream",
     "text": [
      "[2021-04-29 13:22:47,405]    INFO Using index BMGP_2020/references/clicktag/kite/features.idx to generate BUS file to kite_out from\n",
      "[2021-04-29 13:22:47,406]    INFO         fastqs/NSC_Fixed_S2_L001_R1_001.fastq.gz\n",
      "[2021-04-29 13:22:47,406]    INFO         fastqs/NSC_Fixed_S2_L001_R2_001.fastq.gz\n",
      "[2021-04-29 13:24:52,736]    INFO Sorting BUS file kite_out/output.bus to kite_out/tmp/output.s.bus\n",
      "[2021-04-29 13:25:16,124]    INFO Whitelist not provided\n",
      "[2021-04-29 13:25:16,125]    INFO Copying pre-packaged 10XV2 whitelist to kite_out\n",
      "[2021-04-29 13:25:16,307]    INFO Inspecting BUS file kite_out/tmp/output.s.bus\n",
      "[2021-04-29 13:25:26,103]    INFO Correcting BUS records in kite_out/tmp/output.s.bus to kite_out/tmp/output.s.c.bus with whitelist kite_out/10xv2_whitelist.txt\n",
      "[2021-04-29 13:25:38,368]    INFO Sorting BUS file kite_out/tmp/output.s.c.bus to kite_out/output.unfiltered.bus\n",
      "[2021-04-29 13:25:58,192]    INFO Generating count matrix kite_out/counts_unfiltered/cells_x_features from BUS file kite_out/output.unfiltered.bus\n",
      "[2021-04-29 13:26:04,529]    INFO Reading matrix kite_out/counts_unfiltered/cells_x_features.mtx\n",
      "[2021-04-29 13:26:09,382]    INFO Writing matrix to h5ad kite_out/counts_unfiltered/adata.h5ad\n",
      "[2021-04-29 13:26:09,694]    INFO Filtering with bustools\n",
      "[2021-04-29 13:26:09,694]    INFO Generating whitelist kite_out/filter_barcodes.txt from BUS file kite_out/output.unfiltered.bus\n",
      "[2021-04-29 13:26:09,954]    INFO Correcting BUS records in kite_out/output.unfiltered.bus to kite_out/tmp/output.unfiltered.c.bus with whitelist kite_out/filter_barcodes.txt\n",
      "[2021-04-29 13:26:20,819]    INFO Sorting BUS file kite_out/tmp/output.unfiltered.c.bus to kite_out/output.filtered.bus\n",
      "[2021-04-29 13:26:35,992]    INFO Generating count matrix kite_out/counts_filtered/cells_x_features from BUS file kite_out/output.filtered.bus\n",
      "[2021-04-29 13:26:37,795]    INFO Reading matrix kite_out/counts_filtered/cells_x_features.mtx\n",
      "[2021-04-29 13:26:38,097]    INFO Writing matrix to h5ad kite_out/counts_filtered/adata.h5ad\n"
     ]
    }
   ],
   "source": [
    "%%bash\n",
    "FB=\"BMGP_2020/references/clicktag/kite/feature_barcodes.txt\" && \\\n",
    "INDEX=\"BMGP_2020/references/clicktag/kite/features.idx\" && \\\n",
    "F2B=\"BMGP_2020/references/clicktag/kite/f2b.txt\" && \\\n",
    "FASTA=\"BMGP_2020/references/clicktag/kite/features.fa\" && \\\n",
    "OUT=\"kite_out\" && \\\n",
    "FASTQS=$(FASTQDIR=\"fastqs/\" && paste -d\" \" \\\n",
    "<(ls $FASTQDIR | awk -v p=$FASTQDIR '{print p$0}' | grep R1) \\\n",
    "<(ls $FASTQDIR | awk -v p=$FASTQDIR '{print p$0}' | grep R2)) && \\\n",
    "kb count \\\n",
    "-i $INDEX \\\n",
    "-g $F2B \\\n",
    "-x 10xv2 \\\n",
    "-o $OUT \\\n",
    "--workflow kite \\\n",
    "--h5ad \\\n",
    "--filter bustools \\\n",
    "--overwrite \\\n",
    "$FASTQS"
   ]
  },
  {
   "cell_type": "code",
   "execution_count": 8,
   "id": "pregnant-hollywood",
   "metadata": {},
   "outputs": [
    {
     "name": "stderr",
     "output_type": "stream",
     "text": [
      "[2021-06-11 12:39:31,663]    INFO Using index ../../../references/clicktag/kite_no_mismatches/features.idx to generate BUS file to kite_no_mismatches from\n",
      "[2021-06-11 12:39:31,663]    INFO         fastqs/NSC_Fixed_S2_L001_R1_001.fastq.gz\n",
      "[2021-06-11 12:39:31,663]    INFO         fastqs/NSC_Fixed_S2_L001_R2_001.fastq.gz\n",
      "[2021-06-11 12:40:10,835]    INFO Sorting BUS file kite_no_mismatches/output.bus to kite_no_mismatches/tmp/output.s.bus\n",
      "[2021-06-11 12:40:19,377]    INFO Whitelist not provided\n",
      "[2021-06-11 12:40:19,378]    INFO Copying pre-packaged 10XV2 whitelist to kite_no_mismatches\n",
      "[2021-06-11 12:40:19,468]    INFO Inspecting BUS file kite_no_mismatches/tmp/output.s.bus\n",
      "[2021-06-11 12:40:22,750]    INFO Correcting BUS records in kite_no_mismatches/tmp/output.s.bus to kite_no_mismatches/tmp/output.s.c.bus with whitelist kite_no_mismatches/10xv2_whitelist.txt\n",
      "[2021-06-11 12:40:26,240]    INFO Sorting BUS file kite_no_mismatches/tmp/output.s.c.bus to kite_no_mismatches/output.unfiltered.bus\n",
      "[2021-06-11 12:40:33,842]    INFO Generating count matrix kite_no_mismatches/counts_unfiltered/cells_x_features from BUS file kite_no_mismatches/output.unfiltered.bus\n",
      "[2021-06-11 12:40:36,137]    INFO Reading matrix kite_no_mismatches/counts_unfiltered/cells_x_features.mtx\n",
      "[2021-06-11 12:40:37,671]    INFO Writing matrix to h5ad kite_no_mismatches/counts_unfiltered/adata.h5ad\n",
      "[2021-06-11 12:40:37,825]    INFO Filtering with bustools\n",
      "[2021-06-11 12:40:37,825]    INFO Generating whitelist kite_no_mismatches/filter_barcodes.txt from BUS file kite_no_mismatches/output.unfiltered.bus\n",
      "[2021-06-11 12:40:37,937]    INFO Correcting BUS records in kite_no_mismatches/output.unfiltered.bus to kite_no_mismatches/tmp/output.unfiltered.c.bus with whitelist kite_no_mismatches/filter_barcodes.txt\n",
      "[2021-06-11 12:40:41,024]    INFO Sorting BUS file kite_no_mismatches/tmp/output.unfiltered.c.bus to kite_no_mismatches/output.filtered.bus\n",
      "[2021-06-11 12:40:47,416]    INFO Generating count matrix kite_no_mismatches/counts_filtered/cells_x_features from BUS file kite_no_mismatches/output.filtered.bus\n",
      "[2021-06-11 12:40:48,073]    INFO Reading matrix kite_no_mismatches/counts_filtered/cells_x_features.mtx\n",
      "[2021-06-11 12:40:48,154]    INFO Writing matrix to h5ad kite_no_mismatches/counts_filtered/adata.h5ad\n"
     ]
    }
   ],
   "source": [
    "%%bash\n",
    "FB=\"../../../references/clicktag/kite_no_mismatches/feature_barcodes.txt\" && \\\n",
    "INDEX=\"../../../references/clicktag/kite_no_mismatches/features.idx\" && \\\n",
    "F2B=\"../../../references/clicktag/kite_no_mismatches/f2b.txt\" && \\\n",
    "FASTA=\"../../../references/clicktag/kite_no_mismatches/features.fa\" && \\\n",
    "OUT=\"kite_no_mismatches\" && \\\n",
    "FASTQS=$(FASTQDIR=\"fastqs/\" && paste -d\" \" \\\n",
    "<(ls $FASTQDIR | awk -v p=$FASTQDIR '{print p$0}' | grep R1) \\\n",
    "<(ls $FASTQDIR | awk -v p=$FASTQDIR '{print p$0}' | grep R2)) && \\\n",
    "kb count \\\n",
    "-i $INDEX \\\n",
    "-g $F2B \\\n",
    "-x 10xv2 \\\n",
    "-o $OUT \\\n",
    "--workflow kite \\\n",
    "--h5ad \\\n",
    "--filter bustools \\\n",
    "--overwrite \\\n",
    "$FASTQS"
   ]
  },
  {
   "cell_type": "markdown",
   "id": "forty-subsection",
   "metadata": {},
   "source": [
    "# Preprocess with cite-seq-count"
   ]
  },
  {
   "cell_type": "code",
   "execution_count": 19,
   "id": "particular-elder",
   "metadata": {},
   "outputs": [],
   "source": [
    "!gunzip BMGP_2020/references/whitelist_10xv2.txt.gz"
   ]
  },
  {
   "cell_type": "code",
   "execution_count": 31,
   "id": "statewide-router",
   "metadata": {},
   "outputs": [
    {
     "name": "stdout",
     "output_type": "stream",
     "text": [
      "Loading whitelist\n",
      "Counting number of reads\n",
      "Started mapping\n",
      "Processing 15,928,888 reads\n",
      "CITE-seq-Count is running with 48 cores.\n",
      "Mapping done for process 48987. Processed 331,851 reads\n",
      "Mapping done for process 48988. Processed 331,851 reads\n",
      "Mapping done for process 48990. Processed 331,851 reads\n",
      "Mapping done for process 48989. Processed 331,851 reads\n",
      "Mapping done for process 48991. Processed 331,851 reads\n",
      "Mapping done for process 48992. Processed 331,851 reads\n",
      "Mapping done for process 48993. Processed 331,851 reads\n",
      "Mapping done for process 48994. Processed 331,851 reads\n",
      "Mapping done for process 48995. Processed 331,851 reads\n",
      "Mapping done for process 48996. Processed 331,851 reads\n",
      "Mapping done for process 48997. Processed 331,851 reads\n",
      "Mapping done for process 48998. Processed 331,851 reads\n",
      "Mapping done for process 48999. Processed 331,851 reads\n",
      "Mapping done for process 49000. Processed 331,851 reads\n",
      "Mapping done for process 49001. Processed 331,851 reads\n",
      "Mapping done for process 49002. Processed 331,851 reads\n",
      "Mapping done for process 49003. Processed 331,851 reads\n",
      "Mapping done for process 49004. Processed 331,851 reads\n",
      "Mapping done for process 49005. Processed 331,851 reads\n",
      "Mapping done for process 49007. Processed 331,851 reads\n",
      "Mapping done for process 49006. Processed 331,851 reads\n",
      "Mapping done for process 49009. Processed 331,851 reads\n",
      "Mapping done for process 49008. Processed 331,851 reads\n",
      "Mapping done for process 49010. Processed 331,851 reads\n",
      "Mapping done for process 49011. Processed 331,851 reads\n",
      "Mapping done for process 49012. Processed 331,851 reads\n",
      "Mapping done for process 49014. Processed 331,851 reads\n",
      "Mapping done for process 49013. Processed 331,851 reads\n",
      "Mapping done for process 49017. Processed 331,851 reads\n",
      "Mapping done for process 49015. Processed 331,851 reads\n",
      "Mapping done for process 49016. Processed 331,851 reads\n",
      "Mapping done for process 49018. Processed 331,851 reads\n",
      "Mapping done for process 49019. Processed 331,851 reads\n",
      "Mapping done for process 49020. Processed 331,851 reads\n",
      "Mapping done for process 49021. Processed 331,851 reads\n",
      "Mapping done for process 49022. Processed 331,851 reads\n",
      "Mapping done for process 49024. Processed 331,851 reads\n",
      "Mapping done for process 49023. Processed 331,851 reads\n",
      "Mapping done for process 49025. Processed 331,851 reads\n",
      "Mapping done for process 49026. Processed 331,851 reads\n",
      "Mapping done for process 49028. Processed 331,851 reads\n",
      "Mapping done for process 49027. Processed 331,851 reads\n",
      "Mapping done for process 49029. Processed 331,851 reads\n",
      "Mapping done for process 49030. Processed 331,851 reads\n",
      "Mapping done for process 49031. Processed 331,851 reads\n",
      "Mapping done for process 49032. Processed 331,851 reads\n",
      "Mapping done for process 49033. Processed 331,851 reads\n",
      "Mapping done for process 49034. Processed 331,891 reads\n",
      "Mapping done\n",
      "Merging results\n",
      "Correcting cell barcodes\n",
      "Generated barcode tree from whitelist\n",
      "Finding reference candidates\n",
      "Processing 494,151 cell barcodes\n",
      "Collapsing cell barcodes\n",
      "\tCommand being timed: \"CITE-seq-Count -R1 fastqs/NSC_Fixed_S2_L001_R1_001.fastq.gz -R2 fastqs/NSC_Fixed_S2_L001_R2_001.fastq.gz --no_umi_correction -t BMGP_2020/references/clicktag/cite_seq_barcodes.csv -wl BMGP_2020/references/whitelist_10xv2.txt -cbf 1 -cbl 16 -umif 17 -umil 26 -cells 21000 --start-trim 28 -o ./cite_seq_out\"\n",
      "\tUser time (seconds): 7651.70\n",
      "\tSystem time (seconds): 275.54\n",
      "\tPercent of CPU this job got: 216%\n",
      "\tElapsed (wall clock) time (h:mm:ss or m:ss): 1:00:58\n",
      "\tAverage shared text size (kbytes): 0\n",
      "\tAverage unshared data size (kbytes): 0\n",
      "\tAverage stack size (kbytes): 0\n",
      "\tAverage total size (kbytes): 0\n",
      "\tMaximum resident set size (kbytes): 6488268\n",
      "\tAverage resident set size (kbytes): 0\n",
      "\tMajor (requiring I/O) page faults: 19\n",
      "\tMinor (reclaiming a frame) page faults: 35679872\n",
      "\tVoluntary context switches: 246249\n",
      "\tInvoluntary context switches: 1730161\n",
      "\tSwaps: 0\n",
      "\tFile system inputs: 30232\n",
      "\tFile system outputs: 46288\n",
      "\tSocket messages sent: 0\n",
      "\tSocket messages received: 0\n",
      "\tSignals delivered: 0\n",
      "\tPage size (bytes): 4096\n",
      "\tExit status: 0\n"
     ]
    }
   ],
   "source": [
    "!R1=\"fastqs/NSC_Fixed_S2_L001_R1_001.fastq.gz\" && \\\n",
    "R2=\"fastqs/NSC_Fixed_S2_L001_R2_001.fastq.gz\" && \\\n",
    "FB=\"BMGP_2020/references/clicktag/cite_seq_barcodes.csv\" && \\\n",
    "WL=\"BMGP_2020/references/whitelist_10xv2.txt\" && \\\n",
    "/usr/bin/time -v CITE-seq-Count -R1 $R1  -R2 $R2 --no_umi_correction -t $FB -wl $WL -cbf 1 -cbl 16 -umif 17 -umil 26 -cells 21000 --start-trim 28  -o ./cite_seq_out"
   ]
  }
 ],
 "metadata": {
  "kernelspec": {
   "display_name": "Python 3",
   "language": "python",
   "name": "python3"
  },
  "language_info": {
   "codemirror_mode": {
    "name": "ipython",
    "version": 3
   },
   "file_extension": ".py",
   "mimetype": "text/x-python",
   "name": "python",
   "nbconvert_exporter": "python",
   "pygments_lexer": "ipython3",
   "version": "3.7.4"
  }
 },
 "nbformat": 4,
 "nbformat_minor": 5
}
