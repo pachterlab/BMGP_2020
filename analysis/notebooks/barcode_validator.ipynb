{
  "nbformat": 4,
  "nbformat_minor": 0,
  "metadata": {
    "colab": {
      "name": "bc_validator.ipynb",
      "provenance": [],
      "authorship_tag": "ABX9TyMHBZPoktq2p65Hk/X6DiXn",
      "include_colab_link": true
    },
    "kernelspec": {
      "name": "python3",
      "display_name": "Python 3"
    },
    "language_info": {
      "name": "python"
    }
  },
  "cells": [
    {
      "cell_type": "markdown",
      "metadata": {
        "id": "view-in-github",
        "colab_type": "text"
      },
      "source": [
        "<a href=\"https://colab.research.google.com/github/sbooeshaghi/BMGP_2020/blob/main/analysis/notebooks/barcode_validator.ipynb\" target=\"_parent\"><img src=\"https://colab.research.google.com/assets/colab-badge.svg\" alt=\"Open In Colab\"/></a>"
      ]
    },
    {
      "cell_type": "code",
      "source": [
        "!git clone https://github.com/sbooeshaghi/BMGP_2020"
      ],
      "metadata": {
        "id": "vuLimaizlqlu",
        "outputId": "1a9df68f-cdb7-4be5-8eb1-51d164fca16b",
        "colab": {
          "base_uri": "https://localhost:8080/"
        }
      },
      "execution_count": 1,
      "outputs": [
        {
          "output_type": "stream",
          "name": "stdout",
          "text": [
            "Cloning into 'BMGP_2020'...\n",
            "remote: Enumerating objects: 942, done.\u001b[K\n",
            "remote: Counting objects: 100% (125/125), done.\u001b[K\n",
            "remote: Compressing objects: 100% (122/122), done.\u001b[K\n",
            "remote: Total 942 (delta 54), reused 6 (delta 1), pack-reused 817\u001b[K\n",
            "Receiving objects: 100% (942/942), 474.48 MiB | 27.98 MiB/s, done.\n",
            "Resolving deltas: 100% (378/378), done.\n",
            "Checking out files: 100% (155/155), done.\n"
          ]
        }
      ]
    },
    {
      "cell_type": "code",
      "source": [
        "!pip install --quiet --upgrade blackcellmagic"
      ],
      "metadata": {
        "id": "AU6vRRpjHuu3",
        "outputId": "0583ca38-e10c-4cfc-ae0f-303d20de9cd8",
        "colab": {
          "base_uri": "https://localhost:8080/"
        }
      },
      "execution_count": 65,
      "outputs": [
        {
          "output_type": "stream",
          "name": "stdout",
          "text": [
            "\u001b[K     |████████████████████████████████| 89 kB 4.1 MB/s \n",
            "\u001b[K     |████████████████████████████████| 8.5 MB 15.0 MB/s \n",
            "\u001b[K     |████████████████████████████████| 61 kB 6.7 MB/s \n",
            "\u001b[K     |████████████████████████████████| 428 kB 72.0 MB/s \n",
            "\u001b[K     |████████████████████████████████| 395 kB 56.7 MB/s \n",
            "\u001b[K     |████████████████████████████████| 53 kB 1.7 MB/s \n",
            "\u001b[K     |████████████████████████████████| 79 kB 7.3 MB/s \n",
            "\u001b[K     |████████████████████████████████| 130 kB 65.9 MB/s \n",
            "\u001b[31mERROR: pip's dependency resolver does not currently take into account all the packages that are installed. This behaviour is the source of the following dependency conflicts.\n",
            "google-colab 1.0.0 requires tornado~=5.1.0; python_version >= \"3.0\", but you have tornado 6.1 which is incompatible.\u001b[0m\n",
            "\u001b[?25h"
          ]
        }
      ]
    },
    {
      "cell_type": "code",
      "metadata": {
        "id": "fGc--UMKbHQh"
      },
      "source": [
        "%load_ext blackcellmagic\n",
        "import numpy as np\n",
        "import matplotlib.pyplot as plt\n",
        "from collections import Counter\n",
        "fsize=20\n",
        "\n",
        "plt.rcParams.update({'font.size': fsize})\n",
        "%config InlineBackend.figure_format = 'retina'"
      ],
      "execution_count": 2,
      "outputs": []
    },
    {
      "cell_type": "code",
      "source": [
        "fb_fn = \"BMGP_2020/references/scispace/kite/feature_barcodes.txt\""
      ],
      "metadata": {
        "id": "YYPnhNw5lyEB"
      },
      "execution_count": 3,
      "outputs": []
    },
    {
      "cell_type": "code",
      "metadata": {
        "id": "59ax__iUbPj3",
        "cellView": "form"
      },
      "source": [
        "#@title Example barcodes\n",
        "# MULTISEQ\n",
        "bcs = [\n",
        "  \"GGAGAAGA\",\n",
        "  \"CCACAATG\",\n",
        "  \"CCAACCGG\",\n",
        "  \"CGAAGCCC\",\n",
        "  \"TCAGTCGA\",\n",
        "  \"GACCAGCC\",\n",
        "  \"CTCAAGGT\",\n",
        "  \"CGCCGCAA\",\n",
        "  \"ACCAGCCG\",\n",
        "]\n",
        "\n",
        "bcs_names = [\n",
        "\"BC1\",\n",
        "\"BC2\",\n",
        "\"BC13\",\n",
        "\"BC25\",\n",
        "\"BC37\",\n",
        "\"BC49\",\n",
        "\"BC50\",\n",
        "\"BC73\",\n",
        "\"BC74\",\n",
        "]\n",
        "\n",
        "\n",
        "# 10xCRISPR\n",
        "bcs = [\n",
        "       \"GGCAACGCGACCCCACGAG\",\n",
        "       \"ATGTCACCCCCAGACCCCG\",\n",
        "       \"TGCAGCGCCGGCGACTCAC\",\n",
        "       \"CGGGGCACCGGTGAGTCGC\",\n",
        "       \"CACTCGGCGGACGCAAGGG\",\n",
        "       \"GCGCACTCGGCGGACGCAA\",\n",
        "       \"TGCTGCTTCGGCGACCGGG\",\n",
        "       \"TTCTCGCGGGACACCGACG\",\n",
        "       \"AGCCCAAGCCAGAGCGGCG\",\n",
        "       \"GAGCGGCGCGGCCTGGAAG\",\n",
        "       \"ACCCGAGCCGCACCCGCCG\",\n",
        "       \"GCACGGGCGGCGGAGACTC\",\n",
        "       \"AGCAGGGCTCTCCTCCCGG\",\n",
        "       \"TGTGGCTGAAGCAGCGAGG\",\n",
        "       \"GGAGAGGCGCAGCATCCAC\",\n",
        "       \"GAGGCGCAGCATCCACAGG\",\n",
        "       \"GAGCGAGGAGGGCGCTACG\",\n",
        "       \"GTCGCTATCGGAGGCCGCG\",\n",
        "       \"CACCAGATACAGCGCTCTG\",\n",
        "       \"GCGGCAGCGCGGTCAGTGG\",\n",
        "       \"GAGCCTCAGCGAGCGGAGG\",\n",
        "       \"CTGGAGCCTCAGCGAGCGG\",\n",
        "       \"GACGAAGTCTATAAAGGGC\",\n",
        "       \"CATGGCGTGAGTACCGGGG\",\n",
        "       \"TCCTCCTCAGCAGCACCGG\",\n",
        "       \"GTCATGGAGCGGAACGCCA\",\n",
        "       \"ACTTTGCTGTACCCATCAG\",\n",
        "       \"AGGCCCAGTCATCCTACAC\",\n",
        "       \"ATGTTGGCCGCCGCTGCGA\",\n",
        "       \"GACGGGAGGATGGAGTCGA\",\n",
        "       \"CTTCCACCACAGGTACCTA\",\n",
        "       \"CCTCGCCTGGCTGCTCCCT\",\n",
        "       \"CCGGCCGGGCGGCGAGTAG\",\n",
        "       \"TGCTGATAAGGGAAGGGAC\",\n",
        "       \"GCTGCTGCCACAGACCGAG\",\n",
        "       \"CCCCGGGAGCGGAGAGCGA\",\n",
        "       \"AAACGCACAGCAACTCGCA\",\n",
        "       \"GGCGAAATGGCTCCGACCG\",\n",
        "       \"CACAGGAGACCATGTCCGG\",\n",
        "       \"AGGGCAGCGAGAGGTTCGC\",\n",
        "       \"GAGCTTTCGCAGCTGGAGA\",\n",
        "       \"TCACTATCTCCCGGGTGAA\",\n",
        "       \"GGCCCGCGCGGCACTTACG\",\n",
        "       \"GCGCGGGCGGGAAGCGAAG\",\n",
        "       \"GCGCGGGCAGCGTGAAGCG\",\n",
        "       \"GCGCGTGCGTACGCGACGG\",\n",
        "       \"CGGACCTCGGGATCTGGGT\",\n",
        "       \"CCGGGCGCTGTCGGACCTC\",\n",
        "       \"CCTTGCACCGGGCTTTGCA\",\n",
        "       \"CGCCGGCCGCGGTTCTCCC\",\n",
        "       \"CCGGCCCAGGATGTAGAGC\",\n",
        "       \"CTGCGGGCGCTGGCAAATC\",\n",
        "       \"TGGTGTCATGGCAGCTGCG\",\n",
        "       \"ACGCTTCGGGTTGGTGTCA\",\n",
        "       \"GAGATCCGCGGAGGCCGAC\",\n",
        "       \"CGACGGCAGAGGGGCCTAA\",\n",
        "       \"CCGCCATGGCCGACAAGGA\",\n",
        "       \"GTGCAGTCCCCGGTACTGA\",\n",
        "       \"CCCAAGCGCCTACTCGCAC\",\n",
        "       \"CTGCGAAAGCGCCAGGGTG\",\n",
        "       \"GATCGCCGAGCGCGAGTGA\",\n",
        "       \"GGGAGAGCGAGCAGCGAGC\",\n",
        "       \"CTCAGGGCAGCGAGACTAT\",\n",
        "       \"GCCGGCCGGCCGGCACGGG\",\n",
        "       \"TTTTGGGCCGCGGCGGGAG\",\n",
        "       \"GTCTCACCATGGAGCGGAA\",\n",
        "       \"AGACGGAGCTCTTGAGTAG\",\n",
        "       \"TGAGTAGAGGGCCGAAGAG\",\n",
        "       \"CCGGCGGGTAGCTGGCGGG\",\n",
        "       \"AGGCTCCGGCGGACCGAGG\",\n",
        "       \"ACTTCGGTCGCGGGCGGTG\",\n",
        "       \"GAAACGCTGCCGCTGAGGG\",\n",
        "       \"GTTAGAGCCCGTGCGGAGG\",\n",
        "       \"CTGCGGCGGAGCCTCCTTA\",\n",
        "       \"TGCGTGAGGCGAGAGGAGC\",\n",
        "       \"ACGCACGAGTGGAAGTCCC\",\n",
        "       \"CGACACCGCGGCTTCCGCG\",\n",
        "       \"GCCCGTCGGCGGGTGTCGA\",\n",
        "       \"GCCCCGCTCGGCGATACCC\",\n",
        "       \"GTCGCGTCCGACACCCGGT\",\n",
        "       \"TACAGCAACAAGGCTGAGA\",\n",
        "       \"GTCTTGGCCTGTTCCTCAA\",\n",
        "       \"CGAGCCGGGACCCTGGTAC\",\n",
        "       \"CTGGAGCGCGGCAGGTGAG\",\n",
        "       \"GCCGGCGAACCAGGAAATA\",\n",
        "       \"AGCGATAGCTGAGTGGCGG\",\n",
        "       \"GCGCAGGCAGAAGTCACCG\",\n",
        "       \"ACTCCACCGCCCGGAGCAG\",\n",
        "       \"ACCGACTGACGGTAGGGAC\",\n",
        "       \"GGACGGGAGGCGAGCAAGA\",\n",
        "]\n",
        "\n",
        "bcs_names = [\n",
        "\"APH1A-1\",\n",
        "\"APH1A-2\",\n",
        "\"CDKN3-1\",\n",
        "\"CDKN3-2\",\n",
        "\"EZR-1\",\n",
        "\"EZR-2\",\n",
        "\"GRB2-1\",\n",
        "\"GRB2-2\",\n",
        "\"GSK3A-1\",\n",
        "\"GSK3A-2\",\n",
        "\"HRAS-1\",\n",
        "\"HRAS-2\",\n",
        "\"JUN-1\",\n",
        "\"JUN-2\",\n",
        "\"PPIB-1\",\n",
        "\"PPIB-2\",\n",
        "\"SNRNP70-1\",\n",
        "\"SNRNP70-2\",\n",
        "\"SNRNP40-1\",\n",
        "\"SNRNP40-2\",\n",
        "\"PPP2CA-1\",\n",
        "\"PPP2CA-2\",\n",
        "\"ATF4-1\",\n",
        "\"ATF4-2\",\n",
        "\"BAZ1B-1\",\n",
        "\"BAZ1B-2\",\n",
        "\"BRD4-1\",\n",
        "\"BRD4-2\",\n",
        "\"CAMLG-1\",\n",
        "\"CAMLG-2\",\n",
        "\"CSNK2A1-1\",\n",
        "\"CSNK2A1-2\",\n",
        "\"CTCF-1\",\n",
        "\"CTCF-2\",\n",
        "\"CTNNB1-1\",\n",
        "\"CTNNB1-2\",\n",
        "\"DHX9-1\",\n",
        "\"DHX9-2\",\n",
        "\"EIF4EBP1-1\",\n",
        "\"EIF4EBP1-2\",\n",
        "\"ELOF1-1\",\n",
        "\"ELOF1-2\",\n",
        "\"H2AFY-1\",\n",
        "\"H2AFY-2\",\n",
        "\"KDM1A-1\",\n",
        "\"KDM1A-2\",\n",
        "\"LMNA-1\",\n",
        "\"LMNA-2\",\n",
        "\"MBNL1-1\",\n",
        "\"MBNL1-2\",\n",
        "\"MORF4L1-1\",\n",
        "\"MORF4L1-2\",\n",
        "\"NOC2L-1\",\n",
        "\"NOC2L-2\",\n",
        "\"PAIP2-1\",\n",
        "\"PAIP2-2\",\n",
        "\"RBBP4-1\",\n",
        "\"RBBP4-2\",\n",
        "\"RBM25-1\",\n",
        "\"RBM25-2\",\n",
        "\"SET-1\",\n",
        "\"SET-2\",\n",
        "\"SMARCD1-1\",\n",
        "\"SMARCD1-2\",\n",
        "\"SRPK1-1\",\n",
        "\"SRPK1-2\",\n",
        "\"SRRT-1\",\n",
        "\"SRRT-2\",\n",
        "\"SUZ12-1\",\n",
        "\"SUZ12-2\",\n",
        "\"TPR-1\",\n",
        "\"TPR-2\",\n",
        "\"TRA2B-1\",\n",
        "\"TRA2B-2\",\n",
        "\"UBE2N-1\",\n",
        "\"UBE2N-2\",\n",
        "\"UBXN1-1\",\n",
        "\"UBXN1-2\",\n",
        "\"EZH2-1\",\n",
        "\"EZH2-2\",\n",
        "\"ACE2-1\",\n",
        "\"ACE2-2\",\n",
        "\"TMPRSS2-1\",\n",
        "\"TMPRSS2-2\",\n",
        "\"RAB1A-2\",\n",
        "\"RAB1A-3\",\n",
        "\"DPP4-1\",\n",
        "\"DPP4-2\",\n",
        "\"HDAC1-1\",\n",
        "\"HDAC1-2\",\n",
        "]"
      ],
      "execution_count": 4,
      "outputs": []
    },
    {
      "cell_type": "code",
      "source": [
        "bcs = []\n",
        "bcs_names = []\n",
        "with open(fb_fn, 'r') as f:\n",
        "  for l in f.readlines():\n",
        "    l = l.strip()\n",
        "    bc, n = l.split(\"\\t\")\n",
        "    bcs.append(bc)\n",
        "    bcs_names.append(n)"
      ],
      "metadata": {
        "id": "iRsBlHAIlYGQ"
      },
      "execution_count": 5,
      "outputs": []
    },
    {
      "cell_type": "markdown",
      "metadata": {
        "id": "7QtawHfabcHT"
      },
      "source": [
        "# Validation"
      ]
    },
    {
      "cell_type": "markdown",
      "metadata": {
        "id": "AYEfVcvSbdGk"
      },
      "source": [
        "## Length validation"
      ]
    },
    {
      "cell_type": "code",
      "source": [
        "bc_len = min([len(i) for i in bcs])\n",
        "max_bcs = 4**bc_len\n",
        "max_bcs"
      ],
      "metadata": {
        "id": "e1UZBXUt7aKg",
        "outputId": "89b86b0e-be6c-4f59-d1db-d249c1a0b585",
        "colab": {
          "base_uri": "https://localhost:8080/"
        }
      },
      "execution_count": 6,
      "outputs": [
        {
          "output_type": "execute_result",
          "data": {
            "text/plain": [
              "1048576"
            ]
          },
          "metadata": {},
          "execution_count": 6
        }
      ]
    },
    {
      "cell_type": "markdown",
      "metadata": {
        "id": "Sl9fPgutbply"
      },
      "source": [
        "## Shared subsequence"
      ]
    },
    {
      "cell_type": "code",
      "metadata": {
        "colab": {
          "base_uri": "https://localhost:8080/"
        },
        "id": "b_cRrygTbLnZ",
        "outputId": "6e7d2260-d63e-4854-993c-be820ea1c868"
      },
      "source": [
        "def kmerize(s, k):\n",
        "  L = len(s)\n",
        "  return [s[i:i+k] for i in range(L-k+1)]\n",
        "kmerize(\"sina\" ,3)"
      ],
      "execution_count": 7,
      "outputs": [
        {
          "output_type": "execute_result",
          "data": {
            "text/plain": [
              "['sin', 'ina']"
            ]
          },
          "metadata": {},
          "execution_count": 7
        }
      ]
    },
    {
      "cell_type": "code",
      "metadata": {
        "colab": {
          "base_uri": "https://localhost:8080/",
          "height": 35
        },
        "id": "dBgghihMbtzb",
        "outputId": "34d42f84-234d-4326-f88c-9285bc327bcc"
      },
      "source": [
        "complement = {'A': 'T', 'C': 'G', 'G': 'C', 'T': 'A'} \n",
        "def rev_c(seq):\n",
        "    bases = list(seq) \n",
        "    bases = reversed([complement.get(base,base) for base in bases])\n",
        "    bases = ''.join(bases)\n",
        "    return bases\n",
        "rev_c(\"ATC\")"
      ],
      "execution_count": 8,
      "outputs": [
        {
          "output_type": "execute_result",
          "data": {
            "application/vnd.google.colaboratory.intrinsic+json": {
              "type": "string"
            },
            "text/plain": [
              "'GAT'"
            ]
          },
          "metadata": {},
          "execution_count": 8
        }
      ]
    },
    {
      "cell_type": "code",
      "metadata": {
        "id": "sVp0ZbFwbwad"
      },
      "source": [
        "from collections import defaultdict\n",
        "def check_kmers(bcs, bcs_names, k=None):\n",
        "  length = min([len(i) for i in bcs])\n",
        "  if not k:\n",
        "    k = length if length % 2 else length - 1\n",
        "    print(f\"Optimal kmer length: {k}\")\n",
        "\n",
        "  d = defaultdict(list)\n",
        "  for bc, bc_name in zip(bcs, bcs_names):\n",
        "    # forward strand\n",
        "    kmers = kmerize(bc, k)\n",
        "    for kmer in kmers:\n",
        "      d[\"\".join(kmer)].append(bc_name)\n",
        "    \n",
        "    # reverse complement strand\n",
        "    kmers = kmerize(rev_c(bc), k)\n",
        "    for kmer in kmers:\n",
        "      d[\"\".join(kmer)].append(bc_name + \"_rc\")\n",
        "  return d"
      ],
      "execution_count": 9,
      "outputs": []
    },
    {
      "cell_type": "code",
      "source": [
        "def make_ec(bcs, bcs_names, k=None):\n",
        "  length = min([len(i) for i in bcs])\n",
        "  if not k:\n",
        "    k = length # length if length % 2 else length - 1\n",
        "    # print(f\"Optimal kmer length: {k}\")\n",
        "  d = defaultdict(list)\n",
        "  for bc, bc_name in zip(bcs, bcs_names):\n",
        "    # forward strand\n",
        "    kmers = kmerize(bc, k)\n",
        "    for kmer in kmers:\n",
        "      d[''.join(kmer)].append(bc_name)\n",
        "  return d"
      ],
      "metadata": {
        "id": "VfAhhqrG6RLz"
      },
      "execution_count": 15,
      "outputs": []
    },
    {
      "cell_type": "code",
      "source": [
        "blah = make_ec(bcs, bcs_names)"
      ],
      "metadata": {
        "id": "jrwfB1PU7Hs4"
      },
      "execution_count": 16,
      "outputs": []
    },
    {
      "cell_type": "code",
      "source": [
        "def ham(k1, k2):\n",
        "    first  = np.array(list(k1))\n",
        "    second = np.array(list(k2))\n",
        "    dist = (first!=second).sum()\n",
        "    return dist"
      ],
      "metadata": {
        "id": "PpbWQ8J1Dx1t"
      },
      "execution_count": 17,
      "outputs": []
    },
    {
      "cell_type": "code",
      "source": [
        "def cmp_kmers(ecs, rc = False):\n",
        "  kmers = list(ecs.keys())\n",
        "  ecs = list(ecs.values())\n",
        "  d = defaultdict()\n",
        "  n = len(kmers)\n",
        "  nc = n*(n-1)//2\n",
        "  c = 0\n",
        "  for i in range(n):\n",
        "    for j in range(i+1, n):\n",
        "      c += 1\n",
        "      if c % 100_000 == 0:\n",
        "        print(f\"{c:,.0f}\")\n",
        "      k1, k2 = kmers[i], kmers[j]\n",
        "      \n",
        "      # if comparing kmer to revc of other kmers\n",
        "      if rc:\n",
        "        k2 = rev_c(k2)\n",
        "      \n",
        "      dist = ham(k1, k2)\n",
        "      d[(kmers[i], kmers[j])] = dist\n",
        "  return d"
      ],
      "metadata": {
        "id": "uSvVfk0DNAz2"
      },
      "execution_count": 31,
      "outputs": []
    },
    {
      "cell_type": "code",
      "source": [
        "d = pd.Series(cmp_kmers(make_ec(bcs, bcs_names), rc=True))"
      ],
      "metadata": {
        "id": "NVotPunt-oBT",
        "outputId": "bff3f9b3-de9b-4901-f123-9da4d49138f4",
        "colab": {
          "base_uri": "https://localhost:8080/"
        }
      },
      "execution_count": 33,
      "outputs": [
        {
          "output_type": "stream",
          "name": "stdout",
          "text": [
            "100,000\n",
            "200,000\n",
            "300,000\n",
            "400,000\n",
            "500,000\n",
            "600,000\n",
            "700,000\n",
            "800,000\n",
            "900,000\n",
            "1,000,000\n",
            "1,100,000\n",
            "1,200,000\n"
          ]
        }
      ]
    },
    {
      "cell_type": "code",
      "source": [
        "[(blah[i],blah[j]) for i,j in d.nsmallest(10).index]"
      ],
      "metadata": {
        "id": "QfZwxz8JNshd",
        "outputId": "f59d91fe-1e45-43a3-8850-31b3941e7388",
        "colab": {
          "base_uri": "https://localhost:8080/"
        }
      },
      "execution_count": 47,
      "outputs": [
        {
          "output_type": "execute_result",
          "data": {
            "text/plain": [
              "[(['RT_537'], ['RT_703']),\n",
              " (['RT_983'], ['RT_1115']),\n",
              " (['slide_1F'], ['RT_195']),\n",
              " (['sector6'], ['RT_209']),\n",
              " (['sector8'], ['RT_727']),\n",
              " (['sector9'], ['RT_594']),\n",
              " (['RT_227'], ['RT_775']),\n",
              " (['RT_228'], ['RT_978']),\n",
              " (['RT_232'], ['RT_1008']),\n",
              " (['RT_237'], ['RT_1327'])]"
            ]
          },
          "metadata": {},
          "execution_count": 47
        }
      ]
    },
    {
      "cell_type": "markdown",
      "metadata": {
        "id": "MmoKFpRGcOP7"
      },
      "source": [
        "### Varying length of subesequnce"
      ]
    },
    {
      "cell_type": "code",
      "metadata": {
        "id": "_s5XGa7eb6O3"
      },
      "source": [
        "# across multiple kmer lengths\n",
        "kmer_lens = np.arange(2, bc_len + 1)\n",
        "ambig_bcs = []\n",
        "for kmer_len in kmer_lens:\n",
        "  # Determine the set of ambiguous barcodes\n",
        "  ambig_bc = set()\n",
        "  for i in check_kmers(bcs, bcs_names, kmer_len).values():\n",
        "    if len(i) > 1:\n",
        "      for j in i:\n",
        "        ambig_bc.add(j.split(\"_\")[0])\n",
        "  ambig_bcs.append(list(ambig_bc))\n"
      ],
      "execution_count": 37,
      "outputs": []
    },
    {
      "cell_type": "code",
      "source": [
        ""
      ],
      "metadata": {
        "id": "EIrcfv869H33",
        "outputId": "955743db-ede6-4515-a21c-13bdbc03fa90",
        "colab": {
          "base_uri": "https://localhost:8080/"
        }
      },
      "execution_count": 39,
      "outputs": [
        {
          "output_type": "execute_result",
          "data": {
            "text/plain": [
              "[['RT',\n",
              "  'sector5',\n",
              "  'sector7',\n",
              "  'sector11',\n",
              "  'sector13',\n",
              "  'sector16',\n",
              "  'sector6',\n",
              "  'sector9',\n",
              "  'slide',\n",
              "  'sector3',\n",
              "  'sector12',\n",
              "  'sector2',\n",
              "  'sector1',\n",
              "  'sector10',\n",
              "  'sector4',\n",
              "  'sector14',\n",
              "  'sector15',\n",
              "  'sector8'],\n",
              " ['RT',\n",
              "  'sector5',\n",
              "  'sector13',\n",
              "  'sector7',\n",
              "  'sector16',\n",
              "  'sector6',\n",
              "  'sector9',\n",
              "  'slide',\n",
              "  'sector3',\n",
              "  'sector12',\n",
              "  'sector10',\n",
              "  'sector2',\n",
              "  'sector11',\n",
              "  'sector1',\n",
              "  'sector4',\n",
              "  'sector14',\n",
              "  'sector15',\n",
              "  'sector8'],\n",
              " ['RT',\n",
              "  'sector5',\n",
              "  'sector7',\n",
              "  'sector13',\n",
              "  'sector16',\n",
              "  'sector6',\n",
              "  'sector9',\n",
              "  'slide',\n",
              "  'sector3',\n",
              "  'sector12',\n",
              "  'sector10',\n",
              "  'sector2',\n",
              "  'sector11',\n",
              "  'sector1',\n",
              "  'sector4',\n",
              "  'sector14',\n",
              "  'sector15',\n",
              "  'sector8'],\n",
              " ['RT',\n",
              "  'sector5',\n",
              "  'sector7',\n",
              "  'sector13',\n",
              "  'sector16',\n",
              "  'sector6',\n",
              "  'sector9',\n",
              "  'slide',\n",
              "  'sector3',\n",
              "  'sector12',\n",
              "  'sector1',\n",
              "  'sector11',\n",
              "  'sector10',\n",
              "  'sector2',\n",
              "  'sector4',\n",
              "  'sector14',\n",
              "  'sector15',\n",
              "  'sector8'],\n",
              " ['RT',\n",
              "  'sector5',\n",
              "  'sector7',\n",
              "  'sector13',\n",
              "  'sector11',\n",
              "  'sector16',\n",
              "  'sector6',\n",
              "  'sector9',\n",
              "  'slide',\n",
              "  'sector3',\n",
              "  'sector12',\n",
              "  'sector1',\n",
              "  'sector2',\n",
              "  'sector10',\n",
              "  'sector4',\n",
              "  'sector14',\n",
              "  'sector15',\n",
              "  'sector8'],\n",
              " ['RT',\n",
              "  'sector5',\n",
              "  'sector7',\n",
              "  'sector11',\n",
              "  'sector13',\n",
              "  'sector16',\n",
              "  'sector6',\n",
              "  'sector9',\n",
              "  'slide',\n",
              "  'sector3',\n",
              "  'sector12',\n",
              "  'sector2',\n",
              "  'sector1',\n",
              "  'sector10',\n",
              "  'sector4',\n",
              "  'sector14',\n",
              "  'sector15',\n",
              "  'sector8'],\n",
              " ['RT', 'sector16', 'sector9', 'slide', 'sector3', 'sector2', 'sector8'],\n",
              " ['RT', 'slide', 'sector9', 'sector8'],\n",
              " ['RT', 'slide']]"
            ]
          },
          "metadata": {},
          "execution_count": 39
        }
      ]
    },
    {
      "cell_type": "code",
      "metadata": {
        "colab": {
          "base_uri": "https://localhost:8080/"
        },
        "id": "P4uZack2b1Q-",
        "outputId": "7237960b-ee22-4c08-e4e2-5c218991061d"
      },
      "source": [
        "i = 0\n",
        "for k, v in check_kmers(bcs, bcs_names, k=10).items():\n",
        "  if len(v) > 1:\n",
        "    i += 1\n",
        "    print(i, k, v)"
      ],
      "execution_count": 13,
      "outputs": [
        {
          "output_type": "stream",
          "name": "stdout",
          "text": [
            "1 AGCTTATCCG ['slide_2G', 'slide_2H']\n",
            "2 CGGATAAGCT ['slide_2G_rc', 'slide_2H_rc']\n",
            "3 GATGCTACGA ['RT_537', 'RT_703_rc']\n",
            "4 TCGTAGCATC ['RT_537_rc', 'RT_703']\n",
            "5 TTCTCAGTCA ['RT_983', 'RT_1115_rc']\n",
            "6 TGACTGAGAA ['RT_983_rc', 'RT_1115']\n"
          ]
        }
      ]
    },
    {
      "cell_type": "code",
      "metadata": {
        "colab": {
          "base_uri": "https://localhost:8080/",
          "height": 354
        },
        "id": "LxI8j1ShbKKx",
        "outputId": "49078711-3975-4176-c04b-35acab00d718"
      },
      "source": [
        "fig, ax = plt.subplots(figsize=(15,5))\n",
        "\n",
        "x = np.arange (1, bc_len + 1)\n",
        "y = 4**x\n",
        "\n",
        "ax.bar(x, y, color=\"k\")\n",
        "ax.set(**{\n",
        "    \"yscale\": \"symlog\",\n",
        "    \"xticks\": x,\n",
        "    \"xlabel\": \"Barcode length\",\n",
        "    \"ylabel\": \"# barcodes\"\n",
        "})\n",
        "fig.savefig(\"barcode_diversity.png\", dpi=300, bbox_inches=\"tight\")\n",
        "fig.show()\n"
      ],
      "execution_count": 6,
      "outputs": [
        {
          "output_type": "display_data",
          "data": {
            "image/png": "[encoded data removed]",
            "text/plain": [
              "<Figure size 1080x360 with 1 Axes>"
            ]
          },
          "metadata": {
            "image/png": {
              "width": 917,
              "height": 337
            },
            "needs_background": "light"
          }
        }
      ]
    },
    {
      "cell_type": "code",
      "metadata": {
        "colab": {
          "base_uri": "https://localhost:8080/",
          "height": 626
        },
        "id": "8DOICCFZcR9q",
        "outputId": "2cad069d-f8f9-4b03-a677-d9d61d1f1c9c"
      },
      "source": [
        "fig, ax = plt.subplots(figsize=(10,10))\n",
        "\n",
        "x = kmer_lens\n",
        "y = ambig_bcs\n",
        "\n",
        "ax.bar(x, y, color=\"k\")\n",
        "ax.set(**{\n",
        "    \"xticks\": x,\n",
        "    \"xlabel\": \"Subsequence length\",\n",
        "    \"ylabel\": \"# ambiguous barcodes\"\n",
        "})\n",
        "fig.savefig(\"shared_subseq.png\", dpi=300, bbox_inches=\"tight\")\n",
        "\n",
        "fig.show()"
      ],
      "execution_count": 19,
      "outputs": [
        {
          "output_type": "display_data",
          "data": {
            "image/png": "[encoded data removed]",
            "text/plain": [
              "<Figure size 720x720 with 1 Axes>"
            ]
          },
          "metadata": {
            "image/png": {
              "width": 647,
              "height": 609
            },
            "needs_background": "light"
          }
        }
      ]
    },
    {
      "cell_type": "markdown",
      "metadata": {
        "id": "Mgu1uuTCcadv"
      },
      "source": [
        "## Pairwise hamming / edit distance"
      ]
    },
    {
      "cell_type": "code",
      "metadata": {
        "id": "S9hMj3iAcX8M"
      },
      "source": [
        "n_bcs = len(bcs)\n",
        "mat = np.zeros(( n_bcs, n_bcs ))\n",
        "for i in range(len(bcs)):\n",
        "  for j in range(i, len(bcs)):\n",
        "    first  = np.array(list(bcs[i]))\n",
        "    second = np.array(list(bcs[j]))\n",
        "    mat[i,j] = (first!=second).sum()"
      ],
      "execution_count": 20,
      "outputs": []
    },
    {
      "cell_type": "code",
      "metadata": {
        "id": "5oGISqNachK_"
      },
      "source": [
        "from mpl_toolkits.axes_grid1 import make_axes_locatable"
      ],
      "execution_count": 21,
      "outputs": []
    },
    {
      "cell_type": "code",
      "metadata": {
        "colab": {
          "base_uri": "https://localhost:8080/",
          "height": 433
        },
        "id": "xmdB2c6OckOs",
        "outputId": "1e19a3ef-10af-4292-8b52-0329232cc0bb"
      },
      "source": [
        "fig, ax = plt.subplots(figsize=(30,30))\n",
        "\n",
        "im = ax.imshow(mat.T, cmap=\"Reds_r\")\n",
        "\n",
        "divider = make_axes_locatable(ax)\n",
        "cax = divider.append_axes(\"right\", size=\"5%\", pad=0.05)\n",
        "fig.colorbar(im, label=\"Distance\", cax=cax)\n",
        "\n",
        "# for (j,i),label in np.ndenumerate(mat.T):\n",
        "#   ham = mat[i,j]\n",
        "#   if i <= j:\n",
        "#     string = f\"{ham:,.0f}\"\n",
        "#     ax.text(i,j,string,ha='center',va='center')\n",
        "\n",
        "ax.set(**{\n",
        "    \"xticklabels\": bcs_names,\n",
        "    \"yticklabels\": bcs_names,\n",
        "    \"xticks\": np.arange(len(bcs_names)),\n",
        "    \"yticks\": np.arange(len(bcs_names)),\n",
        "    \"title\": \"Hamming distance\"\n",
        "})\n",
        "\n",
        "ax.set_xticklabels(bcs_names, rotation = 90)\n",
        "\n",
        "# fig.savefig(\"pairwise.png\", dpi=300, bbox_inches=\"tight\")\n",
        "\n",
        "fig.show()"
      ],
      "execution_count": 22,
      "outputs": [
        {
          "output_type": "stream",
          "name": "stdout",
          "text": [
            "Error in callback <function flush_figures at 0x7f36d405ce60> (for post_execute):\n"
          ]
        },
        {
          "output_type": "error",
          "ename": "KeyboardInterrupt",
          "evalue": "ignored",
          "traceback": [
            "\u001b[0;31m---------------------------------------------------------------------------\u001b[0m",
            "\u001b[0;31mKeyboardInterrupt\u001b[0m                         Traceback (most recent call last)",
            "\u001b[0;32m/usr/local/lib/python3.7/dist-packages/ipykernel/pylab/backend_inline.py\u001b[0m in \u001b[0;36mflush_figures\u001b[0;34m()\u001b[0m\n\u001b[1;32m    115\u001b[0m         \u001b[0;31m# ignore the tracking, just draw and close all figures\u001b[0m\u001b[0;34m\u001b[0m\u001b[0;34m\u001b[0m\u001b[0;34m\u001b[0m\u001b[0m\n\u001b[1;32m    116\u001b[0m         \u001b[0;32mtry\u001b[0m\u001b[0;34m:\u001b[0m\u001b[0;34m\u001b[0m\u001b[0;34m\u001b[0m\u001b[0m\n\u001b[0;32m--> 117\u001b[0;31m             \u001b[0;32mreturn\u001b[0m \u001b[0mshow\u001b[0m\u001b[0;34m(\u001b[0m\u001b[0;32mTrue\u001b[0m\u001b[0;34m)\u001b[0m\u001b[0;34m\u001b[0m\u001b[0;34m\u001b[0m\u001b[0m\n\u001b[0m\u001b[1;32m    118\u001b[0m         \u001b[0;32mexcept\u001b[0m \u001b[0mException\u001b[0m \u001b[0;32mas\u001b[0m \u001b[0me\u001b[0m\u001b[0;34m:\u001b[0m\u001b[0;34m\u001b[0m\u001b[0;34m\u001b[0m\u001b[0m\n\u001b[1;32m    119\u001b[0m             \u001b[0;31m# safely show traceback if in IPython, else raise\u001b[0m\u001b[0;34m\u001b[0m\u001b[0;34m\u001b[0m\u001b[0;34m\u001b[0m\u001b[0m\n",
            "\u001b[0;32m/usr/local/lib/python3.7/dist-packages/ipykernel/pylab/backend_inline.py\u001b[0m in \u001b[0;36mshow\u001b[0;34m(close, block)\u001b[0m\n\u001b[1;32m     37\u001b[0m             display(\n\u001b[1;32m     38\u001b[0m                 \u001b[0mfigure_manager\u001b[0m\u001b[0;34m.\u001b[0m\u001b[0mcanvas\u001b[0m\u001b[0;34m.\u001b[0m\u001b[0mfigure\u001b[0m\u001b[0;34m,\u001b[0m\u001b[0;34m\u001b[0m\u001b[0;34m\u001b[0m\u001b[0m\n\u001b[0;32m---> 39\u001b[0;31m                 \u001b[0mmetadata\u001b[0m\u001b[0;34m=\u001b[0m\u001b[0m_fetch_figure_metadata\u001b[0m\u001b[0;34m(\u001b[0m\u001b[0mfigure_manager\u001b[0m\u001b[0;34m.\u001b[0m\u001b[0mcanvas\u001b[0m\u001b[0;34m.\u001b[0m\u001b[0mfigure\u001b[0m\u001b[0;34m)\u001b[0m\u001b[0;34m\u001b[0m\u001b[0;34m\u001b[0m\u001b[0m\n\u001b[0m\u001b[1;32m     40\u001b[0m             )\n\u001b[1;32m     41\u001b[0m     \u001b[0;32mfinally\u001b[0m\u001b[0;34m:\u001b[0m\u001b[0;34m\u001b[0m\u001b[0;34m\u001b[0m\u001b[0m\n",
            "\u001b[0;32m/usr/local/lib/python3.7/dist-packages/IPython/core/display.py\u001b[0m in \u001b[0;36mdisplay\u001b[0;34m(*objs, **kwargs)\u001b[0m\n\u001b[1;32m    304\u001b[0m             \u001b[0mpublish_display_data\u001b[0m\u001b[0;34m(\u001b[0m\u001b[0mdata\u001b[0m\u001b[0;34m=\u001b[0m\u001b[0mobj\u001b[0m\u001b[0;34m,\u001b[0m \u001b[0mmetadata\u001b[0m\u001b[0;34m=\u001b[0m\u001b[0mmetadata\u001b[0m\u001b[0;34m,\u001b[0m \u001b[0;34m**\u001b[0m\u001b[0mkwargs\u001b[0m\u001b[0;34m)\u001b[0m\u001b[0;34m\u001b[0m\u001b[0;34m\u001b[0m\u001b[0m\n\u001b[1;32m    305\u001b[0m         \u001b[0;32melse\u001b[0m\u001b[0;34m:\u001b[0m\u001b[0;34m\u001b[0m\u001b[0;34m\u001b[0m\u001b[0m\n\u001b[0;32m--> 306\u001b[0;31m             \u001b[0mformat_dict\u001b[0m\u001b[0;34m,\u001b[0m \u001b[0mmd_dict\u001b[0m \u001b[0;34m=\u001b[0m \u001b[0mformat\u001b[0m\u001b[0;34m(\u001b[0m\u001b[0mobj\u001b[0m\u001b[0;34m,\u001b[0m \u001b[0minclude\u001b[0m\u001b[0;34m=\u001b[0m\u001b[0minclude\u001b[0m\u001b[0;34m,\u001b[0m \u001b[0mexclude\u001b[0m\u001b[0;34m=\u001b[0m\u001b[0mexclude\u001b[0m\u001b[0;34m)\u001b[0m\u001b[0;34m\u001b[0m\u001b[0;34m\u001b[0m\u001b[0m\n\u001b[0m\u001b[1;32m    307\u001b[0m             \u001b[0;32mif\u001b[0m \u001b[0;32mnot\u001b[0m \u001b[0mformat_dict\u001b[0m\u001b[0;34m:\u001b[0m\u001b[0;34m\u001b[0m\u001b[0;34m\u001b[0m\u001b[0m\n\u001b[1;32m    308\u001b[0m                 \u001b[0;31m# nothing to display (e.g. _ipython_display_ took over)\u001b[0m\u001b[0;34m\u001b[0m\u001b[0;34m\u001b[0m\u001b[0;34m\u001b[0m\u001b[0m\n",
            "\u001b[0;32m/usr/local/lib/python3.7/dist-packages/IPython/core/formatters.py\u001b[0m in \u001b[0;36mformat\u001b[0;34m(self, obj, include, exclude)\u001b[0m\n\u001b[1;32m    171\u001b[0m             \u001b[0mmd\u001b[0m \u001b[0;34m=\u001b[0m \u001b[0;32mNone\u001b[0m\u001b[0;34m\u001b[0m\u001b[0;34m\u001b[0m\u001b[0m\n\u001b[1;32m    172\u001b[0m             \u001b[0;32mtry\u001b[0m\u001b[0;34m:\u001b[0m\u001b[0;34m\u001b[0m\u001b[0;34m\u001b[0m\u001b[0m\n\u001b[0;32m--> 173\u001b[0;31m                 \u001b[0mdata\u001b[0m \u001b[0;34m=\u001b[0m \u001b[0mformatter\u001b[0m\u001b[0;34m(\u001b[0m\u001b[0mobj\u001b[0m\u001b[0;34m)\u001b[0m\u001b[0;34m\u001b[0m\u001b[0;34m\u001b[0m\u001b[0m\n\u001b[0m\u001b[1;32m    174\u001b[0m             \u001b[0;32mexcept\u001b[0m\u001b[0;34m:\u001b[0m\u001b[0;34m\u001b[0m\u001b[0;34m\u001b[0m\u001b[0m\n\u001b[1;32m    175\u001b[0m                 \u001b[0;31m# FIXME: log the exception\u001b[0m\u001b[0;34m\u001b[0m\u001b[0;34m\u001b[0m\u001b[0;34m\u001b[0m\u001b[0m\n",
            "\u001b[0;32m<decorator-gen-2>\u001b[0m in \u001b[0;36m__call__\u001b[0;34m(self, obj)\u001b[0m\n",
            "\u001b[0;32m/usr/local/lib/python3.7/dist-packages/IPython/core/formatters.py\u001b[0m in \u001b[0;36mcatch_format_error\u001b[0;34m(method, self, *args, **kwargs)\u001b[0m\n\u001b[1;32m    215\u001b[0m     \u001b[0;34m\"\"\"show traceback on failed format call\"\"\"\u001b[0m\u001b[0;34m\u001b[0m\u001b[0;34m\u001b[0m\u001b[0m\n\u001b[1;32m    216\u001b[0m     \u001b[0;32mtry\u001b[0m\u001b[0;34m:\u001b[0m\u001b[0;34m\u001b[0m\u001b[0;34m\u001b[0m\u001b[0m\n\u001b[0;32m--> 217\u001b[0;31m         \u001b[0mr\u001b[0m \u001b[0;34m=\u001b[0m \u001b[0mmethod\u001b[0m\u001b[0;34m(\u001b[0m\u001b[0mself\u001b[0m\u001b[0;34m,\u001b[0m \u001b[0;34m*\u001b[0m\u001b[0margs\u001b[0m\u001b[0;34m,\u001b[0m \u001b[0;34m**\u001b[0m\u001b[0mkwargs\u001b[0m\u001b[0;34m)\u001b[0m\u001b[0;34m\u001b[0m\u001b[0;34m\u001b[0m\u001b[0m\n\u001b[0m\u001b[1;32m    218\u001b[0m     \u001b[0;32mexcept\u001b[0m \u001b[0mNotImplementedError\u001b[0m\u001b[0;34m:\u001b[0m\u001b[0;34m\u001b[0m\u001b[0;34m\u001b[0m\u001b[0m\n\u001b[1;32m    219\u001b[0m         \u001b[0;31m# don't warn on NotImplementedErrors\u001b[0m\u001b[0;34m\u001b[0m\u001b[0;34m\u001b[0m\u001b[0;34m\u001b[0m\u001b[0m\n",
            "\u001b[0;32m/usr/local/lib/python3.7/dist-packages/IPython/core/formatters.py\u001b[0m in \u001b[0;36m__call__\u001b[0;34m(self, obj)\u001b[0m\n\u001b[1;32m    332\u001b[0m                 \u001b[0;32mpass\u001b[0m\u001b[0;34m\u001b[0m\u001b[0;34m\u001b[0m\u001b[0m\n\u001b[1;32m    333\u001b[0m             \u001b[0;32melse\u001b[0m\u001b[0;34m:\u001b[0m\u001b[0;34m\u001b[0m\u001b[0;34m\u001b[0m\u001b[0m\n\u001b[0;32m--> 334\u001b[0;31m                 \u001b[0;32mreturn\u001b[0m \u001b[0mprinter\u001b[0m\u001b[0;34m(\u001b[0m\u001b[0mobj\u001b[0m\u001b[0;34m)\u001b[0m\u001b[0;34m\u001b[0m\u001b[0;34m\u001b[0m\u001b[0m\n\u001b[0m\u001b[1;32m    335\u001b[0m             \u001b[0;31m# Finally look for special method names\u001b[0m\u001b[0;34m\u001b[0m\u001b[0;34m\u001b[0m\u001b[0;34m\u001b[0m\u001b[0m\n\u001b[1;32m    336\u001b[0m             \u001b[0mmethod\u001b[0m \u001b[0;34m=\u001b[0m \u001b[0mget_real_method\u001b[0m\u001b[0;34m(\u001b[0m\u001b[0mobj\u001b[0m\u001b[0;34m,\u001b[0m \u001b[0mself\u001b[0m\u001b[0;34m.\u001b[0m\u001b[0mprint_method\u001b[0m\u001b[0;34m)\u001b[0m\u001b[0;34m\u001b[0m\u001b[0;34m\u001b[0m\u001b[0m\n",
            "\u001b[0;32m/usr/local/lib/python3.7/dist-packages/IPython/core/pylabtools.py\u001b[0m in \u001b[0;36m<lambda>\u001b[0;34m(fig)\u001b[0m\n\u001b[1;32m    241\u001b[0m         \u001b[0mpng_formatter\u001b[0m\u001b[0;34m.\u001b[0m\u001b[0mfor_type\u001b[0m\u001b[0;34m(\u001b[0m\u001b[0mFigure\u001b[0m\u001b[0;34m,\u001b[0m \u001b[0;32mlambda\u001b[0m \u001b[0mfig\u001b[0m\u001b[0;34m:\u001b[0m \u001b[0mprint_figure\u001b[0m\u001b[0;34m(\u001b[0m\u001b[0mfig\u001b[0m\u001b[0;34m,\u001b[0m \u001b[0;34m'png'\u001b[0m\u001b[0;34m,\u001b[0m \u001b[0;34m**\u001b[0m\u001b[0mkwargs\u001b[0m\u001b[0;34m)\u001b[0m\u001b[0;34m)\u001b[0m\u001b[0;34m\u001b[0m\u001b[0;34m\u001b[0m\u001b[0m\n\u001b[1;32m    242\u001b[0m     \u001b[0;32mif\u001b[0m \u001b[0;34m'retina'\u001b[0m \u001b[0;32min\u001b[0m \u001b[0mformats\u001b[0m \u001b[0;32mor\u001b[0m \u001b[0;34m'png2x'\u001b[0m \u001b[0;32min\u001b[0m \u001b[0mformats\u001b[0m\u001b[0;34m:\u001b[0m\u001b[0;34m\u001b[0m\u001b[0;34m\u001b[0m\u001b[0m\n\u001b[0;32m--> 243\u001b[0;31m         \u001b[0mpng_formatter\u001b[0m\u001b[0;34m.\u001b[0m\u001b[0mfor_type\u001b[0m\u001b[0;34m(\u001b[0m\u001b[0mFigure\u001b[0m\u001b[0;34m,\u001b[0m \u001b[0;32mlambda\u001b[0m \u001b[0mfig\u001b[0m\u001b[0;34m:\u001b[0m \u001b[0mretina_figure\u001b[0m\u001b[0;34m(\u001b[0m\u001b[0mfig\u001b[0m\u001b[0;34m,\u001b[0m \u001b[0;34m**\u001b[0m\u001b[0mkwargs\u001b[0m\u001b[0;34m)\u001b[0m\u001b[0;34m)\u001b[0m\u001b[0;34m\u001b[0m\u001b[0;34m\u001b[0m\u001b[0m\n\u001b[0m\u001b[1;32m    244\u001b[0m     \u001b[0;32mif\u001b[0m \u001b[0;34m'jpg'\u001b[0m \u001b[0;32min\u001b[0m \u001b[0mformats\u001b[0m \u001b[0;32mor\u001b[0m \u001b[0;34m'jpeg'\u001b[0m \u001b[0;32min\u001b[0m \u001b[0mformats\u001b[0m\u001b[0;34m:\u001b[0m\u001b[0;34m\u001b[0m\u001b[0;34m\u001b[0m\u001b[0m\n\u001b[1;32m    245\u001b[0m         \u001b[0mjpg_formatter\u001b[0m\u001b[0;34m.\u001b[0m\u001b[0mfor_type\u001b[0m\u001b[0;34m(\u001b[0m\u001b[0mFigure\u001b[0m\u001b[0;34m,\u001b[0m \u001b[0;32mlambda\u001b[0m \u001b[0mfig\u001b[0m\u001b[0;34m:\u001b[0m \u001b[0mprint_figure\u001b[0m\u001b[0;34m(\u001b[0m\u001b[0mfig\u001b[0m\u001b[0;34m,\u001b[0m \u001b[0;34m'jpg'\u001b[0m\u001b[0;34m,\u001b[0m \u001b[0;34m**\u001b[0m\u001b[0mkwargs\u001b[0m\u001b[0;34m)\u001b[0m\u001b[0;34m)\u001b[0m\u001b[0;34m\u001b[0m\u001b[0;34m\u001b[0m\u001b[0m\n",
            "\u001b[0;32m/usr/local/lib/python3.7/dist-packages/IPython/core/pylabtools.py\u001b[0m in \u001b[0;36mretina_figure\u001b[0;34m(fig, **kwargs)\u001b[0m\n\u001b[1;32m    131\u001b[0m \u001b[0;32mdef\u001b[0m \u001b[0mretina_figure\u001b[0m\u001b[0;34m(\u001b[0m\u001b[0mfig\u001b[0m\u001b[0;34m,\u001b[0m \u001b[0;34m**\u001b[0m\u001b[0mkwargs\u001b[0m\u001b[0;34m)\u001b[0m\u001b[0;34m:\u001b[0m\u001b[0;34m\u001b[0m\u001b[0;34m\u001b[0m\u001b[0m\n\u001b[1;32m    132\u001b[0m     \u001b[0;34m\"\"\"format a figure as a pixel-doubled (retina) PNG\"\"\"\u001b[0m\u001b[0;34m\u001b[0m\u001b[0;34m\u001b[0m\u001b[0m\n\u001b[0;32m--> 133\u001b[0;31m     \u001b[0mpngdata\u001b[0m \u001b[0;34m=\u001b[0m \u001b[0mprint_figure\u001b[0m\u001b[0;34m(\u001b[0m\u001b[0mfig\u001b[0m\u001b[0;34m,\u001b[0m \u001b[0mfmt\u001b[0m\u001b[0;34m=\u001b[0m\u001b[0;34m'retina'\u001b[0m\u001b[0;34m,\u001b[0m \u001b[0;34m**\u001b[0m\u001b[0mkwargs\u001b[0m\u001b[0;34m)\u001b[0m\u001b[0;34m\u001b[0m\u001b[0;34m\u001b[0m\u001b[0m\n\u001b[0m\u001b[1;32m    134\u001b[0m     \u001b[0;31m# Make sure that retina_figure acts just like print_figure and returns\u001b[0m\u001b[0;34m\u001b[0m\u001b[0;34m\u001b[0m\u001b[0;34m\u001b[0m\u001b[0m\n\u001b[1;32m    135\u001b[0m     \u001b[0;31m# None when the figure is empty.\u001b[0m\u001b[0;34m\u001b[0m\u001b[0;34m\u001b[0m\u001b[0;34m\u001b[0m\u001b[0m\n",
            "\u001b[0;32m/usr/local/lib/python3.7/dist-packages/IPython/core/pylabtools.py\u001b[0m in \u001b[0;36mprint_figure\u001b[0;34m(fig, fmt, bbox_inches, **kwargs)\u001b[0m\n\u001b[1;32m    123\u001b[0m \u001b[0;34m\u001b[0m\u001b[0m\n\u001b[1;32m    124\u001b[0m     \u001b[0mbytes_io\u001b[0m \u001b[0;34m=\u001b[0m \u001b[0mBytesIO\u001b[0m\u001b[0;34m(\u001b[0m\u001b[0;34m)\u001b[0m\u001b[0;34m\u001b[0m\u001b[0;34m\u001b[0m\u001b[0m\n\u001b[0;32m--> 125\u001b[0;31m     \u001b[0mfig\u001b[0m\u001b[0;34m.\u001b[0m\u001b[0mcanvas\u001b[0m\u001b[0;34m.\u001b[0m\u001b[0mprint_figure\u001b[0m\u001b[0;34m(\u001b[0m\u001b[0mbytes_io\u001b[0m\u001b[0;34m,\u001b[0m \u001b[0;34m**\u001b[0m\u001b[0mkw\u001b[0m\u001b[0;34m)\u001b[0m\u001b[0;34m\u001b[0m\u001b[0;34m\u001b[0m\u001b[0m\n\u001b[0m\u001b[1;32m    126\u001b[0m     \u001b[0mdata\u001b[0m \u001b[0;34m=\u001b[0m \u001b[0mbytes_io\u001b[0m\u001b[0;34m.\u001b[0m\u001b[0mgetvalue\u001b[0m\u001b[0;34m(\u001b[0m\u001b[0;34m)\u001b[0m\u001b[0;34m\u001b[0m\u001b[0;34m\u001b[0m\u001b[0m\n\u001b[1;32m    127\u001b[0m     \u001b[0;32mif\u001b[0m \u001b[0mfmt\u001b[0m \u001b[0;34m==\u001b[0m \u001b[0;34m'svg'\u001b[0m\u001b[0;34m:\u001b[0m\u001b[0;34m\u001b[0m\u001b[0;34m\u001b[0m\u001b[0m\n",
            "\u001b[0;32m/usr/local/lib/python3.7/dist-packages/matplotlib/backend_bases.py\u001b[0m in \u001b[0;36mprint_figure\u001b[0;34m(self, filename, dpi, facecolor, edgecolor, orientation, format, bbox_inches, **kwargs)\u001b[0m\n\u001b[1;32m   2124\u001b[0m                     \u001b[0morientation\u001b[0m\u001b[0;34m=\u001b[0m\u001b[0morientation\u001b[0m\u001b[0;34m,\u001b[0m\u001b[0;34m\u001b[0m\u001b[0;34m\u001b[0m\u001b[0m\n\u001b[1;32m   2125\u001b[0m                     \u001b[0mbbox_inches_restore\u001b[0m\u001b[0;34m=\u001b[0m\u001b[0m_bbox_inches_restore\u001b[0m\u001b[0;34m,\u001b[0m\u001b[0;34m\u001b[0m\u001b[0;34m\u001b[0m\u001b[0m\n\u001b[0;32m-> 2126\u001b[0;31m                     **kwargs)\n\u001b[0m\u001b[1;32m   2127\u001b[0m             \u001b[0;32mfinally\u001b[0m\u001b[0;34m:\u001b[0m\u001b[0;34m\u001b[0m\u001b[0;34m\u001b[0m\u001b[0m\n\u001b[1;32m   2128\u001b[0m                 \u001b[0;32mif\u001b[0m \u001b[0mbbox_inches\u001b[0m \u001b[0;32mand\u001b[0m \u001b[0mrestore_bbox\u001b[0m\u001b[0;34m:\u001b[0m\u001b[0;34m\u001b[0m\u001b[0;34m\u001b[0m\u001b[0m\n",
            "\u001b[0;32m/usr/local/lib/python3.7/dist-packages/matplotlib/backends/backend_agg.py\u001b[0m in \u001b[0;36mprint_png\u001b[0;34m(self, filename_or_obj, metadata, pil_kwargs, *args, **kwargs)\u001b[0m\n\u001b[1;32m    535\u001b[0m             \u001b[0;32mwith\u001b[0m \u001b[0mcbook\u001b[0m\u001b[0;34m.\u001b[0m\u001b[0mopen_file_cm\u001b[0m\u001b[0;34m(\u001b[0m\u001b[0mfilename_or_obj\u001b[0m\u001b[0;34m,\u001b[0m \u001b[0;34m\"wb\"\u001b[0m\u001b[0;34m)\u001b[0m \u001b[0;32mas\u001b[0m \u001b[0mfh\u001b[0m\u001b[0;34m:\u001b[0m\u001b[0;34m\u001b[0m\u001b[0;34m\u001b[0m\u001b[0m\n\u001b[1;32m    536\u001b[0m                 _png.write_png(renderer._renderer, fh, self.figure.dpi,\n\u001b[0;32m--> 537\u001b[0;31m                                metadata={**default_metadata, **metadata})\n\u001b[0m\u001b[1;32m    538\u001b[0m \u001b[0;34m\u001b[0m\u001b[0m\n\u001b[1;32m    539\u001b[0m     \u001b[0;32mdef\u001b[0m \u001b[0mprint_to_buffer\u001b[0m\u001b[0;34m(\u001b[0m\u001b[0mself\u001b[0m\u001b[0;34m)\u001b[0m\u001b[0;34m:\u001b[0m\u001b[0;34m\u001b[0m\u001b[0;34m\u001b[0m\u001b[0m\n",
            "\u001b[0;31mKeyboardInterrupt\u001b[0m: "
          ]
        }
      ]
    },
    {
      "cell_type": "code",
      "metadata": {
        "id": "xrWHACu3cmzP",
        "colab": {
          "base_uri": "https://localhost:8080/"
        },
        "outputId": "b4e457cb-f827-4401-d780-b4479388b14b"
      },
      "source": [
        "mat"
      ],
      "execution_count": 23,
      "outputs": [
        {
          "output_type": "execute_result",
          "data": {
            "text/plain": [
              "array([[0., 6., 8., ..., 9., 7., 7.],\n",
              "       [0., 0., 8., ..., 9., 8., 9.],\n",
              "       [0., 0., 0., ..., 9., 9., 7.],\n",
              "       ...,\n",
              "       [0., 0., 0., ..., 0., 7., 6.],\n",
              "       [0., 0., 0., ..., 0., 0., 9.],\n",
              "       [0., 0., 0., ..., 0., 0., 0.]])"
            ]
          },
          "metadata": {},
          "execution_count": 23
        }
      ]
    },
    {
      "cell_type": "code",
      "metadata": {
        "colab": {
          "base_uri": "https://localhost:8080/"
        },
        "id": "s8OWZQaLga3-",
        "outputId": "98a0834d-4a23-4d3b-cbd8-345358308c53"
      },
      "source": [
        "np.min(mat[mat>0])"
      ],
      "execution_count": 24,
      "outputs": [
        {
          "output_type": "execute_result",
          "data": {
            "text/plain": [
              "3.0"
            ]
          },
          "metadata": {},
          "execution_count": 24
        }
      ]
    },
    {
      "cell_type": "code",
      "metadata": {
        "id": "EhGl-voqghCB"
      },
      "source": [
        ""
      ],
      "execution_count": null,
      "outputs": []
    }
  ]
}