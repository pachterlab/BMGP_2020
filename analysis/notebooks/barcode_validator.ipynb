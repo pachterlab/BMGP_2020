{
  "nbformat": 4,
  "nbformat_minor": 0,
  "metadata": {
    "colab": {
      "name": "bc_validator.ipynb",
      "provenance": [],
      "authorship_tag": "ABX9TyORKLtmlK2Ny6UnU9UKySt+",
      "include_colab_link": true
    },
    "kernelspec": {
      "name": "python3",
      "display_name": "Python 3"
    },
    "language_info": {
      "name": "python"
    }
  },
  "cells": [
    {
      "cell_type": "markdown",
      "metadata": {
        "id": "view-in-github",
        "colab_type": "text"
      },
      "source": [
        "<a href=\"https://colab.research.google.com/github/sbooeshaghi/BMGP_2020/blob/main/analysis/notebooks/barcode_validator.ipynb\" target=\"_parent\"><img src=\"https://colab.research.google.com/assets/colab-badge.svg\" alt=\"Open In Colab\"/></a>"
      ]
    },
    {
      "cell_type": "code",
      "source": [
        "!git clone https://github.com/sbooeshaghi/BMGP_2020"
      ],
      "metadata": {
        "colab": {
          "base_uri": "https://localhost:8080/"
        },
        "id": "vuLimaizlqlu",
        "outputId": "95298f81-0c60-4cdd-a794-4523814512ee"
      },
      "execution_count": 1,
      "outputs": [
        {
          "output_type": "stream",
          "name": "stdout",
          "text": [
            "Cloning into 'BMGP_2020'...\n",
            "remote: Enumerating objects: 1004, done.\u001b[K\n",
            "remote: Counting objects: 100% (187/187), done.\u001b[K\n",
            "remote: Compressing objects: 100% (184/184), done.\u001b[K\n",
            "remote: Total 1004 (delta 83), reused 5 (delta 1), pack-reused 817\u001b[K\n",
            "Receiving objects: 100% (1004/1004), 491.51 MiB | 39.03 MiB/s, done.\n",
            "Resolving deltas: 100% (407/407), done.\n",
            "Checking out files: 100% (155/155), done.\n"
          ]
        }
      ]
    },
    {
      "cell_type": "code",
      "metadata": {
        "id": "fGc--UMKbHQh"
      },
      "source": [
        "import numpy as np\n",
        "import pandas as pd\n",
        "import matplotlib.pyplot as plt\n",
        "from collections import Counter\n",
        "from collections import defaultdict\n",
        "fsize=20\n",
        "\n",
        "plt.rcParams.update({'font.size': fsize})\n",
        "%config InlineBackend.figure_format = 'retina'"
      ],
      "execution_count": 2,
      "outputs": []
    },
    {
      "cell_type": "code",
      "source": [
        "fb_fn = \"BMGP_2020/references/10xFB/kite/feature_barcodes.txt\""
      ],
      "metadata": {
        "id": "YYPnhNw5lyEB"
      },
      "execution_count": 63,
      "outputs": []
    },
    {
      "cell_type": "code",
      "metadata": {
        "id": "59ax__iUbPj3",
        "cellView": "form"
      },
      "source": [
        "#@title Example barcodes\n",
        "# MULTISEQ\n",
        "bcs = [\n",
        "  \"GGAGAAGA\",\n",
        "  \"CCACAATG\",\n",
        "  \"CCAACCGG\",\n",
        "  \"CGAAGCCC\",\n",
        "  \"TCAGTCGA\",\n",
        "  \"GACCAGCC\",\n",
        "  \"CTCAAGGT\",\n",
        "  \"CGCCGCAA\",\n",
        "  \"ACCAGCCG\",\n",
        "]\n",
        "\n",
        "bcs_names = [\n",
        "\"BC1\",\n",
        "\"BC2\",\n",
        "\"BC13\",\n",
        "\"BC25\",\n",
        "\"BC37\",\n",
        "\"BC49\",\n",
        "\"BC50\",\n",
        "\"BC73\",\n",
        "\"BC74\",\n",
        "]\n",
        "\n",
        "\n",
        "# 10xCRISPR\n",
        "bcs = [\n",
        "       \"GGCAACGCGACCCCACGAG\",\n",
        "       \"ATGTCACCCCCAGACCCCG\",\n",
        "       \"TGCAGCGCCGGCGACTCAC\",\n",
        "       \"CGGGGCACCGGTGAGTCGC\",\n",
        "       \"CACTCGGCGGACGCAAGGG\",\n",
        "       \"GCGCACTCGGCGGACGCAA\",\n",
        "       \"TGCTGCTTCGGCGACCGGG\",\n",
        "       \"TTCTCGCGGGACACCGACG\",\n",
        "       \"AGCCCAAGCCAGAGCGGCG\",\n",
        "       \"GAGCGGCGCGGCCTGGAAG\",\n",
        "       \"ACCCGAGCCGCACCCGCCG\",\n",
        "       \"GCACGGGCGGCGGAGACTC\",\n",
        "       \"AGCAGGGCTCTCCTCCCGG\",\n",
        "       \"TGTGGCTGAAGCAGCGAGG\",\n",
        "       \"GGAGAGGCGCAGCATCCAC\",\n",
        "       \"GAGGCGCAGCATCCACAGG\",\n",
        "       \"GAGCGAGGAGGGCGCTACG\",\n",
        "       \"GTCGCTATCGGAGGCCGCG\",\n",
        "       \"CACCAGATACAGCGCTCTG\",\n",
        "       \"GCGGCAGCGCGGTCAGTGG\",\n",
        "       \"GAGCCTCAGCGAGCGGAGG\",\n",
        "       \"CTGGAGCCTCAGCGAGCGG\",\n",
        "       \"GACGAAGTCTATAAAGGGC\",\n",
        "       \"CATGGCGTGAGTACCGGGG\",\n",
        "       \"TCCTCCTCAGCAGCACCGG\",\n",
        "       \"GTCATGGAGCGGAACGCCA\",\n",
        "       \"ACTTTGCTGTACCCATCAG\",\n",
        "       \"AGGCCCAGTCATCCTACAC\",\n",
        "       \"ATGTTGGCCGCCGCTGCGA\",\n",
        "       \"GACGGGAGGATGGAGTCGA\",\n",
        "       \"CTTCCACCACAGGTACCTA\",\n",
        "       \"CCTCGCCTGGCTGCTCCCT\",\n",
        "       \"CCGGCCGGGCGGCGAGTAG\",\n",
        "       \"TGCTGATAAGGGAAGGGAC\",\n",
        "       \"GCTGCTGCCACAGACCGAG\",\n",
        "       \"CCCCGGGAGCGGAGAGCGA\",\n",
        "       \"AAACGCACAGCAACTCGCA\",\n",
        "       \"GGCGAAATGGCTCCGACCG\",\n",
        "       \"CACAGGAGACCATGTCCGG\",\n",
        "       \"AGGGCAGCGAGAGGTTCGC\",\n",
        "       \"GAGCTTTCGCAGCTGGAGA\",\n",
        "       \"TCACTATCTCCCGGGTGAA\",\n",
        "       \"GGCCCGCGCGGCACTTACG\",\n",
        "       \"GCGCGGGCGGGAAGCGAAG\",\n",
        "       \"GCGCGGGCAGCGTGAAGCG\",\n",
        "       \"GCGCGTGCGTACGCGACGG\",\n",
        "       \"CGGACCTCGGGATCTGGGT\",\n",
        "       \"CCGGGCGCTGTCGGACCTC\",\n",
        "       \"CCTTGCACCGGGCTTTGCA\",\n",
        "       \"CGCCGGCCGCGGTTCTCCC\",\n",
        "       \"CCGGCCCAGGATGTAGAGC\",\n",
        "       \"CTGCGGGCGCTGGCAAATC\",\n",
        "       \"TGGTGTCATGGCAGCTGCG\",\n",
        "       \"ACGCTTCGGGTTGGTGTCA\",\n",
        "       \"GAGATCCGCGGAGGCCGAC\",\n",
        "       \"CGACGGCAGAGGGGCCTAA\",\n",
        "       \"CCGCCATGGCCGACAAGGA\",\n",
        "       \"GTGCAGTCCCCGGTACTGA\",\n",
        "       \"CCCAAGCGCCTACTCGCAC\",\n",
        "       \"CTGCGAAAGCGCCAGGGTG\",\n",
        "       \"GATCGCCGAGCGCGAGTGA\",\n",
        "       \"GGGAGAGCGAGCAGCGAGC\",\n",
        "       \"CTCAGGGCAGCGAGACTAT\",\n",
        "       \"GCCGGCCGGCCGGCACGGG\",\n",
        "       \"TTTTGGGCCGCGGCGGGAG\",\n",
        "       \"GTCTCACCATGGAGCGGAA\",\n",
        "       \"AGACGGAGCTCTTGAGTAG\",\n",
        "       \"TGAGTAGAGGGCCGAAGAG\",\n",
        "       \"CCGGCGGGTAGCTGGCGGG\",\n",
        "       \"AGGCTCCGGCGGACCGAGG\",\n",
        "       \"ACTTCGGTCGCGGGCGGTG\",\n",
        "       \"GAAACGCTGCCGCTGAGGG\",\n",
        "       \"GTTAGAGCCCGTGCGGAGG\",\n",
        "       \"CTGCGGCGGAGCCTCCTTA\",\n",
        "       \"TGCGTGAGGCGAGAGGAGC\",\n",
        "       \"ACGCACGAGTGGAAGTCCC\",\n",
        "       \"CGACACCGCGGCTTCCGCG\",\n",
        "       \"GCCCGTCGGCGGGTGTCGA\",\n",
        "       \"GCCCCGCTCGGCGATACCC\",\n",
        "       \"GTCGCGTCCGACACCCGGT\",\n",
        "       \"TACAGCAACAAGGCTGAGA\",\n",
        "       \"GTCTTGGCCTGTTCCTCAA\",\n",
        "       \"CGAGCCGGGACCCTGGTAC\",\n",
        "       \"CTGGAGCGCGGCAGGTGAG\",\n",
        "       \"GCCGGCGAACCAGGAAATA\",\n",
        "       \"AGCGATAGCTGAGTGGCGG\",\n",
        "       \"GCGCAGGCAGAAGTCACCG\",\n",
        "       \"ACTCCACCGCCCGGAGCAG\",\n",
        "       \"ACCGACTGACGGTAGGGAC\",\n",
        "       \"GGACGGGAGGCGAGCAAGA\",\n",
        "]\n",
        "\n",
        "bcs_names = [\n",
        "\"APH1A-1\",\n",
        "\"APH1A-2\",\n",
        "\"CDKN3-1\",\n",
        "\"CDKN3-2\",\n",
        "\"EZR-1\",\n",
        "\"EZR-2\",\n",
        "\"GRB2-1\",\n",
        "\"GRB2-2\",\n",
        "\"GSK3A-1\",\n",
        "\"GSK3A-2\",\n",
        "\"HRAS-1\",\n",
        "\"HRAS-2\",\n",
        "\"JUN-1\",\n",
        "\"JUN-2\",\n",
        "\"PPIB-1\",\n",
        "\"PPIB-2\",\n",
        "\"SNRNP70-1\",\n",
        "\"SNRNP70-2\",\n",
        "\"SNRNP40-1\",\n",
        "\"SNRNP40-2\",\n",
        "\"PPP2CA-1\",\n",
        "\"PPP2CA-2\",\n",
        "\"ATF4-1\",\n",
        "\"ATF4-2\",\n",
        "\"BAZ1B-1\",\n",
        "\"BAZ1B-2\",\n",
        "\"BRD4-1\",\n",
        "\"BRD4-2\",\n",
        "\"CAMLG-1\",\n",
        "\"CAMLG-2\",\n",
        "\"CSNK2A1-1\",\n",
        "\"CSNK2A1-2\",\n",
        "\"CTCF-1\",\n",
        "\"CTCF-2\",\n",
        "\"CTNNB1-1\",\n",
        "\"CTNNB1-2\",\n",
        "\"DHX9-1\",\n",
        "\"DHX9-2\",\n",
        "\"EIF4EBP1-1\",\n",
        "\"EIF4EBP1-2\",\n",
        "\"ELOF1-1\",\n",
        "\"ELOF1-2\",\n",
        "\"H2AFY-1\",\n",
        "\"H2AFY-2\",\n",
        "\"KDM1A-1\",\n",
        "\"KDM1A-2\",\n",
        "\"LMNA-1\",\n",
        "\"LMNA-2\",\n",
        "\"MBNL1-1\",\n",
        "\"MBNL1-2\",\n",
        "\"MORF4L1-1\",\n",
        "\"MORF4L1-2\",\n",
        "\"NOC2L-1\",\n",
        "\"NOC2L-2\",\n",
        "\"PAIP2-1\",\n",
        "\"PAIP2-2\",\n",
        "\"RBBP4-1\",\n",
        "\"RBBP4-2\",\n",
        "\"RBM25-1\",\n",
        "\"RBM25-2\",\n",
        "\"SET-1\",\n",
        "\"SET-2\",\n",
        "\"SMARCD1-1\",\n",
        "\"SMARCD1-2\",\n",
        "\"SRPK1-1\",\n",
        "\"SRPK1-2\",\n",
        "\"SRRT-1\",\n",
        "\"SRRT-2\",\n",
        "\"SUZ12-1\",\n",
        "\"SUZ12-2\",\n",
        "\"TPR-1\",\n",
        "\"TPR-2\",\n",
        "\"TRA2B-1\",\n",
        "\"TRA2B-2\",\n",
        "\"UBE2N-1\",\n",
        "\"UBE2N-2\",\n",
        "\"UBXN1-1\",\n",
        "\"UBXN1-2\",\n",
        "\"EZH2-1\",\n",
        "\"EZH2-2\",\n",
        "\"ACE2-1\",\n",
        "\"ACE2-2\",\n",
        "\"TMPRSS2-1\",\n",
        "\"TMPRSS2-2\",\n",
        "\"RAB1A-2\",\n",
        "\"RAB1A-3\",\n",
        "\"DPP4-1\",\n",
        "\"DPP4-2\",\n",
        "\"HDAC1-1\",\n",
        "\"HDAC1-2\",\n",
        "]"
      ],
      "execution_count": 64,
      "outputs": []
    },
    {
      "cell_type": "code",
      "source": [
        "def load_bcs(bcs_fn):\n",
        "  bcs = []\n",
        "  bcs_names = []\n",
        "  with open(fb_fn, 'r') as f:\n",
        "    for l in f.readlines():\n",
        "      l = l.strip()\n",
        "      bc, n = l.split(\"\\t\")\n",
        "      bcs.append(bc)\n",
        "      bcs_names.append(n)\n",
        "  return (bcs, bcs_names)\n",
        "\n",
        "# def check_kmers(bcs, bcs_names, k=None):\n",
        "#   length = min([len(i) for i in bcs])\n",
        "#   if not k:\n",
        "#     k = length if length % 2 else length - 1\n",
        "#     print(f\"Optimal kmer length: {k}\")\n",
        "\n",
        "#   d = defaultdict(list)\n",
        "#   for bc, bc_name in zip(bcs, bcs_names):\n",
        "#     # forward strand\n",
        "#     kmers = kmerize(bc, k)\n",
        "#     for kmer in kmers:\n",
        "#       d[\"\".join(kmer)].append(bc_name)\n",
        "    \n",
        "#     # reverse complement strand\n",
        "#     kmers = kmerize(rev_c(bc), k)\n",
        "#     for kmer in kmers:\n",
        "#       d[\"\".join(kmer)].append(bc_name + \"_rc\")\n",
        "#   return d\n",
        "\n",
        "\n",
        "\n",
        "def merge_ecs(ecs1, ecs2):\n",
        "  m = defaultdict(set)\n",
        "\n",
        "  uniq = set(list(ecs1.keys()) + list(ecs2.keys()))\n",
        "  print(f\"{len(uniq):,.0f} unique kmers\")\n",
        "  for k in uniq:\n",
        "    m[k].update(ecs2[k])\n",
        "    m[k].update(ecs1[k])\n",
        "  return m\n",
        "\n"
      ],
      "metadata": {
        "id": "badsqVfs54Gh"
      },
      "execution_count": 65,
      "outputs": []
    },
    {
      "cell_type": "code",
      "source": [
        "bcs, bcs_names = load_bcs(fb_fn)"
      ],
      "metadata": {
        "id": "iRsBlHAIlYGQ"
      },
      "execution_count": 66,
      "outputs": []
    },
    {
      "cell_type": "markdown",
      "metadata": {
        "id": "7QtawHfabcHT"
      },
      "source": [
        "# Validation"
      ]
    },
    {
      "cell_type": "markdown",
      "metadata": {
        "id": "AYEfVcvSbdGk"
      },
      "source": [
        "## Length validation"
      ]
    },
    {
      "cell_type": "code",
      "source": [
        "def qcbc_complexity(min_bc_len):\n",
        "  max_bcs = 4**min_bc_len\n",
        "  return max_bcs"
      ],
      "metadata": {
        "id": "7QN_U4Ej0Rh3"
      },
      "execution_count": 67,
      "outputs": []
    },
    {
      "cell_type": "code",
      "source": [
        "bc_len = min([len(i) for i in bcs])\n",
        "print(f\"{qcbc_complexity(bc_len):,.0f}\")\n",
        "# how many if you impose a hamming distance constrain?"
      ],
      "metadata": {
        "colab": {
          "base_uri": "https://localhost:8080/"
        },
        "id": "e1UZBXUt7aKg",
        "outputId": "a540beea-5421-403d-bad0-928e767bcdbc"
      },
      "execution_count": 68,
      "outputs": [
        {
          "output_type": "stream",
          "name": "stdout",
          "text": [
            "1,073,741,824\n"
          ]
        }
      ]
    },
    {
      "cell_type": "code",
      "source": [
        "# return to later\n",
        "from scipy.special import comb\n",
        "# from here https://www.johndcook.com/blog/2020/02/24/hamming-codes/\n",
        "\n",
        "q = 4  # alphabet size\n",
        "n = 10 # barcode length\n",
        "d = 5  # min hamming distance\n",
        "t = (d-1)//2\n",
        "denom = sum([comb(n, k)*(q-1)**k for k in range(0, t)])"
      ],
      "metadata": {
        "id": "_061Sh4iMBso"
      },
      "execution_count": 69,
      "outputs": []
    },
    {
      "cell_type": "code",
      "source": [
        "int(q**n/denom) # this is an upper bound, "
      ],
      "metadata": {
        "id": "ilCcs7ZhM0m6",
        "outputId": "2c261141-5151-4171-a658-08bbe84c7265",
        "colab": {
          "base_uri": "https://localhost:8080/"
        }
      },
      "execution_count": 70,
      "outputs": [
        {
          "output_type": "execute_result",
          "data": {
            "text/plain": [
              "33825"
            ]
          },
          "metadata": {},
          "execution_count": 70
        }
      ]
    },
    {
      "cell_type": "markdown",
      "source": [
        "## Barcodes with subsequences that are ambiguous"
      ],
      "metadata": {
        "id": "f3s2IYLZyCE8"
      }
    },
    {
      "cell_type": "code",
      "source": [
        "def kmerize(s, k):\n",
        "  L = len(s)\n",
        "  return [s[i:i+k] for i in range(L-k+1)]\n",
        "kmerize(\"sina\" ,3)"
      ],
      "metadata": {
        "colab": {
          "base_uri": "https://localhost:8080/"
        },
        "id": "EyNu-_Pf3KyI",
        "outputId": "750d1283-7911-4eec-fcb4-97cada32d875"
      },
      "execution_count": 71,
      "outputs": [
        {
          "output_type": "execute_result",
          "data": {
            "text/plain": [
              "['sin', 'ina']"
            ]
          },
          "metadata": {},
          "execution_count": 71
        }
      ]
    },
    {
      "cell_type": "code",
      "source": [
        "complement = {'A': 'T', 'C': 'G', 'G': 'C', 'T': 'A'} \n",
        "def rev_c(seq):\n",
        "    bases = list(seq) \n",
        "    bases = reversed([complement.get(base,base) for base in bases])\n",
        "    bases = ''.join(bases)\n",
        "    return bases\n",
        "rev_c(\"ATC\")"
      ],
      "metadata": {
        "colab": {
          "base_uri": "https://localhost:8080/",
          "height": 36
        },
        "id": "_RhKau5r3NRC",
        "outputId": "357ec43d-a045-4cbd-8b5d-5492925354a1"
      },
      "execution_count": 72,
      "outputs": [
        {
          "output_type": "execute_result",
          "data": {
            "text/plain": [
              "'GAT'"
            ],
            "application/vnd.google.colaboratory.intrinsic+json": {
              "type": "string"
            }
          },
          "metadata": {},
          "execution_count": 72
        }
      ]
    },
    {
      "cell_type": "code",
      "source": [
        "def make_ec(bcs, bcs_names, k=None, rc=False):\n",
        "  length = min([len(i) for i in bcs])\n",
        "  if not k:\n",
        "    k = length\n",
        "  d = defaultdict(list)\n",
        "  for bc, bc_name in zip(bcs, bcs_names):\n",
        "    # forward strand\n",
        "    if rc:\n",
        "      bc = rev_c(bc)\n",
        "      bc_name = f\"{bc_name}_rc\"\n",
        "    kmers = kmerize(bc, k)\n",
        "    for kmer in kmers:\n",
        "      d[''.join(kmer)].append(bc_name)\n",
        "  return d\n",
        "\n",
        "\n",
        "def make_rev_ec(ec):\n",
        "  rev_ec = {}\n",
        "  for k,v in ec.items():\n",
        "    for n in v:\n",
        "      rev_ec[n] = k\n",
        "\n",
        "  return rev_ec"
      ],
      "metadata": {
        "id": "-q78HIWc3OkR"
      },
      "execution_count": 73,
      "outputs": []
    },
    {
      "cell_type": "code",
      "source": [
        "def ambig_ecs(ecs):\n",
        "  ambig = defaultdict(list)\n",
        "  for k, v in ecs.items():\n",
        "    if len(v) > 1:\n",
        "      ambig[k] = v\n",
        "  return ambig"
      ],
      "metadata": {
        "id": "jDXnniz528jE"
      },
      "execution_count": 74,
      "outputs": []
    },
    {
      "cell_type": "code",
      "source": [
        "ecs = make_ec(bcs, bcs_names, k=9, rc=False)\n",
        "\n",
        "def qcbc_ambiguous(*list_ecs): # why 9?\n",
        "  ambig_bcs = []\n",
        "  for ecs in list_ecs:\n",
        "    # find the ambiguous barcodes \n",
        "    ambig = ambig_ecs(ecs)\n",
        "\n",
        "    # append the ambig barcodes to abmig_bcs\n",
        "    ambig_bcs.append(ambig)\n",
        "  return ambig_bcs\n",
        "\n",
        "# given a set of ecs, this returns those that are ambiguous (len > 1)\n",
        "qcbc_ambiguous(make_ec(bcs, bcs_names, 8), make_ec(bcs, bcs_names, 9))"
      ],
      "metadata": {
        "colab": {
          "base_uri": "https://localhost:8080/"
        },
        "id": "E_vn2rio0tlZ",
        "outputId": "c0062932-8476-4c43-fb73-95a71d33ed58"
      },
      "execution_count": 75,
      "outputs": [
        {
          "output_type": "execute_result",
          "data": {
            "text/plain": [
              "[defaultdict(list, {}), defaultdict(list, {})]"
            ]
          },
          "metadata": {},
          "execution_count": 75
        }
      ]
    },
    {
      "cell_type": "markdown",
      "metadata": {
        "id": "Sl9fPgutbply"
      },
      "source": [
        "## Shared subsequence"
      ]
    },
    {
      "cell_type": "code",
      "source": [
        "def ham(k1, k2):\n",
        "    if len(k1)!=len(k2):\n",
        "      raise \"kmers not the same length\"\n",
        "    first  = np.array(list(k1))\n",
        "    second = np.array(list(k2))\n",
        "    dist = (first!=second).sum()\n",
        "    return dist\n",
        "\n",
        "def cmp_kmers(ecs, rc = False):\n",
        "  kmers = list(ecs.keys())\n",
        "  ecs = list(ecs.values())\n",
        "  d = defaultdict()\n",
        "  n = len(kmers)\n",
        "  nc = n*(n-1)//2\n",
        "  checkpoint = nc//10\n",
        "  print(f\"Making {nc:,.0f} comparisons\")\n",
        "  c = 0\n",
        "  for i in range(n):\n",
        "    for j in range(i+1, n):\n",
        "      c += 1\n",
        "      if c % checkpoint == 0:\n",
        "        print(f\"{c:,.0f}\")\n",
        "      k1, k2 = kmers[i], kmers[j]\n",
        "      \n",
        "      # if comparing kmer to revc of other kmers\n",
        "      if rc:\n",
        "        k2 = rev_c(k2)\n",
        "      \n",
        "      dist = ham(k1, k2)\n",
        "      d[(kmers[i], kmers[j])] = dist\n",
        "  return d"
      ],
      "metadata": {
        "id": "ocrtigu24T8y"
      },
      "execution_count": 76,
      "outputs": []
    },
    {
      "cell_type": "code",
      "source": [
        "# m = merge_ecs(ecs, ecs_rc)\n",
        "# c = cmp_kmers(m)\n"
      ],
      "metadata": {
        "id": "HTwE163F6C-u"
      },
      "execution_count": 77,
      "outputs": []
    },
    {
      "cell_type": "code",
      "source": [
        "# gets the hamming distance between all pairwise kmers in the ec\n",
        "def qcbc_kmer_ham(ecs):\n",
        "  c = cmp_kmers(ecs)\n",
        "  return c\n",
        "# return the label from which the barcode arises\n",
        "c = qcbc_kmer_ham(ecs)\n",
        "# kmer1, kmer2, hamming distance <-- maybe in a future version\n",
        "# ec_index 1, kmer1, ec_index 2, kmer2, hamming distance <-- maybe in a future version"
      ],
      "metadata": {
        "colab": {
          "base_uri": "https://localhost:8080/"
        },
        "id": "J_vxJpoe4VZU",
        "outputId": "22c3f809-e083-4754-bd8c-7b005eac491b"
      },
      "execution_count": 78,
      "outputs": [
        {
          "output_type": "stream",
          "name": "stdout",
          "text": [
            "Making 24,976 comparisons\n",
            "2,497\n",
            "4,994\n",
            "7,491\n",
            "9,988\n",
            "12,485\n",
            "14,982\n",
            "17,479\n",
            "19,976\n",
            "22,473\n",
            "24,970\n"
          ]
        }
      ]
    },
    {
      "cell_type": "code",
      "source": [
        "df = pd.Series(c)"
      ],
      "metadata": {
        "id": "VaNLtgq2_EJm"
      },
      "execution_count": 79,
      "outputs": []
    },
    {
      "cell_type": "code",
      "source": [
        "df.nsmallest(10)"
      ],
      "metadata": {
        "colab": {
          "base_uri": "https://localhost:8080/"
        },
        "id": "hbC_CsrCtJ0P",
        "outputId": "72c9b756-238c-4ba6-b386-f79bd90830c0"
      },
      "execution_count": 80,
      "outputs": [
        {
          "output_type": "execute_result",
          "data": {
            "text/plain": [
              "AGTTCACTC  AGTTCAGTC    1\n",
              "TTGTCCTGT  TTGTCCTAT    1\n",
              "CGCCGCATT  CGCCGTATT    1\n",
              "GTTGTCCTA  GTTGTCCGA    1\n",
              "TCATTGTAA  TCTTTGTCA    2\n",
              "GTTCCCGCT  GTTCACTCT    2\n",
              "CTCAGACCT  CTCCTACCT    2\n",
              "ACCTCCGTA  AGCGCCGTA    2\n",
              "AGTACCTAG  GGTCCCTAG    2\n",
              "GTACCTAGT  GTCCCTAGA    2\n",
              "dtype: int64"
            ]
          },
          "metadata": {},
          "execution_count": 80
        }
      ]
    },
    {
      "cell_type": "code",
      "source": [
        "[(i, ecs[i],j, ecs[j], df[i,j]) for i,j in df.nsmallest(10).index]"
      ],
      "metadata": {
        "colab": {
          "base_uri": "https://localhost:8080/"
        },
        "id": "QfZwxz8JNshd",
        "outputId": "34eb9f4d-d513-41a5-988f-583d426f9602"
      },
      "execution_count": 81,
      "outputs": [
        {
          "output_type": "execute_result",
          "data": {
            "text/plain": [
              "[('AGTTCACTC', ['CD16'], 'AGTTCAGTC', ['CD197'], 1),\n",
              " ('TTGTCCTGT', ['CD25'], 'TTGTCCTAT', ['CD127'], 1),\n",
              " ('CGCCGCATT', ['CD56'], 'CGCCGTATT', ['PD-1'], 1),\n",
              " ('GTTGTCCTA', ['CD127'], 'GTTGTCCGA', ['CD274'], 1),\n",
              " ('TCATTGTAA', ['CD3'], 'TCTTTGTCA', ['CD86'], 2),\n",
              " ('GTTCCCGCT', ['CD4'], 'GTTCACTCT', ['CD16'], 2),\n",
              " ('CTCAGACCT', ['CD14'], 'CTCCTACCT', ['IgG2a'], 2),\n",
              " ('ACCTCCGTA', ['CD14'], 'AGCGCCGTA', ['PD-1'], 2),\n",
              " ('AGTACCTAG', ['CD15'], 'GGTCCCTAG', ['CD20'], 2),\n",
              " ('GTACCTAGT', ['CD15'], 'GTCCCTAGA', ['CD20'], 2)]"
            ]
          },
          "metadata": {},
          "execution_count": 81
        }
      ]
    },
    {
      "cell_type": "markdown",
      "metadata": {
        "id": "MmoKFpRGcOP7"
      },
      "source": [
        "### Varying length of subesequnce"
      ]
    },
    {
      "cell_type": "code",
      "source": [
        "# how does barcode ambiguity vary with ec length?\n",
        "x  = np.arange(2,10)\n",
        "ambig_bcs = qcbc_ambiguous(*[make_ec(bcs, bcs_names, i) for i in x])\n",
        "\n",
        "def list_ambiguous(ambig_bcs):\n",
        "  a = set()\n",
        "  abcs = []\n",
        "  for i in ambig_bcs:\n",
        "    for k,v in i.items():\n",
        "      a.update(v)\n",
        "    abcs.append(a)\n",
        "    a = set()\n",
        "  return abcs\n",
        "  \n"
      ],
      "metadata": {
        "id": "m4t8i-4g5wMr"
      },
      "execution_count": 82,
      "outputs": []
    },
    {
      "cell_type": "markdown",
      "source": [
        "### Pairwise hamming"
      ],
      "metadata": {
        "id": "wfZ8lzpMKwnk"
      }
    },
    {
      "cell_type": "code",
      "source": [
        "def qcbc_pwham(bcs, rc=False):\n",
        "  n_bcs = len(bcs)\n",
        "  mat = np.zeros(( n_bcs, n_bcs ))\n",
        "  mat_rc = np.zeros(( n_bcs, n_bcs ))\n",
        "  for i in range(len(bcs)):\n",
        "    for j in range(i, len(bcs)):\n",
        "      first  = np.array(list(bcs[i]))\n",
        "      second = np.array(list(bcs[j]))\n",
        "      second_rc = np.array(list(rev_c(bcs[j])))\n",
        "      mat[i,j] = (first!=second).sum()\n",
        "      mat_rc[i,j] = (first!=second_rc).sum()\n",
        "  if rc:\n",
        "    return mat_rc[np.triu_indices(mat_rc.shape[0], k=1)]\n",
        "  return mat[np.triu_indices(mat.shape[0], k=1)]"
      ],
      "metadata": {
        "id": "PLeywl7NIzIB"
      },
      "execution_count": 83,
      "outputs": []
    },
    {
      "cell_type": "markdown",
      "source": [
        "# All together"
      ],
      "metadata": {
        "id": "1A_yf307IfFv"
      }
    },
    {
      "cell_type": "code",
      "source": [
        "x  = np.arange(2,10)"
      ],
      "metadata": {
        "id": "DKxsQzX7MUmP"
      },
      "execution_count": 84,
      "outputs": []
    },
    {
      "cell_type": "code",
      "source": [
        "bc_len = min([len(i) for i in bcs])\n",
        "print(f\"{qcbc_complexity(bc_len):,.0f}\")\n",
        "\n",
        "x  = np.arange(2,len(bcs[0]))\n",
        "ambig_bcs = qcbc_ambiguous(*[make_ec(bcs, bcs_names, i) for i in x])\n",
        "nbc = np.array([len(i) for i in list_ambiguous(ambig_bcs)])\n",
        "\n",
        "blah = qcbc_pwham(bcs)\n",
        "blah2 = qcbc_pwham(bcs, True)"
      ],
      "metadata": {
        "colab": {
          "base_uri": "https://localhost:8080/"
        },
        "id": "fwhn0AsdIgLX",
        "outputId": "d63e6b74-d345-42a2-a1b9-83291f268382"
      },
      "execution_count": 96,
      "outputs": [
        {
          "output_type": "stream",
          "name": "stdout",
          "text": [
            "1,073,741,824\n"
          ]
        }
      ]
    },
    {
      "cell_type": "code",
      "source": [
        "ambig_bcs[-1]"
      ],
      "metadata": {
        "colab": {
          "base_uri": "https://localhost:8080/"
        },
        "id": "HnLpeaPtLF4y",
        "outputId": "28fad7f9-adda-40fb-b75a-98e0d20065c3"
      },
      "execution_count": 86,
      "outputs": [
        {
          "output_type": "execute_result",
          "data": {
            "text/plain": [
              "defaultdict(list, {})"
            ]
          },
          "metadata": {},
          "execution_count": 86
        }
      ]
    },
    {
      "cell_type": "markdown",
      "source": [
        "# Plotting"
      ],
      "metadata": {
        "id": "xgWyhBDK6ST0"
      }
    },
    {
      "cell_type": "code",
      "source": [
        "fig, axs = plt.subplots(figsize=(17,10), ncols=2, nrows=2)\n",
        "fig.subplots_adjust(hspace=0, wspace=0.05)\n",
        "\n",
        "## Barcode diversity\n",
        "ax = axs[0,0]\n",
        "x  = np.arange(2,len(bcs[0]))\n",
        "y = 4**x\n",
        "\n",
        "ax.bar(x, y, edgecolor=\"k\", color=\"white\")\n",
        "ax.set(**{\n",
        "    \"yscale\": \"symlog\",\n",
        "    \"xticks\": x,\n",
        "    \"xlabel\": \"Barcode length\",\n",
        "    \"ylabel\": \"Unique barcodes\"\n",
        "})\n",
        "\n",
        "\n",
        "#############################################\n",
        "# Shared subseq\n",
        "ax = axs[1, 0]\n",
        "nbc = np.array([len(i) for i in list_ambiguous(ambig_bcs)])\n",
        "y = nbc / len(bcs)\n",
        "\n",
        "for idx, (xx, yy) in enumerate(zip(x,y)):\n",
        "  ax.text(xx, 0.05, f\"{nbc[idx]:,.0f}\", ha=\"center\", rotation=90)\n",
        "\n",
        "ax.bar(x, y, edgecolor=\"k\", color=\"white\")\n",
        "ax.set(**{\n",
        "    \"ylim\": (0, 1.1),\n",
        "    \"xticks\": x,\n",
        "    \"xlabel\": \"Length\",\n",
        "    \"ylabel\": \"Fraction of barcodes \\nw/ shared subsequence\",\n",
        "})\n",
        "\n",
        "#############################################\n",
        "## Pairwise hamming\n",
        "ax = axs[0,1]\n",
        "x = blah\n",
        "ax.hist(x, density=True, edgecolor=\"k\", color=\"white\")\n",
        "mn = min(x)\n",
        "ax.axvline(mn, label=f\"Min (BC vs BC): {mn:,.0f}\", color=\"k\", linestyle=\"--\")\n",
        "ax.set(**{\n",
        "    \"xlabel\": \"Hamming distance\",\n",
        "    \"ylabel\": \"Frequency\",\n",
        "    \"ylim\": (0,1.1),\n",
        "    \"xticks\": np.arange(0, int(max(x))+1),\n",
        "    \"xticklabels\": []\n",
        "})\n",
        "ax.legend()\n",
        "ax.yaxis.tick_right()\n",
        "ax.yaxis.set_label_position(\"right\")\n",
        "\n",
        "########################################\n",
        "ax = axs[1,1]\n",
        "x = blah2\n",
        "ax.hist(x, density=True, edgecolor=\"k\", color=\"white\")\n",
        "mn = min(x)\n",
        "ax.axvline(mn, label=f\"Min (BC vs RC): {mn:,.0f}\", color=\"k\", linestyle=\"--\")\n",
        "\n",
        "ax.set(**{\n",
        "    \"xlabel\": \"Pairwise Hamming distance\",\n",
        "    \"ylabel\": \"Frequency\",\n",
        "    \"ylim\": (0,1.1),\n",
        "    \"xticks\": np.arange(0, int(max(x))+1),\n",
        "    \"xticklabels\": np.arange(0, int(max(x))+1),\n",
        "})\n",
        "ax.yaxis.tick_right()\n",
        "ax.yaxis.set_label_position(\"right\")\n",
        "\n",
        "\n",
        "ax.legend()\n",
        "\n",
        "fig.show()"
      ],
      "metadata": {
        "colab": {
          "base_uri": "https://localhost:8080/",
          "height": 626
        },
        "id": "Oc9dPwuswvXy",
        "outputId": "2179cd86-ad21-498d-a8a3-2a248425089d"
      },
      "execution_count": 104,
      "outputs": [
        {
          "output_type": "display_data",
          "data": {
            "text/plain": [
              "<Figure size 1224x720 with 4 Axes>"
            ],
            "image/png": "[encoded data removed]"
          },
          "metadata": {
            "image/png": {
              "width": 1111,
              "height": 609
            },
            "needs_background": "light"
          }
        }
      ]
    },
    {
      "cell_type": "code",
      "source": [],
      "metadata": {
        "id": "_Yn4GG2Dy7zW"
      },
      "execution_count": null,
      "outputs": []
    }
  ]
}