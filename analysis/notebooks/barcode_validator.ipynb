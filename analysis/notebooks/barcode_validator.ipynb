{
  "nbformat": 4,
  "nbformat_minor": 0,
  "metadata": {
    "colab": {
      "name": "bc_validator.ipynb",
      "provenance": [],
      "authorship_tag": "ABX9TyNFo2rLEGHvL36UHjPtGDlH",
      "include_colab_link": true
    },
    "kernelspec": {
      "name": "python3",
      "display_name": "Python 3"
    },
    "language_info": {
      "name": "python"
    }
  },
  "cells": [
    {
      "cell_type": "markdown",
      "metadata": {
        "id": "view-in-github",
        "colab_type": "text"
      },
      "source": [
        "<a href=\"https://colab.research.google.com/github/sbooeshaghi/BMGP_2020/blob/main/analysis/notebooks/barcode_validator.ipynb\" target=\"_parent\"><img src=\"https://colab.research.google.com/assets/colab-badge.svg\" alt=\"Open In Colab\"/></a>"
      ]
    },
    {
      "cell_type": "code",
      "source": [
        "!git clone https://github.com/sbooeshaghi/BMGP_2020"
      ],
      "metadata": {
        "colab": {
          "base_uri": "https://localhost:8080/"
        },
        "id": "vuLimaizlqlu",
        "outputId": "769c5df3-4af7-4154-e326-b7bce86daa1b"
      },
      "execution_count": 1,
      "outputs": [
        {
          "output_type": "stream",
          "name": "stdout",
          "text": [
            "Cloning into 'BMGP_2020'...\n",
            "remote: Enumerating objects: 952, done.\u001b[K\n",
            "remote: Counting objects: 100% (135/135), done.\u001b[K\n",
            "remote: Compressing objects: 100% (132/132), done.\u001b[K\n",
            "remote: Total 952 (delta 59), reused 5 (delta 1), pack-reused 817\u001b[K\n",
            "Receiving objects: 100% (952/952), 474.55 MiB | 17.96 MiB/s, done.\n",
            "Resolving deltas: 100% (383/383), done.\n",
            "Checking out files: 100% (155/155), done.\n"
          ]
        }
      ]
    },
    {
      "cell_type": "code",
      "metadata": {
        "id": "fGc--UMKbHQh"
      },
      "source": [
        "import numpy as np\n",
        "import pandas as pd\n",
        "import matplotlib.pyplot as plt\n",
        "from collections import Counter\n",
        "from collections import defaultdict\n",
        "fsize=20\n",
        "\n",
        "plt.rcParams.update({'font.size': fsize})\n",
        "%config InlineBackend.figure_format = 'retina'"
      ],
      "execution_count": 59,
      "outputs": []
    },
    {
      "cell_type": "code",
      "source": [
        "fb_fn = \"BMGP_2020/references/scispace/kite/feature_barcodes.txt\""
      ],
      "metadata": {
        "id": "YYPnhNw5lyEB"
      },
      "execution_count": 3,
      "outputs": []
    },
    {
      "cell_type": "code",
      "metadata": {
        "id": "59ax__iUbPj3",
        "cellView": "form"
      },
      "source": [
        "#@title Example barcodes\n",
        "# MULTISEQ\n",
        "bcs = [\n",
        "  \"GGAGAAGA\",\n",
        "  \"CCACAATG\",\n",
        "  \"CCAACCGG\",\n",
        "  \"CGAAGCCC\",\n",
        "  \"TCAGTCGA\",\n",
        "  \"GACCAGCC\",\n",
        "  \"CTCAAGGT\",\n",
        "  \"CGCCGCAA\",\n",
        "  \"ACCAGCCG\",\n",
        "]\n",
        "\n",
        "bcs_names = [\n",
        "\"BC1\",\n",
        "\"BC2\",\n",
        "\"BC13\",\n",
        "\"BC25\",\n",
        "\"BC37\",\n",
        "\"BC49\",\n",
        "\"BC50\",\n",
        "\"BC73\",\n",
        "\"BC74\",\n",
        "]\n",
        "\n",
        "\n",
        "# 10xCRISPR\n",
        "bcs = [\n",
        "       \"GGCAACGCGACCCCACGAG\",\n",
        "       \"ATGTCACCCCCAGACCCCG\",\n",
        "       \"TGCAGCGCCGGCGACTCAC\",\n",
        "       \"CGGGGCACCGGTGAGTCGC\",\n",
        "       \"CACTCGGCGGACGCAAGGG\",\n",
        "       \"GCGCACTCGGCGGACGCAA\",\n",
        "       \"TGCTGCTTCGGCGACCGGG\",\n",
        "       \"TTCTCGCGGGACACCGACG\",\n",
        "       \"AGCCCAAGCCAGAGCGGCG\",\n",
        "       \"GAGCGGCGCGGCCTGGAAG\",\n",
        "       \"ACCCGAGCCGCACCCGCCG\",\n",
        "       \"GCACGGGCGGCGGAGACTC\",\n",
        "       \"AGCAGGGCTCTCCTCCCGG\",\n",
        "       \"TGTGGCTGAAGCAGCGAGG\",\n",
        "       \"GGAGAGGCGCAGCATCCAC\",\n",
        "       \"GAGGCGCAGCATCCACAGG\",\n",
        "       \"GAGCGAGGAGGGCGCTACG\",\n",
        "       \"GTCGCTATCGGAGGCCGCG\",\n",
        "       \"CACCAGATACAGCGCTCTG\",\n",
        "       \"GCGGCAGCGCGGTCAGTGG\",\n",
        "       \"GAGCCTCAGCGAGCGGAGG\",\n",
        "       \"CTGGAGCCTCAGCGAGCGG\",\n",
        "       \"GACGAAGTCTATAAAGGGC\",\n",
        "       \"CATGGCGTGAGTACCGGGG\",\n",
        "       \"TCCTCCTCAGCAGCACCGG\",\n",
        "       \"GTCATGGAGCGGAACGCCA\",\n",
        "       \"ACTTTGCTGTACCCATCAG\",\n",
        "       \"AGGCCCAGTCATCCTACAC\",\n",
        "       \"ATGTTGGCCGCCGCTGCGA\",\n",
        "       \"GACGGGAGGATGGAGTCGA\",\n",
        "       \"CTTCCACCACAGGTACCTA\",\n",
        "       \"CCTCGCCTGGCTGCTCCCT\",\n",
        "       \"CCGGCCGGGCGGCGAGTAG\",\n",
        "       \"TGCTGATAAGGGAAGGGAC\",\n",
        "       \"GCTGCTGCCACAGACCGAG\",\n",
        "       \"CCCCGGGAGCGGAGAGCGA\",\n",
        "       \"AAACGCACAGCAACTCGCA\",\n",
        "       \"GGCGAAATGGCTCCGACCG\",\n",
        "       \"CACAGGAGACCATGTCCGG\",\n",
        "       \"AGGGCAGCGAGAGGTTCGC\",\n",
        "       \"GAGCTTTCGCAGCTGGAGA\",\n",
        "       \"TCACTATCTCCCGGGTGAA\",\n",
        "       \"GGCCCGCGCGGCACTTACG\",\n",
        "       \"GCGCGGGCGGGAAGCGAAG\",\n",
        "       \"GCGCGGGCAGCGTGAAGCG\",\n",
        "       \"GCGCGTGCGTACGCGACGG\",\n",
        "       \"CGGACCTCGGGATCTGGGT\",\n",
        "       \"CCGGGCGCTGTCGGACCTC\",\n",
        "       \"CCTTGCACCGGGCTTTGCA\",\n",
        "       \"CGCCGGCCGCGGTTCTCCC\",\n",
        "       \"CCGGCCCAGGATGTAGAGC\",\n",
        "       \"CTGCGGGCGCTGGCAAATC\",\n",
        "       \"TGGTGTCATGGCAGCTGCG\",\n",
        "       \"ACGCTTCGGGTTGGTGTCA\",\n",
        "       \"GAGATCCGCGGAGGCCGAC\",\n",
        "       \"CGACGGCAGAGGGGCCTAA\",\n",
        "       \"CCGCCATGGCCGACAAGGA\",\n",
        "       \"GTGCAGTCCCCGGTACTGA\",\n",
        "       \"CCCAAGCGCCTACTCGCAC\",\n",
        "       \"CTGCGAAAGCGCCAGGGTG\",\n",
        "       \"GATCGCCGAGCGCGAGTGA\",\n",
        "       \"GGGAGAGCGAGCAGCGAGC\",\n",
        "       \"CTCAGGGCAGCGAGACTAT\",\n",
        "       \"GCCGGCCGGCCGGCACGGG\",\n",
        "       \"TTTTGGGCCGCGGCGGGAG\",\n",
        "       \"GTCTCACCATGGAGCGGAA\",\n",
        "       \"AGACGGAGCTCTTGAGTAG\",\n",
        "       \"TGAGTAGAGGGCCGAAGAG\",\n",
        "       \"CCGGCGGGTAGCTGGCGGG\",\n",
        "       \"AGGCTCCGGCGGACCGAGG\",\n",
        "       \"ACTTCGGTCGCGGGCGGTG\",\n",
        "       \"GAAACGCTGCCGCTGAGGG\",\n",
        "       \"GTTAGAGCCCGTGCGGAGG\",\n",
        "       \"CTGCGGCGGAGCCTCCTTA\",\n",
        "       \"TGCGTGAGGCGAGAGGAGC\",\n",
        "       \"ACGCACGAGTGGAAGTCCC\",\n",
        "       \"CGACACCGCGGCTTCCGCG\",\n",
        "       \"GCCCGTCGGCGGGTGTCGA\",\n",
        "       \"GCCCCGCTCGGCGATACCC\",\n",
        "       \"GTCGCGTCCGACACCCGGT\",\n",
        "       \"TACAGCAACAAGGCTGAGA\",\n",
        "       \"GTCTTGGCCTGTTCCTCAA\",\n",
        "       \"CGAGCCGGGACCCTGGTAC\",\n",
        "       \"CTGGAGCGCGGCAGGTGAG\",\n",
        "       \"GCCGGCGAACCAGGAAATA\",\n",
        "       \"AGCGATAGCTGAGTGGCGG\",\n",
        "       \"GCGCAGGCAGAAGTCACCG\",\n",
        "       \"ACTCCACCGCCCGGAGCAG\",\n",
        "       \"ACCGACTGACGGTAGGGAC\",\n",
        "       \"GGACGGGAGGCGAGCAAGA\",\n",
        "]\n",
        "\n",
        "bcs_names = [\n",
        "\"APH1A-1\",\n",
        "\"APH1A-2\",\n",
        "\"CDKN3-1\",\n",
        "\"CDKN3-2\",\n",
        "\"EZR-1\",\n",
        "\"EZR-2\",\n",
        "\"GRB2-1\",\n",
        "\"GRB2-2\",\n",
        "\"GSK3A-1\",\n",
        "\"GSK3A-2\",\n",
        "\"HRAS-1\",\n",
        "\"HRAS-2\",\n",
        "\"JUN-1\",\n",
        "\"JUN-2\",\n",
        "\"PPIB-1\",\n",
        "\"PPIB-2\",\n",
        "\"SNRNP70-1\",\n",
        "\"SNRNP70-2\",\n",
        "\"SNRNP40-1\",\n",
        "\"SNRNP40-2\",\n",
        "\"PPP2CA-1\",\n",
        "\"PPP2CA-2\",\n",
        "\"ATF4-1\",\n",
        "\"ATF4-2\",\n",
        "\"BAZ1B-1\",\n",
        "\"BAZ1B-2\",\n",
        "\"BRD4-1\",\n",
        "\"BRD4-2\",\n",
        "\"CAMLG-1\",\n",
        "\"CAMLG-2\",\n",
        "\"CSNK2A1-1\",\n",
        "\"CSNK2A1-2\",\n",
        "\"CTCF-1\",\n",
        "\"CTCF-2\",\n",
        "\"CTNNB1-1\",\n",
        "\"CTNNB1-2\",\n",
        "\"DHX9-1\",\n",
        "\"DHX9-2\",\n",
        "\"EIF4EBP1-1\",\n",
        "\"EIF4EBP1-2\",\n",
        "\"ELOF1-1\",\n",
        "\"ELOF1-2\",\n",
        "\"H2AFY-1\",\n",
        "\"H2AFY-2\",\n",
        "\"KDM1A-1\",\n",
        "\"KDM1A-2\",\n",
        "\"LMNA-1\",\n",
        "\"LMNA-2\",\n",
        "\"MBNL1-1\",\n",
        "\"MBNL1-2\",\n",
        "\"MORF4L1-1\",\n",
        "\"MORF4L1-2\",\n",
        "\"NOC2L-1\",\n",
        "\"NOC2L-2\",\n",
        "\"PAIP2-1\",\n",
        "\"PAIP2-2\",\n",
        "\"RBBP4-1\",\n",
        "\"RBBP4-2\",\n",
        "\"RBM25-1\",\n",
        "\"RBM25-2\",\n",
        "\"SET-1\",\n",
        "\"SET-2\",\n",
        "\"SMARCD1-1\",\n",
        "\"SMARCD1-2\",\n",
        "\"SRPK1-1\",\n",
        "\"SRPK1-2\",\n",
        "\"SRRT-1\",\n",
        "\"SRRT-2\",\n",
        "\"SUZ12-1\",\n",
        "\"SUZ12-2\",\n",
        "\"TPR-1\",\n",
        "\"TPR-2\",\n",
        "\"TRA2B-1\",\n",
        "\"TRA2B-2\",\n",
        "\"UBE2N-1\",\n",
        "\"UBE2N-2\",\n",
        "\"UBXN1-1\",\n",
        "\"UBXN1-2\",\n",
        "\"EZH2-1\",\n",
        "\"EZH2-2\",\n",
        "\"ACE2-1\",\n",
        "\"ACE2-2\",\n",
        "\"TMPRSS2-1\",\n",
        "\"TMPRSS2-2\",\n",
        "\"RAB1A-2\",\n",
        "\"RAB1A-3\",\n",
        "\"DPP4-1\",\n",
        "\"DPP4-2\",\n",
        "\"HDAC1-1\",\n",
        "\"HDAC1-2\",\n",
        "]"
      ],
      "execution_count": 4,
      "outputs": []
    },
    {
      "cell_type": "code",
      "source": [
        "def load_bcs(bcs_fn):\n",
        "  bcs = []\n",
        "  bcs_names = []\n",
        "  with open(fb_fn, 'r') as f:\n",
        "    for l in f.readlines():\n",
        "      l = l.strip()\n",
        "      bc, n = l.split(\"\\t\")\n",
        "      bcs.append(bc)\n",
        "      bcs_names.append(n)\n",
        "  return (bcs, bcs_names)\n",
        "\n",
        "def kmerize(s, k):\n",
        "  L = len(s)\n",
        "  return [s[i:i+k] for i in range(L-k+1)]\n",
        "kmerize(\"sina\" ,3)\n",
        "\n",
        "complement = {'A': 'T', 'C': 'G', 'G': 'C', 'T': 'A'} \n",
        "def rev_c(seq):\n",
        "    bases = list(seq) \n",
        "    bases = reversed([complement.get(base,base) for base in bases])\n",
        "    bases = ''.join(bases)\n",
        "    return bases\n",
        "rev_c(\"ATC\")\n",
        "\n",
        "def make_ec(bcs, bcs_names, k=None, rc=False):\n",
        "  length = min([len(i) for i in bcs])\n",
        "  if not k:\n",
        "    k = length\n",
        "  d = defaultdict(list)\n",
        "  for bc, bc_name in zip(bcs, bcs_names):\n",
        "    # forward strand\n",
        "    if rc:\n",
        "      bc = rev_c(bc)\n",
        "      bc_name = f\"{bc_name}_rc\"\n",
        "    kmers = kmerize(bc, k)\n",
        "    for kmer in kmers:\n",
        "      d[''.join(kmer)].append(bc_name)\n",
        "  return d\n",
        "\n",
        "# def check_kmers(bcs, bcs_names, k=None):\n",
        "#   length = min([len(i) for i in bcs])\n",
        "#   if not k:\n",
        "#     k = length if length % 2 else length - 1\n",
        "#     print(f\"Optimal kmer length: {k}\")\n",
        "\n",
        "#   d = defaultdict(list)\n",
        "#   for bc, bc_name in zip(bcs, bcs_names):\n",
        "#     # forward strand\n",
        "#     kmers = kmerize(bc, k)\n",
        "#     for kmer in kmers:\n",
        "#       d[\"\".join(kmer)].append(bc_name)\n",
        "    \n",
        "#     # reverse complement strand\n",
        "#     kmers = kmerize(rev_c(bc), k)\n",
        "#     for kmer in kmers:\n",
        "#       d[\"\".join(kmer)].append(bc_name + \"_rc\")\n",
        "#   return d\n",
        "\n",
        "def ham(k1, k2):\n",
        "    first  = np.array(list(k1))\n",
        "    second = np.array(list(k2))\n",
        "    dist = (first!=second).sum()\n",
        "    return dist\n",
        "\n",
        "def cmp_kmers(ecs, rc = False):\n",
        "  kmers = list(ecs.keys())\n",
        "  ecs = list(ecs.values())\n",
        "  d = defaultdict()\n",
        "  n = len(kmers)\n",
        "  nc = n*(n-1)//2\n",
        "  checkpoint = nc//10\n",
        "  print(f\"Making {nc:,.0f} comparisons\")\n",
        "  c = 0\n",
        "  for i in range(n):\n",
        "    for j in range(i+1, n):\n",
        "      c += 1\n",
        "      if c % checkpoint == 0:\n",
        "        print(f\"{c:,.0f}\")\n",
        "      k1, k2 = kmers[i], kmers[j]\n",
        "      \n",
        "      # if comparing kmer to revc of other kmers\n",
        "      if rc:\n",
        "        k2 = rev_c(k2)\n",
        "      \n",
        "      dist = ham(k1, k2)\n",
        "      d[(kmers[i], kmers[j])] = dist\n",
        "  return d\n",
        "\n",
        "def ambig_ecs(ecs):\n",
        "  ambig = []\n",
        "  for i in ecs.values():\n",
        "    if len(i) > 1:\n",
        "      ambig.append(i)\n",
        "  return ambig\n",
        "\n",
        "def merge_ecs(ecs1, ecs2):\n",
        "  m = defaultdict(set)\n",
        "\n",
        "  uniq = set(list(ecs1.keys()) + list(ecs2.keys()))\n",
        "  print(f\"{len(uniq):,.0f} unique kmers\")\n",
        "  for k in uniq:\n",
        "    m[k].update(ecs2[k])\n",
        "    m[k].update(ecs1[k])\n",
        "  return m"
      ],
      "metadata": {
        "id": "badsqVfs54Gh"
      },
      "execution_count": 113,
      "outputs": []
    },
    {
      "cell_type": "code",
      "source": [
        "bcs, bcs_names = load_bcs(fb_fn)"
      ],
      "metadata": {
        "id": "iRsBlHAIlYGQ"
      },
      "execution_count": 8,
      "outputs": []
    },
    {
      "cell_type": "markdown",
      "metadata": {
        "id": "7QtawHfabcHT"
      },
      "source": [
        "# Validation"
      ]
    },
    {
      "cell_type": "markdown",
      "metadata": {
        "id": "AYEfVcvSbdGk"
      },
      "source": [
        "## Length validation"
      ]
    },
    {
      "cell_type": "code",
      "source": [
        "bc_len = min([len(i) for i in bcs])\n",
        "max_bcs = 4**bc_len\n",
        "max_bcs"
      ],
      "metadata": {
        "colab": {
          "base_uri": "https://localhost:8080/"
        },
        "id": "e1UZBXUt7aKg",
        "outputId": "0cde3e34-e1d0-4031-a74e-56a0b4d02b04"
      },
      "execution_count": 9,
      "outputs": [
        {
          "output_type": "execute_result",
          "data": {
            "text/plain": [
              "1048576"
            ]
          },
          "metadata": {},
          "execution_count": 9
        }
      ]
    },
    {
      "cell_type": "markdown",
      "source": [
        "## Barcodes with subsequences that are ambiguous"
      ],
      "metadata": {
        "id": "f3s2IYLZyCE8"
      }
    },
    {
      "cell_type": "code",
      "source": [
        "ecs = make_ec(bcs, bcs_names)\n",
        "ecs_rc = make_ec(bcs, bcs_names, rc=True)"
      ],
      "metadata": {
        "id": "jrwfB1PU7Hs4"
      },
      "execution_count": 114,
      "outputs": []
    },
    {
      "cell_type": "code",
      "source": [
        "ambig = ambig_ecs(ecs)"
      ],
      "metadata": {
        "id": "dRWEJUbByHxN"
      },
      "execution_count": 115,
      "outputs": []
    },
    {
      "cell_type": "code",
      "source": [
        "ambig"
      ],
      "metadata": {
        "id": "_oTMc93-yIxk",
        "outputId": "e80611ed-4ee9-4b7e-b235-2db09e7d75b6",
        "colab": {
          "base_uri": "https://localhost:8080/"
        }
      },
      "execution_count": 116,
      "outputs": [
        {
          "output_type": "execute_result",
          "data": {
            "text/plain": [
              "[['slide_2G', 'slide_2H']]"
            ]
          },
          "metadata": {},
          "execution_count": 116
        }
      ]
    },
    {
      "cell_type": "markdown",
      "metadata": {
        "id": "Sl9fPgutbply"
      },
      "source": [
        "## Shared subsequence"
      ]
    },
    {
      "cell_type": "code",
      "source": [
        "# m = merge_ecs(ecs, ecs_rc)\n",
        "# c = cmp_kmers(m)\n",
        "c = cmp_kmers(ecs)"
      ],
      "metadata": {
        "colab": {
          "base_uri": "https://localhost:8080/"
        },
        "id": "NVotPunt-oBT",
        "outputId": "6c41358b-7305-42d8-9e84-9aa54758b6b7"
      },
      "execution_count": 99,
      "outputs": [
        {
          "output_type": "stream",
          "name": "stdout",
          "text": [
            "3,112 unique kmers\n",
            "Making 4,840,716 comparisons\n",
            "100,000\n",
            "200,000\n",
            "300,000\n",
            "400,000\n",
            "500,000\n",
            "600,000\n",
            "700,000\n",
            "800,000\n",
            "900,000\n",
            "1,000,000\n",
            "1,100,000\n",
            "1,200,000\n",
            "1,300,000\n",
            "1,400,000\n",
            "1,500,000\n",
            "1,600,000\n",
            "1,700,000\n",
            "1,800,000\n",
            "1,900,000\n",
            "2,000,000\n",
            "2,100,000\n",
            "2,200,000\n",
            "2,300,000\n",
            "2,400,000\n",
            "2,500,000\n",
            "2,600,000\n",
            "2,700,000\n",
            "2,800,000\n",
            "2,900,000\n",
            "3,000,000\n",
            "3,100,000\n",
            "3,200,000\n",
            "3,300,000\n",
            "3,400,000\n",
            "3,500,000\n",
            "3,600,000\n",
            "3,700,000\n",
            "3,800,000\n",
            "3,900,000\n",
            "4,000,000\n",
            "4,100,000\n",
            "4,200,000\n",
            "4,300,000\n",
            "4,400,000\n",
            "4,500,000\n",
            "4,600,000\n",
            "4,700,000\n",
            "4,800,000\n",
            "Making 4,840,716 comparisons\n",
            "100,000\n",
            "200,000\n",
            "300,000\n",
            "400,000\n",
            "500,000\n",
            "600,000\n",
            "700,000\n",
            "800,000\n",
            "900,000\n",
            "1,000,000\n",
            "1,100,000\n",
            "1,200,000\n",
            "1,300,000\n",
            "1,400,000\n",
            "1,500,000\n",
            "1,600,000\n",
            "1,700,000\n",
            "1,800,000\n",
            "1,900,000\n",
            "2,000,000\n",
            "2,100,000\n",
            "2,200,000\n",
            "2,300,000\n",
            "2,400,000\n",
            "2,500,000\n",
            "2,600,000\n",
            "2,700,000\n",
            "2,800,000\n",
            "2,900,000\n",
            "3,000,000\n",
            "3,100,000\n",
            "3,200,000\n",
            "3,300,000\n",
            "3,400,000\n",
            "3,500,000\n",
            "3,600,000\n",
            "3,700,000\n",
            "3,800,000\n",
            "3,900,000\n",
            "4,000,000\n",
            "4,100,000\n",
            "4,200,000\n",
            "4,300,000\n",
            "4,400,000\n",
            "4,500,000\n",
            "4,600,000\n",
            "4,700,000\n",
            "4,800,000\n"
          ]
        }
      ]
    },
    {
      "cell_type": "code",
      "source": [
        ""
      ],
      "metadata": {
        "id": "dJz8Gllsyp2m"
      },
      "execution_count": 69,
      "outputs": []
    },
    {
      "cell_type": "code",
      "source": [
        "ambig"
      ],
      "metadata": {
        "id": "661_8wGozZa7",
        "outputId": "14b54c9d-c622-43a5-db6e-6fff49d4096a",
        "colab": {
          "base_uri": "https://localhost:8080/"
        }
      },
      "execution_count": 70,
      "outputs": [
        {
          "output_type": "execute_result",
          "data": {
            "text/plain": [
              "[['slide_2G', 'slide_2H']]"
            ]
          },
          "metadata": {},
          "execution_count": 70
        }
      ]
    },
    {
      "cell_type": "code",
      "source": [
        "df = pd.Series(c)"
      ],
      "metadata": {
        "id": "VaNLtgq2_EJm"
      },
      "execution_count": 102,
      "outputs": []
    },
    {
      "cell_type": "code",
      "source": [
        "df.nsmallest(10)"
      ],
      "metadata": {
        "id": "hbC_CsrCtJ0P",
        "outputId": "2acd4860-5e49-4132-f5e0-d06c33b2becb",
        "colab": {
          "base_uri": "https://localhost:8080/"
        }
      },
      "execution_count": 107,
      "outputs": [
        {
          "output_type": "execute_result",
          "data": {
            "text/plain": [
              "GGTACCGGCA  GGTACCGGCT    1\n",
              "ACGATAATAA  ACCATAATAA    1\n",
              "TATGGAGGCC  AATGGAGGCC    1\n",
              "TTATGATAGA  TTATGATAGG    1\n",
              "AGCCGGTACC  TGCCGGTACC    1\n",
              "TTATTATGGT  TTATTATCGT    1\n",
              "TGGCCATGCA  TGGCCATGCC    1\n",
              "TGACGCTCCG  TGACGCTCTG    1\n",
              "TTGATATATT  TTGATATCTT    1\n",
              "TTGGACGCTG  TTGGACGCGG    1\n",
              "dtype: int64"
            ]
          },
          "metadata": {},
          "execution_count": 107
        }
      ]
    },
    {
      "cell_type": "code",
      "source": [
        "ecs[\"GGTACCGGCT\"]"
      ],
      "metadata": {
        "id": "WQ37AE3StOqo",
        "outputId": "bc1b4f7c-ecba-4873-a9b6-a00b852c2dbc",
        "colab": {
          "base_uri": "https://localhost:8080/"
        }
      },
      "execution_count": 109,
      "outputs": [
        {
          "output_type": "execute_result",
          "data": {
            "text/plain": [
              "[]"
            ]
          },
          "metadata": {},
          "execution_count": 109
        }
      ]
    },
    {
      "cell_type": "code",
      "source": [
        "\n",
        "[(i, ecs[i],j, ecs[j], df[i,j]) for i,j in df.nsmallest(10).index]"
      ],
      "metadata": {
        "colab": {
          "base_uri": "https://localhost:8080/"
        },
        "id": "QfZwxz8JNshd",
        "outputId": "41763dec-abb2-4f8a-ca3d-da9f686eab97"
      },
      "execution_count": 104,
      "outputs": [
        {
          "output_type": "execute_result",
          "data": {
            "text/plain": [
              "[('GGTACCGGCA', ['slide_1F'], 'GGTACCGGCT', [], 1),\n",
              " ('ACGATAATAA', ['sector6'], 'ACCATAATAA', [], 1),\n",
              " ('TATGGAGGCC', ['sector8'], 'AATGGAGGCC', [], 1),\n",
              " ('TTATGATAGA', ['sector9'], 'TTATGATAGG', [], 1),\n",
              " ('AGCCGGTACC', ['RT_195'], 'TGCCGGTACC', [], 1),\n",
              " ('TTATTATGGT', ['RT_209'], 'TTATTATCGT', [], 1),\n",
              " ('TGGCCATGCA', ['RT_227'], 'TGGCCATGCC', [], 1),\n",
              " ('TGACGCTCCG', ['RT_228'], 'TGACGCTCTG', [], 1),\n",
              " ('TTGATATATT', ['RT_232'], 'TTGATATCTT', [], 1),\n",
              " ('TTGGACGCTG', ['RT_237'], 'TTGGACGCGG', [], 1)]"
            ]
          },
          "metadata": {},
          "execution_count": 104
        }
      ]
    },
    {
      "cell_type": "markdown",
      "metadata": {
        "id": "MmoKFpRGcOP7"
      },
      "source": [
        "### Varying length of subesequnce"
      ]
    },
    {
      "cell_type": "code",
      "metadata": {
        "id": "_s5XGa7eb6O3"
      },
      "source": [
        "# across multiple kmer lengths\n",
        "kmer_lens = np.arange(2, bc_len + 1)\n",
        "ambig_bcs = []\n",
        "for kmer_len in kmer_lens:\n",
        "  # Determine the set of ambiguous barcodes\n",
        "  ambig_bc = set()\n",
        "  ecs = make_ec(bcs, bcs_names, kmer_len)\n",
        "  for k,i in ecs.items():\n",
        "    if len(i) > 1:\n",
        "      ambig_bc.update(i)\n",
        "      # for j in i:\n",
        "      #   ambig_bc.add(j.split(\"_\")[0])\n",
        "  ambig_bcs.append(list(ambig_bc))\n"
      ],
      "execution_count": 85,
      "outputs": []
    },
    {
      "cell_type": "code",
      "source": [
        "[len(i) for i in ambig_bcs]"
      ],
      "metadata": {
        "colab": {
          "base_uri": "https://localhost:8080/"
        },
        "id": "EIrcfv869H33",
        "outputId": "7ca0fa67-d7f8-479c-c9b0-f5a324614884"
      },
      "execution_count": 86,
      "outputs": [
        {
          "output_type": "execute_result",
          "data": {
            "text/plain": [
              "[1558, 1558, 1558, 1558, 1558, 1312, 2, 2, 2]"
            ]
          },
          "metadata": {},
          "execution_count": 86
        }
      ]
    },
    {
      "cell_type": "code",
      "metadata": {
        "colab": {
          "base_uri": "https://localhost:8080/"
        },
        "id": "P4uZack2b1Q-",
        "outputId": "c1c2b35a-a7ba-43e1-c91e-a30aa6bf3bf4"
      },
      "source": [
        "i = 0\n",
        "for k, v in make_ec(bcs, bcs_names, k=10).items():\n",
        "  if len(v) > 1:\n",
        "    i += 1\n",
        "    print(i, k, v)"
      ],
      "execution_count": 88,
      "outputs": [
        {
          "output_type": "stream",
          "name": "stdout",
          "text": [
            "1 AGCTTATCCG ['slide_2G', 'slide_2H']\n"
          ]
        }
      ]
    },
    {
      "cell_type": "code",
      "metadata": {
        "colab": {
          "base_uri": "https://localhost:8080/",
          "height": 354
        },
        "id": "LxI8j1ShbKKx",
        "outputId": "2ef77c51-a248-490f-fa94-651e6f0958f7"
      },
      "source": [
        "fig, ax = plt.subplots(figsize=(15,5))\n",
        "\n",
        "x = np.arange (1, bc_len + 1)\n",
        "y = 4**x\n",
        "\n",
        "ax.bar(x, y, color=\"k\")\n",
        "ax.set(**{\n",
        "    \"yscale\": \"symlog\",\n",
        "    \"xticks\": x,\n",
        "    \"xlabel\": \"Barcode length\",\n",
        "    \"ylabel\": \"# barcodes\"\n",
        "})\n",
        "fig.savefig(\"barcode_diversity.png\", dpi=300, bbox_inches=\"tight\")\n",
        "fig.show()\n"
      ],
      "execution_count": 89,
      "outputs": [
        {
          "output_type": "display_data",
          "data": {
            "image/png": "[encoded data removed]",
            "text/plain": [
              "<Figure size 1080x360 with 1 Axes>"
            ]
          },
          "metadata": {
            "image/png": {
              "width": 917,
              "height": 337
            },
            "needs_background": "light"
          }
        }
      ]
    },
    {
      "cell_type": "code",
      "metadata": {
        "colab": {
          "base_uri": "https://localhost:8080/",
          "height": 626
        },
        "id": "8DOICCFZcR9q",
        "outputId": "69044cd1-b231-43cd-de43-41a13ddf7bfe"
      },
      "source": [
        "fig, ax = plt.subplots(figsize=(10,10))\n",
        "\n",
        "x = kmer_lens\n",
        "y = [len(i) for i in ambig_bcs]\n",
        "\n",
        "ax.bar(x, y, color=\"k\")\n",
        "ax.set(**{\n",
        "    \"xticks\": x,\n",
        "    \"xlabel\": \"Subsequence length\",\n",
        "    \"ylabel\": \"# ambiguous barcodes\",\n",
        "    \"yscale\": \"symlog\"\n",
        "})\n",
        "fig.savefig(\"shared_subseq.png\", dpi=300, bbox_inches=\"tight\")\n",
        "\n",
        "fig.show()"
      ],
      "execution_count": 92,
      "outputs": [
        {
          "output_type": "display_data",
          "data": {
            "image/png": "[encoded data removed]",
            "text/plain": [
              "<Figure size 720x720 with 1 Axes>"
            ]
          },
          "metadata": {
            "image/png": {
              "width": 638,
              "height": 609
            },
            "needs_background": "light"
          }
        }
      ]
    },
    {
      "cell_type": "markdown",
      "metadata": {
        "id": "Mgu1uuTCcadv"
      },
      "source": [
        "## Pairwise hamming / edit distance"
      ]
    },
    {
      "cell_type": "code",
      "source": [
        "df"
      ],
      "metadata": {
        "id": "jqr1z59OqnJv",
        "outputId": "8544143f-4176-410d-8d15-d14b6b96656c",
        "colab": {
          "base_uri": "https://localhost:8080/"
        }
      },
      "execution_count": 95,
      "outputs": [
        {
          "output_type": "execute_result",
          "data": {
            "text/plain": [
              "CCGGCGGCGA  TTCCTTCTAG    10\n",
              "            GCGCATGGAA     6\n",
              "            CGAATGAGCT     8\n",
              "            CTTCTCGACT     8\n",
              "            GCCGAACTGC     7\n",
              "                          ..\n",
              "AACGGAACGC  GTCGTTCTGA     7\n",
              "            GAAGGTTGCC     6\n",
              "TTAAGCGCTA  GTCGTTCTGA     8\n",
              "            GAAGGTTGCC     8\n",
              "GTCGTTCTGA  GAAGGTTGCC     7\n",
              "Length: 4840716, dtype: int64"
            ]
          },
          "metadata": {},
          "execution_count": 95
        }
      ]
    },
    {
      "cell_type": "code",
      "source": [
        "df.unstack().values[:, :,]"
      ],
      "metadata": {
        "id": "6QBZQMmBqwqn",
        "outputId": "44344081-e826-4104-9d0a-5d0ca30c9e03",
        "colab": {
          "base_uri": "https://localhost:8080/"
        }
      },
      "execution_count": 97,
      "outputs": [
        {
          "output_type": "execute_result",
          "data": {
            "text/plain": [
              "array([[nan,  3.,  3., ..., nan,  9., nan],\n",
              "       [nan, nan, nan, ..., nan, 10., nan],\n",
              "       [nan,  4., nan, ..., nan,  9., nan],\n",
              "       ...,\n",
              "       [ 7.,  9.,  8., ..., nan,  3.,  3.],\n",
              "       [nan, nan, nan, ..., nan, nan, nan],\n",
              "       [10., 10.,  9., ..., nan,  3., nan]])"
            ]
          },
          "metadata": {},
          "execution_count": 97
        }
      ]
    },
    {
      "cell_type": "code",
      "metadata": {
        "id": "S9hMj3iAcX8M"
      },
      "source": [
        "n_bcs = len(bcs)\n",
        "mat = np.zeros(( n_bcs, n_bcs ))\n",
        "for i in range(len(bcs)):\n",
        "  for j in range(i, len(bcs)):\n",
        "    first  = np.array(list(bcs[i]))\n",
        "    second = np.array(list(bcs[j]))\n",
        "    mat[i,j] = (first!=second).sum()"
      ],
      "execution_count": null,
      "outputs": []
    },
    {
      "cell_type": "code",
      "metadata": {
        "id": "5oGISqNachK_"
      },
      "source": [
        "from mpl_toolkits.axes_grid1 import make_axes_locatable"
      ],
      "execution_count": null,
      "outputs": []
    },
    {
      "cell_type": "code",
      "metadata": {
        "colab": {
          "base_uri": "https://localhost:8080/",
          "height": 433
        },
        "id": "xmdB2c6OckOs",
        "outputId": "1e19a3ef-10af-4292-8b52-0329232cc0bb"
      },
      "source": [
        "fig, ax = plt.subplots(figsize=(30,30))\n",
        "\n",
        "im = ax.imshow(mat.T, cmap=\"Reds_r\")\n",
        "\n",
        "divider = make_axes_locatable(ax)\n",
        "cax = divider.append_axes(\"right\", size=\"5%\", pad=0.05)\n",
        "fig.colorbar(im, label=\"Distance\", cax=cax)\n",
        "\n",
        "# for (j,i),label in np.ndenumerate(mat.T):\n",
        "#   ham = mat[i,j]\n",
        "#   if i <= j:\n",
        "#     string = f\"{ham:,.0f}\"\n",
        "#     ax.text(i,j,string,ha='center',va='center')\n",
        "\n",
        "ax.set(**{\n",
        "    \"xticklabels\": bcs_names,\n",
        "    \"yticklabels\": bcs_names,\n",
        "    \"xticks\": np.arange(len(bcs_names)),\n",
        "    \"yticks\": np.arange(len(bcs_names)),\n",
        "    \"title\": \"Hamming distance\"\n",
        "})\n",
        "\n",
        "ax.set_xticklabels(bcs_names, rotation = 90)\n",
        "\n",
        "# fig.savefig(\"pairwise.png\", dpi=300, bbox_inches=\"tight\")\n",
        "\n",
        "fig.show()"
      ],
      "execution_count": null,
      "outputs": [
        {
          "output_type": "stream",
          "name": "stdout",
          "text": [
            "Error in callback <function flush_figures at 0x7f36d405ce60> (for post_execute):\n"
          ]
        },
        {
          "output_type": "error",
          "ename": "KeyboardInterrupt",
          "evalue": "ignored",
          "traceback": [
            "\u001b[0;31m---------------------------------------------------------------------------\u001b[0m",
            "\u001b[0;31mKeyboardInterrupt\u001b[0m                         Traceback (most recent call last)",
            "\u001b[0;32m/usr/local/lib/python3.7/dist-packages/ipykernel/pylab/backend_inline.py\u001b[0m in \u001b[0;36mflush_figures\u001b[0;34m()\u001b[0m\n\u001b[1;32m    115\u001b[0m         \u001b[0;31m# ignore the tracking, just draw and close all figures\u001b[0m\u001b[0;34m\u001b[0m\u001b[0;34m\u001b[0m\u001b[0;34m\u001b[0m\u001b[0m\n\u001b[1;32m    116\u001b[0m         \u001b[0;32mtry\u001b[0m\u001b[0;34m:\u001b[0m\u001b[0;34m\u001b[0m\u001b[0;34m\u001b[0m\u001b[0m\n\u001b[0;32m--> 117\u001b[0;31m             \u001b[0;32mreturn\u001b[0m \u001b[0mshow\u001b[0m\u001b[0;34m(\u001b[0m\u001b[0;32mTrue\u001b[0m\u001b[0;34m)\u001b[0m\u001b[0;34m\u001b[0m\u001b[0;34m\u001b[0m\u001b[0m\n\u001b[0m\u001b[1;32m    118\u001b[0m         \u001b[0;32mexcept\u001b[0m \u001b[0mException\u001b[0m \u001b[0;32mas\u001b[0m \u001b[0me\u001b[0m\u001b[0;34m:\u001b[0m\u001b[0;34m\u001b[0m\u001b[0;34m\u001b[0m\u001b[0m\n\u001b[1;32m    119\u001b[0m             \u001b[0;31m# safely show traceback if in IPython, else raise\u001b[0m\u001b[0;34m\u001b[0m\u001b[0;34m\u001b[0m\u001b[0;34m\u001b[0m\u001b[0m\n",
            "\u001b[0;32m/usr/local/lib/python3.7/dist-packages/ipykernel/pylab/backend_inline.py\u001b[0m in \u001b[0;36mshow\u001b[0;34m(close, block)\u001b[0m\n\u001b[1;32m     37\u001b[0m             display(\n\u001b[1;32m     38\u001b[0m                 \u001b[0mfigure_manager\u001b[0m\u001b[0;34m.\u001b[0m\u001b[0mcanvas\u001b[0m\u001b[0;34m.\u001b[0m\u001b[0mfigure\u001b[0m\u001b[0;34m,\u001b[0m\u001b[0;34m\u001b[0m\u001b[0;34m\u001b[0m\u001b[0m\n\u001b[0;32m---> 39\u001b[0;31m                 \u001b[0mmetadata\u001b[0m\u001b[0;34m=\u001b[0m\u001b[0m_fetch_figure_metadata\u001b[0m\u001b[0;34m(\u001b[0m\u001b[0mfigure_manager\u001b[0m\u001b[0;34m.\u001b[0m\u001b[0mcanvas\u001b[0m\u001b[0;34m.\u001b[0m\u001b[0mfigure\u001b[0m\u001b[0;34m)\u001b[0m\u001b[0;34m\u001b[0m\u001b[0;34m\u001b[0m\u001b[0m\n\u001b[0m\u001b[1;32m     40\u001b[0m             )\n\u001b[1;32m     41\u001b[0m     \u001b[0;32mfinally\u001b[0m\u001b[0;34m:\u001b[0m\u001b[0;34m\u001b[0m\u001b[0;34m\u001b[0m\u001b[0m\n",
            "\u001b[0;32m/usr/local/lib/python3.7/dist-packages/IPython/core/display.py\u001b[0m in \u001b[0;36mdisplay\u001b[0;34m(*objs, **kwargs)\u001b[0m\n\u001b[1;32m    304\u001b[0m             \u001b[0mpublish_display_data\u001b[0m\u001b[0;34m(\u001b[0m\u001b[0mdata\u001b[0m\u001b[0;34m=\u001b[0m\u001b[0mobj\u001b[0m\u001b[0;34m,\u001b[0m \u001b[0mmetadata\u001b[0m\u001b[0;34m=\u001b[0m\u001b[0mmetadata\u001b[0m\u001b[0;34m,\u001b[0m \u001b[0;34m**\u001b[0m\u001b[0mkwargs\u001b[0m\u001b[0;34m)\u001b[0m\u001b[0;34m\u001b[0m\u001b[0;34m\u001b[0m\u001b[0m\n\u001b[1;32m    305\u001b[0m         \u001b[0;32melse\u001b[0m\u001b[0;34m:\u001b[0m\u001b[0;34m\u001b[0m\u001b[0;34m\u001b[0m\u001b[0m\n\u001b[0;32m--> 306\u001b[0;31m             \u001b[0mformat_dict\u001b[0m\u001b[0;34m,\u001b[0m \u001b[0mmd_dict\u001b[0m \u001b[0;34m=\u001b[0m \u001b[0mformat\u001b[0m\u001b[0;34m(\u001b[0m\u001b[0mobj\u001b[0m\u001b[0;34m,\u001b[0m \u001b[0minclude\u001b[0m\u001b[0;34m=\u001b[0m\u001b[0minclude\u001b[0m\u001b[0;34m,\u001b[0m \u001b[0mexclude\u001b[0m\u001b[0;34m=\u001b[0m\u001b[0mexclude\u001b[0m\u001b[0;34m)\u001b[0m\u001b[0;34m\u001b[0m\u001b[0;34m\u001b[0m\u001b[0m\n\u001b[0m\u001b[1;32m    307\u001b[0m             \u001b[0;32mif\u001b[0m \u001b[0;32mnot\u001b[0m \u001b[0mformat_dict\u001b[0m\u001b[0;34m:\u001b[0m\u001b[0;34m\u001b[0m\u001b[0;34m\u001b[0m\u001b[0m\n\u001b[1;32m    308\u001b[0m                 \u001b[0;31m# nothing to display (e.g. _ipython_display_ took over)\u001b[0m\u001b[0;34m\u001b[0m\u001b[0;34m\u001b[0m\u001b[0;34m\u001b[0m\u001b[0m\n",
            "\u001b[0;32m/usr/local/lib/python3.7/dist-packages/IPython/core/formatters.py\u001b[0m in \u001b[0;36mformat\u001b[0;34m(self, obj, include, exclude)\u001b[0m\n\u001b[1;32m    171\u001b[0m             \u001b[0mmd\u001b[0m \u001b[0;34m=\u001b[0m \u001b[0;32mNone\u001b[0m\u001b[0;34m\u001b[0m\u001b[0;34m\u001b[0m\u001b[0m\n\u001b[1;32m    172\u001b[0m             \u001b[0;32mtry\u001b[0m\u001b[0;34m:\u001b[0m\u001b[0;34m\u001b[0m\u001b[0;34m\u001b[0m\u001b[0m\n\u001b[0;32m--> 173\u001b[0;31m                 \u001b[0mdata\u001b[0m \u001b[0;34m=\u001b[0m \u001b[0mformatter\u001b[0m\u001b[0;34m(\u001b[0m\u001b[0mobj\u001b[0m\u001b[0;34m)\u001b[0m\u001b[0;34m\u001b[0m\u001b[0;34m\u001b[0m\u001b[0m\n\u001b[0m\u001b[1;32m    174\u001b[0m             \u001b[0;32mexcept\u001b[0m\u001b[0;34m:\u001b[0m\u001b[0;34m\u001b[0m\u001b[0;34m\u001b[0m\u001b[0m\n\u001b[1;32m    175\u001b[0m                 \u001b[0;31m# FIXME: log the exception\u001b[0m\u001b[0;34m\u001b[0m\u001b[0;34m\u001b[0m\u001b[0;34m\u001b[0m\u001b[0m\n",
            "\u001b[0;32m<decorator-gen-2>\u001b[0m in \u001b[0;36m__call__\u001b[0;34m(self, obj)\u001b[0m\n",
            "\u001b[0;32m/usr/local/lib/python3.7/dist-packages/IPython/core/formatters.py\u001b[0m in \u001b[0;36mcatch_format_error\u001b[0;34m(method, self, *args, **kwargs)\u001b[0m\n\u001b[1;32m    215\u001b[0m     \u001b[0;34m\"\"\"show traceback on failed format call\"\"\"\u001b[0m\u001b[0;34m\u001b[0m\u001b[0;34m\u001b[0m\u001b[0m\n\u001b[1;32m    216\u001b[0m     \u001b[0;32mtry\u001b[0m\u001b[0;34m:\u001b[0m\u001b[0;34m\u001b[0m\u001b[0;34m\u001b[0m\u001b[0m\n\u001b[0;32m--> 217\u001b[0;31m         \u001b[0mr\u001b[0m \u001b[0;34m=\u001b[0m \u001b[0mmethod\u001b[0m\u001b[0;34m(\u001b[0m\u001b[0mself\u001b[0m\u001b[0;34m,\u001b[0m \u001b[0;34m*\u001b[0m\u001b[0margs\u001b[0m\u001b[0;34m,\u001b[0m \u001b[0;34m**\u001b[0m\u001b[0mkwargs\u001b[0m\u001b[0;34m)\u001b[0m\u001b[0;34m\u001b[0m\u001b[0;34m\u001b[0m\u001b[0m\n\u001b[0m\u001b[1;32m    218\u001b[0m     \u001b[0;32mexcept\u001b[0m \u001b[0mNotImplementedError\u001b[0m\u001b[0;34m:\u001b[0m\u001b[0;34m\u001b[0m\u001b[0;34m\u001b[0m\u001b[0m\n\u001b[1;32m    219\u001b[0m         \u001b[0;31m# don't warn on NotImplementedErrors\u001b[0m\u001b[0;34m\u001b[0m\u001b[0;34m\u001b[0m\u001b[0;34m\u001b[0m\u001b[0m\n",
            "\u001b[0;32m/usr/local/lib/python3.7/dist-packages/IPython/core/formatters.py\u001b[0m in \u001b[0;36m__call__\u001b[0;34m(self, obj)\u001b[0m\n\u001b[1;32m    332\u001b[0m                 \u001b[0;32mpass\u001b[0m\u001b[0;34m\u001b[0m\u001b[0;34m\u001b[0m\u001b[0m\n\u001b[1;32m    333\u001b[0m             \u001b[0;32melse\u001b[0m\u001b[0;34m:\u001b[0m\u001b[0;34m\u001b[0m\u001b[0;34m\u001b[0m\u001b[0m\n\u001b[0;32m--> 334\u001b[0;31m                 \u001b[0;32mreturn\u001b[0m \u001b[0mprinter\u001b[0m\u001b[0;34m(\u001b[0m\u001b[0mobj\u001b[0m\u001b[0;34m)\u001b[0m\u001b[0;34m\u001b[0m\u001b[0;34m\u001b[0m\u001b[0m\n\u001b[0m\u001b[1;32m    335\u001b[0m             \u001b[0;31m# Finally look for special method names\u001b[0m\u001b[0;34m\u001b[0m\u001b[0;34m\u001b[0m\u001b[0;34m\u001b[0m\u001b[0m\n\u001b[1;32m    336\u001b[0m             \u001b[0mmethod\u001b[0m \u001b[0;34m=\u001b[0m \u001b[0mget_real_method\u001b[0m\u001b[0;34m(\u001b[0m\u001b[0mobj\u001b[0m\u001b[0;34m,\u001b[0m \u001b[0mself\u001b[0m\u001b[0;34m.\u001b[0m\u001b[0mprint_method\u001b[0m\u001b[0;34m)\u001b[0m\u001b[0;34m\u001b[0m\u001b[0;34m\u001b[0m\u001b[0m\n",
            "\u001b[0;32m/usr/local/lib/python3.7/dist-packages/IPython/core/pylabtools.py\u001b[0m in \u001b[0;36m<lambda>\u001b[0;34m(fig)\u001b[0m\n\u001b[1;32m    241\u001b[0m         \u001b[0mpng_formatter\u001b[0m\u001b[0;34m.\u001b[0m\u001b[0mfor_type\u001b[0m\u001b[0;34m(\u001b[0m\u001b[0mFigure\u001b[0m\u001b[0;34m,\u001b[0m \u001b[0;32mlambda\u001b[0m \u001b[0mfig\u001b[0m\u001b[0;34m:\u001b[0m \u001b[0mprint_figure\u001b[0m\u001b[0;34m(\u001b[0m\u001b[0mfig\u001b[0m\u001b[0;34m,\u001b[0m \u001b[0;34m'png'\u001b[0m\u001b[0;34m,\u001b[0m \u001b[0;34m**\u001b[0m\u001b[0mkwargs\u001b[0m\u001b[0;34m)\u001b[0m\u001b[0;34m)\u001b[0m\u001b[0;34m\u001b[0m\u001b[0;34m\u001b[0m\u001b[0m\n\u001b[1;32m    242\u001b[0m     \u001b[0;32mif\u001b[0m \u001b[0;34m'retina'\u001b[0m \u001b[0;32min\u001b[0m \u001b[0mformats\u001b[0m \u001b[0;32mor\u001b[0m \u001b[0;34m'png2x'\u001b[0m \u001b[0;32min\u001b[0m \u001b[0mformats\u001b[0m\u001b[0;34m:\u001b[0m\u001b[0;34m\u001b[0m\u001b[0;34m\u001b[0m\u001b[0m\n\u001b[0;32m--> 243\u001b[0;31m         \u001b[0mpng_formatter\u001b[0m\u001b[0;34m.\u001b[0m\u001b[0mfor_type\u001b[0m\u001b[0;34m(\u001b[0m\u001b[0mFigure\u001b[0m\u001b[0;34m,\u001b[0m \u001b[0;32mlambda\u001b[0m \u001b[0mfig\u001b[0m\u001b[0;34m:\u001b[0m \u001b[0mretina_figure\u001b[0m\u001b[0;34m(\u001b[0m\u001b[0mfig\u001b[0m\u001b[0;34m,\u001b[0m \u001b[0;34m**\u001b[0m\u001b[0mkwargs\u001b[0m\u001b[0;34m)\u001b[0m\u001b[0;34m)\u001b[0m\u001b[0;34m\u001b[0m\u001b[0;34m\u001b[0m\u001b[0m\n\u001b[0m\u001b[1;32m    244\u001b[0m     \u001b[0;32mif\u001b[0m \u001b[0;34m'jpg'\u001b[0m \u001b[0;32min\u001b[0m \u001b[0mformats\u001b[0m \u001b[0;32mor\u001b[0m \u001b[0;34m'jpeg'\u001b[0m \u001b[0;32min\u001b[0m \u001b[0mformats\u001b[0m\u001b[0;34m:\u001b[0m\u001b[0;34m\u001b[0m\u001b[0;34m\u001b[0m\u001b[0m\n\u001b[1;32m    245\u001b[0m         \u001b[0mjpg_formatter\u001b[0m\u001b[0;34m.\u001b[0m\u001b[0mfor_type\u001b[0m\u001b[0;34m(\u001b[0m\u001b[0mFigure\u001b[0m\u001b[0;34m,\u001b[0m \u001b[0;32mlambda\u001b[0m \u001b[0mfig\u001b[0m\u001b[0;34m:\u001b[0m \u001b[0mprint_figure\u001b[0m\u001b[0;34m(\u001b[0m\u001b[0mfig\u001b[0m\u001b[0;34m,\u001b[0m \u001b[0;34m'jpg'\u001b[0m\u001b[0;34m,\u001b[0m \u001b[0;34m**\u001b[0m\u001b[0mkwargs\u001b[0m\u001b[0;34m)\u001b[0m\u001b[0;34m)\u001b[0m\u001b[0;34m\u001b[0m\u001b[0;34m\u001b[0m\u001b[0m\n",
            "\u001b[0;32m/usr/local/lib/python3.7/dist-packages/IPython/core/pylabtools.py\u001b[0m in \u001b[0;36mretina_figure\u001b[0;34m(fig, **kwargs)\u001b[0m\n\u001b[1;32m    131\u001b[0m \u001b[0;32mdef\u001b[0m \u001b[0mretina_figure\u001b[0m\u001b[0;34m(\u001b[0m\u001b[0mfig\u001b[0m\u001b[0;34m,\u001b[0m \u001b[0;34m**\u001b[0m\u001b[0mkwargs\u001b[0m\u001b[0;34m)\u001b[0m\u001b[0;34m:\u001b[0m\u001b[0;34m\u001b[0m\u001b[0;34m\u001b[0m\u001b[0m\n\u001b[1;32m    132\u001b[0m     \u001b[0;34m\"\"\"format a figure as a pixel-doubled (retina) PNG\"\"\"\u001b[0m\u001b[0;34m\u001b[0m\u001b[0;34m\u001b[0m\u001b[0m\n\u001b[0;32m--> 133\u001b[0;31m     \u001b[0mpngdata\u001b[0m \u001b[0;34m=\u001b[0m \u001b[0mprint_figure\u001b[0m\u001b[0;34m(\u001b[0m\u001b[0mfig\u001b[0m\u001b[0;34m,\u001b[0m \u001b[0mfmt\u001b[0m\u001b[0;34m=\u001b[0m\u001b[0;34m'retina'\u001b[0m\u001b[0;34m,\u001b[0m \u001b[0;34m**\u001b[0m\u001b[0mkwargs\u001b[0m\u001b[0;34m)\u001b[0m\u001b[0;34m\u001b[0m\u001b[0;34m\u001b[0m\u001b[0m\n\u001b[0m\u001b[1;32m    134\u001b[0m     \u001b[0;31m# Make sure that retina_figure acts just like print_figure and returns\u001b[0m\u001b[0;34m\u001b[0m\u001b[0;34m\u001b[0m\u001b[0;34m\u001b[0m\u001b[0m\n\u001b[1;32m    135\u001b[0m     \u001b[0;31m# None when the figure is empty.\u001b[0m\u001b[0;34m\u001b[0m\u001b[0;34m\u001b[0m\u001b[0;34m\u001b[0m\u001b[0m\n",
            "\u001b[0;32m/usr/local/lib/python3.7/dist-packages/IPython/core/pylabtools.py\u001b[0m in \u001b[0;36mprint_figure\u001b[0;34m(fig, fmt, bbox_inches, **kwargs)\u001b[0m\n\u001b[1;32m    123\u001b[0m \u001b[0;34m\u001b[0m\u001b[0m\n\u001b[1;32m    124\u001b[0m     \u001b[0mbytes_io\u001b[0m \u001b[0;34m=\u001b[0m \u001b[0mBytesIO\u001b[0m\u001b[0;34m(\u001b[0m\u001b[0;34m)\u001b[0m\u001b[0;34m\u001b[0m\u001b[0;34m\u001b[0m\u001b[0m\n\u001b[0;32m--> 125\u001b[0;31m     \u001b[0mfig\u001b[0m\u001b[0;34m.\u001b[0m\u001b[0mcanvas\u001b[0m\u001b[0;34m.\u001b[0m\u001b[0mprint_figure\u001b[0m\u001b[0;34m(\u001b[0m\u001b[0mbytes_io\u001b[0m\u001b[0;34m,\u001b[0m \u001b[0;34m**\u001b[0m\u001b[0mkw\u001b[0m\u001b[0;34m)\u001b[0m\u001b[0;34m\u001b[0m\u001b[0;34m\u001b[0m\u001b[0m\n\u001b[0m\u001b[1;32m    126\u001b[0m     \u001b[0mdata\u001b[0m \u001b[0;34m=\u001b[0m \u001b[0mbytes_io\u001b[0m\u001b[0;34m.\u001b[0m\u001b[0mgetvalue\u001b[0m\u001b[0;34m(\u001b[0m\u001b[0;34m)\u001b[0m\u001b[0;34m\u001b[0m\u001b[0;34m\u001b[0m\u001b[0m\n\u001b[1;32m    127\u001b[0m     \u001b[0;32mif\u001b[0m \u001b[0mfmt\u001b[0m \u001b[0;34m==\u001b[0m \u001b[0;34m'svg'\u001b[0m\u001b[0;34m:\u001b[0m\u001b[0;34m\u001b[0m\u001b[0;34m\u001b[0m\u001b[0m\n",
            "\u001b[0;32m/usr/local/lib/python3.7/dist-packages/matplotlib/backend_bases.py\u001b[0m in \u001b[0;36mprint_figure\u001b[0;34m(self, filename, dpi, facecolor, edgecolor, orientation, format, bbox_inches, **kwargs)\u001b[0m\n\u001b[1;32m   2124\u001b[0m                     \u001b[0morientation\u001b[0m\u001b[0;34m=\u001b[0m\u001b[0morientation\u001b[0m\u001b[0;34m,\u001b[0m\u001b[0;34m\u001b[0m\u001b[0;34m\u001b[0m\u001b[0m\n\u001b[1;32m   2125\u001b[0m                     \u001b[0mbbox_inches_restore\u001b[0m\u001b[0;34m=\u001b[0m\u001b[0m_bbox_inches_restore\u001b[0m\u001b[0;34m,\u001b[0m\u001b[0;34m\u001b[0m\u001b[0;34m\u001b[0m\u001b[0m\n\u001b[0;32m-> 2126\u001b[0;31m                     **kwargs)\n\u001b[0m\u001b[1;32m   2127\u001b[0m             \u001b[0;32mfinally\u001b[0m\u001b[0;34m:\u001b[0m\u001b[0;34m\u001b[0m\u001b[0;34m\u001b[0m\u001b[0m\n\u001b[1;32m   2128\u001b[0m                 \u001b[0;32mif\u001b[0m \u001b[0mbbox_inches\u001b[0m \u001b[0;32mand\u001b[0m \u001b[0mrestore_bbox\u001b[0m\u001b[0;34m:\u001b[0m\u001b[0;34m\u001b[0m\u001b[0;34m\u001b[0m\u001b[0m\n",
            "\u001b[0;32m/usr/local/lib/python3.7/dist-packages/matplotlib/backends/backend_agg.py\u001b[0m in \u001b[0;36mprint_png\u001b[0;34m(self, filename_or_obj, metadata, pil_kwargs, *args, **kwargs)\u001b[0m\n\u001b[1;32m    535\u001b[0m             \u001b[0;32mwith\u001b[0m \u001b[0mcbook\u001b[0m\u001b[0;34m.\u001b[0m\u001b[0mopen_file_cm\u001b[0m\u001b[0;34m(\u001b[0m\u001b[0mfilename_or_obj\u001b[0m\u001b[0;34m,\u001b[0m \u001b[0;34m\"wb\"\u001b[0m\u001b[0;34m)\u001b[0m \u001b[0;32mas\u001b[0m \u001b[0mfh\u001b[0m\u001b[0;34m:\u001b[0m\u001b[0;34m\u001b[0m\u001b[0;34m\u001b[0m\u001b[0m\n\u001b[1;32m    536\u001b[0m                 _png.write_png(renderer._renderer, fh, self.figure.dpi,\n\u001b[0;32m--> 537\u001b[0;31m                                metadata={**default_metadata, **metadata})\n\u001b[0m\u001b[1;32m    538\u001b[0m \u001b[0;34m\u001b[0m\u001b[0m\n\u001b[1;32m    539\u001b[0m     \u001b[0;32mdef\u001b[0m \u001b[0mprint_to_buffer\u001b[0m\u001b[0;34m(\u001b[0m\u001b[0mself\u001b[0m\u001b[0;34m)\u001b[0m\u001b[0;34m:\u001b[0m\u001b[0;34m\u001b[0m\u001b[0;34m\u001b[0m\u001b[0m\n",
            "\u001b[0;31mKeyboardInterrupt\u001b[0m: "
          ]
        }
      ]
    },
    {
      "cell_type": "code",
      "metadata": {
        "id": "xrWHACu3cmzP",
        "colab": {
          "base_uri": "https://localhost:8080/"
        },
        "outputId": "b4e457cb-f827-4401-d780-b4479388b14b"
      },
      "source": [
        "mat"
      ],
      "execution_count": null,
      "outputs": [
        {
          "output_type": "execute_result",
          "data": {
            "text/plain": [
              "array([[0., 6., 8., ..., 9., 7., 7.],\n",
              "       [0., 0., 8., ..., 9., 8., 9.],\n",
              "       [0., 0., 0., ..., 9., 9., 7.],\n",
              "       ...,\n",
              "       [0., 0., 0., ..., 0., 7., 6.],\n",
              "       [0., 0., 0., ..., 0., 0., 9.],\n",
              "       [0., 0., 0., ..., 0., 0., 0.]])"
            ]
          },
          "metadata": {},
          "execution_count": 23
        }
      ]
    },
    {
      "cell_type": "code",
      "metadata": {
        "colab": {
          "base_uri": "https://localhost:8080/"
        },
        "id": "s8OWZQaLga3-",
        "outputId": "98a0834d-4a23-4d3b-cbd8-345358308c53"
      },
      "source": [
        "np.min(mat[mat>0])"
      ],
      "execution_count": null,
      "outputs": [
        {
          "output_type": "execute_result",
          "data": {
            "text/plain": [
              "3.0"
            ]
          },
          "metadata": {},
          "execution_count": 24
        }
      ]
    },
    {
      "cell_type": "code",
      "metadata": {
        "id": "EhGl-voqghCB"
      },
      "source": [
        ""
      ],
      "execution_count": null,
      "outputs": []
    }
  ]
}