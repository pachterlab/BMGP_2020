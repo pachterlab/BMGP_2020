{
  "nbformat": 4,
  "nbformat_minor": 5,
  "metadata": {
    "kernelspec": {
      "display_name": "Python 3",
      "language": "python",
      "name": "python3"
    },
    "language_info": {
      "codemirror_mode": {
        "name": "ipython",
        "version": 3
      },
      "file_extension": ".py",
      "mimetype": "text/x-python",
      "name": "python",
      "nbconvert_exporter": "python",
      "pygments_lexer": "ipython3",
      "version": "3.7.4"
    },
    "colab": {
      "name": "10xFB_preprocess.ipynb",
      "provenance": [],
      "include_colab_link": true
    }
  },
  "cells": [
    {
      "cell_type": "markdown",
      "metadata": {
        "id": "view-in-github",
        "colab_type": "text"
      },
      "source": [
        "<a href=\"https://colab.research.google.com/github/sbooeshaghi/BMGP_2020/blob/main/analysis/notebooks/10xFB/10xFB_preprocess.ipynb\" target=\"_parent\"><img src=\"https://colab.research.google.com/assets/colab-badge.svg\" alt=\"Open In Colab\"/></a>"
      ]
    },
    {
      "cell_type": "code",
      "metadata": {
        "id": "weird-development",
        "outputId": "0366fcce-fb3e-4b77-82a2-e44d0fe12162",
        "colab": {
          "base_uri": "https://localhost:8080/"
        }
      },
      "source": [
        "!date"
      ],
      "id": "weird-development",
      "execution_count": 1,
      "outputs": [
        {
          "output_type": "stream",
          "text": [
            "Mon Jun 14 22:14:54 UTC 2021\n"
          ],
          "name": "stdout"
        }
      ]
    },
    {
      "cell_type": "markdown",
      "metadata": {
        "id": "indonesian-study"
      },
      "source": [
        "# Install packages and download data"
      ],
      "id": "indonesian-study"
    },
    {
      "cell_type": "code",
      "metadata": {
        "id": "distributed-burlington"
      },
      "source": [
        "import sys\n",
        "COLAB = \"google.colab\" in sys.modules\n"
      ],
      "id": "distributed-burlington",
      "execution_count": 2,
      "outputs": []
    },
    {
      "cell_type": "code",
      "metadata": {
        "id": "permanent-sense",
        "outputId": "2e4d4006-b073-4f84-bd74-464309f76416",
        "colab": {
          "base_uri": "https://localhost:8080/"
        }
      },
      "source": [
        "if COLAB:\n",
        "    !git clone https://github.com/sbooeshaghi/BMGP_2020.git"
      ],
      "id": "permanent-sense",
      "execution_count": 3,
      "outputs": [
        {
          "output_type": "stream",
          "text": [
            "Cloning into 'BMGP_2020'...\n",
            "remote: Enumerating objects: 490, done.\u001b[K\n",
            "remote: Counting objects: 100% (194/194), done.\u001b[K\n",
            "remote: Compressing objects: 100% (165/165), done.\u001b[K\n",
            "remote: Total 490 (delta 61), reused 124 (delta 28), pack-reused 296\u001b[K\n",
            "Receiving objects: 100% (490/490), 425.96 MiB | 31.05 MiB/s, done.\n",
            "Resolving deltas: 100% (152/152), done.\n",
            "Checking out files: 100% (130/130), done.\n"
          ],
          "name": "stdout"
        }
      ]
    },
    {
      "cell_type": "code",
      "metadata": {
        "id": "preliminary-marketplace",
        "outputId": "ea2fb59f-dfce-4536-fc53-55441d54c129",
        "colab": {
          "base_uri": "https://localhost:8080/"
        }
      },
      "source": [
        "if COLAB:\n",
        "    !pip install --quiet \\\n",
        "    kb-python==0.26.0 \\\n",
        "    anndata==0.7.6"
      ],
      "id": "preliminary-marketplace",
      "execution_count": 4,
      "outputs": [
        {
          "output_type": "stream",
          "text": [
            "\u001b[K     |████████████████████████████████| 59.1MB 71kB/s \n",
            "\u001b[K     |████████████████████████████████| 133kB 34.3MB/s \n",
            "\u001b[K     |████████████████████████████████| 10.3MB 21.5MB/s \n",
            "\u001b[K     |████████████████████████████████| 13.2MB 154kB/s \n",
            "\u001b[K     |████████████████████████████████| 51kB 7.3MB/s \n",
            "\u001b[K     |████████████████████████████████| 81kB 9.9MB/s \n",
            "\u001b[K     |████████████████████████████████| 112kB 52.3MB/s \n",
            "\u001b[K     |████████████████████████████████| 71kB 9.6MB/s \n",
            "\u001b[K     |████████████████████████████████| 1.2MB 32.2MB/s \n",
            "\u001b[?25h  Building wheel for loompy (setup.py) ... \u001b[?25l\u001b[?25hdone\n",
            "  Building wheel for sinfo (setup.py) ... \u001b[?25l\u001b[?25hdone\n",
            "  Building wheel for umap-learn (setup.py) ... \u001b[?25l\u001b[?25hdone\n",
            "  Building wheel for numpy-groupies (setup.py) ... \u001b[?25l\u001b[?25hdone\n",
            "  Building wheel for pynndescent (setup.py) ... \u001b[?25l\u001b[?25hdone\n"
          ],
          "name": "stdout"
        }
      ]
    },
    {
      "cell_type": "code",
      "metadata": {
        "id": "medieval-hypothesis",
        "outputId": "1ab2ab8c-2da3-410b-afe3-c212f0b8f333"
      },
      "source": [
        "if COLAB:\n",
        "    # download cellranger (30sec)\n",
        "    !wget -O cellranger-6.0.1.tar.gz \\\n",
        "    -q --show-progress --progress=bar:force  \\\n",
        "    \"https://cf.10xgenomics.com/releases/cell-exp/cellranger-6.0.1.tar.gz?Expires=1619593023&Policy=eyJTdGF0ZW1lbnQiOlt7IlJlc291cmNlIjoiaHR0cHM6Ly9jZi4xMHhnZW5vbWljcy5jb20vcmVsZWFzZXMvY2VsbC1leHAvY2VsbHJhbmdlci02LjAuMS50YXIuZ3oiLCJDb25kaXRpb24iOnsiRGF0ZUxlc3NUaGFuIjp7IkFXUzpFcG9jaFRpbWUiOjE2MTk1OTMwMjN9fX1dfQ__&Signature=EfUmpmiiOtatL9nfNGsODQnSC2a5GmvKesMiVee~04H2ndGVBNkLGB7uWuU3c1NvgG5R1GMk6MYNaPcTaF100IPncjjnFFot7qawOb1LiZQx7sxXLlDfyEPr4TshlXdwzVkU8DX1yZeq82iHVc3etUHiugVLVttUW7wrfd1do35jVoJzjHacWeFGBS6CWvFpvAhNsT29-YULeJRDbdYe~TYhjsKnl1BVWSQzKUtdNsrsiPgXAnAf4GsNmEDNA~b~Gnwyubs3cGGna4TDXw65IcoduOHcIxOMHlhgX5wIabfcMZx3i9Jaw7TpwFxRHHEpoFftHuEsGHs1lusxB8pKYQ__&Key-Pair-Id=APKAI7S6A5RYOXBWRPDA\" \\\n",
        "    2>&1\n",
        "    \n",
        "    !tar -xf cellranger-6.0.1.tar.gz\n",
        "\n",
        "    \n",
        "    # download cellranger reference (5min)\n",
        "    !wget \\\n",
        "    -q --show-progress --progress=bar:force  \\\n",
        "    https://cf.10xgenomics.com/supp/cell-exp/refdata-gex-GRCh38-2020-A.tar.gz \\\n",
        "    2>&1\n",
        "    \n",
        "    !tar -xf refdata-gex-GRCh38-2020-A.tar.gz\n"
      ],
      "id": "medieval-hypothesis",
      "execution_count": null,
      "outputs": [
        {
          "output_type": "stream",
          "text": [
            "cellranger-6.0.1.ta 100%[===================>]   1.01G  37.7MB/s    in 26s     \n"
          ],
          "name": "stdout"
        }
      ]
    },
    {
      "cell_type": "code",
      "metadata": {
        "id": "authorized-sentence"
      },
      "source": [
        "%%bash\n",
        "source cellranger-6.0.1/sourceme.bash"
      ],
      "id": "authorized-sentence",
      "execution_count": null,
      "outputs": []
    },
    {
      "cell_type": "code",
      "metadata": {
        "id": "pressing-nightlife",
        "outputId": "29fcfc15-aeec-4523-9560-46d8263ca263",
        "colab": {
          "base_uri": "https://localhost:8080/"
        }
      },
      "source": [
        "if COLAB:\n",
        "    # download the relevant data\n",
        "    !wget -O 10xFB_5k_pbmc_v3_fastqs.tar.gz \\\n",
        "    -q --show-progress --progress=bar:force  \\\n",
        "    https://caltech.box.com/shared/static/z28rkegt9rdrmjlly9ashv7jqtghztjp.gz \\\n",
        "    2>&1\n",
        "    !tar -xf 10xFB_5k_pbmc_v3_fastqs.tar.gz"
      ],
      "id": "pressing-nightlife",
      "execution_count": 5,
      "outputs": [
        {
          "output_type": "stream",
          "text": [
            "10xFB_5k_pbmc_v3_fa 100%[===================>]   2.60G  18.1MB/s    in 2m 13s  \n"
          ],
          "name": "stdout"
        }
      ]
    },
    {
      "cell_type": "markdown",
      "metadata": {
        "id": "continental-example"
      },
      "source": [
        "# Preprocess with kb"
      ],
      "id": "continental-example"
    },
    {
      "cell_type": "code",
      "metadata": {
        "id": "unsigned-moldova",
        "outputId": "1b1e8e93-b377-41e6-d22c-55d603be6fa7",
        "colab": {
          "base_uri": "https://localhost:8080/"
        }
      },
      "source": [
        "%%time\n",
        "!FB=\"BMGP_2020/references/10xFB_5k_pbmc_v3/kite/feature_barcodes.txt\" && \\\n",
        "INDEX=\"BMGP_2020/references/10xFB_5k_pbmc_v3/kite/features.idx\" && \\\n",
        "F2B=\"BMGP_2020/references/10xFB_5k_pbmc_v3/kite/f2b.txt\" && \\\n",
        "FASTA=\"BMGP_2020/references/10xFB_5k_pbmc_v3/kite/features.fa\" && \\\n",
        "kb ref \\\n",
        "-i $INDEX \\\n",
        "-g $F2B \\\n",
        "-f1 $FASTA \\\n",
        "--workflow kite \\\n",
        "$FB"
      ],
      "id": "unsigned-moldova",
      "execution_count": 6,
      "outputs": [
        {
          "output_type": "stream",
          "text": [
            "[2021-06-14 22:18:51,938]    INFO Generating mismatch FASTA at BMGP_2020/references/10xFB_5k_pbmc_v3/kite/features.fa\n",
            "[2021-06-14 22:18:51,969]    INFO Creating transcript-to-gene mapping at BMGP_2020/references/10xFB_5k_pbmc_v3/kite/f2b.txt\n",
            "[2021-06-14 22:18:51,976]    INFO Skipping kallisto index because BMGP_2020/references/10xFB_5k_pbmc_v3/kite/features.idx already exists. Use the --overwrite flag to overwrite.\n",
            "CPU times: user 27 ms, sys: 7.25 ms, total: 34.2 ms\n",
            "Wall time: 3.85 s\n"
          ],
          "name": "stdout"
        }
      ]
    },
    {
      "cell_type": "code",
      "metadata": {
        "id": "weekly-republican",
        "outputId": "d08f1214-286b-44c3-a650-d078c11c2d51",
        "colab": {
          "base_uri": "https://localhost:8080/"
        }
      },
      "source": [
        "%%bash\n",
        "FB=\"BMGP_2020/references/10xFB_5k_pbmc_v3/kite/feature_barcodes.txt\" && \\\n",
        "INDEX=\"BMGP_2020/references/10xFB_5k_pbmc_v3/kite/features.idx\" && \\\n",
        "F2B=\"BMGP_2020/references/10xFB_5k_pbmc_v3/kite/f2b.txt\" && \\\n",
        "FASTA=\"BMGP_2020/references/10xFB_5k_pbmc_v3/kite/features.fa\" && \\\n",
        "OUT=\"kite_out\" && \\\n",
        "FASTQS=$(FASTQDIR=\"fastqs/\" && paste -d\" \" \\\n",
        "<(ls $FASTQDIR | awk -v p=$FASTQDIR '{print p$0}' | grep R1) \\\n",
        "<(ls $FASTQDIR | awk -v p=$FASTQDIR '{print p$0}' | grep R2)) && \\\n",
        "kb count \\\n",
        "-i $INDEX \\\n",
        "-g $F2B \\\n",
        "-x 10xv3 \\\n",
        "-o $OUT \\\n",
        "--workflow kite:10xFB \\\n",
        "--h5ad \\\n",
        "--filter bustools \\\n",
        "$FASTQS"
      ],
      "id": "weekly-republican",
      "execution_count": 7,
      "outputs": [
        {
          "output_type": "stream",
          "text": [
            "[2021-06-14 22:18:53,050]    INFO Using index BMGP_2020/references/10xFB_5k_pbmc_v3/kite/features.idx to generate BUS file to kite_out from\n",
            "[2021-06-14 22:18:53,050]    INFO         fastqs/5k_pbmc_protein_v3_antibody_S2_L001_R1_001.fastq.gz\n",
            "[2021-06-14 22:18:53,050]    INFO         fastqs/5k_pbmc_protein_v3_antibody_S2_L001_R2_001.fastq.gz\n",
            "[2021-06-14 22:18:53,050]    INFO         fastqs/5k_pbmc_protein_v3_antibody_S2_L002_R1_001.fastq.gz\n",
            "[2021-06-14 22:18:53,050]    INFO         fastqs/5k_pbmc_protein_v3_antibody_S2_L002_R2_001.fastq.gz\n",
            "[2021-06-14 22:23:11,615]    INFO Sorting BUS file kite_out/output.bus to kite_out/tmp/output.s.bus\n",
            "[2021-06-14 22:23:39,678]    INFO Whitelist not provided\n",
            "[2021-06-14 22:23:39,678]    INFO Copying pre-packaged 10XV3 whitelist to kite_out\n",
            "[2021-06-14 22:23:40,590]    INFO Copying 10xv3 feature-to-barcode map to kite_out\n",
            "[2021-06-14 22:23:42,494]    INFO Projecting BUS file kite_out/tmp/output.s.bus with map kite_out/10xv3_feature_barcode_map.txt\n",
            "[2021-06-14 22:24:08,498]    INFO Sorting BUS file kite_out/tmp/output.s.p.bus to kite_out/tmp/output.s.p.s.bus\n",
            "[2021-06-14 22:24:36,770]    INFO Inspecting BUS file kite_out/tmp/output.s.p.s.bus\n",
            "[2021-06-14 22:24:54,799]    INFO Correcting BUS records in kite_out/tmp/output.s.p.s.bus to kite_out/tmp/output.s.p.s.c.bus with whitelist kite_out/10xv3_whitelist.txt\n",
            "[2021-06-14 22:25:17,860]    INFO Sorting BUS file kite_out/tmp/output.s.p.s.c.bus to kite_out/output.unfiltered.bus\n",
            "[2021-06-14 22:25:45,966]    INFO Generating count matrix kite_out/counts_unfiltered/cells_x_features from BUS file kite_out/output.unfiltered.bus\n",
            "[2021-06-14 22:25:52,206]    INFO Reading matrix kite_out/counts_unfiltered/cells_x_features.mtx\n",
            "[2021-06-14 22:25:56,165]    INFO Writing matrix to h5ad kite_out/counts_unfiltered/adata.h5ad\n",
            "[2021-06-14 22:25:56,454]    INFO Filtering with bustools\n",
            "[2021-06-14 22:25:56,454]    INFO Generating whitelist kite_out/filter_barcodes.txt from BUS file kite_out/output.unfiltered.bus\n",
            "[2021-06-14 22:25:56,631]    INFO Correcting BUS records in kite_out/output.unfiltered.bus to kite_out/tmp/output.unfiltered.c.bus with whitelist kite_out/filter_barcodes.txt\n",
            "[2021-06-14 22:26:09,777]    INFO Sorting BUS file kite_out/tmp/output.unfiltered.c.bus to kite_out/output.filtered.bus\n",
            "[2021-06-14 22:26:30,373]    INFO Generating count matrix kite_out/counts_filtered/cells_x_features from BUS file kite_out/output.filtered.bus\n",
            "[2021-06-14 22:26:31,716]    INFO Reading matrix kite_out/counts_filtered/cells_x_features.mtx\n",
            "[2021-06-14 22:26:31,992]    INFO Writing matrix to h5ad kite_out/counts_filtered/adata.h5ad\n"
          ],
          "name": "stderr"
        }
      ]
    },
    {
      "cell_type": "code",
      "metadata": {
        "id": "Q9YlNUc-noDw",
        "outputId": "443cbfa6-dda3-49da-8bad-71df0620aa1e",
        "colab": {
          "base_uri": "https://localhost:8080/"
        }
      },
      "source": [
        "!cat kite_out/run_info.json"
      ],
      "id": "Q9YlNUc-noDw",
      "execution_count": 8,
      "outputs": [
        {
          "output_type": "stream",
          "text": [
            "{\n",
            "\t\"n_targets\": 0,\n",
            "\t\"n_bootstraps\": 0,\n",
            "\t\"n_processed\": 39096673,\n",
            "\t\"n_pseudoaligned\": 37262835,\n",
            "\t\"n_unique\": 37262835,\n",
            "\t\"p_pseudoaligned\": 95.3,\n",
            "\t\"p_unique\": 95.3,\n",
            "\t\"kallisto_version\": \"0.46.2\",\n",
            "\t\"index_version\": 0,\n",
            "\t\"start_time\": \"Mon Jun 14 22:18:53 2021\",\n",
            "\t\"call\": \"/usr/local/lib/python3.7/dist-packages/kb_python/bins/linux/kallisto/kallisto bus -i BMGP_2020/references/10xFB_5k_pbmc_v3/kite/features.idx -o kite_out -x 10xv3 -t 8 fastqs/5k_pbmc_protein_v3_antibody_S2_L001_R1_001.fastq.gz fastqs/5k_pbmc_protein_v3_antibody_S2_L001_R2_001.fastq.gz fastqs/5k_pbmc_protein_v3_antibody_S2_L002_R1_001.fastq.gz fastqs/5k_pbmc_protein_v3_antibody_S2_L002_R2_001.fastq.gz\"\n",
            "}\n"
          ],
          "name": "stdout"
        }
      ]
    },
    {
      "cell_type": "markdown",
      "metadata": {
        "id": "interpreted-worship"
      },
      "source": [
        "# Preprocess with cellranger"
      ],
      "id": "interpreted-worship"
    },
    {
      "cell_type": "code",
      "metadata": {
        "id": "sorted-football"
      },
      "source": [
        "!printf \"fastqs,sample,library_type\\n$PWD/fastqs,5k_pbmc_protein_v3_antibody,Antibody Capture\" > BMGP_2020/references/10xFB_5k_pbmc_v3/5k_pbmc_protein_v3_libraries.csv"
      ],
      "id": "sorted-football",
      "execution_count": null,
      "outputs": []
    },
    {
      "cell_type": "code",
      "metadata": {
        "id": "incorporate-resort",
        "outputId": "c1615d10-9882-465f-fcb9-111ffd80acc8"
      },
      "source": [
        "!LIB=\"BMGP_2020/references/10xFB_5k_pbmc_v3/5k_pbmc_protein_v3_libraries.csv\" && \\\n",
        "FR=\"BMGP_2020/references/10xFB_5k_pbmc_v3/5k_pbmc_protein_v3_feature_ref.csv\" && \\\n",
        "./cellranger-6.0.1/cellranger count \\\n",
        "--libraries $LIB \\\n",
        "--feature-ref $FR \\\n",
        "--id count \\\n",
        "--nosecondary \\\n",
        "--disable-ui \\\n",
        "--expect-cells 5000 \\\n",
        "--transcriptome refdata-gex-GRCh38-2020-A"
      ],
      "id": "incorporate-resort",
      "execution_count": null,
      "outputs": [
        {
          "output_type": "stream",
          "text": [
            "Martian Runtime - v4.0.4\n",
            "2021-04-27 13:52:55 [jobmngr] WARNING: configured to use 340GB of local memory, but only 263.3GB is currently available.\n",
            "Serving UI at http://atlas:42761?auth=UW3XRrq4jVUqusPKpmLnu1rRB_JNV0tF_ZAOk3lxgYg\n",
            "\n",
            "Running preflight checks (please wait)...\n",
            "Checking feature definition file...\n",
            "Checking sample info...\n",
            "Checking FASTQ folder...\n",
            "Checking reference...\n",
            "Checking reference_path (/home/sina/projects/kite/BMGP_2020/analysis/notebooks/refdata-gex-GRCh38-2020-A) on atlas...\n",
            "Checking optional arguments...\n",
            "mrc: v4.0.4\n",
            "\n",
            "mrp: v4.0.4\n",
            "\n",
            "Anaconda: Python 3.7.6\n",
            "\n",
            "numpy: 1.19.2\n",
            "\n",
            "scipy: 1.1.0\n",
            "\n",
            "pysam: 0.16.0.1\n",
            "\n",
            "h5py: 2.8.0\n",
            "\n",
            "pandas: 0.24.2\n",
            "\n",
            "STAR: 2.7.2a\n",
            "\n",
            "samtools: samtools 1.10\n",
            "Using htslib 1.10.2\n",
            "Copyright (C) 2019 Genome Research Ltd.\n",
            "\n",
            "2021-04-27 13:54:08 [runtime] (ready)           ID.count.SC_RNA_COUNTER_CS.SC_MULTI_CORE.MULTI_CHEMISTRY_DETECTOR._GEM_WELL_CHEMISTRY_DETECTOR.DETECT_COUNT_CHEMISTRY\n",
            "2021-04-27 13:54:08 [runtime] (run:local)       ID.count.SC_RNA_COUNTER_CS.SC_MULTI_CORE.MULTI_CHEMISTRY_DETECTOR._GEM_WELL_CHEMISTRY_DETECTOR.DETECT_COUNT_CHEMISTRY.fork0.chnk0.main\n",
            "2021-04-27 13:54:08 [runtime] (ready)           ID.count.SC_RNA_COUNTER_CS.WRITE_GENE_INDEX\n",
            "2021-04-27 13:54:08 [runtime] (run:local)       ID.count.SC_RNA_COUNTER_CS.WRITE_GENE_INDEX.fork0.chnk0.main\n",
            "2021-04-27 13:54:08 [runtime] (ready)           ID.count.SC_RNA_COUNTER_CS.SC_MULTI_CORE.SANITIZE_MAP_CALLS\n",
            "2021-04-27 13:54:08 [runtime] (ready)           ID.count.SC_RNA_COUNTER_CS.FULL_COUNT_INPUTS.WRITE_GENE_INDEX\n",
            "2021-04-27 13:54:08 [runtime] (run:local)       ID.count.SC_RNA_COUNTER_CS.FULL_COUNT_INPUTS.WRITE_GENE_INDEX.fork0.chnk0.main\n",
            "2021-04-27 13:54:08 [runtime] (ready)           ID.count.SC_RNA_COUNTER_CS.SC_MULTI_CORE.MAKE_FULL_CONFIG._MAKE_VDJ_CONFIG\n",
            "2021-04-27 13:54:08 [runtime] (run:local)       ID.count.SC_RNA_COUNTER_CS.SC_MULTI_CORE.MAKE_FULL_CONFIG._MAKE_VDJ_CONFIG.fork0.chnk0.main\n",
            "2021-04-27 13:54:08 [runtime] (ready)           ID.count.SC_RNA_COUNTER_CS.SC_MULTI_CORE.MULTI_GEM_WELL_PROCESSOR.COUNT_GEM_WELL_PROCESSOR._BASIC_SC_RNA_COUNTER.DISABLE_BAMS\n",
            "2021-04-27 13:54:08 [runtime] (run:local)       ID.count.SC_RNA_COUNTER_CS.SC_MULTI_CORE.MULTI_GEM_WELL_PROCESSOR.COUNT_GEM_WELL_PROCESSOR._BASIC_SC_RNA_COUNTER.DISABLE_BAMS.fork0.chnk0.main\n",
            "2021-04-27 13:54:09 [runtime] (chunks_complete) ID.count.SC_RNA_COUNTER_CS.SC_MULTI_CORE.MAKE_FULL_CONFIG._MAKE_VDJ_CONFIG\n",
            "2021-04-27 13:54:09 [runtime] (ready)           ID.count.SC_RNA_COUNTER_CS.SC_MULTI_CORE.MULTI_GEM_WELL_PROCESSOR.VDJ_T_GEM_WELL_PROCESSOR.MULTI_SETUP_CHUNKS\n",
            "2021-04-27 13:54:09 [runtime] (ready)           ID.count.SC_RNA_COUNTER_CS.SC_MULTI_CORE.MULTI_GEM_WELL_PROCESSOR.VDJ_B_GEM_WELL_PROCESSOR.MULTI_SETUP_CHUNKS\n",
            "2021-04-27 13:54:09 [runtime] (ready)           ID.count.SC_RNA_COUNTER_CS.SC_MULTI_CORE.MULTI_GEM_WELL_PROCESSOR.VDJ_T_GEM_WELL_PROCESSOR.SC_VDJ_CONTIG_ASSEMBLER.MAKE_SHARD\n",
            "2021-04-27 13:54:09 [runtime] (ready)           ID.count.SC_RNA_COUNTER_CS.SC_MULTI_CORE.MULTI_GEM_WELL_PROCESSOR.VDJ_B_GEM_WELL_PROCESSOR.SC_VDJ_CONTIG_ASSEMBLER.MAKE_SHARD\n",
            "2021-04-27 13:54:09 [runtime] (ready)           ID.count.SC_RNA_COUNTER_CS.SC_MULTI_CORE.MULTI_GEM_WELL_PROCESSOR.VDJ_T_GEM_WELL_PROCESSOR.SC_VDJ_CONTIG_ASSEMBLER.BARCODE_CORRECTION\n",
            "2021-04-27 13:54:09 [runtime] (ready)           ID.count.SC_RNA_COUNTER_CS.SC_MULTI_CORE.MULTI_GEM_WELL_PROCESSOR.VDJ_B_GEM_WELL_PROCESSOR.SC_VDJ_CONTIG_ASSEMBLER.BARCODE_CORRECTION\n",
            "2021-04-27 13:54:09 [runtime] (ready)           ID.count.SC_RNA_COUNTER_CS.SC_MULTI_CORE.MULTI_GEM_WELL_PROCESSOR.VDJ_T_GEM_WELL_PROCESSOR.SC_VDJ_CONTIG_ASSEMBLER.RUST_BRIDGE\n",
            "2021-04-27 13:54:09 [runtime] (ready)           ID.count.SC_RNA_COUNTER_CS.SC_MULTI_CORE.MULTI_GEM_WELL_PROCESSOR.VDJ_B_GEM_WELL_PROCESSOR.SC_VDJ_CONTIG_ASSEMBLER.RUST_BRIDGE\n",
            "2021-04-27 13:54:09 [runtime] (ready)           ID.count.SC_RNA_COUNTER_CS.SC_MULTI_CORE.MULTI_GEM_WELL_PROCESSOR.VDJ_T_GEM_WELL_PROCESSOR.SC_VDJ_CONTIG_ASSEMBLER.ASSEMBLE_VDJ\n",
            "2021-04-27 13:54:09 [runtime] (ready)           ID.count.SC_RNA_COUNTER_CS.SC_MULTI_CORE.MULTI_GEM_WELL_PROCESSOR.VDJ_T_GEM_WELL_PROCESSOR.SC_VDJ_CONTIG_ASSEMBLER.MERGE_METRICS\n",
            "2021-04-27 13:54:09 [runtime] (ready)           ID.count.SC_RNA_COUNTER_CS.SC_MULTI_CORE.MULTI_GEM_WELL_PROCESSOR.VDJ_B_GEM_WELL_PROCESSOR.SC_VDJ_CONTIG_ASSEMBLER.ASSEMBLE_VDJ\n",
            "2021-04-27 13:54:09 [runtime] (ready)           ID.count.SC_RNA_COUNTER_CS.SC_MULTI_CORE.MULTI_GEM_WELL_PROCESSOR.VDJ_B_GEM_WELL_PROCESSOR.SC_VDJ_CONTIG_ASSEMBLER.MERGE_METRICS\n",
            "2021-04-27 13:54:09 [runtime] (chunks_complete) ID.count.SC_RNA_COUNTER_CS.SC_MULTI_CORE.MULTI_GEM_WELL_PROCESSOR.COUNT_GEM_WELL_PROCESSOR._BASIC_SC_RNA_COUNTER.DISABLE_BAMS\n",
            "2021-04-27 13:54:35 [runtime] (chunks_complete) ID.count.SC_RNA_COUNTER_CS.SC_MULTI_CORE.MULTI_CHEMISTRY_DETECTOR._GEM_WELL_CHEMISTRY_DETECTOR.DETECT_COUNT_CHEMISTRY\n",
            "2021-04-27 13:54:35 [runtime] (ready)           ID.count.SC_RNA_COUNTER_CS.SC_MULTI_CORE.MULTI_CHEMISTRY_DETECTOR._GEM_WELL_CHEMISTRY_DETECTOR.CHECK_BARCODES_COMPATIBILITY\n",
            "2021-04-27 13:54:35 [runtime] (run:local)       ID.count.SC_RNA_COUNTER_CS.SC_MULTI_CORE.MULTI_CHEMISTRY_DETECTOR._GEM_WELL_CHEMISTRY_DETECTOR.CHECK_BARCODES_COMPATIBILITY.fork0.chnk0.main\n",
            "2021-04-27 13:54:35 [runtime] (chunks_complete) ID.count.SC_RNA_COUNTER_CS.SC_MULTI_CORE.MULTI_CHEMISTRY_DETECTOR._GEM_WELL_CHEMISTRY_DETECTOR.CHECK_BARCODES_COMPATIBILITY\n",
            "2021-04-27 13:54:35 [runtime] (ready)           ID.count.SC_RNA_COUNTER_CS.SC_MULTI_CORE.MULTI_CHEMISTRY_DETECTOR.COMBINE_GEM_WELL_CHEMISTRIES\n",
            "2021-04-27 13:54:35 [runtime] (run:local)       ID.count.SC_RNA_COUNTER_CS.SC_MULTI_CORE.MULTI_CHEMISTRY_DETECTOR.COMBINE_GEM_WELL_CHEMISTRIES.fork0.chnk0.main\n",
            "2021-04-27 13:54:35 [runtime] (chunks_complete) ID.count.SC_RNA_COUNTER_CS.SC_MULTI_CORE.MULTI_CHEMISTRY_DETECTOR.COMBINE_GEM_WELL_CHEMISTRIES\n",
            "2021-04-27 13:54:35 [runtime] (ready)           ID.count.SC_RNA_COUNTER_CS.SC_MULTI_CORE.MULTI_GEM_WELL_PROCESSOR.COUNT_GEM_WELL_PROCESSOR.MULTI_SETUP_CHUNKS\n",
            "2021-04-27 13:54:35 [runtime] (run:local)       ID.count.SC_RNA_COUNTER_CS.SC_MULTI_CORE.MULTI_GEM_WELL_PROCESSOR.COUNT_GEM_WELL_PROCESSOR.MULTI_SETUP_CHUNKS.fork0.chnk0.main\n",
            "2021-04-27 13:54:35 [runtime] (ready)           ID.count.SC_RNA_COUNTER_CS.SC_MULTI_CORE.SPLIT_VDJ_INPUTS\n",
            "2021-04-27 13:54:35 [runtime] (chunks_complete) ID.count.SC_RNA_COUNTER_CS.SC_MULTI_CORE.MULTI_GEM_WELL_PROCESSOR.COUNT_GEM_WELL_PROCESSOR.MULTI_SETUP_CHUNKS\n",
            "2021-04-27 13:54:39 [runtime] (chunks_complete) ID.count.SC_RNA_COUNTER_CS.WRITE_GENE_INDEX\n",
            "2021-04-27 13:54:40 [runtime] (chunks_complete) ID.count.SC_RNA_COUNTER_CS.FULL_COUNT_INPUTS.WRITE_GENE_INDEX\n",
            "2021-04-27 13:54:40 [runtime] (ready)           ID.count.SC_RNA_COUNTER_CS.SC_MULTI_CORE.MULTI_GEM_WELL_PROCESSOR.COUNT_GEM_WELL_PROCESSOR.PARSE_TARGET_FEATURES\n",
            "2021-04-27 13:54:40 [runtime] (run:local)       ID.count.SC_RNA_COUNTER_CS.SC_MULTI_CORE.MULTI_GEM_WELL_PROCESSOR.COUNT_GEM_WELL_PROCESSOR.PARSE_TARGET_FEATURES.fork0.chnk0.main\n",
            "2021-04-27 13:54:44 [runtime] (chunks_complete) ID.count.SC_RNA_COUNTER_CS.SC_MULTI_CORE.MULTI_GEM_WELL_PROCESSOR.COUNT_GEM_WELL_PROCESSOR.PARSE_TARGET_FEATURES\n",
            "2021-04-27 13:54:44 [runtime] (ready)           ID.count.SC_RNA_COUNTER_CS.SC_MULTI_CORE.MULTI_GEM_WELL_PROCESSOR.COUNT_GEM_WELL_PROCESSOR._BASIC_SC_RNA_COUNTER._MATRIX_COMPUTER.MAKE_SHARD\n",
            "2021-04-27 13:54:44 [runtime] (run:local)       ID.count.SC_RNA_COUNTER_CS.SC_MULTI_CORE.MULTI_GEM_WELL_PROCESSOR.COUNT_GEM_WELL_PROCESSOR._BASIC_SC_RNA_COUNTER._MATRIX_COMPUTER.MAKE_SHARD.fork0.split\n",
            "2021-04-27 13:54:57 [runtime] (split_complete)  ID.count.SC_RNA_COUNTER_CS.SC_MULTI_CORE.MULTI_GEM_WELL_PROCESSOR.COUNT_GEM_WELL_PROCESSOR._BASIC_SC_RNA_COUNTER._MATRIX_COMPUTER.MAKE_SHARD\n",
            "2021-04-27 13:54:57 [runtime] (run:local)       ID.count.SC_RNA_COUNTER_CS.SC_MULTI_CORE.MULTI_GEM_WELL_PROCESSOR.COUNT_GEM_WELL_PROCESSOR._BASIC_SC_RNA_COUNTER._MATRIX_COMPUTER.MAKE_SHARD.fork0.chnk0.main\n",
            "2021-04-27 13:54:57 [runtime] (run:local)       ID.count.SC_RNA_COUNTER_CS.SC_MULTI_CORE.MULTI_GEM_WELL_PROCESSOR.COUNT_GEM_WELL_PROCESSOR._BASIC_SC_RNA_COUNTER._MATRIX_COMPUTER.MAKE_SHARD.fork0.chnk1.main\n",
            "2021-04-27 14:00:58 [runtime] (update)          ID.count.SC_RNA_COUNTER_CS.SC_MULTI_CORE.MULTI_GEM_WELL_PROCESSOR.COUNT_GEM_WELL_PROCESSOR._BASIC_SC_RNA_COUNTER._MATRIX_COMPUTER.MAKE_SHARD.fork0 chunks running (0/2 completed)\n",
            "2021-04-27 14:04:47 [runtime] (chunks_complete) ID.count.SC_RNA_COUNTER_CS.SC_MULTI_CORE.MULTI_GEM_WELL_PROCESSOR.COUNT_GEM_WELL_PROCESSOR._BASIC_SC_RNA_COUNTER._MATRIX_COMPUTER.MAKE_SHARD\n",
            "2021-04-27 14:04:47 [runtime] (run:local)       ID.count.SC_RNA_COUNTER_CS.SC_MULTI_CORE.MULTI_GEM_WELL_PROCESSOR.COUNT_GEM_WELL_PROCESSOR._BASIC_SC_RNA_COUNTER._MATRIX_COMPUTER.MAKE_SHARD.fork0.join\n",
            "2021-04-27 14:04:48 [runtime] (join_complete)   ID.count.SC_RNA_COUNTER_CS.SC_MULTI_CORE.MULTI_GEM_WELL_PROCESSOR.COUNT_GEM_WELL_PROCESSOR._BASIC_SC_RNA_COUNTER._MATRIX_COMPUTER.MAKE_SHARD\n",
            "2021-04-27 14:04:49 [runtime] (ready)           ID.count.SC_RNA_COUNTER_CS.SC_MULTI_CORE.MULTI_GEM_WELL_PROCESSOR.COUNT_GEM_WELL_PROCESSOR._BASIC_SC_RNA_COUNTER._MATRIX_COMPUTER.BARCODE_CORRECTION\n",
            "2021-04-27 14:04:49 [runtime] (run:local)       ID.count.SC_RNA_COUNTER_CS.SC_MULTI_CORE.MULTI_GEM_WELL_PROCESSOR.COUNT_GEM_WELL_PROCESSOR._BASIC_SC_RNA_COUNTER._MATRIX_COMPUTER.BARCODE_CORRECTION.fork0.split\n",
            "2021-04-27 14:04:49 [runtime] (split_complete)  ID.count.SC_RNA_COUNTER_CS.SC_MULTI_CORE.MULTI_GEM_WELL_PROCESSOR.COUNT_GEM_WELL_PROCESSOR._BASIC_SC_RNA_COUNTER._MATRIX_COMPUTER.BARCODE_CORRECTION\n",
            "2021-04-27 14:04:49 [runtime] (run:local)       ID.count.SC_RNA_COUNTER_CS.SC_MULTI_CORE.MULTI_GEM_WELL_PROCESSOR.COUNT_GEM_WELL_PROCESSOR._BASIC_SC_RNA_COUNTER._MATRIX_COMPUTER.BARCODE_CORRECTION.fork0.chnk0.main\n",
            "2021-04-27 14:05:21 [runtime] (chunks_complete) ID.count.SC_RNA_COUNTER_CS.SC_MULTI_CORE.MULTI_GEM_WELL_PROCESSOR.COUNT_GEM_WELL_PROCESSOR._BASIC_SC_RNA_COUNTER._MATRIX_COMPUTER.BARCODE_CORRECTION\n",
            "2021-04-27 14:05:21 [runtime] (run:local)       ID.count.SC_RNA_COUNTER_CS.SC_MULTI_CORE.MULTI_GEM_WELL_PROCESSOR.COUNT_GEM_WELL_PROCESSOR._BASIC_SC_RNA_COUNTER._MATRIX_COMPUTER.BARCODE_CORRECTION.fork0.join\n",
            "2021-04-27 14:05:22 [runtime] (join_complete)   ID.count.SC_RNA_COUNTER_CS.SC_MULTI_CORE.MULTI_GEM_WELL_PROCESSOR.COUNT_GEM_WELL_PROCESSOR._BASIC_SC_RNA_COUNTER._MATRIX_COMPUTER.BARCODE_CORRECTION\n",
            "2021-04-27 14:05:22 [runtime] (ready)           ID.count.SC_RNA_COUNTER_CS.SC_MULTI_CORE.MULTI_GEM_WELL_PROCESSOR.COUNT_GEM_WELL_PROCESSOR._BASIC_SC_RNA_COUNTER._MATRIX_COMPUTER.WRITE_BARCODE_INDEX\n",
            "2021-04-27 14:05:22 [runtime] (run:local)       ID.count.SC_RNA_COUNTER_CS.SC_MULTI_CORE.MULTI_GEM_WELL_PROCESSOR.COUNT_GEM_WELL_PROCESSOR._BASIC_SC_RNA_COUNTER._MATRIX_COMPUTER.WRITE_BARCODE_INDEX.fork0.chnk0.main\n",
            "2021-04-27 14:05:22 [runtime] (ready)           ID.count.SC_RNA_COUNTER_CS.SC_MULTI_CORE.MULTI_GEM_WELL_PROCESSOR.COUNT_GEM_WELL_PROCESSOR._BASIC_SC_RNA_COUNTER._MATRIX_COMPUTER._SLFE_PARTIAL_FIRST_PASS.SUBSAMPLE_BARCODES\n",
            "2021-04-27 14:05:22 [runtime] (ready)           ID.count.SC_RNA_COUNTER_CS.SC_MULTI_CORE.MULTI_GEM_WELL_PROCESSOR.COUNT_GEM_WELL_PROCESSOR._BASIC_SC_RNA_COUNTER._MATRIX_COMPUTER._SLFE_PARTIAL_FIRST_PASS.INITIAL_ALIGN_AND_COUNT\n",
            "2021-04-27 14:05:22 [runtime] (ready)           ID.count.SC_RNA_COUNTER_CS.SC_MULTI_CORE.MULTI_GEM_WELL_PROCESSOR.COUNT_GEM_WELL_PROCESSOR._BASIC_SC_RNA_COUNTER._MATRIX_COMPUTER.SET_ALIGNER_SUBSAMPLE_RATE\n",
            "2021-04-27 14:05:22 [runtime] (run:local)       ID.count.SC_RNA_COUNTER_CS.SC_MULTI_CORE.MULTI_GEM_WELL_PROCESSOR.COUNT_GEM_WELL_PROCESSOR._BASIC_SC_RNA_COUNTER._MATRIX_COMPUTER.SET_ALIGNER_SUBSAMPLE_RATE.fork0.chnk0.main\n",
            "2021-04-27 14:05:22 [runtime] (ready)           ID.count.SC_RNA_COUNTER_CS.SC_MULTI_CORE.MULTI_GEM_WELL_PROCESSOR.COUNT_GEM_WELL_PROCESSOR._BASIC_SC_RNA_COUNTER._MATRIX_COMPUTER._SLFE_PARTIAL_FIRST_PASS.SET_TARGETED_UMI_FILTER\n",
            "2021-04-27 14:05:22 [runtime] (chunks_complete) ID.count.SC_RNA_COUNTER_CS.SC_MULTI_CORE.MULTI_GEM_WELL_PROCESSOR.COUNT_GEM_WELL_PROCESSOR._BASIC_SC_RNA_COUNTER._MATRIX_COMPUTER.SET_ALIGNER_SUBSAMPLE_RATE\n",
            "2021-04-27 14:05:22 [runtime] (ready)           ID.count.SC_RNA_COUNTER_CS.SC_MULTI_CORE.MULTI_GEM_WELL_PROCESSOR.COUNT_GEM_WELL_PROCESSOR._BASIC_SC_RNA_COUNTER._MATRIX_COMPUTER.ALIGN_AND_COUNT\n",
            "2021-04-27 14:05:22 [runtime] (run:local)       ID.count.SC_RNA_COUNTER_CS.SC_MULTI_CORE.MULTI_GEM_WELL_PROCESSOR.COUNT_GEM_WELL_PROCESSOR._BASIC_SC_RNA_COUNTER._MATRIX_COMPUTER.ALIGN_AND_COUNT.fork0.split\n",
            "2021-04-27 14:05:22 [runtime] (split_complete)  ID.count.SC_RNA_COUNTER_CS.SC_MULTI_CORE.MULTI_GEM_WELL_PROCESSOR.COUNT_GEM_WELL_PROCESSOR._BASIC_SC_RNA_COUNTER._MATRIX_COMPUTER.ALIGN_AND_COUNT\n",
            "2021-04-27 14:05:22 [runtime] (run:local)       ID.count.SC_RNA_COUNTER_CS.SC_MULTI_CORE.MULTI_GEM_WELL_PROCESSOR.COUNT_GEM_WELL_PROCESSOR._BASIC_SC_RNA_COUNTER._MATRIX_COMPUTER.ALIGN_AND_COUNT.fork0.chnk0.main\n",
            "2021-04-27 14:05:22 [runtime] (run:local)       ID.count.SC_RNA_COUNTER_CS.SC_MULTI_CORE.MULTI_GEM_WELL_PROCESSOR.COUNT_GEM_WELL_PROCESSOR._BASIC_SC_RNA_COUNTER._MATRIX_COMPUTER.ALIGN_AND_COUNT.fork0.chnk1.main\n",
            "2021-04-27 14:05:23 [runtime] (chunks_complete) ID.count.SC_RNA_COUNTER_CS.SC_MULTI_CORE.MULTI_GEM_WELL_PROCESSOR.COUNT_GEM_WELL_PROCESSOR._BASIC_SC_RNA_COUNTER._MATRIX_COMPUTER.WRITE_BARCODE_INDEX\n",
            "2021-04-27 14:10:30 [runtime] (update)          ID.count.SC_RNA_COUNTER_CS.SC_MULTI_CORE.MULTI_GEM_WELL_PROCESSOR.COUNT_GEM_WELL_PROCESSOR._BASIC_SC_RNA_COUNTER._MATRIX_COMPUTER.ALIGN_AND_COUNT.fork0 chunks running (1/2 completed)\n",
            "2021-04-27 14:10:39 [runtime] (chunks_complete) ID.count.SC_RNA_COUNTER_CS.SC_MULTI_CORE.MULTI_GEM_WELL_PROCESSOR.COUNT_GEM_WELL_PROCESSOR._BASIC_SC_RNA_COUNTER._MATRIX_COMPUTER.ALIGN_AND_COUNT\n",
            "2021-04-27 14:10:39 [runtime] (run:local)       ID.count.SC_RNA_COUNTER_CS.SC_MULTI_CORE.MULTI_GEM_WELL_PROCESSOR.COUNT_GEM_WELL_PROCESSOR._BASIC_SC_RNA_COUNTER._MATRIX_COMPUTER.ALIGN_AND_COUNT.fork0.join\n",
            "2021-04-27 14:10:40 [runtime] (join_complete)   ID.count.SC_RNA_COUNTER_CS.SC_MULTI_CORE.MULTI_GEM_WELL_PROCESSOR.COUNT_GEM_WELL_PROCESSOR._BASIC_SC_RNA_COUNTER._MATRIX_COMPUTER.ALIGN_AND_COUNT\n",
            "2021-04-27 14:10:41 [runtime] (ready)           ID.count.SC_RNA_COUNTER_CS.SC_MULTI_CORE.MULTI_GEM_WELL_PROCESSOR.COUNT_GEM_WELL_PROCESSOR._BASIC_SC_RNA_COUNTER.WRITE_POS_BAM\n",
            "2021-04-27 14:10:41 [runtime] (run:local)       ID.count.SC_RNA_COUNTER_CS.SC_MULTI_CORE.MULTI_GEM_WELL_PROCESSOR.COUNT_GEM_WELL_PROCESSOR._BASIC_SC_RNA_COUNTER.WRITE_POS_BAM.fork0.split\n",
            "2021-04-27 14:10:41 [runtime] (ready)           ID.count.SC_RNA_COUNTER_CS.SC_MULTI_CORE.MULTI_GEM_WELL_PROCESSOR.COUNT_GEM_WELL_PROCESSOR._BASIC_SC_RNA_COUNTER._MATRIX_COMPUTER.WRITE_MATRIX_MARKET\n",
            "2021-04-27 14:10:41 [runtime] (run:local)       ID.count.SC_RNA_COUNTER_CS.SC_MULTI_CORE.MULTI_GEM_WELL_PROCESSOR.COUNT_GEM_WELL_PROCESSOR._BASIC_SC_RNA_COUNTER._MATRIX_COMPUTER.WRITE_MATRIX_MARKET.fork0.chnk0.main\n",
            "2021-04-27 14:10:41 [runtime] (ready)           ID.count.SC_RNA_COUNTER_CS.SC_MULTI_CORE.MULTI_GEM_WELL_PROCESSOR.COUNT_GEM_WELL_PROCESSOR._BASIC_SC_RNA_COUNTER._MATRIX_COMPUTER.COLLATE_METRICS\n",
            "2021-04-27 14:10:41 [runtime] (run:local)       ID.count.SC_RNA_COUNTER_CS.SC_MULTI_CORE.MULTI_GEM_WELL_PROCESSOR.COUNT_GEM_WELL_PROCESSOR._BASIC_SC_RNA_COUNTER._MATRIX_COMPUTER.COLLATE_METRICS.fork0.split\n",
            "2021-04-27 14:10:41 [runtime] (ready)           ID.count.SC_RNA_COUNTER_CS.SC_MULTI_CORE.MULTI_GEM_WELL_PROCESSOR.COUNT_GEM_WELL_PROCESSOR._BASIC_SC_RNA_COUNTER._MATRIX_COMPUTER.WRITE_BARCODE_SUMMARY\n",
            "2021-04-27 14:10:41 [runtime] (run:local)       ID.count.SC_RNA_COUNTER_CS.SC_MULTI_CORE.MULTI_GEM_WELL_PROCESSOR.COUNT_GEM_WELL_PROCESSOR._BASIC_SC_RNA_COUNTER._MATRIX_COMPUTER.WRITE_BARCODE_SUMMARY.fork0.chnk0.main\n",
            "2021-04-27 14:10:41 [runtime] (ready)           ID.count.SC_RNA_COUNTER_CS.SC_MULTI_CORE.MULTI_GEM_WELL_PROCESSOR.COUNT_GEM_WELL_PROCESSOR._BASIC_SC_RNA_COUNTER._MATRIX_COMPUTER.WRITE_H5_MATRIX\n",
            "2021-04-27 14:10:41 [runtime] (run:local)       ID.count.SC_RNA_COUNTER_CS.SC_MULTI_CORE.MULTI_GEM_WELL_PROCESSOR.COUNT_GEM_WELL_PROCESSOR._BASIC_SC_RNA_COUNTER._MATRIX_COMPUTER.WRITE_H5_MATRIX.fork0.chnk0.main\n",
            "2021-04-27 14:10:41 [runtime] (split_complete)  ID.count.SC_RNA_COUNTER_CS.SC_MULTI_CORE.MULTI_GEM_WELL_PROCESSOR.COUNT_GEM_WELL_PROCESSOR._BASIC_SC_RNA_COUNTER._MATRIX_COMPUTER.COLLATE_METRICS\n",
            "2021-04-27 14:10:41 [runtime] (run:local)       ID.count.SC_RNA_COUNTER_CS.SC_MULTI_CORE.MULTI_GEM_WELL_PROCESSOR.COUNT_GEM_WELL_PROCESSOR._BASIC_SC_RNA_COUNTER._MATRIX_COMPUTER.COLLATE_METRICS.fork0.chnk0.main\n",
            "2021-04-27 14:10:41 [runtime] (split_complete)  ID.count.SC_RNA_COUNTER_CS.SC_MULTI_CORE.MULTI_GEM_WELL_PROCESSOR.COUNT_GEM_WELL_PROCESSOR._BASIC_SC_RNA_COUNTER.WRITE_POS_BAM\n",
            "2021-04-27 14:10:41 [runtime] (run:local)       ID.count.SC_RNA_COUNTER_CS.SC_MULTI_CORE.MULTI_GEM_WELL_PROCESSOR.COUNT_GEM_WELL_PROCESSOR._BASIC_SC_RNA_COUNTER.WRITE_POS_BAM.fork0.chnk0.main\n",
            "2021-04-27 14:10:41 [runtime] (run:local)       ID.count.SC_RNA_COUNTER_CS.SC_MULTI_CORE.MULTI_GEM_WELL_PROCESSOR.COUNT_GEM_WELL_PROCESSOR._BASIC_SC_RNA_COUNTER.WRITE_POS_BAM.fork0.chnk1.main\n",
            "2021-04-27 14:10:44 [runtime] (chunks_complete) ID.count.SC_RNA_COUNTER_CS.SC_MULTI_CORE.MULTI_GEM_WELL_PROCESSOR.COUNT_GEM_WELL_PROCESSOR._BASIC_SC_RNA_COUNTER._MATRIX_COMPUTER.COLLATE_METRICS\n",
            "2021-04-27 14:10:44 [runtime] (run:local)       ID.count.SC_RNA_COUNTER_CS.SC_MULTI_CORE.MULTI_GEM_WELL_PROCESSOR.COUNT_GEM_WELL_PROCESSOR._BASIC_SC_RNA_COUNTER._MATRIX_COMPUTER.COLLATE_METRICS.fork0.join\n",
            "2021-04-27 14:10:44 [runtime] (join_complete)   ID.count.SC_RNA_COUNTER_CS.SC_MULTI_CORE.MULTI_GEM_WELL_PROCESSOR.COUNT_GEM_WELL_PROCESSOR._BASIC_SC_RNA_COUNTER._MATRIX_COMPUTER.COLLATE_METRICS\n",
            "2021-04-27 14:10:44 [runtime] (ready)           ID.count.SC_RNA_COUNTER_CS.SC_MULTI_CORE.MULTI_GEM_WELL_PROCESSOR.COUNT_GEM_WELL_PROCESSOR._BASIC_SC_RNA_COUNTER._MATRIX_COMPUTER.MERGE_METRICS\n",
            "2021-04-27 14:10:44 [runtime] (run:local)       ID.count.SC_RNA_COUNTER_CS.SC_MULTI_CORE.MULTI_GEM_WELL_PROCESSOR.COUNT_GEM_WELL_PROCESSOR._BASIC_SC_RNA_COUNTER._MATRIX_COMPUTER.MERGE_METRICS.fork0.chnk0.main\n",
            "2021-04-27 14:10:44 [runtime] (chunks_complete) ID.count.SC_RNA_COUNTER_CS.SC_MULTI_CORE.MULTI_GEM_WELL_PROCESSOR.COUNT_GEM_WELL_PROCESSOR._BASIC_SC_RNA_COUNTER._MATRIX_COMPUTER.MERGE_METRICS\n",
            "2021-04-27 14:10:45 [runtime] (chunks_complete) ID.count.SC_RNA_COUNTER_CS.SC_MULTI_CORE.MULTI_GEM_WELL_PROCESSOR.COUNT_GEM_WELL_PROCESSOR._BASIC_SC_RNA_COUNTER._MATRIX_COMPUTER.WRITE_H5_MATRIX\n",
            "2021-04-27 14:10:45 [runtime] (ready)           ID.count.SC_RNA_COUNTER_CS.SC_MULTI_CORE.MULTI_GEM_WELL_PROCESSOR.COUNT_GEM_WELL_PROCESSOR._BASIC_SC_RNA_COUNTER.FILTER_BARCODES\n",
            "2021-04-27 14:10:45 [runtime] (run:local)       ID.count.SC_RNA_COUNTER_CS.SC_MULTI_CORE.MULTI_GEM_WELL_PROCESSOR.COUNT_GEM_WELL_PROCESSOR._BASIC_SC_RNA_COUNTER.FILTER_BARCODES.fork0.split\n",
            "2021-04-27 14:10:46 [runtime] (chunks_complete) ID.count.SC_RNA_COUNTER_CS.SC_MULTI_CORE.MULTI_GEM_WELL_PROCESSOR.COUNT_GEM_WELL_PROCESSOR._BASIC_SC_RNA_COUNTER._MATRIX_COMPUTER.WRITE_MATRIX_MARKET\n",
            "2021-04-27 14:10:47 [runtime] (split_complete)  ID.count.SC_RNA_COUNTER_CS.SC_MULTI_CORE.MULTI_GEM_WELL_PROCESSOR.COUNT_GEM_WELL_PROCESSOR._BASIC_SC_RNA_COUNTER.FILTER_BARCODES\n",
            "2021-04-27 14:10:47 [runtime] (run:local)       ID.count.SC_RNA_COUNTER_CS.SC_MULTI_CORE.MULTI_GEM_WELL_PROCESSOR.COUNT_GEM_WELL_PROCESSOR._BASIC_SC_RNA_COUNTER.FILTER_BARCODES.fork0.join\n",
            "2021-04-27 14:11:00 [runtime] (chunks_complete) ID.count.SC_RNA_COUNTER_CS.SC_MULTI_CORE.MULTI_GEM_WELL_PROCESSOR.COUNT_GEM_WELL_PROCESSOR._BASIC_SC_RNA_COUNTER._MATRIX_COMPUTER.WRITE_BARCODE_SUMMARY\n",
            "2021-04-27 14:11:04 [runtime] (join_complete)   ID.count.SC_RNA_COUNTER_CS.SC_MULTI_CORE.MULTI_GEM_WELL_PROCESSOR.COUNT_GEM_WELL_PROCESSOR._BASIC_SC_RNA_COUNTER.FILTER_BARCODES\n",
            "2021-04-27 14:11:04 [runtime] (ready)           ID.count.SC_RNA_COUNTER_CS.SC_MULTI_CORE.MULTI_GEM_WELL_PROCESSOR.VDJ_B_GEM_WELL_PROCESSOR.SC_VDJ_CONTIG_ASSEMBLER.HANDLE_GEX_CELLS\n",
            "2021-04-27 14:11:04 [runtime] (ready)           ID.count.SC_RNA_COUNTER_CS.SC_MULTI_CORE.MULTI_GEM_WELL_PROCESSOR.COUNT_GEM_WELL_PROCESSOR._BASIC_SC_RNA_COUNTER._ASSIGN_TAGS.CALL_TAGS_MARGINAL\n",
            "2021-04-27 14:11:04 [runtime] (run:local)       ID.count.SC_RNA_COUNTER_CS.SC_MULTI_CORE.MULTI_GEM_WELL_PROCESSOR.COUNT_GEM_WELL_PROCESSOR._BASIC_SC_RNA_COUNTER._ASSIGN_TAGS.CALL_TAGS_MARGINAL.fork0.split\n",
            "2021-04-27 14:11:04 [runtime] (ready)           ID.count.SC_RNA_COUNTER_CS.SC_MULTI_CORE.MULTI_GEM_WELL_PROCESSOR.COUNT_GEM_WELL_PROCESSOR._BASIC_SC_RNA_COUNTER._CELLS_REPORTER.WRITE_MOLECULE_INFO\n",
            "2021-04-27 14:11:04 [runtime] (run:local)       ID.count.SC_RNA_COUNTER_CS.SC_MULTI_CORE.MULTI_GEM_WELL_PROCESSOR.COUNT_GEM_WELL_PROCESSOR._BASIC_SC_RNA_COUNTER._CELLS_REPORTER.WRITE_MOLECULE_INFO.fork0.chnk0.main\n",
            "2021-04-27 14:11:04 [runtime] (ready)           ID.count.SC_RNA_COUNTER_CS.SC_MULTI_CORE.MULTI_GEM_WELL_PROCESSOR.VDJ_T_GEM_WELL_PROCESSOR.SC_VDJ_CONTIG_ASSEMBLER.HANDLE_GEX_CELLS\n",
            "2021-04-27 14:11:05 [runtime] (ready)           ID.count.SC_RNA_COUNTER_CS.SC_MULTI_CORE.VDJ_T_CLONOTYPE_ASSIGNER.CLONOTYPE_ASSIGNER.RUN_ENCLONE\n",
            "2021-04-27 14:11:05 [runtime] (ready)           ID.count.SC_RNA_COUNTER_CS.SC_MULTI_CORE.VDJ_B_CLONOTYPE_ASSIGNER.CLONOTYPE_ASSIGNER.RUN_ENCLONE\n",
            "2021-04-27 14:11:05 [runtime] (ready)           ID.count.SC_RNA_COUNTER_CS.SC_MULTI_CORE.MULTI_REPORTER.VDJ_T_REPORTER.VLOUPE_PREPROCESS\n",
            "2021-04-27 14:11:05 [runtime] (ready)           ID.count.SC_RNA_COUNTER_CS.SC_MULTI_CORE.VDJ_B_CLONOTYPE_ASSIGNER.CLONOTYPE_ASSIGNER.WRITE_CLONOTYPE_OUTS\n",
            "2021-04-27 14:11:05 [runtime] (ready)           ID.count.SC_RNA_COUNTER_CS.SC_MULTI_CORE.MULTI_REPORTER.VDJ_B_REPORTER.VLOUPE_PREPROCESS\n",
            "2021-04-27 14:11:05 [runtime] (ready)           ID.count.SC_RNA_COUNTER_CS.SC_MULTI_CORE.VDJ_B_CLONOTYPE_ASSIGNER.CLONOTYPE_ASSIGNER.FILL_CLONOTYPE_INFO\n",
            "2021-04-27 14:11:05 [runtime] (ready)           ID.count.SC_RNA_COUNTER_CS.SC_MULTI_CORE.VDJ_T_CLONOTYPE_ASSIGNER.CLONOTYPE_ASSIGNER.WRITE_CONSENSUS_TXT\n",
            "2021-04-27 14:11:05 [runtime] (ready)           ID.count.SC_RNA_COUNTER_CS.SC_MULTI_CORE.VDJ_B_CLONOTYPE_ASSIGNER.CLONOTYPE_ASSIGNER.WRITE_CONSENSUS_TXT\n",
            "2021-04-27 14:11:05 [runtime] (ready)           ID.count.SC_RNA_COUNTER_CS.SC_MULTI_CORE.VDJ_T_CLONOTYPE_ASSIGNER.CLONOTYPE_ASSIGNER.FILL_CLONOTYPE_INFO\n",
            "2021-04-27 14:11:05 [runtime] (ready)           ID.count.SC_RNA_COUNTER_CS.SC_MULTI_CORE.VDJ_T_CLONOTYPE_ASSIGNER.CLONOTYPE_ASSIGNER.WRITE_CLONOTYPE_OUTS\n",
            "2021-04-27 14:11:05 [runtime] (ready)           ID.count.SC_RNA_COUNTER_CS.SC_MULTI_CORE.COPY_VDJ_REFERENCE\n",
            "2021-04-27 14:11:05 [runtime] (ready)           ID.count.SC_RNA_COUNTER_CS.SC_MULTI_CORE.VDJ_B_CLONOTYPE_ASSIGNER.CLONOTYPE_ASSIGNER.WRITE_CONCAT_REF_OUTS\n",
            "2021-04-27 14:11:05 [runtime] (ready)           ID.count.SC_RNA_COUNTER_CS.SC_MULTI_CORE.VDJ_B_CLONOTYPE_ASSIGNER.CLONOTYPE_ASSIGNER.WRITE_CONSENSUS_BAM\n",
            "2021-04-27 14:11:05 [runtime] (ready)           ID.count.SC_RNA_COUNTER_CS.SC_MULTI_CORE.VDJ_T_CLONOTYPE_ASSIGNER.CLONOTYPE_ASSIGNER.WRITE_ANN_CSV\n",
            "2021-04-27 14:11:05 [runtime] (ready)           ID.count.SC_RNA_COUNTER_CS.SC_MULTI_CORE.VDJ_B_CLONOTYPE_ASSIGNER.CLONOTYPE_ASSIGNER.WRITE_ANN_CSV\n",
            "2021-04-27 14:11:05 [runtime] (ready)           ID.count.SC_RNA_COUNTER_CS.SC_MULTI_CORE.VDJ_T_CLONOTYPE_ASSIGNER.CLONOTYPE_ASSIGNER.WRITE_CONSENSUS_BAM\n",
            "2021-04-27 14:11:05 [runtime] (ready)           ID.count.SC_RNA_COUNTER_CS.SC_MULTI_CORE.VDJ_T_CLONOTYPE_ASSIGNER.CLONOTYPE_ASSIGNER.WRITE_CONCAT_REF_OUTS\n",
            "2021-04-27 14:11:05 [runtime] (ready)           ID.count.SC_RNA_COUNTER_CS.SC_MULTI_CORE.VDJ_B_CLONOTYPE_ASSIGNER.HANDLE_NO_VDJ_REF\n",
            "2021-04-27 14:11:05 [runtime] (ready)           ID.count.SC_RNA_COUNTER_CS.SC_MULTI_CORE.VDJ_T_CLONOTYPE_ASSIGNER.HANDLE_NO_VDJ_REF\n",
            "2021-04-27 14:11:05 [runtime] (ready)           ID.count.SC_RNA_COUNTER_CS.SC_MULTI_CORE.VDJ_B_CLONOTYPE_ASSIGNER.CLONOTYPE_ASSIGNER.CREATE_AIRR_TSV\n",
            "2021-04-27 14:11:05 [runtime] (ready)           ID.count.SC_RNA_COUNTER_CS.SC_MULTI_CORE.VDJ_T_CLONOTYPE_ASSIGNER.CLONOTYPE_ASSIGNER.CREATE_AIRR_TSV\n",
            "2021-04-27 14:11:05 [runtime] (ready)           ID.count.SC_RNA_COUNTER_CS.SC_MULTI_CORE.MULTI_REPORTER.VDJ_T_REPORTER.WRITE_CONTIG_OUTS\n",
            "2021-04-27 14:11:05 [runtime] (ready)           ID.count.SC_RNA_COUNTER_CS.SC_MULTI_CORE.MULTI_REPORTER.VDJ_B_REPORTER.WRITE_CONTIG_OUTS\n",
            "2021-04-27 14:11:05 [runtime] (ready)           ID.count.SC_RNA_COUNTER_CS.SC_MULTI_CORE.MULTI_REPORTER.VDJ_T_REPORTER.REPORT_CONTIGS\n",
            "2021-04-27 14:11:05 [runtime] (ready)           ID.count.SC_RNA_COUNTER_CS.SC_MULTI_CORE.MULTI_REPORTER.VDJ_B_REPORTER.REPORT_CONTIGS\n",
            "2021-04-27 14:11:05 [runtime] (ready)           ID.count.SC_RNA_COUNTER_CS.SC_MULTI_CORE.MULTI_REPORTER.VDJ_T_REPORTER.SUMMARIZE_VDJ_REPORTS\n",
            "2021-04-27 14:11:05 [runtime] (ready)           ID.count.SC_RNA_COUNTER_CS.SC_MULTI_CORE.MULTI_REPORTER.VDJ_B_REPORTER.SUMMARIZE_VDJ_REPORTS\n",
            "2021-04-27 14:11:05 [runtime] (ready)           ID.count.SC_RNA_COUNTER_CS.SC_MULTI_CORE.MULTI_REPORTER.VDJ_T_REPORTER.WRITE_CONTIG_PROTO\n",
            "2021-04-27 14:11:05 [runtime] (ready)           ID.count.SC_RNA_COUNTER_CS.SC_MULTI_CORE.MULTI_REPORTER.VDJ_B_REPORTER.WRITE_CONTIG_PROTO\n",
            "2021-04-27 14:11:08 [runtime] (split_complete)  ID.count.SC_RNA_COUNTER_CS.SC_MULTI_CORE.MULTI_GEM_WELL_PROCESSOR.COUNT_GEM_WELL_PROCESSOR._BASIC_SC_RNA_COUNTER._ASSIGN_TAGS.CALL_TAGS_MARGINAL\n",
            "2021-04-27 14:11:08 [runtime] (run:local)       ID.count.SC_RNA_COUNTER_CS.SC_MULTI_CORE.MULTI_GEM_WELL_PROCESSOR.COUNT_GEM_WELL_PROCESSOR._BASIC_SC_RNA_COUNTER._ASSIGN_TAGS.CALL_TAGS_MARGINAL.fork0.join\n",
            "2021-04-27 14:11:11 [runtime] (join_complete)   ID.count.SC_RNA_COUNTER_CS.SC_MULTI_CORE.MULTI_GEM_WELL_PROCESSOR.COUNT_GEM_WELL_PROCESSOR._BASIC_SC_RNA_COUNTER._ASSIGN_TAGS.CALL_TAGS_MARGINAL\n",
            "2021-04-27 14:11:29 [runtime] (chunks_complete) ID.count.SC_RNA_COUNTER_CS.SC_MULTI_CORE.MULTI_GEM_WELL_PROCESSOR.COUNT_GEM_WELL_PROCESSOR._BASIC_SC_RNA_COUNTER._CELLS_REPORTER.WRITE_MOLECULE_INFO\n",
            "2021-04-27 14:11:29 [runtime] (ready)           ID.count.SC_RNA_COUNTER_CS.SC_MULTI_CORE.MULTI_GEM_WELL_PROCESSOR.COUNT_GEM_WELL_PROCESSOR._BASIC_SC_RNA_COUNTER._ASSIGN_TAGS.CALL_TAGS_JIBES\n",
            "2021-04-27 14:11:29 [runtime] (run:local)       ID.count.SC_RNA_COUNTER_CS.SC_MULTI_CORE.MULTI_GEM_WELL_PROCESSOR.COUNT_GEM_WELL_PROCESSOR._BASIC_SC_RNA_COUNTER._ASSIGN_TAGS.CALL_TAGS_JIBES.fork0.split\n",
            "2021-04-27 14:11:29 [runtime] (ready)           ID.count.SC_RNA_COUNTER_CS.SC_MULTI_CORE.MULTI_GEM_WELL_PROCESSOR.COUNT_GEM_WELL_PROCESSOR._BASIC_SC_RNA_COUNTER._CELLS_REPORTER.SUBSAMPLE_READS\n",
            "2021-04-27 14:11:29 [runtime] (run:local)       ID.count.SC_RNA_COUNTER_CS.SC_MULTI_CORE.MULTI_GEM_WELL_PROCESSOR.COUNT_GEM_WELL_PROCESSOR._BASIC_SC_RNA_COUNTER._CELLS_REPORTER.SUBSAMPLE_READS.fork0.split\n",
            "2021-04-27 14:11:31 [runtime] (split_complete)  ID.count.SC_RNA_COUNTER_CS.SC_MULTI_CORE.MULTI_GEM_WELL_PROCESSOR.COUNT_GEM_WELL_PROCESSOR._BASIC_SC_RNA_COUNTER._CELLS_REPORTER.SUBSAMPLE_READS\n",
            "2021-04-27 14:11:31 [runtime] (run:local)       ID.count.SC_RNA_COUNTER_CS.SC_MULTI_CORE.MULTI_GEM_WELL_PROCESSOR.COUNT_GEM_WELL_PROCESSOR._BASIC_SC_RNA_COUNTER._CELLS_REPORTER.SUBSAMPLE_READS.fork0.chnk0.main\n",
            "2021-04-27 14:11:31 [runtime] (run:local)       ID.count.SC_RNA_COUNTER_CS.SC_MULTI_CORE.MULTI_GEM_WELL_PROCESSOR.COUNT_GEM_WELL_PROCESSOR._BASIC_SC_RNA_COUNTER._CELLS_REPORTER.SUBSAMPLE_READS.fork0.chnk1.main\n",
            "2021-04-27 14:11:31 [runtime] (run:local)       ID.count.SC_RNA_COUNTER_CS.SC_MULTI_CORE.MULTI_GEM_WELL_PROCESSOR.COUNT_GEM_WELL_PROCESSOR._BASIC_SC_RNA_COUNTER._CELLS_REPORTER.SUBSAMPLE_READS.fork0.chnk2.main\n",
            "2021-04-27 14:11:34 [runtime] (split_complete)  ID.count.SC_RNA_COUNTER_CS.SC_MULTI_CORE.MULTI_GEM_WELL_PROCESSOR.COUNT_GEM_WELL_PROCESSOR._BASIC_SC_RNA_COUNTER._ASSIGN_TAGS.CALL_TAGS_JIBES\n",
            "2021-04-27 14:11:34 [runtime] (run:local)       ID.count.SC_RNA_COUNTER_CS.SC_MULTI_CORE.MULTI_GEM_WELL_PROCESSOR.COUNT_GEM_WELL_PROCESSOR._BASIC_SC_RNA_COUNTER._ASSIGN_TAGS.CALL_TAGS_JIBES.fork0.join\n",
            "2021-04-27 14:11:37 [runtime] (join_complete)   ID.count.SC_RNA_COUNTER_CS.SC_MULTI_CORE.MULTI_GEM_WELL_PROCESSOR.COUNT_GEM_WELL_PROCESSOR._BASIC_SC_RNA_COUNTER._ASSIGN_TAGS.CALL_TAGS_JIBES\n",
            "2021-04-27 14:11:37 [runtime] (ready)           ID.count.SC_RNA_COUNTER_CS.SC_MULTI_CORE.MULTI_GEM_WELL_PROCESSOR.COUNT_GEM_WELL_PROCESSOR._BASIC_SC_RNA_COUNTER._ASSIGN_TAGS.DETERMINE_SAMPLE_ASSIGNMENTS\n",
            "2021-04-27 14:11:37 [runtime] (run:local)       ID.count.SC_RNA_COUNTER_CS.SC_MULTI_CORE.MULTI_GEM_WELL_PROCESSOR.COUNT_GEM_WELL_PROCESSOR._BASIC_SC_RNA_COUNTER._ASSIGN_TAGS.DETERMINE_SAMPLE_ASSIGNMENTS.fork0.chnk0.main\n",
            "2021-04-27 14:11:37 [runtime] (ready)           ID.count.SC_RNA_COUNTER_CS.SC_MULTI_CORE.MULTI_GEM_WELL_PROCESSOR.COUNT_GEM_WELL_PROCESSOR._BASIC_SC_RNA_COUNTER._ASSIGN_TAGS.SUMMARIZE_MULTIPLEXING_ANALYSIS\n",
            "2021-04-27 14:11:37 [runtime] (run:local)       ID.count.SC_RNA_COUNTER_CS.SC_MULTI_CORE.MULTI_GEM_WELL_PROCESSOR.COUNT_GEM_WELL_PROCESSOR._BASIC_SC_RNA_COUNTER._ASSIGN_TAGS.SUMMARIZE_MULTIPLEXING_ANALYSIS.fork0.chnk0.main\n",
            "2021-04-27 14:11:38 [runtime] (chunks_complete) ID.count.SC_RNA_COUNTER_CS.SC_MULTI_CORE.MULTI_GEM_WELL_PROCESSOR.COUNT_GEM_WELL_PROCESSOR._BASIC_SC_RNA_COUNTER._ASSIGN_TAGS.DETERMINE_SAMPLE_ASSIGNMENTS\n",
            "2021-04-27 14:11:38 [runtime] (ready)           ID.count.SC_RNA_COUNTER_CS.SC_MULTI_CORE.MULTI_GEM_WELL_PROCESSOR.COUNT_GEM_WELL_PROCESSOR._BASIC_SC_RNA_COUNTER.MULTI_WRITE_PER_SAMPLE_BAM\n",
            "2021-04-27 14:11:38 [runtime] (ready)           ID.count.SC_RNA_COUNTER_CS.SC_MULTI_CORE.MULTI_GEM_WELL_PROCESSOR.COUNT_GEM_WELL_PROCESSOR._BASIC_SC_RNA_COUNTER.MULTI_COLLATE_PER_SAMPLE_METRICS\n",
            "2021-04-27 14:11:38 [runtime] (ready)           ID.count.SC_RNA_COUNTER_CS.SC_MULTI_CORE.MULTI_GEM_WELL_PROCESSOR.COUNT_GEM_WELL_PROCESSOR._BASIC_SC_RNA_COUNTER.MULTI_WRITE_PER_SAMPLE_MATRICES\n",
            "2021-04-27 14:11:38 [runtime] (ready)           ID.count.SC_RNA_COUNTER_CS.SC_MULTI_CORE.STRUCTIFY_PER_SAMPLE_OUTS\n",
            "2021-04-27 14:11:38 [runtime] (run:local)       ID.count.SC_RNA_COUNTER_CS.SC_MULTI_CORE.STRUCTIFY_PER_SAMPLE_OUTS.fork0.chnk0.main\n",
            "2021-04-27 14:11:38 [runtime] (ready)           ID.count.SC_RNA_COUNTER_CS.SC_MULTI_CORE.MULTI_GEM_WELL_PROCESSOR.COUNT_GEM_WELL_PROCESSOR._BASIC_SC_RNA_COUNTER.MULTI_WRITE_PER_SAMPLE_MOLECULE_INFO\n",
            "2021-04-27 14:11:38 [runtime] (ready)           ID.count.SC_RNA_COUNTER_CS.SC_MULTI_CORE.MULTI_GEM_WELL_PROCESSOR.COUNT_GEM_WELL_PROCESSOR._BASIC_SC_RNA_COUNTER._ASSIGN_TAGS.COMPUTE_EXTRA_MULTIPLEXING_METRICS\n",
            "2021-04-27 14:11:38 [runtime] (run:local)       ID.count.SC_RNA_COUNTER_CS.SC_MULTI_CORE.MULTI_GEM_WELL_PROCESSOR.COUNT_GEM_WELL_PROCESSOR._BASIC_SC_RNA_COUNTER._ASSIGN_TAGS.COMPUTE_EXTRA_MULTIPLEXING_METRICS.fork0.chnk0.main\n",
            "2021-04-27 14:11:38 [runtime] (chunks_complete) ID.count.SC_RNA_COUNTER_CS.SC_MULTI_CORE.MULTI_GEM_WELL_PROCESSOR.COUNT_GEM_WELL_PROCESSOR._BASIC_SC_RNA_COUNTER._ASSIGN_TAGS.SUMMARIZE_MULTIPLEXING_ANALYSIS\n",
            "2021-04-27 14:11:38 [runtime] (chunks_complete) ID.count.SC_RNA_COUNTER_CS.SC_MULTI_CORE.STRUCTIFY_PER_SAMPLE_OUTS\n",
            "2021-04-27 14:11:38 [runtime] (ready)           ID.count.SC_RNA_COUNTER_CS.SC_MULTI_CORE.DISABLE_FEATURE_STAGES\n",
            "2021-04-27 14:11:38 [runtime] (run:local)       ID.count.SC_RNA_COUNTER_CS.SC_MULTI_CORE.DISABLE_FEATURE_STAGES.fork0.chnk0.main\n",
            "2021-04-27 14:11:38 [runtime] (chunks_complete) ID.count.SC_RNA_COUNTER_CS.SC_MULTI_CORE.DISABLE_FEATURE_STAGES\n",
            "2021-04-27 14:11:38 [runtime] (ready)           ID.count.SC_RNA_COUNTER_CS.SC_MULTI_CORE.COUNT_ANALYZER._TARGETED_ANALYZER.SUBSAMPLE_OFF_TARGET_READS\n",
            "2021-04-27 14:11:38 [runtime] (ready)           ID.count.SC_RNA_COUNTER_CS.SC_MULTI_CORE.COUNT_ANALYZER.SC_RNA_ANALYZER.ANALYZER_PREFLIGHT\n",
            "2021-04-27 14:11:38 [runtime] (run:local)       ID.count.SC_RNA_COUNTER_CS.SC_MULTI_CORE.COUNT_ANALYZER.SC_RNA_ANALYZER.ANALYZER_PREFLIGHT.fork0.chnk0.main\n",
            "2021-04-27 14:11:38 [runtime] (ready)           ID.count.SC_RNA_COUNTER_CS.SC_MULTI_CORE.COUNT_ANALYZER.SC_RNA_ANALYZER.CHOOSE_DIMENSION_REDUCTION\n",
            "2021-04-27 14:11:38 [runtime] (run:local)       ID.count.SC_RNA_COUNTER_CS.SC_MULTI_CORE.COUNT_ANALYZER.SC_RNA_ANALYZER.CHOOSE_DIMENSION_REDUCTION.fork0.chnk0.main\n",
            "2021-04-27 14:11:38 [runtime] (ready)           ID.count.SC_RNA_COUNTER_CS.SC_MULTI_CORE.COUNT_ANALYZER._TARGETED_ANALYZER.SUBSAMPLE_ON_TARGET_READS\n",
            "2021-04-27 14:11:38 [runtime] (chunks_complete) ID.count.SC_RNA_COUNTER_CS.SC_MULTI_CORE.COUNT_ANALYZER.SC_RNA_ANALYZER.CHOOSE_DIMENSION_REDUCTION\n",
            "2021-04-27 14:11:39 [runtime] (chunks_complete) ID.count.SC_RNA_COUNTER_CS.SC_MULTI_CORE.MULTI_GEM_WELL_PROCESSOR.COUNT_GEM_WELL_PROCESSOR._BASIC_SC_RNA_COUNTER._ASSIGN_TAGS.COMPUTE_EXTRA_MULTIPLEXING_METRICS\n",
            "2021-04-27 14:11:39 [runtime] (ready)           ID.count.SC_RNA_COUNTER_CS.SC_MULTI_CORE.MULTI_GEM_WELL_PROCESSOR.COUNT_GEM_WELL_PROCESSOR._BASIC_SC_RNA_COUNTER._ASSIGN_TAGS.MERGE_METRICS\n",
            "2021-04-27 14:11:39 [runtime] (run:local)       ID.count.SC_RNA_COUNTER_CS.SC_MULTI_CORE.MULTI_GEM_WELL_PROCESSOR.COUNT_GEM_WELL_PROCESSOR._BASIC_SC_RNA_COUNTER._ASSIGN_TAGS.MERGE_METRICS.fork0.chnk0.main\n",
            "2021-04-27 14:11:39 [runtime] (chunks_complete) ID.count.SC_RNA_COUNTER_CS.SC_MULTI_CORE.MULTI_GEM_WELL_PROCESSOR.COUNT_GEM_WELL_PROCESSOR._BASIC_SC_RNA_COUNTER._ASSIGN_TAGS.MERGE_METRICS\n",
            "2021-04-27 14:11:40 [runtime] (chunks_complete) ID.count.SC_RNA_COUNTER_CS.SC_MULTI_CORE.COUNT_ANALYZER.SC_RNA_ANALYZER.ANALYZER_PREFLIGHT\n",
            "2021-04-27 14:11:40 [runtime] (ready)           ID.count.SC_RNA_COUNTER_CS.SC_MULTI_CORE.COUNT_ANALYZER.SC_RNA_ANALYZER.PREPROCESS_MATRIX\n",
            "2021-04-27 14:11:40 [runtime] (run:local)       ID.count.SC_RNA_COUNTER_CS.SC_MULTI_CORE.COUNT_ANALYZER.SC_RNA_ANALYZER.PREPROCESS_MATRIX.fork0.split\n",
            "2021-04-27 14:11:41 [runtime] (split_complete)  ID.count.SC_RNA_COUNTER_CS.SC_MULTI_CORE.COUNT_ANALYZER.SC_RNA_ANALYZER.PREPROCESS_MATRIX\n",
            "2021-04-27 14:11:41 [runtime] (run:local)       ID.count.SC_RNA_COUNTER_CS.SC_MULTI_CORE.COUNT_ANALYZER.SC_RNA_ANALYZER.PREPROCESS_MATRIX.fork0.join\n",
            "2021-04-27 14:11:43 [runtime] (join_complete)   ID.count.SC_RNA_COUNTER_CS.SC_MULTI_CORE.COUNT_ANALYZER.SC_RNA_ANALYZER.PREPROCESS_MATRIX\n",
            "2021-04-27 14:11:43 [runtime] (ready)           ID.count.SC_RNA_COUNTER_CS.SC_MULTI_CORE.COUNT_ANALYZER.SC_RNA_ANALYZER.RUN_PCA\n",
            "2021-04-27 14:11:43 [runtime] (run:local)       ID.count.SC_RNA_COUNTER_CS.SC_MULTI_CORE.COUNT_ANALYZER.SC_RNA_ANALYZER.RUN_PCA.fork0.split\n",
            "2021-04-27 14:11:43 [runtime] (ready)           ID.count.SC_RNA_COUNTER_CS.SC_MULTI_CORE.COUNT_ANALYZER.SC_RNA_ANALYZER.RUN_FBPCA\n",
            "2021-04-27 14:11:43 [runtime] (ready)           ID.count.SC_RNA_COUNTER_CS.SC_MULTI_CORE.COUNT_ANALYZER.SC_RNA_ANALYZER.RUN_MULTIGENOME_ANALYSIS\n",
            "2021-04-27 14:11:43 [runtime] (run:local)       ID.count.SC_RNA_COUNTER_CS.SC_MULTI_CORE.COUNT_ANALYZER.SC_RNA_ANALYZER.RUN_MULTIGENOME_ANALYSIS.fork0.split\n",
            "2021-04-27 14:11:43 [runtime] (ready)           ID.count.SC_RNA_COUNTER_CS.SC_MULTI_CORE.COUNT_ANALYZER.SC_RNA_ANALYZER.CORRECT_CHEMISTRY_BATCH\n",
            "2021-04-27 14:11:44 [runtime] (split_complete)  ID.count.SC_RNA_COUNTER_CS.SC_MULTI_CORE.COUNT_ANALYZER.SC_RNA_ANALYZER.RUN_PCA\n",
            "2021-04-27 14:11:44 [runtime] (run:local)       ID.count.SC_RNA_COUNTER_CS.SC_MULTI_CORE.COUNT_ANALYZER.SC_RNA_ANALYZER.RUN_PCA.fork0.chnk0.main\n",
            "2021-04-27 14:11:45 [runtime] (split_complete)  ID.count.SC_RNA_COUNTER_CS.SC_MULTI_CORE.COUNT_ANALYZER.SC_RNA_ANALYZER.RUN_MULTIGENOME_ANALYSIS\n",
            "2021-04-27 14:11:45 [runtime] (run:local)       ID.count.SC_RNA_COUNTER_CS.SC_MULTI_CORE.COUNT_ANALYZER.SC_RNA_ANALYZER.RUN_MULTIGENOME_ANALYSIS.fork0.join\n",
            "2021-04-27 14:11:46 [runtime] (chunks_complete) ID.count.SC_RNA_COUNTER_CS.SC_MULTI_CORE.COUNT_ANALYZER.SC_RNA_ANALYZER.RUN_PCA\n",
            "2021-04-27 14:11:46 [runtime] (run:local)       ID.count.SC_RNA_COUNTER_CS.SC_MULTI_CORE.COUNT_ANALYZER.SC_RNA_ANALYZER.RUN_PCA.fork0.join\n",
            "2021-04-27 14:11:46 [runtime] (join_complete)   ID.count.SC_RNA_COUNTER_CS.SC_MULTI_CORE.COUNT_ANALYZER.SC_RNA_ANALYZER.RUN_MULTIGENOME_ANALYSIS\n",
            "2021-04-27 14:11:48 [runtime] (join_complete)   ID.count.SC_RNA_COUNTER_CS.SC_MULTI_CORE.COUNT_ANALYZER.SC_RNA_ANALYZER.RUN_PCA\n",
            "2021-04-27 14:11:48 [runtime] (ready)           ID.count.SC_RNA_COUNTER_CS.SC_MULTI_CORE.COUNT_ANALYZER.SC_RNA_ANALYZER.CHOOSE_DIMENSION_REDUCTION_OUTPUT\n",
            "2021-04-27 14:11:48 [runtime] (run:local)       ID.count.SC_RNA_COUNTER_CS.SC_MULTI_CORE.COUNT_ANALYZER.SC_RNA_ANALYZER.CHOOSE_DIMENSION_REDUCTION_OUTPUT.fork0.chnk0.main\n",
            "2021-04-27 14:11:48 [runtime] (chunks_complete) ID.count.SC_RNA_COUNTER_CS.SC_MULTI_CORE.COUNT_ANALYZER.SC_RNA_ANALYZER.CHOOSE_DIMENSION_REDUCTION_OUTPUT\n",
            "2021-04-27 14:11:48 [runtime] (ready)           ID.count.SC_RNA_COUNTER_CS.SC_MULTI_CORE.COUNT_ANALYZER.SC_RNA_ANALYZER.RUN_UMAP\n",
            "2021-04-27 14:11:48 [runtime] (run:local)       ID.count.SC_RNA_COUNTER_CS.SC_MULTI_CORE.COUNT_ANALYZER.SC_RNA_ANALYZER.RUN_UMAP.fork0.split\n",
            "2021-04-27 14:11:48 [runtime] (ready)           ID.count.SC_RNA_COUNTER_CS.SC_MULTI_CORE.COUNT_ANALYZER.SC_RNA_ANALYZER.RUN_GRAPH_CLUSTERING\n",
            "2021-04-27 14:11:48 [runtime] (run:local)       ID.count.SC_RNA_COUNTER_CS.SC_MULTI_CORE.COUNT_ANALYZER.SC_RNA_ANALYZER.RUN_GRAPH_CLUSTERING.fork0.split\n",
            "2021-04-27 14:11:48 [runtime] (ready)           ID.count.SC_RNA_COUNTER_CS.SC_MULTI_CORE.COUNT_ANALYZER.SC_RNA_ANALYZER.RUN_KMEANS\n",
            "2021-04-27 14:11:48 [runtime] (run:local)       ID.count.SC_RNA_COUNTER_CS.SC_MULTI_CORE.COUNT_ANALYZER.SC_RNA_ANALYZER.RUN_KMEANS.fork0.split\n",
            "2021-04-27 14:11:48 [runtime] (ready)           ID.count.SC_RNA_COUNTER_CS.SC_MULTI_CORE.COUNT_ANALYZER.SC_RNA_ANALYZER.RUN_TSNE\n",
            "2021-04-27 14:11:48 [runtime] (run:local)       ID.count.SC_RNA_COUNTER_CS.SC_MULTI_CORE.COUNT_ANALYZER.SC_RNA_ANALYZER.RUN_TSNE.fork0.split\n",
            "2021-04-27 14:11:50 [runtime] (split_complete)  ID.count.SC_RNA_COUNTER_CS.SC_MULTI_CORE.COUNT_ANALYZER.SC_RNA_ANALYZER.RUN_TSNE\n",
            "2021-04-27 14:11:50 [runtime] (run:local)       ID.count.SC_RNA_COUNTER_CS.SC_MULTI_CORE.COUNT_ANALYZER.SC_RNA_ANALYZER.RUN_TSNE.fork0.join\n",
            "2021-04-27 14:11:50 [runtime] (split_complete)  ID.count.SC_RNA_COUNTER_CS.SC_MULTI_CORE.COUNT_ANALYZER.SC_RNA_ANALYZER.RUN_KMEANS\n",
            "2021-04-27 14:11:50 [runtime] (run:local)       ID.count.SC_RNA_COUNTER_CS.SC_MULTI_CORE.COUNT_ANALYZER.SC_RNA_ANALYZER.RUN_KMEANS.fork0.join\n",
            "2021-04-27 14:11:50 [runtime] (split_complete)  ID.count.SC_RNA_COUNTER_CS.SC_MULTI_CORE.COUNT_ANALYZER.SC_RNA_ANALYZER.RUN_GRAPH_CLUSTERING\n",
            "2021-04-27 14:11:50 [runtime] (run:local)       ID.count.SC_RNA_COUNTER_CS.SC_MULTI_CORE.COUNT_ANALYZER.SC_RNA_ANALYZER.RUN_GRAPH_CLUSTERING.fork0.join\n",
            "2021-04-27 14:11:51 [runtime] (join_complete)   ID.count.SC_RNA_COUNTER_CS.SC_MULTI_CORE.COUNT_ANALYZER.SC_RNA_ANALYZER.RUN_TSNE\n",
            "2021-04-27 14:11:52 [runtime] (join_complete)   ID.count.SC_RNA_COUNTER_CS.SC_MULTI_CORE.COUNT_ANALYZER.SC_RNA_ANALYZER.RUN_KMEANS\n",
            "2021-04-27 14:11:52 [runtime] (join_complete)   ID.count.SC_RNA_COUNTER_CS.SC_MULTI_CORE.COUNT_ANALYZER.SC_RNA_ANALYZER.RUN_GRAPH_CLUSTERING\n",
            "2021-04-27 14:11:52 [runtime] (ready)           ID.count.SC_RNA_COUNTER_CS.SC_MULTI_CORE.COUNT_ANALYZER.SC_RNA_ANALYZER.MERGE_CLUSTERS\n",
            "2021-04-27 14:11:52 [runtime] (run:local)       ID.count.SC_RNA_COUNTER_CS.SC_MULTI_CORE.COUNT_ANALYZER.SC_RNA_ANALYZER.MERGE_CLUSTERS.fork0.split\n",
            "2021-04-27 14:11:54 [runtime] (split_complete)  ID.count.SC_RNA_COUNTER_CS.SC_MULTI_CORE.COUNT_ANALYZER.SC_RNA_ANALYZER.MERGE_CLUSTERS\n",
            "2021-04-27 14:11:54 [runtime] (run:local)       ID.count.SC_RNA_COUNTER_CS.SC_MULTI_CORE.COUNT_ANALYZER.SC_RNA_ANALYZER.MERGE_CLUSTERS.fork0.join\n",
            "2021-04-27 14:11:54 [runtime] (split_complete)  ID.count.SC_RNA_COUNTER_CS.SC_MULTI_CORE.COUNT_ANALYZER.SC_RNA_ANALYZER.RUN_UMAP\n",
            "2021-04-27 14:11:54 [runtime] (run:local)       ID.count.SC_RNA_COUNTER_CS.SC_MULTI_CORE.COUNT_ANALYZER.SC_RNA_ANALYZER.RUN_UMAP.fork0.join\n",
            "2021-04-27 14:11:56 [runtime] (join_complete)   ID.count.SC_RNA_COUNTER_CS.SC_MULTI_CORE.COUNT_ANALYZER.SC_RNA_ANALYZER.MERGE_CLUSTERS\n",
            "2021-04-27 14:11:56 [runtime] (ready)           ID.count.SC_RNA_COUNTER_CS.SC_MULTI_CORE.COUNT_ANALYZER.SC_RNA_ANALYZER.COMBINE_CLUSTERING\n",
            "2021-04-27 14:11:56 [runtime] (run:local)       ID.count.SC_RNA_COUNTER_CS.SC_MULTI_CORE.COUNT_ANALYZER.SC_RNA_ANALYZER.COMBINE_CLUSTERING.fork0.chnk0.main\n",
            "2021-04-27 14:11:56 [runtime] (chunks_complete) ID.count.SC_RNA_COUNTER_CS.SC_MULTI_CORE.COUNT_ANALYZER.SC_RNA_ANALYZER.COMBINE_CLUSTERING\n",
            "2021-04-27 14:11:56 [runtime] (ready)           ID.count.SC_RNA_COUNTER_CS.SC_MULTI_CORE.COUNT_ANALYZER.SC_RNA_ANALYZER.RUN_DIFFERENTIAL_EXPRESSION\n",
            "2021-04-27 14:11:56 [runtime] (run:local)       ID.count.SC_RNA_COUNTER_CS.SC_MULTI_CORE.COUNT_ANALYZER.SC_RNA_ANALYZER.RUN_DIFFERENTIAL_EXPRESSION.fork0.split\n",
            "2021-04-27 14:11:58 [runtime] (split_complete)  ID.count.SC_RNA_COUNTER_CS.SC_MULTI_CORE.COUNT_ANALYZER.SC_RNA_ANALYZER.RUN_DIFFERENTIAL_EXPRESSION\n",
            "2021-04-27 14:11:58 [runtime] (run:local)       ID.count.SC_RNA_COUNTER_CS.SC_MULTI_CORE.COUNT_ANALYZER.SC_RNA_ANALYZER.RUN_DIFFERENTIAL_EXPRESSION.fork0.join\n",
            "2021-04-27 14:11:59 [runtime] (join_complete)   ID.count.SC_RNA_COUNTER_CS.SC_MULTI_CORE.COUNT_ANALYZER.SC_RNA_ANALYZER.RUN_UMAP\n",
            "2021-04-27 14:12:00 [runtime] (join_complete)   ID.count.SC_RNA_COUNTER_CS.SC_MULTI_CORE.COUNT_ANALYZER.SC_RNA_ANALYZER.RUN_DIFFERENTIAL_EXPRESSION\n",
            "2021-04-27 14:12:00 [runtime] (ready)           ID.count.SC_RNA_COUNTER_CS.SC_MULTI_CORE.COUNT_ANALYZER.SC_RNA_ANALYZER.SUMMARIZE_ANALYSIS\n",
            "2021-04-27 14:12:00 [runtime] (run:local)       ID.count.SC_RNA_COUNTER_CS.SC_MULTI_CORE.COUNT_ANALYZER.SC_RNA_ANALYZER.SUMMARIZE_ANALYSIS.fork0.split\n",
            "2021-04-27 14:12:01 [runtime] (split_complete)  ID.count.SC_RNA_COUNTER_CS.SC_MULTI_CORE.COUNT_ANALYZER.SC_RNA_ANALYZER.SUMMARIZE_ANALYSIS\n",
            "2021-04-27 14:12:01 [runtime] (run:local)       ID.count.SC_RNA_COUNTER_CS.SC_MULTI_CORE.COUNT_ANALYZER.SC_RNA_ANALYZER.SUMMARIZE_ANALYSIS.fork0.chnk0.main\n",
            "2021-04-27 14:12:01 [runtime] (chunks_complete) ID.count.SC_RNA_COUNTER_CS.SC_MULTI_CORE.COUNT_ANALYZER.SC_RNA_ANALYZER.SUMMARIZE_ANALYSIS\n",
            "2021-04-27 14:12:01 [runtime] (run:local)       ID.count.SC_RNA_COUNTER_CS.SC_MULTI_CORE.COUNT_ANALYZER.SC_RNA_ANALYZER.SUMMARIZE_ANALYSIS.fork0.join\n",
            "2021-04-27 14:12:02 [runtime] (join_complete)   ID.count.SC_RNA_COUNTER_CS.SC_MULTI_CORE.COUNT_ANALYZER.SC_RNA_ANALYZER.SUMMARIZE_ANALYSIS\n",
            "2021-04-27 14:14:38 [runtime] (chunks_complete) ID.count.SC_RNA_COUNTER_CS.SC_MULTI_CORE.MULTI_GEM_WELL_PROCESSOR.COUNT_GEM_WELL_PROCESSOR._BASIC_SC_RNA_COUNTER.WRITE_POS_BAM\n",
            "2021-04-27 14:14:38 [runtime] (run:local)       ID.count.SC_RNA_COUNTER_CS.SC_MULTI_CORE.MULTI_GEM_WELL_PROCESSOR.COUNT_GEM_WELL_PROCESSOR._BASIC_SC_RNA_COUNTER.WRITE_POS_BAM.fork0.join\n",
            "2021-04-27 14:15:10 [runtime] (join_complete)   ID.count.SC_RNA_COUNTER_CS.SC_MULTI_CORE.MULTI_GEM_WELL_PROCESSOR.COUNT_GEM_WELL_PROCESSOR._BASIC_SC_RNA_COUNTER.WRITE_POS_BAM\n",
            "2021-04-27 14:17:33 [runtime] (update)          ID.count.SC_RNA_COUNTER_CS.SC_MULTI_CORE.MULTI_GEM_WELL_PROCESSOR.COUNT_GEM_WELL_PROCESSOR._BASIC_SC_RNA_COUNTER._CELLS_REPORTER.SUBSAMPLE_READS.fork0 chunks running (1/3 completed)\n",
            "2021-04-27 14:20:25 [runtime] (chunks_complete) ID.count.SC_RNA_COUNTER_CS.SC_MULTI_CORE.MULTI_GEM_WELL_PROCESSOR.COUNT_GEM_WELL_PROCESSOR._BASIC_SC_RNA_COUNTER._CELLS_REPORTER.SUBSAMPLE_READS\n",
            "2021-04-27 14:20:25 [runtime] (run:local)       ID.count.SC_RNA_COUNTER_CS.SC_MULTI_CORE.MULTI_GEM_WELL_PROCESSOR.COUNT_GEM_WELL_PROCESSOR._BASIC_SC_RNA_COUNTER._CELLS_REPORTER.SUBSAMPLE_READS.fork0.join\n",
            "2021-04-27 14:20:27 [runtime] (join_complete)   ID.count.SC_RNA_COUNTER_CS.SC_MULTI_CORE.MULTI_GEM_WELL_PROCESSOR.COUNT_GEM_WELL_PROCESSOR._BASIC_SC_RNA_COUNTER._CELLS_REPORTER.SUBSAMPLE_READS\n",
            "2021-04-27 14:20:27 [runtime] (ready)           ID.count.SC_RNA_COUNTER_CS.SC_MULTI_CORE.MULTI_GEM_WELL_PROCESSOR.COUNT_GEM_WELL_PROCESSOR._BASIC_SC_RNA_COUNTER._CELLS_REPORTER.SUMMARIZE_BASIC_REPORTS\n",
            "2021-04-27 14:20:27 [runtime] (run:local)       ID.count.SC_RNA_COUNTER_CS.SC_MULTI_CORE.MULTI_GEM_WELL_PROCESSOR.COUNT_GEM_WELL_PROCESSOR._BASIC_SC_RNA_COUNTER._CELLS_REPORTER.SUMMARIZE_BASIC_REPORTS.fork0.split\n",
            "2021-04-27 14:20:28 [runtime] (split_complete)  ID.count.SC_RNA_COUNTER_CS.SC_MULTI_CORE.MULTI_GEM_WELL_PROCESSOR.COUNT_GEM_WELL_PROCESSOR._BASIC_SC_RNA_COUNTER._CELLS_REPORTER.SUMMARIZE_BASIC_REPORTS\n",
            "2021-04-27 14:20:28 [runtime] (run:local)       ID.count.SC_RNA_COUNTER_CS.SC_MULTI_CORE.MULTI_GEM_WELL_PROCESSOR.COUNT_GEM_WELL_PROCESSOR._BASIC_SC_RNA_COUNTER._CELLS_REPORTER.SUMMARIZE_BASIC_REPORTS.fork0.join\n",
            "2021-04-27 14:20:34 [runtime] (join_complete)   ID.count.SC_RNA_COUNTER_CS.SC_MULTI_CORE.MULTI_GEM_WELL_PROCESSOR.COUNT_GEM_WELL_PROCESSOR._BASIC_SC_RNA_COUNTER._CELLS_REPORTER.SUMMARIZE_BASIC_REPORTS\n",
            "2021-04-27 14:20:34 [runtime] (ready)           ID.count.SC_RNA_COUNTER_CS.SC_MULTI_CORE.MULTI_GEM_WELL_PROCESSOR.COUNT_GEM_WELL_PROCESSOR._BASIC_SC_RNA_COUNTER.MERGE_METRICS\n",
            "2021-04-27 14:20:34 [runtime] (run:local)       ID.count.SC_RNA_COUNTER_CS.SC_MULTI_CORE.MULTI_GEM_WELL_PROCESSOR.COUNT_GEM_WELL_PROCESSOR._BASIC_SC_RNA_COUNTER.MERGE_METRICS.fork0.chnk0.main\n",
            "2021-04-27 14:20:34 [runtime] (chunks_complete) ID.count.SC_RNA_COUNTER_CS.SC_MULTI_CORE.MULTI_GEM_WELL_PROCESSOR.COUNT_GEM_WELL_PROCESSOR._BASIC_SC_RNA_COUNTER.MERGE_METRICS\n",
            "2021-04-27 14:20:34 [runtime] (ready)           ID.count.SC_RNA_COUNTER_CS.SC_MULTI_CORE.COUNT_ANALYZER._CRISPR_ANALYZER.CALL_PROTOSPACERS\n",
            "2021-04-27 14:20:34 [runtime] (ready)           ID.count.SC_RNA_COUNTER_CS.SC_MULTI_CORE.COUNT_ANALYZER._TARGETED_ANALYZER.CALCULATE_TARGETED_METRICS\n",
            "2021-04-27 14:20:34 [runtime] (ready)           ID.count.SC_RNA_COUNTER_CS.SC_MULTI_CORE.COUNT_ANALYZER._CRISPR_ANALYZER._PERTURBATIONS_BY_TARGET\n",
            "2021-04-27 14:20:34 [runtime] (ready)           ID.count.SC_RNA_COUNTER_CS.SC_MULTI_CORE.COUNT_ANALYZER._CRISPR_ANALYZER._PERTURBATIONS_BY_FEATURE\n",
            "2021-04-27 14:20:34 [runtime] (ready)           ID.count.SC_RNA_COUNTER_CS.SC_MULTI_CORE.COUNT_ANALYZER._TARGETED_ANALYZER.SUMMARIZE_TARGETED_ANALYSIS\n",
            "2021-04-27 14:20:34 [runtime] (ready)           ID.count.SC_RNA_COUNTER_CS.SC_MULTI_CORE.COUNT_ANALYZER._CRISPR_ANALYZER.SUMMARIZE_CRISPR_ANALYSIS\n",
            "2021-04-27 14:20:34 [runtime] (ready)           ID.count.SC_RNA_COUNTER_CS.SC_MULTI_CORE.MULTI_REPORTER.SUMMARIZE_REPORTS\n",
            "2021-04-27 14:20:34 [runtime] (run:local)       ID.count.SC_RNA_COUNTER_CS.SC_MULTI_CORE.MULTI_REPORTER.SUMMARIZE_REPORTS.fork0.chnk0.main\n",
            "2021-04-27 14:20:40 [runtime] (chunks_complete) ID.count.SC_RNA_COUNTER_CS.SC_MULTI_CORE.MULTI_REPORTER.SUMMARIZE_REPORTS\n",
            "2021-04-27 14:20:40 [runtime] (ready)           ID.count.SC_RNA_COUNTER_CS.SC_MULTI_CORE.MULTI_REPORTER.CLOUPE_PREPROCESS\n",
            "2021-04-27 14:20:40 [runtime] (run:local)       ID.count.SC_RNA_COUNTER_CS.SC_MULTI_CORE.MULTI_REPORTER.CLOUPE_PREPROCESS.fork0.split\n",
            "2021-04-27 14:20:40 [runtime] (ready)           ID.count.SC_RNA_COUNTER_CS.SC_MULTI_CORE.MULTI_REPORTER.GENERATE_LIBRARY_PLOTS\n",
            "2021-04-27 14:20:41 [runtime] (split_complete)  ID.count.SC_RNA_COUNTER_CS.SC_MULTI_CORE.MULTI_REPORTER.CLOUPE_PREPROCESS\n",
            "2021-04-27 14:20:41 [runtime] (run:local)       ID.count.SC_RNA_COUNTER_CS.SC_MULTI_CORE.MULTI_REPORTER.CLOUPE_PREPROCESS.fork0.chnk0.main\n",
            "2021-04-27 14:20:43 [runtime] (chunks_complete) ID.count.SC_RNA_COUNTER_CS.SC_MULTI_CORE.MULTI_REPORTER.CLOUPE_PREPROCESS\n",
            "2021-04-27 14:20:43 [runtime] (run:local)       ID.count.SC_RNA_COUNTER_CS.SC_MULTI_CORE.MULTI_REPORTER.CLOUPE_PREPROCESS.fork0.join\n",
            "2021-04-27 14:20:44 [runtime] (join_complete)   ID.count.SC_RNA_COUNTER_CS.SC_MULTI_CORE.MULTI_REPORTER.CLOUPE_PREPROCESS\n",
            "2021-04-27 14:20:44 [runtime] (ready)           ID.count.SC_RNA_COUNTER_CS.SC_MULTI_CORE.MULTI_REPORTER.CHOOSE_CLOUPE\n",
            "2021-04-27 14:20:44 [runtime] (run:local)       ID.count.SC_RNA_COUNTER_CS.SC_MULTI_CORE.MULTI_REPORTER.CHOOSE_CLOUPE.fork0.chnk0.main\n",
            "2021-04-27 14:20:45 [runtime] (chunks_complete) ID.count.SC_RNA_COUNTER_CS.SC_MULTI_CORE.MULTI_REPORTER.CHOOSE_CLOUPE\n",
            "\n",
            "Outputs:\n",
            "- Run summary HTML:                         /home/sina/projects/kite/BMGP_2020/analysis/notebooks/count/outs/web_summary.html\n",
            "- Run summary CSV:                          /home/sina/projects/kite/BMGP_2020/analysis/notebooks/count/outs/metrics_summary.csv\n",
            "- BAM:                                      /home/sina/projects/kite/BMGP_2020/analysis/notebooks/count/outs/possorted_genome_bam.bam\n",
            "- BAM index:                                /home/sina/projects/kite/BMGP_2020/analysis/notebooks/count/outs/possorted_genome_bam.bam.bai\n",
            "- Filtered feature-barcode matrices MEX:    /home/sina/projects/kite/BMGP_2020/analysis/notebooks/count/outs/filtered_feature_bc_matrix\n",
            "- Filtered feature-barcode matrices HDF5:   /home/sina/projects/kite/BMGP_2020/analysis/notebooks/count/outs/filtered_feature_bc_matrix.h5\n",
            "- Unfiltered feature-barcode matrices MEX:  /home/sina/projects/kite/BMGP_2020/analysis/notebooks/count/outs/raw_feature_bc_matrix\n",
            "- Unfiltered feature-barcode matrices HDF5: /home/sina/projects/kite/BMGP_2020/analysis/notebooks/count/outs/raw_feature_bc_matrix.h5\n",
            "- Secondary analysis output CSV:            null\n",
            "- Per-molecule read information:            /home/sina/projects/kite/BMGP_2020/analysis/notebooks/count/outs/molecule_info.h5\n",
            "- CRISPR-specific analysis:                 null\n",
            "- Loupe Browser file:                       null\n",
            "- Feature Reference:                        /home/sina/projects/kite/BMGP_2020/analysis/notebooks/count/outs/feature_reference.csv\n",
            "- Target Panel File:                        null\n",
            "\n",
            "Waiting 6 seconds for UI to do final refresh.\n",
            "Pipestance completed successfully!\n",
            "\n",
            "2021-04-27 14:20:51 Shutting down.\n"
          ],
          "name": "stdout"
        }
      ]
    },
    {
      "cell_type": "code",
      "metadata": {
        "id": "spatial-lending"
      },
      "source": [
        ""
      ],
      "id": "spatial-lending",
      "execution_count": null,
      "outputs": []
    }
  ]
}