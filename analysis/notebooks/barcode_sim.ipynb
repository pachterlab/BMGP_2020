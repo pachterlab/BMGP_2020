{
  "nbformat": 4,
  "nbformat_minor": 0,
  "metadata": {
    "colab": {
      "name": "barcode_sim.ipynb",
      "provenance": [],
      "collapsed_sections": [],
      "authorship_tag": "ABX9TyO2X6e55Zsl6K/fKdu5isRA",
      "include_colab_link": true
    },
    "kernelspec": {
      "name": "python3",
      "display_name": "Python 3"
    },
    "language_info": {
      "name": "python"
    }
  },
  "cells": [
    {
      "cell_type": "markdown",
      "metadata": {
        "id": "view-in-github",
        "colab_type": "text"
      },
      "source": [
        "<a href=\"https://colab.research.google.com/github/sbooeshaghi/BMGP_2020/blob/main/analysis/notebooks/barcode_sim.ipynb\" target=\"_parent\"><img src=\"https://colab.research.google.com/assets/colab-badge.svg\" alt=\"Open In Colab\"/></a>"
      ]
    },
    {
      "cell_type": "code",
      "metadata": {
        "id": "JcLkkQAPGEzn"
      },
      "source": [
        "import numpy as np\n",
        "import matplotlib.pyplot as plt\n",
        "fsize=20\n",
        "\n",
        "plt.rcParams.update({'font.size': fsize})\n",
        "%config InlineBackend.figure_format = 'retina'"
      ],
      "execution_count": 51,
      "outputs": []
    },
    {
      "cell_type": "code",
      "metadata": {
        "id": "ugn4yy-yB9UQ"
      },
      "source": [
        "# full bc\n",
        "fbcs = [\n",
        "  list(\"GGAGAAGA\"),\n",
        "  list(\"CCACAATG\"),\n",
        "  list(\"CCAACCGG\"),\n",
        "  list(\"CGAAGCCC\"),\n",
        "  list(\"TCAGTCGA\"),\n",
        "  list(\"GACCAGCC\"),\n",
        "  list(\"CTCAAGGT\"),\n",
        "  list(\"CGCCGCAA\"),\n",
        "  list(\"ACCAGCCG\"),\n",
        "]\n",
        "# trim right\n",
        "rbcs = [\n",
        "  list(\"GGAGAAG\"),\n",
        "  list(\"CCACAAT\"),\n",
        "  list(\"CCAACCG\"),\n",
        "  list(\"CGAAGCC\"),\n",
        "  list(\"TCAGTCG\"),\n",
        "  list(\"GACCAGC\"),\n",
        "  list(\"CTCAAGG\"),\n",
        "  list(\"CGCCGCA\"),\n",
        "  list(\"ACCAGCC\"),\n",
        "]\n",
        "\n",
        "# trim left\n",
        "lbcs = [\n",
        "  list(\"GAGAAGA\"),\n",
        "  list(\"CACAATG\"),\n",
        "  list(\"CAACCGG\"),\n",
        "  list(\"GAAGCCC\"),\n",
        "  list(\"CAGTCGA\"),\n",
        "  list(\"ACCAGCC\"),\n",
        "  list(\"TCAAGGT\"),\n",
        "  list(\"GCCGCAA\"),\n",
        "  list(\"CCAGCCG\"),\n",
        "]\n",
        "\n",
        "bcs_names = [\n",
        "\"BC1\",\n",
        "\"BC2\",\n",
        "\"BC13\",\n",
        "\"BC25\",\n",
        "\"BC37\",\n",
        "\"BC49\",\n",
        "\"BC50\",\n",
        "\"BC73\",\n",
        "\"BC74\",\n",
        "]\n",
        "bcs_list =[\n",
        "\"GGAGAAGA\",\n",
        "\"CCACAATG\",\n",
        "\"CCAACCGG\",\n",
        "\"CGAAGCCC\",\n",
        "\"TCAGTCGA\",\n",
        "\"GACCAGCC\",\n",
        "\"CTCAAGGT\",\n",
        "\"CGCCGCAA\",\n",
        "\"ACCAGCCG\",\n",
        "]\n",
        "bcs = fbcs"
      ],
      "execution_count": 2,
      "outputs": []
    },
    {
      "cell_type": "markdown",
      "metadata": {
        "id": "bvNv25WDY55W"
      },
      "source": [
        "# Check for shared kmer sequences in the forward and reverse strand"
      ]
    },
    {
      "cell_type": "code",
      "metadata": {
        "colab": {
          "base_uri": "https://localhost:8080/"
        },
        "id": "9RT1wy0l7A6z",
        "outputId": "6c01fc44-eefe-4ce2-bd1e-f46ec7bba4ef"
      },
      "source": [
        "def gen_kmers(s, k):\n",
        "  L = len(s)\n",
        "  return [s[i:i+k] for i in range(L-k+1)]\n",
        "gen_kmers(\"sina\" ,3)"
      ],
      "execution_count": 86,
      "outputs": [
        {
          "output_type": "execute_result",
          "data": {
            "text/plain": [
              "['sin', 'ina']"
            ]
          },
          "metadata": {
            "tags": []
          },
          "execution_count": 86
        }
      ]
    },
    {
      "cell_type": "code",
      "metadata": {
        "colab": {
          "base_uri": "https://localhost:8080/",
          "height": 35
        },
        "id": "ZW0BPdsXX2ET",
        "outputId": "576b795c-1d2f-4b67-9ab5-fc9c92f31e06"
      },
      "source": [
        "complement = {'A': 'T', 'C': 'G', 'G': 'C', 'T': 'A'} \n",
        "def rev_c(seq):\n",
        "    bases = list(seq) \n",
        "    bases = reversed([complement.get(base,base) for base in bases])\n",
        "    bases = ''.join(bases)\n",
        "    return bases\n",
        "rev_c(\"ATC\")"
      ],
      "execution_count": 85,
      "outputs": [
        {
          "output_type": "execute_result",
          "data": {
            "application/vnd.google.colaboratory.intrinsic+json": {
              "type": "string"
            },
            "text/plain": [
              "'GAT'"
            ]
          },
          "metadata": {
            "tags": []
          },
          "execution_count": 85
        }
      ]
    },
    {
      "cell_type": "code",
      "metadata": {
        "id": "haFLbBLO617Z"
      },
      "source": [
        "from collections import defaultdict\n",
        "def check_kmers(bcs, bcs_names, k=None):\n",
        "  length = min([len(i) for i in bcs])\n",
        "  if not k:\n",
        "    k = length if length % 2 else length - 1\n",
        "    print(f\"Optimal kmer length: {k}\")\n",
        "\n",
        "  d = defaultdict(list)\n",
        "  for bc, bc_name in zip(bcs, bcs_names):\n",
        "    # forward\n",
        "    kmers = gen_kmers(bc, k)\n",
        "    for kmer in kmers:\n",
        "      d[\"\".join(kmer)].append(bc_name)\n",
        "    \n",
        "    # reverse complement\n",
        "    kmers = gen_kmers(rev_c(bc), k)\n",
        "    for kmer in kmers:\n",
        "      d[\"\".join(kmer)].append(bc_name + \"_rc\")\n",
        "  return d"
      ],
      "execution_count": 87,
      "outputs": []
    },
    {
      "cell_type": "code",
      "metadata": {
        "colab": {
          "base_uri": "https://localhost:8080/"
        },
        "id": "EHTAzglv7rvc",
        "outputId": "6f6aedf9-02d9-4c31-a92a-d5273b56a975"
      },
      "source": [
        "check_kmers(bcs_list, bcs_names)"
      ],
      "execution_count": 88,
      "outputs": [
        {
          "output_type": "stream",
          "text": [
            "Optimal kmer length: 7\n"
          ],
          "name": "stdout"
        },
        {
          "output_type": "execute_result",
          "data": {
            "text/plain": [
              "defaultdict(list,\n",
              "            {'ACCAGCC': ['BC49', 'BC74'],\n",
              "             'ACCTTGA': ['BC50_rc'],\n",
              "             'ATTGTGG': ['BC2_rc'],\n",
              "             'CAACCGG': ['BC13'],\n",
              "             'CACAATG': ['BC2'],\n",
              "             'CAGTCGA': ['BC37'],\n",
              "             'CATTGTG': ['BC2_rc'],\n",
              "             'CCAACCG': ['BC13'],\n",
              "             'CCACAAT': ['BC2'],\n",
              "             'CCAGCCG': ['BC74'],\n",
              "             'CCGGTTG': ['BC13_rc'],\n",
              "             'CCTTGAG': ['BC50_rc'],\n",
              "             'CGAAGCC': ['BC25'],\n",
              "             'CGACTGA': ['BC37_rc'],\n",
              "             'CGCCGCA': ['BC73'],\n",
              "             'CGGCTGG': ['BC74_rc'],\n",
              "             'CGGTTGG': ['BC13_rc'],\n",
              "             'CTCAAGG': ['BC50'],\n",
              "             'CTTCTCC': ['BC1_rc'],\n",
              "             'GAAGCCC': ['BC25'],\n",
              "             'GACCAGC': ['BC49'],\n",
              "             'GAGAAGA': ['BC1'],\n",
              "             'GCCGCAA': ['BC73'],\n",
              "             'GCTGGTC': ['BC49_rc'],\n",
              "             'GGAGAAG': ['BC1'],\n",
              "             'GGCTGGT': ['BC49_rc', 'BC74_rc'],\n",
              "             'GGCTTCG': ['BC25_rc'],\n",
              "             'GGGCTTC': ['BC25_rc'],\n",
              "             'TCAAGGT': ['BC50'],\n",
              "             'TCAGTCG': ['BC37'],\n",
              "             'TCGACTG': ['BC37_rc'],\n",
              "             'TCTTCTC': ['BC1_rc'],\n",
              "             'TGCGGCG': ['BC73_rc'],\n",
              "             'TTGCGGC': ['BC73_rc']})"
            ]
          },
          "metadata": {
            "tags": []
          },
          "execution_count": 88
        }
      ]
    },
    {
      "cell_type": "markdown",
      "metadata": {
        "id": "gGND2K7HZCHB"
      },
      "source": [
        "We see that BC49 and BC74 share kmers.\n",
        "```\n",
        "'ACCAGCC': ['BC49', 'BC74'],\n",
        "'GGCTGGT': ['BC49_rc', 'BC74_rc'],\n",
        "```\n",
        "\n",
        "\n",
        "\n",
        "\n"
      ]
    },
    {
      "cell_type": "markdown",
      "metadata": {
        "id": "PQM2Cd-3Y-XP"
      },
      "source": [
        "# Simulate barcodes with errors"
      ]
    },
    {
      "cell_type": "code",
      "metadata": {
        "id": "OXXGdMZTJTj1"
      },
      "source": [
        "# each row is a feature barcode, each column is a nucleotide\n",
        "bcs_mat = np.array(bcs)"
      ],
      "execution_count": 3,
      "outputs": []
    },
    {
      "cell_type": "code",
      "metadata": {
        "id": "TYn9QEDUCIBv"
      },
      "source": [
        "err = 0.05\n",
        "N = 100_000\n",
        "bc_len = 8\n",
        "n_bcs = len(bcs)\n",
        "labels = np.arange(n_bcs)\n",
        "np.random.seed(0)"
      ],
      "execution_count": 106,
      "outputs": []
    },
    {
      "cell_type": "code",
      "metadata": {
        "id": "inLZKw2gNFId"
      },
      "source": [
        "# function, given a barcode, N, and error, return a list of mutants\n",
        "def alt(barcode):\n",
        "  # for each position the set of nucleotides that are not the given on\n",
        "  d = set([\"A\", \"T\", \"G\", \"C\"])\n",
        "  alt = [sorted(list(d.symmetric_difference(i))) for i in barcode]\n",
        "  return alt\n",
        "\n",
        "def mutate(barcode, N, err):\n",
        "  barcode = list(barcode)\n",
        "  bc_len = len(barcode)\n",
        "  mutate_mask = np.random.rand(N,bc_len)<err\n",
        "\n",
        "  # for each barcode for each base, the other possible nucleotide choices\n",
        "  replace_opt = np.array(alt(barcode))\n",
        "\n",
        "  # pick which of the 3 alternative nucleotides to change to\n",
        "  replace_idx = np.random.choice(3, size=(N, bc_len))\n",
        "\n",
        "  # select a single column for each row in replace_opt given by replace_idx \n",
        "  # do this for all N mutants, for each num_fb\n",
        "  replace = np.array([replace_opt[np.arange(bc_len), i] for i in replace_idx]) \n",
        "\n",
        "  bc_mat = np.tile(barcode, (N, 1))\n",
        "\n",
        "  # replace the nucleotides where mutate_mask is true\n",
        "  bc_mat[mutate_mask] = replace[mutate_mask]\n",
        "  ham = mutate_mask.sum(1)\n",
        "  return (bc_mat, ham)"
      ],
      "execution_count": 173,
      "outputs": []
    },
    {
      "cell_type": "code",
      "metadata": {
        "id": "fK3nC5Tzz8VI"
      },
      "source": [
        "mutants = []\n",
        "dist = []\n",
        "for bc in bcs:\n",
        "  m, d = mutate(bc, N, err)\n",
        "  mutants.append(m)\n",
        "  dist.append(d)"
      ],
      "execution_count": 178,
      "outputs": []
    },
    {
      "cell_type": "code",
      "metadata": {
        "id": "YlJNwtNhSJ6Y"
      },
      "source": [
        "dist = np.concatenate(dist, 0)\n",
        "mutants = np.concatenate(mutants, 0)\n",
        "mutant_origin = np.repeat(labels, N)"
      ],
      "execution_count": 179,
      "outputs": []
    },
    {
      "cell_type": "code",
      "metadata": {
        "id": "f0x0cBJ51hj3"
      },
      "source": [
        "total_dists = Counter(dist)"
      ],
      "execution_count": 181,
      "outputs": []
    },
    {
      "cell_type": "markdown",
      "metadata": {
        "id": "gNXFiZ-yHABs"
      },
      "source": [
        "# Perform correction"
      ]
    },
    {
      "cell_type": "code",
      "metadata": {
        "id": "-2dsiKyS6chk"
      },
      "source": [
        ""
      ],
      "execution_count": 182,
      "outputs": []
    },
    {
      "cell_type": "code",
      "metadata": {
        "id": "RgDXGfkSaafO"
      },
      "source": [
        "from collections import Counter\n",
        "def distances(mutants, bcs_mat):\n",
        "  # for each mutant, determine the set of hamming distances\n",
        "  ham = []\n",
        "  for idx, m in enumerate(mutants):    \n",
        "    d = []\n",
        "    for tidx, t in enumerate(bcs_mat):\n",
        "      d.append((t!=m).sum())\n",
        "    ham.append(d)\n",
        "\n",
        "  ham = np.array(ham)\n",
        "  return ham"
      ],
      "execution_count": 183,
      "outputs": []
    },
    {
      "cell_type": "code",
      "metadata": {
        "id": "JJQ5sJZOalcj"
      },
      "source": [
        "ham = distances(mutants, bcs_mat)"
      ],
      "execution_count": 184,
      "outputs": []
    },
    {
      "cell_type": "code",
      "metadata": {
        "id": "Sf9yNHz6wenJ",
        "outputId": "7bf7df07-9295-4749-c7a7-deb95c46d42c",
        "colab": {
          "base_uri": "https://localhost:8080/"
        }
      },
      "source": [
        "ham"
      ],
      "execution_count": 185,
      "outputs": [
        {
          "output_type": "execute_result",
          "data": {
            "text/plain": [
              "array([[1, 5, 5, ..., 5, 5, 7],\n",
              "       [0, 4, 5, ..., 5, 5, 7],\n",
              "       [0, 4, 5, ..., 5, 5, 7],\n",
              "       ...,\n",
              "       [7, 5, 3, ..., 5, 4, 0],\n",
              "       [7, 5, 3, ..., 5, 4, 0],\n",
              "       [7, 5, 4, ..., 6, 4, 1]])"
            ]
          },
          "metadata": {
            "tags": []
          },
          "execution_count": 185
        }
      ]
    },
    {
      "cell_type": "code",
      "metadata": {
        "colab": {
          "base_uri": "https://localhost:8080/"
        },
        "id": "sxI3U9AxxC1L",
        "outputId": "77482931-5da1-4371-882c-026d57db82db"
      },
      "source": [
        "%%time\n",
        "# [ min , max)\n",
        "# We want the maximum hamming after which it is ambiguous\n",
        "assign = []\n",
        "for h in ham:\n",
        "  c = Counter(h)\n",
        "\n",
        "  du = np.array([*c.keys()])\n",
        "  du_argsort = np.argsort(du)\n",
        "\n",
        "  one_idx, two_idx, *_ = du_argsort\n",
        "  one_ham, two_ham = du[one_idx], du[two_idx]\n",
        "\n",
        "  one_mul, two_mul = c[one_ham], c[two_ham]\n",
        "  if one_mul == 1:\n",
        "    min_ham = one_ham\n",
        "    max_ham = two_ham \n",
        "    target = np.where(h == one_ham)[0][0]\n",
        "  elif one_mul > 1:\n",
        "    min_ham = one_ham - 1\n",
        "    max_ham = one_ham\n",
        "    target = -1\n",
        "\n",
        "  assign.append([target, min_ham,  max_ham])\n",
        "assign = np.array(assign)"
      ],
      "execution_count": 186,
      "outputs": [
        {
          "output_type": "stream",
          "text": [
            "CPU times: user 24 s, sys: 2.51 s, total: 26.5 s\n",
            "Wall time: 23.6 s\n"
          ],
          "name": "stdout"
        }
      ]
    },
    {
      "cell_type": "code",
      "metadata": {
        "colab": {
          "base_uri": "https://localhost:8080/"
        },
        "id": "QOBH2D9nIOXh",
        "outputId": "571882ba-1bb2-41b3-974d-6ccad8077110"
      },
      "source": [
        "assign"
      ],
      "execution_count": 187,
      "outputs": [
        {
          "output_type": "execute_result",
          "data": {
            "text/plain": [
              "array([[0, 1, 3],\n",
              "       [0, 0, 3],\n",
              "       [0, 0, 3],\n",
              "       ...,\n",
              "       [8, 0, 3],\n",
              "       [8, 0, 3],\n",
              "       [8, 1, 4]])"
            ]
          },
          "metadata": {
            "tags": []
          },
          "execution_count": 187
        }
      ]
    },
    {
      "cell_type": "code",
      "metadata": {
        "id": "UMi_0AFvj0hy"
      },
      "source": [
        "# assigned correctly, assigned incorrectly, ambiguous"
      ],
      "execution_count": 188,
      "outputs": []
    },
    {
      "cell_type": "code",
      "metadata": {
        "id": "R03j0bbqnx1X",
        "colab": {
          "base_uri": "https://localhost:8080/"
        },
        "outputId": "0e9f8a67-9473-4d3a-b7eb-613993435679"
      },
      "source": [
        "# barcodes that are impossible to assign for any hamming distance\n",
        "ambiguous = np.equal(assign[:,0], -1)\n",
        "print(f\"Ambiguous barcodes: {ambiguous.sum():,.0f} [{ambiguous.sum()/(N*n_bcs):,.2f}%]\")"
      ],
      "execution_count": 189,
      "outputs": [
        {
          "output_type": "stream",
          "text": [
            "Ambiguous barcodes: 4,765 [0.01%]\n"
          ],
          "name": "stdout"
        }
      ]
    },
    {
      "cell_type": "code",
      "metadata": {
        "id": "ayBArlsbDfVk",
        "colab": {
          "base_uri": "https://localhost:8080/"
        },
        "outputId": "5fef09c0-3848-4cf1-ff82-6385eb17053d"
      },
      "source": [
        "# barcodes that are given the correct assignment\n",
        "correct = np.equal(assign[:,0], mutant_origin)\n",
        "print(f\"Correct barcodes: {correct.sum():,.0f} [{correct.sum()/(N*n_bcs):,.2f}%]\")"
      ],
      "execution_count": 190,
      "outputs": [
        {
          "output_type": "stream",
          "text": [
            "Correct barcodes: 894,299 [0.99%]\n"
          ],
          "name": "stdout"
        }
      ]
    },
    {
      "cell_type": "markdown",
      "metadata": {
        "id": "YCP1a4ZyeFQQ"
      },
      "source": [
        "for each error, for each hamming distance correction, plot the percent of barcodes that can be correctly assigned\n",
        "\n",
        "so its the number of barcodes that can be assingned with min ham distance X and max hamm distance Y\n",
        "\n",
        "for example, a barcode with a min hamming distance of 1 and a max of 2 would mean that it will become ambiguous once you go to 2 or more hamming distance but not at 1"
      ]
    },
    {
      "cell_type": "code",
      "metadata": {
        "id": "27VvRmFuF4t-"
      },
      "source": [
        "mask = np.logical_and(correct, ~ambiguous)\n",
        "data = Counter(np.array(assign)[:,1][mask])"
      ],
      "execution_count": 191,
      "outputs": []
    },
    {
      "cell_type": "code",
      "metadata": {
        "colab": {
          "base_uri": "https://localhost:8080/"
        },
        "id": "Mldrld5nIAKR",
        "outputId": "520e5b2b-b51b-4757-9e6d-a239fcc00212"
      },
      "source": [
        "data.items()"
      ],
      "execution_count": 192,
      "outputs": [
        {
          "output_type": "execute_result",
          "data": {
            "text/plain": [
              "dict_items([(1, 231354), (0, 628586), (2, 32707), (3, 1635), (4, 17)])"
            ]
          },
          "metadata": {
            "tags": []
          },
          "execution_count": 192
        }
      ]
    },
    {
      "cell_type": "code",
      "metadata": {
        "id": "4nV49LlH1uv9"
      },
      "source": [
        "N_sim = []\n",
        "N_gen = []\n",
        "for i in np.arange(0, 5):\n",
        "  N_gen.append(total_dists.get(i, 0))\n",
        "  N_sim.append(data.get(i))"
      ],
      "execution_count": 195,
      "outputs": []
    },
    {
      "cell_type": "code",
      "metadata": {
        "id": "YUG1vnyi2q1s",
        "outputId": "c4475902-9f6b-48f2-a066-2904656007db",
        "colab": {
          "base_uri": "https://localhost:8080/"
        }
      },
      "source": [
        "N_sim"
      ],
      "execution_count": 196,
      "outputs": [
        {
          "output_type": "execute_result",
          "data": {
            "text/plain": [
              "[628586, 231354, 32707, 1635, 17]"
            ]
          },
          "metadata": {
            "tags": []
          },
          "execution_count": 196
        }
      ]
    },
    {
      "cell_type": "code",
      "metadata": {
        "id": "PgcB8lkg2skT",
        "outputId": "6639ffb2-e796-4a54-ab4d-e5d6c220674b",
        "colab": {
          "base_uri": "https://localhost:8080/"
        }
      },
      "source": [
        "N_gen"
      ],
      "execution_count": 197,
      "outputs": [
        {
          "output_type": "execute_result",
          "data": {
            "text/plain": [
              "[628586, 231354, 36681, 3191, 178]"
            ]
          },
          "metadata": {
            "tags": []
          },
          "execution_count": 197
        }
      ]
    },
    {
      "cell_type": "markdown",
      "metadata": {
        "id": "gyntkHus3LH8"
      },
      "source": [
        "# Wrap it all together"
      ]
    },
    {
      "cell_type": "code",
      "metadata": {
        "id": "6OPsodaK2xE_"
      },
      "source": [
        "# Functions\n",
        "# function, given a barcode, N, and error, return a list of mutants\n",
        "def alt(barcode):\n",
        "  # for each position the set of nucleotides that are not the given on\n",
        "  d = set([\"A\", \"T\", \"G\", \"C\"])\n",
        "  alt = [sorted(list(d.symmetric_difference(i))) for i in barcode]\n",
        "  return alt\n",
        "\n",
        "def mutate(barcode, N, err):\n",
        "  barcode = list(barcode)\n",
        "  bc_len = len(barcode)\n",
        "  mutate_mask = np.random.rand(N,bc_len)<err\n",
        "\n",
        "  # for each barcode for each base, the other possible nucleotide choices\n",
        "  replace_opt = np.array(alt(barcode))\n",
        "\n",
        "  # pick which of the 3 alternative nucleotides to change to\n",
        "  replace_idx = np.random.choice(3, size=(N, bc_len))\n",
        "\n",
        "  # select a single column for each row in replace_opt given by replace_idx \n",
        "  # do this for all N mutants, for each num_fb\n",
        "  replace = np.array([replace_opt[np.arange(bc_len), i] for i in replace_idx]) \n",
        "\n",
        "  bc_mat = np.tile(barcode, (N, 1))\n",
        "\n",
        "  # replace the nucleotides where mutate_mask is true\n",
        "  bc_mat[mutate_mask] = replace[mutate_mask]\n",
        "  ham = mutate_mask.sum(1)\n",
        "  return (bc_mat, ham)\n",
        "\n",
        "from collections import Counter\n",
        "def distances(mutants, bcs_mat):\n",
        "  # for each mutant, determine the set of hamming distances\n",
        "  ham = []\n",
        "  for idx, m in enumerate(mutants):    \n",
        "    d = []\n",
        "    for tidx, t in enumerate(bcs_mat):\n",
        "      d.append((t!=m).sum())\n",
        "    ham.append(d)\n",
        "\n",
        "  ham = np.array(ham)\n",
        "  return ham\n",
        "\n",
        "\n",
        "def main(bcs, bc_len, N, err):\n",
        "  mutants = []\n",
        "  dist = []\n",
        "  \n",
        "  for bc in bcs:\n",
        "    m, d = mutate(bc, N, err)\n",
        "    mutants.append(m)\n",
        "    dist.append(d)\n",
        "  \n",
        "  dist = np.concatenate(dist, 0)\n",
        "  bcs_mat = np.array(bcs)\n",
        "  mutants = np.concatenate(mutants, 0)\n",
        "  mutant_origin = np.repeat(labels, N)\n",
        "  total_dists = Counter(dist)\n",
        "  ham = distances(mutants, bcs_mat)\n",
        "\n",
        "  # Perform the assignment\n",
        "  # [ min , max)\n",
        "  # We want the maximum hamming after which it is ambiguous\n",
        "  assign = []\n",
        "  for h in ham:\n",
        "    c = Counter(h)\n",
        "\n",
        "    du = np.array([*c.keys()])\n",
        "    du_argsort = np.argsort(du)\n",
        "\n",
        "    one_idx, two_idx, *_ = du_argsort\n",
        "    one_ham, two_ham = du[one_idx], du[two_idx]\n",
        "\n",
        "    one_mul, two_mul = c[one_ham], c[two_ham]\n",
        "    if one_mul == 1:\n",
        "      min_ham = one_ham\n",
        "      max_ham = two_ham \n",
        "      target = np.where(h == one_ham)[0][0]\n",
        "    elif one_mul > 1:\n",
        "      min_ham = one_ham - 1\n",
        "      max_ham = one_ham\n",
        "      target = -1\n",
        "\n",
        "    assign.append([target, min_ham,  max_ham])\n",
        "  \n",
        "  assign = np.array(assign)\n",
        "  correct = np.equal(assign[:,0], mutant_origin)\n",
        "  ambiguous = np.equal(assign[:,0], -1)\n",
        "  \n",
        "  mask = np.logical_and(correct, ~ambiguous)\n",
        "  data = Counter(np.array(assign)[:,1][mask])\n",
        "  N_sim = []\n",
        "  N_gen = []\n",
        "  for i in np.arange(0, 6):\n",
        "    N_gen.append(total_dists.get(i, 0))\n",
        "    N_sim.append(data.get(i, 0))\n",
        "  return (N_sim, N_gen)\n",
        "\n"
      ],
      "execution_count": 39,
      "outputs": []
    },
    {
      "cell_type": "code",
      "metadata": {
        "id": "Tc_TViKu2xCA"
      },
      "source": [
        "err = 0.05\n",
        "N = 10_000\n",
        "bc_len = 8\n",
        "n_bcs = len(bcs)\n",
        "labels = np.arange(n_bcs)\n",
        "np.random.seed(0)\n"
      ],
      "execution_count": 40,
      "outputs": []
    },
    {
      "cell_type": "code",
      "metadata": {
        "id": "ghiruVWx_PPX",
        "outputId": "7ea9c5e3-6d3d-481a-d48b-314e135f959d",
        "colab": {
          "base_uri": "https://localhost:8080/"
        }
      },
      "source": [
        "np.logspace(-12, -5, base=2, num=10)"
      ],
      "execution_count": 60,
      "outputs": [
        {
          "output_type": "execute_result",
          "data": {
            "text/plain": [
              "array([0.00024414, 0.00041858, 0.00071764, 0.00123039, 0.00210949,\n",
              "       0.0036167 , 0.00620079, 0.01063117, 0.01822702, 0.03125   ])"
            ]
          },
          "metadata": {
            "tags": []
          },
          "execution_count": 60
        }
      ]
    },
    {
      "cell_type": "code",
      "metadata": {
        "id": "a9ZoLDWI67PT"
      },
      "source": [
        "err = np.linspace(0.001, 0.1, 10)\n",
        "err = np.logspace(-12, -4, base=2, num=20)"
      ],
      "execution_count": 66,
      "outputs": []
    },
    {
      "cell_type": "code",
      "metadata": {
        "id": "l-VzHGG67BQT",
        "outputId": "748d8b3a-f7c8-42bb-a58b-4e83969402e7",
        "colab": {
          "base_uri": "https://localhost:8080/"
        }
      },
      "source": [
        "err"
      ],
      "execution_count": 67,
      "outputs": [
        {
          "output_type": "execute_result",
          "data": {
            "text/plain": [
              "array([0.00024414, 0.00032688, 0.00043766, 0.00058599, 0.00078458,\n",
              "       0.00105048, 0.00140649, 0.00188316, 0.00252137, 0.00337587,\n",
              "       0.00451996, 0.0060518 , 0.00810277, 0.01084884, 0.01452555,\n",
              "       0.01944832, 0.02603944, 0.03486431, 0.04667997, 0.0625    ])"
            ]
          },
          "metadata": {
            "tags": []
          },
          "execution_count": 67
        }
      ]
    },
    {
      "cell_type": "code",
      "metadata": {
        "id": "C6313_ow3Nff",
        "outputId": "a4e4b0af-b7a0-4104-d6eb-fdb40be32464",
        "colab": {
          "base_uri": "https://localhost:8080/"
        }
      },
      "source": [
        "%%time\n",
        "sim = []\n",
        "gen= []\n",
        "for e in err:\n",
        "  N_sim, N_gen = main(bcs, bc_len, N, e)\n",
        "  sim.append(N_sim)\n",
        "  gen.append(N_gen)"
      ],
      "execution_count": 68,
      "outputs": [
        {
          "output_type": "stream",
          "text": [
            "CPU times: user 1min 59s, sys: 4.21 s, total: 2min 3s\n",
            "Wall time: 1min 59s\n"
          ],
          "name": "stdout"
        }
      ]
    },
    {
      "cell_type": "code",
      "metadata": {
        "id": "UpRNW6tX3NV8",
        "outputId": "afbfe435-9bc2-45a9-a5b5-5ddd0b20e44a",
        "colab": {
          "base_uri": "https://localhost:8080/"
        }
      },
      "source": [
        "data = np.array(sim)/np.array(gen)"
      ],
      "execution_count": 69,
      "outputs": [
        {
          "output_type": "stream",
          "text": [
            "/usr/local/lib/python3.7/dist-packages/ipykernel_launcher.py:1: RuntimeWarning: invalid value encountered in true_divide\n",
            "  \"\"\"Entry point for launching an IPython kernel.\n"
          ],
          "name": "stderr"
        }
      ]
    },
    {
      "cell_type": "code",
      "metadata": {
        "id": "ouGZJUwU3NRD",
        "outputId": "c8664c7a-5ed9-47d6-f0ba-74004924625e",
        "colab": {
          "base_uri": "https://localhost:8080/",
          "height": 629
        }
      },
      "source": [
        "fig, ax = plt.subplots(figsize=(40,10))\n",
        "\n",
        "im = ax.imshow(data.T, cmap=\"Reds\")\n",
        "fig.colorbar(im, )\n",
        "errors = [f\"{i:,.4f}\" for i in err]\n",
        "ax.set(**{\n",
        "    \"xticklabels\": errors,\n",
        "    \"xticks\": np.arange(len(errors)),\n",
        "    \"xlabel\": \"Error rate\",\n",
        "    \"ylabel\": \"Hamming distance\"\n",
        "})\n",
        "fig.show()"
      ],
      "execution_count": 72,
      "outputs": [
        {
          "output_type": "display_data",
          "data": {
            "image/png": "[encoded data removed]",
            "text/plain": [
              "<Figure size 2880x720 with 2 Axes>"
            ]
          },
          "metadata": {
            "tags": [],
            "image/png": {
              "width": 2021,
              "height": 612
            },
            "needs_background": "light"
          }
        }
      ]
    },
    {
      "cell_type": "code",
      "metadata": {
        "id": "pujEhkHe3Oe1"
      },
      "source": [
        ""
      ],
      "execution_count": null,
      "outputs": []
    },
    {
      "cell_type": "code",
      "metadata": {
        "id": "xmhH-Yo93Ocr"
      },
      "source": [
        ""
      ],
      "execution_count": null,
      "outputs": []
    },
    {
      "cell_type": "code",
      "metadata": {
        "id": "ZnwQLR_y3Oay"
      },
      "source": [
        ""
      ],
      "execution_count": null,
      "outputs": []
    },
    {
      "cell_type": "code",
      "metadata": {
        "id": "hPlsJvid3OXy"
      },
      "source": [
        ""
      ],
      "execution_count": null,
      "outputs": []
    },
    {
      "cell_type": "code",
      "metadata": {
        "id": "A6uRN49s3OVg"
      },
      "source": [
        ""
      ],
      "execution_count": null,
      "outputs": []
    },
    {
      "cell_type": "code",
      "metadata": {
        "id": "ahncBlpO3OT4"
      },
      "source": [
        ""
      ],
      "execution_count": null,
      "outputs": []
    },
    {
      "cell_type": "code",
      "metadata": {
        "id": "ol9ZGo5w3ORC"
      },
      "source": [
        ""
      ],
      "execution_count": null,
      "outputs": []
    },
    {
      "cell_type": "code",
      "metadata": {
        "id": "agVzMCI-3OOl"
      },
      "source": [
        ""
      ],
      "execution_count": null,
      "outputs": []
    },
    {
      "cell_type": "code",
      "metadata": {
        "id": "izT7Cs7O3OMM"
      },
      "source": [
        ""
      ],
      "execution_count": null,
      "outputs": []
    },
    {
      "cell_type": "markdown",
      "metadata": {
        "id": "VkDDcZGp3NE3"
      },
      "source": [
        ""
      ]
    },
    {
      "cell_type": "code",
      "metadata": {
        "id": "NHtzmRrG2w_C"
      },
      "source": [
        ""
      ],
      "execution_count": null,
      "outputs": []
    },
    {
      "cell_type": "code",
      "metadata": {
        "id": "QVPgRV3wZ7vv"
      },
      "source": [
        "from matplotlib import cm"
      ],
      "execution_count": 120,
      "outputs": []
    },
    {
      "cell_type": "code",
      "metadata": {
        "id": "t3DLNNiwaIrl"
      },
      "source": [
        "cmap = cm.get_cmap(\"tab20\")"
      ],
      "execution_count": 121,
      "outputs": []
    },
    {
      "cell_type": "code",
      "metadata": {
        "colab": {
          "base_uri": "https://localhost:8080/",
          "height": 316
        },
        "id": "Nhp4ct2_Hj_C",
        "outputId": "9b3636e5-fdf2-45dc-f434-e0ce78595447"
      },
      "source": [
        "fig, ax = plt.subplots(figsize=(5,5))\n",
        "\n",
        "x = np.array([*data.keys()])\n",
        "argsort = np.argsort(x)\n",
        "xsum = x[argsort]\n",
        "\n",
        "y = np.array([*data.values()])[argsort]\n",
        "ysum = y/(N*n_bcs)*100\n",
        "\n",
        "ax.bar(0,ysum[0], color=cmap(0), label=f\"{xsum[0]}\")\n",
        "bottom = ysum[0]\n",
        "\n",
        "for idx, height in enumerate(ysum[1:], 1):\n",
        "  ax.bar(0, height, bottom=bottom, color=cmap(idx), label=f\"{xsum[idx]}\")\n",
        "  bottom += height\n",
        "\n",
        "ax.set(**{\n",
        "    \"xlabel\": \"Min hamming distance\",\n",
        "    \"ylabel\": f\"Percent of barcodes [N = {N*n_bcs:,.0f}]\",\n",
        "    \"ylim\": (-10, 110),\n",
        "    \"xticklabels\": [],\n",
        "    \"xticks\": []\n",
        "})\n",
        "ax.legend()\n",
        "fig.show()"
      ],
      "execution_count": 129,
      "outputs": [
        {
          "output_type": "display_data",
          "data": {
            "image/png": "[encoded data removed]",
            "text/plain": [
              "<Figure size 360x360 with 1 Axes>"
            ]
          },
          "metadata": {
            "tags": [],
            "image/png": {
              "width": 333,
              "height": 299
            },
            "needs_background": "light"
          }
        }
      ]
    },
    {
      "cell_type": "code",
      "metadata": {
        "id": "EpArG0kKcqV5"
      },
      "source": [
        "def faster_elem_itvs(epts):\n",
        "  d = defaultdict(set)\n",
        "  prev_e = epts[0][0]\n",
        "  prev_v = epts[0][1]\n",
        "\n",
        "  c = set()\n",
        "  c.add(prev_v)\n",
        "\n",
        "  for i in range(1, len(epts)):\n",
        "    curr_e = epts[i][0]\n",
        "    curr_v = epts[i][1]\n",
        "\n",
        "    if curr_e != prev_e:\n",
        "      if len(c):\n",
        "        d[(prev_e, curr_e)] = c.copy()\n",
        "\n",
        "    if curr_v in c:\n",
        "      c.remove(curr_v)\n",
        "    else:\n",
        "      c.add(curr_v)\n",
        "\n",
        "    prev_e = curr_e\n",
        "    prev_v = curr_v\n",
        "\n",
        "\n",
        "  return d\n",
        "  "
      ],
      "execution_count": 134,
      "outputs": []
    },
    {
      "cell_type": "code",
      "metadata": {
        "id": "DhXClLGQfZIH"
      },
      "source": [
        "epts = []\n",
        "\n",
        "for (le, re), v in zip(assign[:,1:], np.arange(assign.shape[0])):\n",
        "  epts.append((le, v))\n",
        "  epts.append((re, v))"
      ],
      "execution_count": 151,
      "outputs": []
    },
    {
      "cell_type": "code",
      "metadata": {
        "id": "4ElRVR85gVsh"
      },
      "source": [
        "epts.sort(key=lambda x: x[0])"
      ],
      "execution_count": 152,
      "outputs": []
    },
    {
      "cell_type": "code",
      "metadata": {
        "id": "hmOEeGwBgeXA"
      },
      "source": [
        "d = faster_elem_itvs(epts)"
      ],
      "execution_count": 153,
      "outputs": []
    },
    {
      "cell_type": "code",
      "metadata": {
        "id": "9QMmI0q3gh7e",
        "outputId": "bfe1f4a5-1d87-49c4-f336-ab0d5bd94818",
        "colab": {
          "base_uri": "https://localhost:8080/"
        }
      },
      "source": [
        "d.keys()"
      ],
      "execution_count": 154,
      "outputs": [
        {
          "output_type": "execute_result",
          "data": {
            "text/plain": [
              "dict_keys([(0, 1), (1, 2), (2, 3), (3, 4), (4, 5), (5, 6)])"
            ]
          },
          "metadata": {
            "tags": []
          },
          "execution_count": 154
        }
      ]
    },
    {
      "cell_type": "code",
      "metadata": {
        "id": "9rk-QZ8Egitt",
        "outputId": "db2a5634-ac87-4cf8-83dd-a28f66d3e547",
        "colab": {
          "base_uri": "https://localhost:8080/"
        }
      },
      "source": [
        "# for each elementary interval its the number of correct minus the number of ambiguous"
      ],
      "execution_count": 150,
      "outputs": [
        {
          "output_type": "execute_result",
          "data": {
            "text/plain": [
              "defaultdict(set,\n",
              "            {(2, 3): {False, True},\n",
              "             (3, 4): {False, True},\n",
              "             (4, 5): {False, True}})"
            ]
          },
          "metadata": {
            "tags": []
          },
          "execution_count": 150
        }
      ]
    },
    {
      "cell_type": "code",
      "metadata": {
        "id": "e7tvOEocg0OF",
        "outputId": "19d6d24f-2ec1-4d2a-e649-c9315b782696",
        "colab": {
          "base_uri": "https://localhost:8080/"
        }
      },
      "source": [
        "for k,v in d.items():\n",
        "  print(f\"{k} ------------------\")\n",
        "  print(\"Assigned correct: \", correct[list(v)].sum())\n",
        "  print(\"Assigned incorrect: \", (~correct[list(v)]).sum())\n",
        "  print(\"Ambiguous: \", ambiguous[list(v)].sum())\n"
      ],
      "execution_count": 166,
      "outputs": [
        {
          "output_type": "stream",
          "text": [
            "(0, 1) ------------------\n",
            "Assigned correct:  628184\n",
            "Assigned incorrect:  4\n",
            "Ambiguous:  0\n",
            "(1, 2) ------------------\n",
            "Assigned correct:  860060\n",
            "Assigned incorrect:  4170\n",
            "Ambiguous:  3616\n",
            "(2, 3) ------------------\n",
            "Assigned correct:  864499\n",
            "Assigned incorrect:  1619\n",
            "Ambiguous:  1220\n",
            "(3, 4) ------------------\n",
            "Assigned correct:  414889\n",
            "Assigned incorrect:  129\n",
            "Ambiguous:  72\n",
            "(4, 5) ------------------\n",
            "Assigned correct:  18843\n",
            "Assigned incorrect:  1\n",
            "Ambiguous:  0\n",
            "(5, 6) ------------------\n",
            "Assigned correct:  4\n",
            "Assigned incorrect:  0\n",
            "Ambiguous:  0\n"
          ],
          "name": "stdout"
        }
      ]
    },
    {
      "cell_type": "code",
      "metadata": {
        "id": "2tj45o1-sU6L",
        "outputId": "b8150495-96e1-4eb7-bdbe-968815be058f",
        "colab": {
          "base_uri": "https://localhost:8080/"
        }
      },
      "source": [
        "Counter(assign[:,])"
      ],
      "execution_count": 167,
      "outputs": [
        {
          "output_type": "execute_result",
          "data": {
            "text/plain": [
              "array([[0, 0, 3],\n",
              "       [0, 0, 3],\n",
              "       [0, 1, 3],\n",
              "       ...,\n",
              "       [8, 0, 3],\n",
              "       [8, 0, 3],\n",
              "       [8, 0, 3]])"
            ]
          },
          "metadata": {
            "tags": []
          },
          "execution_count": 167
        }
      ]
    },
    {
      "cell_type": "code",
      "metadata": {
        "id": "d_bNsARYh02u"
      },
      "source": [
        ""
      ],
      "execution_count": null,
      "outputs": []
    }
  ]
}