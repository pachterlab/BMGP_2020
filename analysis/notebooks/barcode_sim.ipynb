{
  "nbformat": 4,
  "nbformat_minor": 0,
  "metadata": {
    "colab": {
      "name": "barcode_sim.ipynb",
      "provenance": [],
      "collapsed_sections": [],
      "authorship_tag": "ABX9TyOxBo0xJYBhkW7iQYiFofHK",
      "include_colab_link": true
    },
    "kernelspec": {
      "name": "python3",
      "display_name": "Python 3"
    },
    "language_info": {
      "name": "python"
    }
  },
  "cells": [
    {
      "cell_type": "markdown",
      "metadata": {
        "id": "view-in-github",
        "colab_type": "text"
      },
      "source": [
        "<a href=\"https://colab.research.google.com/github/sbooeshaghi/BMGP_2020/blob/main/analysis/notebooks/barcode_sim.ipynb\" target=\"_parent\"><img src=\"https://colab.research.google.com/assets/colab-badge.svg\" alt=\"Open In Colab\"/></a>"
      ]
    },
    {
      "cell_type": "code",
      "metadata": {
        "id": "JcLkkQAPGEzn"
      },
      "source": [
        "import numpy as np\n",
        "import matplotlib.pyplot as plt\n",
        "fsize=15\n",
        "\n",
        "plt.rcParams.update({'font.size': fsize})\n",
        "%config InlineBackend.figure_format = 'retina'"
      ],
      "execution_count": 152,
      "outputs": []
    },
    {
      "cell_type": "code",
      "metadata": {
        "id": "ugn4yy-yB9UQ"
      },
      "source": [
        "bcs = [\n",
        "  list(\"GGAGAAGA\"),\n",
        "  list(\"CCACAATG\"),\n",
        "  list(\"CCAACCGG\"),\n",
        "  list(\"CGAAGCCC\"),\n",
        "  list(\"TCAGTCGA\"),\n",
        "  list(\"GACCAGCC\"),\n",
        "  list(\"CTCAAGGT\"),\n",
        "  list(\"CGCCGCAA\"),\n",
        "  list(\"ACCAGCCG\"),\n",
        "]"
      ],
      "execution_count": 198,
      "outputs": []
    },
    {
      "cell_type": "code",
      "metadata": {
        "id": "OXXGdMZTJTj1"
      },
      "source": [
        "# each row is a feature barcode, each column is a nucleotide\n",
        "bcs_mat = np.array(bcs)"
      ],
      "execution_count": 197,
      "outputs": []
    },
    {
      "cell_type": "code",
      "metadata": {
        "id": "TYn9QEDUCIBv"
      },
      "source": [
        "err = 0.005\n",
        "N = 100_000\n",
        "bc_len = 8\n",
        "n_bc = len(bcs)\n",
        "labels = np.arange(n_bc)\n",
        "np.random.seed(0)"
      ],
      "execution_count": 201,
      "outputs": []
    },
    {
      "cell_type": "code",
      "metadata": {
        "id": "inLZKw2gNFId"
      },
      "source": [
        "# function, given a barcode, N, and error, return a list of mutants\n",
        "def alt(barcode):\n",
        "  # for each position the set of nucleotides that are not the given on\n",
        "  d = set([\"A\", \"T\", \"G\", \"C\"])\n",
        "  alt = [sorted(list(d.symmetric_difference(i))) for i in barcode]\n",
        "  return alt\n",
        "\n",
        "def mutate(barcode, N, err):\n",
        "  barcode = list(barcode)\n",
        "  bc_len = len(barcode)\n",
        "  mutate_mask = np.random.rand(N,bc_len)<err\n",
        "\n",
        "  # for each barcode for each base, the other possible nucleotide choices\n",
        "  replace_opt = np.array(alt(barcode))\n",
        "\n",
        "  # pick which of the 3 alternative nucleotides to change to\n",
        "  replace_idx = np.random.choice(3, size=(N, bc_len))\n",
        "\n",
        "  # select a single column for each row in replace_opt given by replace_idx \n",
        "  # do this for all N mutants, for each num_fb\n",
        "  replace = np.array([replace_opt[np.arange(bc_len), i] for i in replace_idx]) \n",
        "\n",
        "  bc_mat = np.tile(barcode, (N, 1))\n",
        "\n",
        "  # replace the nucleotides where mutate_mask is true\n",
        "  bc_mat[mutate_mask] = replace[mutate_mask]\n",
        "  ham = mutate_mask.sum(1)\n",
        "  return bc_mat, ham"
      ],
      "execution_count": 193,
      "outputs": []
    },
    {
      "cell_type": "code",
      "metadata": {
        "id": "6bDHWj-EPHsD"
      },
      "source": [
        "tmp, d = mutate(\"GGAGAAGA\", 100, err)"
      ],
      "execution_count": 186,
      "outputs": []
    },
    {
      "cell_type": "code",
      "metadata": {
        "id": "YlJNwtNhSJ6Y"
      },
      "source": [
        "mutants = np.array([mutate(bc, N, err)[0] for bc in bcs])"
      ],
      "execution_count": 211,
      "outputs": []
    },
    {
      "cell_type": "code",
      "metadata": {
        "id": "FZKDJhLiTJ8b"
      },
      "source": [
        "mutants = np.concatenate(mutants, 0)"
      ],
      "execution_count": 225,
      "outputs": []
    },
    {
      "cell_type": "markdown",
      "metadata": {
        "id": "gNXFiZ-yHABs"
      },
      "source": [
        "# Perform correction"
      ]
    },
    {
      "cell_type": "code",
      "metadata": {
        "id": "-2dsiKyS6chk"
      },
      "source": [
        "from collections import Counter"
      ],
      "execution_count": 226,
      "outputs": []
    },
    {
      "cell_type": "code",
      "metadata": {
        "colab": {
          "base_uri": "https://localhost:8080/"
        },
        "id": "SJEQwQkV4zME",
        "outputId": "5e813afb-ebc6-4a64-abdb-4a26901429f1"
      },
      "source": [
        "ham = []\n",
        "for idx, m in enumerate(mutants):\n",
        "  d = []\n",
        "  if idx%100_000==0:\n",
        "    print(idx)\n",
        "  for tidx, t in enumerate(bcs_mat):\n",
        "    d.append((t!=m).sum())\n",
        "  ham.append(d)"
      ],
      "execution_count": 227,
      "outputs": [
        {
          "output_type": "stream",
          "text": [
            "0\n",
            "50000\n",
            "100000\n",
            "150000\n",
            "200000\n",
            "250000\n",
            "300000\n",
            "350000\n",
            "400000\n",
            "450000\n",
            "500000\n",
            "550000\n",
            "600000\n",
            "650000\n",
            "700000\n",
            "750000\n",
            "800000\n",
            "850000\n"
          ],
          "name": "stdout"
        }
      ]
    },
    {
      "cell_type": "code",
      "metadata": {
        "id": "PB0glNGPwAoa"
      },
      "source": [
        "ham = np.array(ham)"
      ],
      "execution_count": 228,
      "outputs": []
    },
    {
      "cell_type": "code",
      "metadata": {
        "colab": {
          "base_uri": "https://localhost:8080/"
        },
        "id": "sxI3U9AxxC1L",
        "outputId": "3585518d-49f3-4c7c-dbab-eac66e7b7e28"
      },
      "source": [
        "%%time\n",
        "# We want the maximum hamming after which it is ambiguous\n",
        "assign = []\n",
        "for h in ham:\n",
        "  c = Counter(h)\n",
        "\n",
        "  du = np.array([*c.keys()])\n",
        "  du_argsort = np.argsort(du)\n",
        "\n",
        "  one_idx, two_idx, *_ = du_argsort\n",
        "  one_ham, two_ham = du[one_idx], du[two_idx]\n",
        "\n",
        "  one_mul, two_mul = c[one_ham], c[two_ham]\n",
        "  if one_mul == 1:\n",
        "    max_ham = two_ham - 1\n",
        "    target = np.where(h == one_ham)[0][0]\n",
        "  elif one_mul > 1:\n",
        "    max_ham = one_ham - 1\n",
        "    target = -1\n",
        "\n",
        "  assign.append([target, max_ham])"
      ],
      "execution_count": 229,
      "outputs": [
        {
          "output_type": "stream",
          "text": [
            "CPU times: user 21.9 s, sys: 2.17 s, total: 24 s\n",
            "Wall time: 21.7 s\n"
          ],
          "name": "stdout"
        }
      ]
    },
    {
      "cell_type": "code",
      "metadata": {
        "colab": {
          "base_uri": "https://localhost:8080/"
        },
        "id": "ayBArlsbDfVk",
        "outputId": "67c2e2ca-e4a7-4094-d547-348ae935f4ab"
      },
      "source": [
        "np.array(assign)"
      ],
      "execution_count": 230,
      "outputs": [
        {
          "output_type": "execute_result",
          "data": {
            "text/plain": [
              "array([[0, 3],\n",
              "       [0, 3],\n",
              "       [0, 3],\n",
              "       ...,\n",
              "       [8, 3],\n",
              "       [8, 3],\n",
              "       [8, 3]])"
            ]
          },
          "metadata": {
            "tags": []
          },
          "execution_count": 230
        }
      ]
    },
    {
      "cell_type": "code",
      "metadata": {
        "id": "27VvRmFuF4t-"
      },
      "source": [
        "data = Counter(np.array(assign)[:,1])"
      ],
      "execution_count": 231,
      "outputs": []
    },
    {
      "cell_type": "code",
      "metadata": {
        "colab": {
          "base_uri": "https://localhost:8080/"
        },
        "id": "Mldrld5nIAKR",
        "outputId": "1ce6c67a-a563-4f82-b29b-b6d39e8355d4"
      },
      "source": [
        "data.items()"
      ],
      "execution_count": 232,
      "outputs": [
        {
          "output_type": "execute_result",
          "data": {
            "text/plain": [
              "dict_items([(3, 687542), (4, 203552), (2, 8071), (1, 28), (5, 807)])"
            ]
          },
          "metadata": {
            "tags": []
          },
          "execution_count": 232
        }
      ]
    },
    {
      "cell_type": "code",
      "metadata": {
        "colab": {
          "base_uri": "https://localhost:8080/",
          "height": 343
        },
        "id": "Nhp4ct2_Hj_C",
        "outputId": "6a0d33dc-92e0-4211-cbe4-772010d0004d"
      },
      "source": [
        "fig, ax = plt.subplots(figsize=(5,5))\n",
        "\n",
        "x = np.array([*data.keys()])\n",
        "argsort = np.argsort(x)\n",
        "xx = x[argsort]\n",
        "y = np.array([*data.values()])[argsort]\n",
        "yy = np.cumsum(y[::-1])[::-1]/(N*num_fb)*100\n",
        "\n",
        "amb = 100-yy\n",
        "ax.bar(xx,yy, label=\"Rescued\")\n",
        "ax.bar(xx, amb, bottom=yy, label=\"Ambiguous\")\n",
        "\n",
        "ax.set(**{\n",
        "    \"xlabel\": \"Hamming distance correction\",\n",
        "    \"ylabel\": \"Percent of barcodes\",\n",
        "    \"ylim\": (-10, 110)\n",
        "})\n",
        "ax.legend()\n",
        "fig.show()"
      ],
      "execution_count": 233,
      "outputs": [
        {
          "output_type": "display_data",
          "data": {
            "image/png": "[encoded data removed]",
            "text/plain": [
              "<Figure size 360x360 with 1 Axes>"
            ]
          },
          "metadata": {
            "tags": [],
            "image/png": {
              "width": 347,
              "height": 326
            },
            "needs_background": "light"
          }
        }
      ]
    },
    {
      "cell_type": "code",
      "metadata": {
        "id": "azGxopE8FSDp"
      },
      "source": [
        ""
      ],
      "execution_count": null,
      "outputs": []
    }
  ]
}