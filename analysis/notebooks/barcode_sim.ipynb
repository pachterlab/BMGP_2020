{
  "nbformat": 4,
  "nbformat_minor": 0,
  "metadata": {
    "colab": {
      "name": "barcode_sim.ipynb",
      "provenance": [],
      "collapsed_sections": [],
      "authorship_tag": "ABX9TyNEtCGWmTQswvTceZJZUnBl",
      "include_colab_link": true
    },
    "kernelspec": {
      "name": "python3",
      "display_name": "Python 3"
    },
    "language_info": {
      "name": "python"
    }
  },
  "cells": [
    {
      "cell_type": "markdown",
      "metadata": {
        "id": "view-in-github",
        "colab_type": "text"
      },
      "source": [
        "<a href=\"https://colab.research.google.com/github/sbooeshaghi/BMGP_2020/blob/main/analysis/notebooks/barcode_sim.ipynb\" target=\"_parent\"><img src=\"https://colab.research.google.com/assets/colab-badge.svg\" alt=\"Open In Colab\"/></a>"
      ]
    },
    {
      "cell_type": "code",
      "metadata": {
        "id": "JcLkkQAPGEzn"
      },
      "source": [
        "import numpy as np\n",
        "import matplotlib.pyplot as plt\n",
        "fsize=15\n",
        "\n",
        "plt.rcParams.update({'font.size': fsize})\n",
        "%config InlineBackend.figure_format = 'retina'"
      ],
      "execution_count": 1,
      "outputs": []
    },
    {
      "cell_type": "code",
      "metadata": {
        "id": "ugn4yy-yB9UQ"
      },
      "source": [
        "# full bc\n",
        "fbcs = [\n",
        "  list(\"GGAGAAGA\"),\n",
        "  list(\"CCACAATG\"),\n",
        "  list(\"CCAACCGG\"),\n",
        "  list(\"CGAAGCCC\"),\n",
        "  list(\"TCAGTCGA\"),\n",
        "  list(\"GACCAGCC\"),\n",
        "  list(\"CTCAAGGT\"),\n",
        "  list(\"CGCCGCAA\"),\n",
        "  list(\"ACCAGCCG\"),\n",
        "]\n",
        "# trim right\n",
        "rbcs = [\n",
        "  list(\"GGAGAAG\"),\n",
        "  list(\"CCACAAT\"),\n",
        "  list(\"CCAACCG\"),\n",
        "  list(\"CGAAGCC\"),\n",
        "  list(\"TCAGTCG\"),\n",
        "  list(\"GACCAGC\"),\n",
        "  list(\"CTCAAGG\"),\n",
        "  list(\"CGCCGCA\"),\n",
        "  list(\"ACCAGCC\"),\n",
        "]\n",
        "\n",
        "# trim left\n",
        "lbcs = [\n",
        "  list(\"GAGAAGA\"),\n",
        "  list(\"CACAATG\"),\n",
        "  list(\"CAACCGG\"),\n",
        "  list(\"GAAGCCC\"),\n",
        "  list(\"CAGTCGA\"),\n",
        "  list(\"ACCAGCC\"),\n",
        "  list(\"TCAAGGT\"),\n",
        "  list(\"GCCGCAA\"),\n",
        "  list(\"CCAGCCG\"),\n",
        "]\n",
        "\n",
        "bcs_names = [\n",
        "\"BC1\",\n",
        "\"BC2\",\n",
        "\"BC13\",\n",
        "\"BC25\",\n",
        "\"BC37\",\n",
        "\"BC49\",\n",
        "\"BC50\",\n",
        "\"BC73\",\n",
        "\"BC74\",\n",
        "]\n",
        "bcs_list =[\n",
        "\"GGAGAAGA\",\n",
        "\"CCACAATG\",\n",
        "\"CCAACCGG\",\n",
        "\"CGAAGCCC\",\n",
        "\"TCAGTCGA\",\n",
        "\"GACCAGCC\",\n",
        "\"CTCAAGGT\",\n",
        "\"CGCCGCAA\",\n",
        "\"ACCAGCCG\",\n",
        "]\n",
        "bcs = lbcs"
      ],
      "execution_count": 33,
      "outputs": []
    },
    {
      "cell_type": "markdown",
      "metadata": {
        "id": "bvNv25WDY55W"
      },
      "source": [
        "# Check for shared kmer sequences in the forward and reverse strand"
      ]
    },
    {
      "cell_type": "code",
      "metadata": {
        "id": "9RT1wy0l7A6z",
        "outputId": "6c01fc44-eefe-4ce2-bd1e-f46ec7bba4ef",
        "colab": {
          "base_uri": "https://localhost:8080/"
        }
      },
      "source": [
        "def gen_kmers(s, k):\n",
        "  L = len(s)\n",
        "  return [s[i:i+k] for i in range(L-k+1)]\n",
        "gen_kmers(\"sina\" ,3)"
      ],
      "execution_count": 86,
      "outputs": [
        {
          "output_type": "execute_result",
          "data": {
            "text/plain": [
              "['sin', 'ina']"
            ]
          },
          "metadata": {
            "tags": []
          },
          "execution_count": 86
        }
      ]
    },
    {
      "cell_type": "code",
      "metadata": {
        "id": "ZW0BPdsXX2ET",
        "outputId": "576b795c-1d2f-4b67-9ab5-fc9c92f31e06",
        "colab": {
          "base_uri": "https://localhost:8080/",
          "height": 35
        }
      },
      "source": [
        "complement = {'A': 'T', 'C': 'G', 'G': 'C', 'T': 'A'} \n",
        "def rev_c(seq):\n",
        "    bases = list(seq) \n",
        "    bases = reversed([complement.get(base,base) for base in bases])\n",
        "    bases = ''.join(bases)\n",
        "    return bases\n",
        "rev_c(\"ATC\")"
      ],
      "execution_count": 85,
      "outputs": [
        {
          "output_type": "execute_result",
          "data": {
            "application/vnd.google.colaboratory.intrinsic+json": {
              "type": "string"
            },
            "text/plain": [
              "'GAT'"
            ]
          },
          "metadata": {
            "tags": []
          },
          "execution_count": 85
        }
      ]
    },
    {
      "cell_type": "code",
      "metadata": {
        "id": "haFLbBLO617Z"
      },
      "source": [
        "from collections import defaultdict\n",
        "def check_kmers(bcs, bcs_names, k=None):\n",
        "  length = min([len(i) for i in bcs])\n",
        "  if not k:\n",
        "    k = length if length % 2 else length - 1\n",
        "    print(f\"Optimal kmer length: {k}\")\n",
        "\n",
        "  d = defaultdict(list)\n",
        "  for bc, bc_name in zip(bcs, bcs_names):\n",
        "    # forward\n",
        "    kmers = gen_kmers(bc, k)\n",
        "    for kmer in kmers:\n",
        "      d[\"\".join(kmer)].append(bc_name)\n",
        "    \n",
        "    # reverse complement\n",
        "    kmers = gen_kmers(rev_c(bc), k)\n",
        "    for kmer in kmers:\n",
        "      d[\"\".join(kmer)].append(bc_name + \"_rc\")\n",
        "  return d"
      ],
      "execution_count": 87,
      "outputs": []
    },
    {
      "cell_type": "code",
      "metadata": {
        "id": "EHTAzglv7rvc",
        "outputId": "6f6aedf9-02d9-4c31-a92a-d5273b56a975",
        "colab": {
          "base_uri": "https://localhost:8080/"
        }
      },
      "source": [
        "check_kmers(bcs_list, bcs_names)"
      ],
      "execution_count": 88,
      "outputs": [
        {
          "output_type": "stream",
          "text": [
            "Optimal kmer length: 7\n"
          ],
          "name": "stdout"
        },
        {
          "output_type": "execute_result",
          "data": {
            "text/plain": [
              "defaultdict(list,\n",
              "            {'ACCAGCC': ['BC49', 'BC74'],\n",
              "             'ACCTTGA': ['BC50_rc'],\n",
              "             'ATTGTGG': ['BC2_rc'],\n",
              "             'CAACCGG': ['BC13'],\n",
              "             'CACAATG': ['BC2'],\n",
              "             'CAGTCGA': ['BC37'],\n",
              "             'CATTGTG': ['BC2_rc'],\n",
              "             'CCAACCG': ['BC13'],\n",
              "             'CCACAAT': ['BC2'],\n",
              "             'CCAGCCG': ['BC74'],\n",
              "             'CCGGTTG': ['BC13_rc'],\n",
              "             'CCTTGAG': ['BC50_rc'],\n",
              "             'CGAAGCC': ['BC25'],\n",
              "             'CGACTGA': ['BC37_rc'],\n",
              "             'CGCCGCA': ['BC73'],\n",
              "             'CGGCTGG': ['BC74_rc'],\n",
              "             'CGGTTGG': ['BC13_rc'],\n",
              "             'CTCAAGG': ['BC50'],\n",
              "             'CTTCTCC': ['BC1_rc'],\n",
              "             'GAAGCCC': ['BC25'],\n",
              "             'GACCAGC': ['BC49'],\n",
              "             'GAGAAGA': ['BC1'],\n",
              "             'GCCGCAA': ['BC73'],\n",
              "             'GCTGGTC': ['BC49_rc'],\n",
              "             'GGAGAAG': ['BC1'],\n",
              "             'GGCTGGT': ['BC49_rc', 'BC74_rc'],\n",
              "             'GGCTTCG': ['BC25_rc'],\n",
              "             'GGGCTTC': ['BC25_rc'],\n",
              "             'TCAAGGT': ['BC50'],\n",
              "             'TCAGTCG': ['BC37'],\n",
              "             'TCGACTG': ['BC37_rc'],\n",
              "             'TCTTCTC': ['BC1_rc'],\n",
              "             'TGCGGCG': ['BC73_rc'],\n",
              "             'TTGCGGC': ['BC73_rc']})"
            ]
          },
          "metadata": {
            "tags": []
          },
          "execution_count": 88
        }
      ]
    },
    {
      "cell_type": "markdown",
      "metadata": {
        "id": "gGND2K7HZCHB"
      },
      "source": [
        "We see that BC49 and BC74 share kmers.\n",
        "```\n",
        "'ACCAGCC': ['BC49', 'BC74'],\n",
        "'GGCTGGT': ['BC49_rc', 'BC74_rc'],\n",
        "```\n",
        "\n",
        "\n",
        "\n",
        "\n"
      ]
    },
    {
      "cell_type": "markdown",
      "metadata": {
        "id": "PQM2Cd-3Y-XP"
      },
      "source": [
        "# Simulate barcodes with errors"
      ]
    },
    {
      "cell_type": "code",
      "metadata": {
        "id": "OXXGdMZTJTj1"
      },
      "source": [
        "# each row is a feature barcode, each column is a nucleotide\n",
        "bcs_mat = np.array(bcs)"
      ],
      "execution_count": 3,
      "outputs": []
    },
    {
      "cell_type": "code",
      "metadata": {
        "id": "TYn9QEDUCIBv"
      },
      "source": [
        "err = 0.005\n",
        "N = 100_000\n",
        "bc_len = 8\n",
        "n_bcs = len(bcs)\n",
        "labels = np.arange(n_bcs)\n",
        "np.random.seed(0)"
      ],
      "execution_count": 4,
      "outputs": []
    },
    {
      "cell_type": "code",
      "metadata": {
        "id": "inLZKw2gNFId"
      },
      "source": [
        "# function, given a barcode, N, and error, return a list of mutants\n",
        "def alt(barcode):\n",
        "  # for each position the set of nucleotides that are not the given on\n",
        "  d = set([\"A\", \"T\", \"G\", \"C\"])\n",
        "  alt = [sorted(list(d.symmetric_difference(i))) for i in barcode]\n",
        "  return alt\n",
        "\n",
        "def mutate(barcode, N, err):\n",
        "  barcode = list(barcode)\n",
        "  bc_len = len(barcode)\n",
        "  mutate_mask = np.random.rand(N,bc_len)<err\n",
        "\n",
        "  # for each barcode for each base, the other possible nucleotide choices\n",
        "  replace_opt = np.array(alt(barcode))\n",
        "\n",
        "  # pick which of the 3 alternative nucleotides to change to\n",
        "  replace_idx = np.random.choice(3, size=(N, bc_len))\n",
        "\n",
        "  # select a single column for each row in replace_opt given by replace_idx \n",
        "  # do this for all N mutants, for each num_fb\n",
        "  replace = np.array([replace_opt[np.arange(bc_len), i] for i in replace_idx]) \n",
        "\n",
        "  bc_mat = np.tile(barcode, (N, 1))\n",
        "\n",
        "  # replace the nucleotides where mutate_mask is true\n",
        "  bc_mat[mutate_mask] = replace[mutate_mask]\n",
        "  ham = mutate_mask.sum(1)\n",
        "  return bc_mat, ham"
      ],
      "execution_count": 5,
      "outputs": []
    },
    {
      "cell_type": "code",
      "metadata": {
        "id": "YlJNwtNhSJ6Y"
      },
      "source": [
        "mutants = np.array([mutate(bc, N, err)[0] for bc in bcs])\n",
        "mutants = np.concatenate(mutants, 0)\n",
        "mutant_origin = np.repeat(labels, N)"
      ],
      "execution_count": 6,
      "outputs": []
    },
    {
      "cell_type": "markdown",
      "metadata": {
        "id": "gNXFiZ-yHABs"
      },
      "source": [
        "# Perform correction"
      ]
    },
    {
      "cell_type": "code",
      "metadata": {
        "id": "-2dsiKyS6chk"
      },
      "source": [
        "from collections import Counter"
      ],
      "execution_count": 7,
      "outputs": []
    },
    {
      "cell_type": "code",
      "metadata": {
        "id": "RgDXGfkSaafO"
      },
      "source": [
        "def distances(mutants, bcs_mat):\n",
        "  # for each mutant, determine the set of hamming distances\n",
        "  ham = []\n",
        "  for idx, m in enumerate(mutants):    \n",
        "    d = []\n",
        "    for tidx, t in enumerate(bcs_mat):\n",
        "      d.append((t!=m).sum())\n",
        "    ham.append(d)\n",
        "\n",
        "  ham = np.array(ham)\n",
        "  return ham"
      ],
      "execution_count": 8,
      "outputs": []
    },
    {
      "cell_type": "code",
      "metadata": {
        "id": "JJQ5sJZOalcj"
      },
      "source": [
        "ham = distances(mutants, bcs_mat)"
      ],
      "execution_count": 9,
      "outputs": []
    },
    {
      "cell_type": "code",
      "metadata": {
        "colab": {
          "base_uri": "https://localhost:8080/"
        },
        "id": "sxI3U9AxxC1L",
        "outputId": "bd7fd9cf-5287-4584-aaf0-9e892088b4c0"
      },
      "source": [
        "%%time\n",
        "# [ min , max)\n",
        "# We want the maximum hamming after which it is ambiguous\n",
        "assign = []\n",
        "for h in ham:\n",
        "  c = Counter(h)\n",
        "\n",
        "  du = np.array([*c.keys()])\n",
        "  du_argsort = np.argsort(du)\n",
        "\n",
        "  one_idx, two_idx, *_ = du_argsort\n",
        "  one_ham, two_ham = du[one_idx], du[two_idx]\n",
        "\n",
        "  one_mul, two_mul = c[one_ham], c[two_ham]\n",
        "  if one_mul == 1:\n",
        "    min_ham = one_ham\n",
        "    max_ham = two_ham \n",
        "    target = np.where(h == one_ham)[0][0]\n",
        "  elif one_mul > 1:\n",
        "    min_ham = one_ham - 1\n",
        "    max_ham = one_ham\n",
        "    target = -1\n",
        "\n",
        "  assign.append([target, min_ham,  max_ham])\n",
        "assign = np.array(assign)"
      ],
      "execution_count": 10,
      "outputs": [
        {
          "output_type": "stream",
          "text": [
            "CPU times: user 22.9 s, sys: 3.2 s, total: 26.1 s\n",
            "Wall time: 22.2 s\n"
          ],
          "name": "stdout"
        }
      ]
    },
    {
      "cell_type": "code",
      "metadata": {
        "colab": {
          "base_uri": "https://localhost:8080/"
        },
        "id": "QOBH2D9nIOXh",
        "outputId": "5005bdc4-221f-4a83-96ed-50e5f9bdc555"
      },
      "source": [
        "assign"
      ],
      "execution_count": 11,
      "outputs": [
        {
          "output_type": "execute_result",
          "data": {
            "text/plain": [
              "array([[0, 0, 3],\n",
              "       [0, 0, 3],\n",
              "       [0, 0, 3],\n",
              "       ...,\n",
              "       [8, 0, 3],\n",
              "       [8, 0, 3],\n",
              "       [8, 0, 3]])"
            ]
          },
          "metadata": {
            "tags": []
          },
          "execution_count": 11
        }
      ]
    },
    {
      "cell_type": "code",
      "metadata": {
        "id": "UMi_0AFvj0hy"
      },
      "source": [
        "# assigned correctly, assigned incorrectly, ambiguous"
      ],
      "execution_count": 12,
      "outputs": []
    },
    {
      "cell_type": "code",
      "metadata": {
        "id": "R03j0bbqnx1X"
      },
      "source": [
        "# barcodes that are impossible to assign for any hamming distance\n",
        "ambiguous = np.equal(assign[:,0], -1)"
      ],
      "execution_count": 13,
      "outputs": []
    },
    {
      "cell_type": "code",
      "metadata": {
        "id": "ayBArlsbDfVk"
      },
      "source": [
        "# barcodes that are given the correct assignment\n",
        "correct = np.equal(assign[:,0], mutant_origin)"
      ],
      "execution_count": 14,
      "outputs": []
    },
    {
      "cell_type": "code",
      "metadata": {
        "id": "27VvRmFuF4t-"
      },
      "source": [
        "mask = np.logical_and(correct, ~ambiguous)\n",
        "data = Counter(np.array(assign)[:,1][mask])"
      ],
      "execution_count": 15,
      "outputs": []
    },
    {
      "cell_type": "code",
      "metadata": {
        "id": "GJb4ACSb2gY2",
        "outputId": "ccd921ef-06bb-49b9-9637-b82dbbbe4313",
        "colab": {
          "base_uri": "https://localhost:8080/"
        }
      },
      "source": [
        "869010 + 30516"
      ],
      "execution_count": 18,
      "outputs": [
        {
          "output_type": "execute_result",
          "data": {
            "text/plain": [
              "899526"
            ]
          },
          "metadata": {
            "tags": []
          },
          "execution_count": 18
        }
      ]
    },
    {
      "cell_type": "code",
      "metadata": {
        "colab": {
          "base_uri": "https://localhost:8080/"
        },
        "id": "Mldrld5nIAKR",
        "outputId": "639fac16-dd0d-400f-a500-db846ab7469b"
      },
      "source": [
        "data.items()"
      ],
      "execution_count": 16,
      "outputs": [
        {
          "output_type": "execute_result",
          "data": {
            "text/plain": [
              "dict_items([(0, 869010), (1, 30516), (2, 411), (3, 1)])"
            ]
          },
          "metadata": {
            "tags": []
          },
          "execution_count": 16
        }
      ]
    },
    {
      "cell_type": "code",
      "metadata": {
        "colab": {
          "base_uri": "https://localhost:8080/",
          "height": 350
        },
        "id": "Nhp4ct2_Hj_C",
        "outputId": "c63f18d2-8015-4e15-a02b-0d91a54a1dc4"
      },
      "source": [
        "fig, ax = plt.subplots(figsize=(5,5))\n",
        "\n",
        "x = np.array([*data.keys()])\n",
        "argsort = np.argsort(x)\n",
        "xx = x[argsort]\n",
        "y = np.array([*data.values()])[argsort]\n",
        "yy = np.cumsum(y[::-1])[::-1]/(N*n_bcs)*100\n",
        "\n",
        "ax.bar(xx[0],yy[0])\n",
        "cs = yy[0]\n",
        "for xxx, yyy in zip(xx[1:], yy[1:]):\n",
        "  ax.bar(xx[0], yyy, bottom=cs)\n",
        "  cs += yyy\n",
        "\n",
        "ax.set(**{\n",
        "    \"xlabel\": \"Hamming distance correction\",\n",
        "    \"ylabel\": \"Percent of barcodes\",\n",
        "    \"ylim\": (-10, 110)\n",
        "})\n",
        "ax.legend()\n",
        "fig.show()"
      ],
      "execution_count": 24,
      "outputs": [
        {
          "output_type": "stream",
          "text": [
            "No handles with labels found to put in legend.\n"
          ],
          "name": "stderr"
        },
        {
          "output_type": "display_data",
          "data": {
            "image/png": "[encoded data removed]",
            "text/plain": [
              "<Figure size 360x360 with 1 Axes>"
            ]
          },
          "metadata": {
            "tags": [],
            "image/png": {
              "width": 333,
              "height": 316
            },
            "needs_background": "light"
          }
        }
      ]
    },
    {
      "cell_type": "code",
      "metadata": {
        "id": "7yeVIV8d2xiN",
        "outputId": "31980d5b-53ca-4614-adb0-cd3e8d4a89e8",
        "colab": {
          "base_uri": "https://localhost:8080/"
        }
      },
      "source": [
        "np.cumsum(y[::-1])[::-1]/(N*n_bcs)*100"
      ],
      "execution_count": 25,
      "outputs": [
        {
          "output_type": "execute_result",
          "data": {
            "text/plain": [
              "array([9.99931111e+01, 3.43644444e+00, 4.57777778e-02, 1.11111111e-04])"
            ]
          },
          "metadata": {
            "tags": []
          },
          "execution_count": 25
        }
      ]
    },
    {
      "cell_type": "code",
      "metadata": {
        "id": "9OXZsZ9W22kr"
      },
      "source": [
        ""
      ],
      "execution_count": null,
      "outputs": []
    }
  ]
}