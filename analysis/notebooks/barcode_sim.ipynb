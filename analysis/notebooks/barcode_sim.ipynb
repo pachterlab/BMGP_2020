{
  "nbformat": 4,
  "nbformat_minor": 0,
  "metadata": {
    "colab": {
      "name": "barcode_sim.ipynb",
      "provenance": [],
      "collapsed_sections": [],
      "authorship_tag": "ABX9TyPxpgBuU0keRJLqrCKgn0Fp",
      "include_colab_link": true
    },
    "kernelspec": {
      "name": "python3",
      "display_name": "Python 3"
    },
    "language_info": {
      "name": "python"
    }
  },
  "cells": [
    {
      "cell_type": "markdown",
      "metadata": {
        "id": "view-in-github",
        "colab_type": "text"
      },
      "source": [
        "<a href=\"https://colab.research.google.com/github/sbooeshaghi/BMGP_2020/blob/main/analysis/notebooks/barcode_sim.ipynb\" target=\"_parent\"><img src=\"https://colab.research.google.com/assets/colab-badge.svg\" alt=\"Open In Colab\"/></a>"
      ]
    },
    {
      "cell_type": "code",
      "metadata": {
        "id": "JcLkkQAPGEzn"
      },
      "source": [
        "import numpy as np\n",
        "import matplotlib.pyplot as plt\n",
        "fsize=15\n",
        "\n",
        "plt.rcParams.update({'font.size': fsize})\n",
        "%config InlineBackend.figure_format = 'retina'"
      ],
      "execution_count": 1,
      "outputs": []
    },
    {
      "cell_type": "code",
      "metadata": {
        "id": "ugn4yy-yB9UQ"
      },
      "source": [
        "bcs = [\n",
        "  list(\"GGAGAAGA\"),\n",
        "  list(\"CCACAATG\"),\n",
        "  list(\"CCAACCGG\"),\n",
        "  list(\"CGAAGCCC\"),\n",
        "  list(\"TCAGTCGA\"),\n",
        "  list(\"GACCAGCC\"),\n",
        "  list(\"CTCAAGGT\"),\n",
        "  list(\"CGCCGCAA\"),\n",
        "  list(\"ACCAGCCG\"),\n",
        "]"
      ],
      "execution_count": 2,
      "outputs": []
    },
    {
      "cell_type": "code",
      "metadata": {
        "id": "OXXGdMZTJTj1"
      },
      "source": [
        "# each row is a feature barcode, each column is a nucleotide\n",
        "bcs_mat = np.array(bcs)"
      ],
      "execution_count": 3,
      "outputs": []
    },
    {
      "cell_type": "code",
      "metadata": {
        "id": "TYn9QEDUCIBv"
      },
      "source": [
        "err = 0.005\n",
        "N = 100_000\n",
        "bc_len = 8\n",
        "n_bcs = len(bcs)\n",
        "labels = np.arange(n_bcs)\n",
        "np.random.seed(0)"
      ],
      "execution_count": 4,
      "outputs": []
    },
    {
      "cell_type": "code",
      "metadata": {
        "id": "inLZKw2gNFId"
      },
      "source": [
        "# function, given a barcode, N, and error, return a list of mutants\n",
        "def alt(barcode):\n",
        "  # for each position the set of nucleotides that are not the given on\n",
        "  d = set([\"A\", \"T\", \"G\", \"C\"])\n",
        "  alt = [sorted(list(d.symmetric_difference(i))) for i in barcode]\n",
        "  return alt\n",
        "\n",
        "def mutate(barcode, N, err):\n",
        "  barcode = list(barcode)\n",
        "  bc_len = len(barcode)\n",
        "  mutate_mask = np.random.rand(N,bc_len)<err\n",
        "\n",
        "  # for each barcode for each base, the other possible nucleotide choices\n",
        "  replace_opt = np.array(alt(barcode))\n",
        "\n",
        "  # pick which of the 3 alternative nucleotides to change to\n",
        "  replace_idx = np.random.choice(3, size=(N, bc_len))\n",
        "\n",
        "  # select a single column for each row in replace_opt given by replace_idx \n",
        "  # do this for all N mutants, for each num_fb\n",
        "  replace = np.array([replace_opt[np.arange(bc_len), i] for i in replace_idx]) \n",
        "\n",
        "  bc_mat = np.tile(barcode, (N, 1))\n",
        "\n",
        "  # replace the nucleotides where mutate_mask is true\n",
        "  bc_mat[mutate_mask] = replace[mutate_mask]\n",
        "  ham = mutate_mask.sum(1)\n",
        "  return bc_mat, ham"
      ],
      "execution_count": 5,
      "outputs": []
    },
    {
      "cell_type": "code",
      "metadata": {
        "id": "YlJNwtNhSJ6Y"
      },
      "source": [
        "mutants = np.array([mutate(bc, N, err)[0] for bc in bcs])\n",
        "mutants = np.concatenate(mutants, 0)\n",
        "mutant_origin = np.repeat(labels, N)"
      ],
      "execution_count": 6,
      "outputs": []
    },
    {
      "cell_type": "markdown",
      "metadata": {
        "id": "gNXFiZ-yHABs"
      },
      "source": [
        "# Perform correction"
      ]
    },
    {
      "cell_type": "code",
      "metadata": {
        "id": "-2dsiKyS6chk"
      },
      "source": [
        "from collections import Counter"
      ],
      "execution_count": 7,
      "outputs": []
    },
    {
      "cell_type": "code",
      "metadata": {
        "id": "RgDXGfkSaafO"
      },
      "source": [
        "def distances(mutants, bcs_mat):\n",
        "  # for each mutant, determine the set of hamming distances\n",
        "  ham = []\n",
        "  for idx, m in enumerate(mutants):    \n",
        "    d = []\n",
        "    for tidx, t in enumerate(bcs_mat):\n",
        "      d.append((t!=m).sum())\n",
        "    ham.append(d)\n",
        "\n",
        "  ham = np.array(ham)\n",
        "  return ham"
      ],
      "execution_count": 8,
      "outputs": []
    },
    {
      "cell_type": "code",
      "metadata": {
        "id": "JJQ5sJZOalcj"
      },
      "source": [
        "ham = distances(mutants, bcs_mat)"
      ],
      "execution_count": 9,
      "outputs": []
    },
    {
      "cell_type": "code",
      "metadata": {
        "colab": {
          "base_uri": "https://localhost:8080/"
        },
        "id": "sxI3U9AxxC1L",
        "outputId": "95e8001a-468c-40e4-ca61-0e2cb8936a94"
      },
      "source": [
        "%%time\n",
        "# [ min , max)\n",
        "# We want the maximum hamming after which it is ambiguous\n",
        "assign = []\n",
        "for h in ham:\n",
        "  c = Counter(h)\n",
        "\n",
        "  du = np.array([*c.keys()])\n",
        "  du_argsort = np.argsort(du)\n",
        "\n",
        "  one_idx, two_idx, *_ = du_argsort\n",
        "  one_ham, two_ham = du[one_idx], du[two_idx]\n",
        "\n",
        "  one_mul, two_mul = c[one_ham], c[two_ham]\n",
        "  if one_mul == 1:\n",
        "    min_ham = one_ham\n",
        "    max_ham = two_ham \n",
        "    target = np.where(h == one_ham)[0][0]\n",
        "  elif one_mul > 1:\n",
        "    min_ham = one_ham - 1\n",
        "    max_ham = one_ham\n",
        "    target = -1\n",
        "\n",
        "  assign.append([target, min_ham,  max_ham])\n",
        "assign = np.array(assign)"
      ],
      "execution_count": 10,
      "outputs": [
        {
          "output_type": "stream",
          "text": [
            "CPU times: user 22 s, sys: 1.77 s, total: 23.8 s\n",
            "Wall time: 21.9 s\n"
          ],
          "name": "stdout"
        }
      ]
    },
    {
      "cell_type": "code",
      "metadata": {
        "colab": {
          "base_uri": "https://localhost:8080/"
        },
        "id": "QOBH2D9nIOXh",
        "outputId": "fd8a33ae-4686-4358-b66f-0be5c5ac00ba"
      },
      "source": [
        "assign"
      ],
      "execution_count": 11,
      "outputs": [
        {
          "output_type": "execute_result",
          "data": {
            "text/plain": [
              "array([[0, 0, 4],\n",
              "       [0, 0, 4],\n",
              "       [0, 0, 4],\n",
              "       ...,\n",
              "       [8, 0, 4],\n",
              "       [8, 0, 4],\n",
              "       [8, 0, 4]])"
            ]
          },
          "metadata": {
            "tags": []
          },
          "execution_count": 11
        }
      ]
    },
    {
      "cell_type": "code",
      "metadata": {
        "id": "UMi_0AFvj0hy"
      },
      "source": [
        "# assigned correctly, assigned incorrectly, ambiguous"
      ],
      "execution_count": 12,
      "outputs": []
    },
    {
      "cell_type": "code",
      "metadata": {
        "id": "R03j0bbqnx1X"
      },
      "source": [
        "# barcodes that are impossible to assign for any hamming distance\n",
        "ambiguous = np.equal(assign[:,0], -1)"
      ],
      "execution_count": 13,
      "outputs": []
    },
    {
      "cell_type": "code",
      "metadata": {
        "id": "ayBArlsbDfVk"
      },
      "source": [
        "# barcodes that are given the correct assignment\n",
        "correct = np.equal(assign[:,0], mutant_origin)"
      ],
      "execution_count": 14,
      "outputs": []
    },
    {
      "cell_type": "code",
      "metadata": {
        "id": "27VvRmFuF4t-"
      },
      "source": [
        "mask = np.logical_and(correct, ~ambiguous)\n",
        "data = Counter(np.array(assign)[:,1][mask])"
      ],
      "execution_count": 15,
      "outputs": []
    },
    {
      "cell_type": "code",
      "metadata": {
        "colab": {
          "base_uri": "https://localhost:8080/"
        },
        "id": "Mldrld5nIAKR",
        "outputId": "5feb5df0-f579-4392-d790-c41b891537fc"
      },
      "source": [
        "data.items()"
      ],
      "execution_count": 16,
      "outputs": [
        {
          "output_type": "execute_result",
          "data": {
            "text/plain": [
              "dict_items([(0, 864415), (1, 34931), (2, 620), (3, 7)])"
            ]
          },
          "metadata": {
            "tags": []
          },
          "execution_count": 16
        }
      ]
    },
    {
      "cell_type": "code",
      "metadata": {
        "colab": {
          "base_uri": "https://localhost:8080/",
          "height": 333
        },
        "id": "Nhp4ct2_Hj_C",
        "outputId": "fc761072-1376-433b-c1db-1131495e0627"
      },
      "source": [
        "fig, ax = plt.subplots(figsize=(5,5))\n",
        "\n",
        "x = np.array([*data.keys()])\n",
        "argsort = np.argsort(x)\n",
        "xx = x[argsort]\n",
        "y = np.array([*data.values()])[argsort]\n",
        "yy = np.cumsum(y[::-1])[::-1]/(N*n_bcs)*100\n",
        "\n",
        "amb = 100-yy\n",
        "ax.bar(xx,yy, label=\"Rescued\")\n",
        "ax.bar(xx, amb, bottom=yy, label=\"Ambiguous\")\n",
        "\n",
        "ax.set(**{\n",
        "    \"xlabel\": \"Hamming distance correction\",\n",
        "    \"ylabel\": \"Percent of barcodes\",\n",
        "    \"ylim\": (-10, 110)\n",
        "})\n",
        "ax.legend()\n",
        "fig.show()"
      ],
      "execution_count": 18,
      "outputs": [
        {
          "output_type": "display_data",
          "data": {
            "image/png": "[encoded data removed]",
            "text/plain": [
              "<Figure size 360x360 with 1 Axes>"
            ]
          },
          "metadata": {
            "tags": [],
            "image/png": {
              "width": 335,
              "height": 316
            },
            "needs_background": "light"
          }
        }
      ]
    }
  ]
}