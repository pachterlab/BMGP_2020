{
 "cells": [
  {
   "cell_type": "code",
   "execution_count": 1,
   "id": "substantial-skating",
   "metadata": {},
   "outputs": [
    {
     "name": "stdout",
     "output_type": "stream",
     "text": [
      "Tue Apr 27 11:45:40 PDT 2021\n"
     ]
    }
   ],
   "source": [
    "!date"
   ]
  },
  {
   "cell_type": "markdown",
   "id": "nominated-holiday",
   "metadata": {},
   "source": [
    "# Install packages and download data"
   ]
  },
  {
   "cell_type": "code",
   "execution_count": 7,
   "id": "sunrise-master",
   "metadata": {},
   "outputs": [],
   "source": [
    "import sys\n",
    "COLAB = \"google.colab\" in sys.modules\n"
   ]
  },
  {
   "cell_type": "code",
   "execution_count": 2,
   "id": "attached-edinburgh",
   "metadata": {},
   "outputs": [
    {
     "name": "stdout",
     "output_type": "stream",
     "text": [
      "Cloning into 'BMGP_2020'...\n",
      "remote: Enumerating objects: 173, done.\u001b[K\n",
      "remote: Counting objects: 100% (173/173), done.\u001b[K\n",
      "remote: Compressing objects: 100% (140/140), done.\u001b[K\n",
      "remote: Total 173 (delta 57), reused 127 (delta 25), pack-reused 0\u001b[K\n",
      "Receiving objects: 100% (173/173), 59.25 MiB | 9.85 MiB/s, done.\n",
      "Resolving deltas: 100% (57/57), done.\n"
     ]
    }
   ],
   "source": [
    "if Colab:\n",
    "    !git clone https://github.com/sbooeshaghi/BMGP_2020.git"
   ]
  },
  {
   "cell_type": "code",
   "execution_count": 4,
   "id": "going-teacher",
   "metadata": {},
   "outputs": [],
   "source": [
    "if COLAB:\n",
    "    !pip install --quiet \\\n",
    "    kb-python==0.26.0 \\\n",
    "    anndata==0.7.6 \\\n",
    "    pandas==1.2.4 \\\n",
    "    matplotlib==3.4.1 \\\n",
    "    scikit-learn==0.24.1 \\\n",
    "    scipy==1.4.1 \\\n",
    "    numpy==1.20.2\n"
   ]
  },
  {
   "cell_type": "code",
   "execution_count": null,
   "id": "sufficient-warren",
   "metadata": {},
   "outputs": [
    {
     "name": "stdout",
     "output_type": "stream",
     "text": [
      "tar: This does not look like a tar archive\n",
      "\n",
      "gzip: stdin: unexpected end of file\n",
      "tar: Child returned status 1\n",
      "tar: Error is not recoverable: exiting now\n",
      "refdata-gex-GRCh38- 100%[===================>]  10.66G  40.6MB/s    in 4m 14s  \n"
     ]
    }
   ],
   "source": [
    "if COLAB:\n",
    "    # download cellranger (30sec)\n",
    "    !wget -O cellranger-6.0.1.tar.gz \\\n",
    "    -q --show-progress --progress=bar:force  \\\n",
    "    \"https://cf.10xgenomics.com/releases/cell-exp/cellranger-6.0.1.tar.gz?Expires=1622008796&Policy=eyJTdGF0ZW1lbnQiOlt7IlJlc291cmNlIjoiaHR0cHM6Ly9jZi4xMHhnZW5vbWljcy5jb20vcmVsZWFzZXMvY2VsbC1leHAvY2VsbHJhbmdlci02LjAuMS50YXIuZ3oiLCJDb25kaXRpb24iOnsiRGF0ZUxlc3NUaGFuIjp7IkFXUzpFcG9jaFRpbWUiOjE2MjIwMDg3OTZ9fX1dfQ__&Signature=bj8nUZobiq8EHUV0VgZjB1DYafrPwOD2c5Kd8pBGurJnYTDYZhPpNQno0L3~wNrqnnWbp7ApWWkn-cLo7xp4b9r5c7KdtMGvEze6xPAtmNzblRas8Pu1RiHtZ5H7KCJEfQ9GgXuiJ-b3a-xEa2mErsm2~kda-4tuXinSBCS-cQPCT00HxmoxiuJo26vSv94QalNrd2FcTU5ABnadXtxpzv~Y6~KOjftDyIQ79Ujn5ncTFigpuLOncADaMI0qOQcOaFKG7xDPOu2xKCu12yHb~L7iH098lmjRhly4wEY8-0z2ch7pwMp-x9OdHj2HBSkXItlz1BI77E-7NfZrG0Bajw__&Key-Pair-Id=APKAI7S6A5RYOXBWRPDA\" \\\n",
    "    2>&1\n",
    "        \n",
    "    !tar -xf cellranger-6.0.1.tar.gz\n",
    "\n",
    "    \n",
    "    # download cellranger reference (5min)\n",
    "    !wget \\\n",
    "    -q --show-progress --progress=bar:force  \\\n",
    "    https://cf.10xgenomics.com/supp/cell-exp/refdata-gex-GRCh38-2020-A.tar.gz \\\n",
    "    2>&1\n",
    "    \n",
    "    !tar -xf refdata-gex-GRCh38-2020-A.tar.gz\n"
   ]
  },
  {
   "cell_type": "code",
   "execution_count": 15,
   "id": "static-strap",
   "metadata": {},
   "outputs": [],
   "source": [
    "%%bash\n",
    "source cellranger-6.0.1/sourceme.bash"
   ]
  },
  {
   "cell_type": "code",
   "execution_count": 3,
   "id": "auburn-activation",
   "metadata": {},
   "outputs": [
    {
     "name": "stdout",
     "output_type": "stream",
     "text": [
      "10xCRISPR_v3_fastqs 100%[===================>]  18.82G  28.0MB/s    in 9m 5s   \n"
     ]
    }
   ],
   "source": [
    "if COLAB:\n",
    "    # download the relevant data\n",
    "    !wget -O 10xCRISPR_v3_fastqs.tar.gz \\\n",
    "    -q --show-progress --progress=bar:force  \\\n",
    "    https://cg.10xgenomics.com/samples/cell-exp/6.0.0/SC3_v3_NextGem_DI_CRISPR_A549_5K_Multiplex/SC3_v3_NextGem_DI_CRISPR_A549_5K_Multiplex_fastqs.tar \\\n",
    "    2>&1\n",
    "    !tar -xf 10xCRISPR_v3_fastqs.tar.gz\n",
    "    \n",
    "# https://cf.10xgenomics.com/samples/cell-exp/6.0.0/SC3_v3_NextGem_DI_CRISPR_A549_5K_Multiplex/SC3_v3_NextGem_DI_CRISPR_A549_5K_Multiplex_count_feature_reference.csv\n",
    "# Make feature barcodes\n",
    "# paste -d$'\\t' <(cat SC3_v3_NextGem_DI_CRISPR_A549_5K_Multiplex_count_feature_reference.csv | cut -d',' -f5) <(cat SC3_v3_NextGem_DI_CRISPR_A549_5K_Multiplex_count_feature_reference.csv | cut -d',' -f2) | tail -n +2 > feature_barcodes.txt"
   ]
  },
  {
   "cell_type": "code",
   "execution_count": null,
   "id": "fatal-interim",
   "metadata": {},
   "outputs": [],
   "source": [
    "!mkdir -p fastqs\n",
    "!mv SC3_v3_NextGem_DI_CRISPR_A549_5K/SC3_v3_NextGem_DI_CRISPR_A549_5K_crispr/* fastqs/"
   ]
  },
  {
   "cell_type": "code",
   "execution_count": null,
   "id": "established-frost",
   "metadata": {},
   "outputs": [],
   "source": [
    "# trim the reads perfectly at the feature barcode position \n",
    "# for f in $(ls SC3_v3_NextGem_DI_CRISPR_A549_5K_crispr_S4_L00*_R2_001.fastq.gz); do seqtk trimfq -b 31 -e 40 $f | gzip > tmp && mv tmp $f; done"
   ]
  },
  {
   "cell_type": "markdown",
   "id": "cloudy-enemy",
   "metadata": {},
   "source": [
    "# Preprocess with kb"
   ]
  },
  {
   "cell_type": "code",
   "execution_count": 5,
   "id": "agreed-vocabulary",
   "metadata": {},
   "outputs": [
    {
     "name": "stdout",
     "output_type": "stream",
     "text": [
      "[2021-05-21 11:57:07,797]    INFO Generating mismatch FASTA at ../../../references/10xCRISPR/kite/features.fa\n",
      "[2021-05-21 11:57:07,824] WARNING Detected barcodes of different lengths: 19,20\n",
      "[2021-05-21 11:57:07,857]    INFO Creating transcript-to-gene mapping at ../../../references/10xCRISPR/kite/f2b.txt\n",
      "[2021-05-21 11:57:07,898]    INFO Indexing ../../../references/10xCRISPR/kite/features.fa to ../../../references/10xCRISPR/kite/features.idx\n",
      "CPU times: user 24.5 ms, sys: 17.5 ms, total: 42 ms\n",
      "Wall time: 1.84 s\n"
     ]
    }
   ],
   "source": [
    "%%time\n",
    "!FB=\"BMGP_2020/references/10xCRISPR/kite/fbcs_only/feature_barcodes.txt\" && \\\n",
    "INDEX=\"BMGP_2020/references/10xCRISPR/kite/fbcs_only/features.idx\" && \\\n",
    "F2B=\"BMGP_2020/references/10xCRISPR/kite/fbcs_only/f2b.txt\" && \\\n",
    "FASTA=\"BMGP_2020/references/10xCRISPR/kite/fbcs_only/features.fa\" && \\\n",
    "kb ref \\\n",
    "-i $INDEX \\\n",
    "-g $F2B \\\n",
    "-f1 $FASTA \\\n",
    "--workflow kite \\\n",
    "$FB"
   ]
  },
  {
   "cell_type": "code",
   "execution_count": 4,
   "id": "coupled-leisure",
   "metadata": {},
   "outputs": [
    {
     "name": "stderr",
     "output_type": "stream",
     "text": [
      "[2021-06-30 17:28:07,422]    INFO [count] Using index BMGP_2020/references/10xCRISPR/kite/fbcs_only/features.idx to generate BUS file to kite_2 from\n",
      "[2021-06-30 17:28:07,422]    INFO [count]         fastqs_2/SC3_v3_NextGem_DI_CRISPR_A549_5K_crispr_S4_L001_R1_001.fastq.gz\n",
      "[2021-06-30 17:28:07,422]    INFO [count]         fastqs_2/SC3_v3_NextGem_DI_CRISPR_A549_5K_crispr_S4_L001_R2_001.fastq.gz\n",
      "[2021-06-30 17:28:07,422]    INFO [count]         fastqs_2/SC3_v3_NextGem_DI_CRISPR_A549_5K_crispr_S4_L002_R1_001.fastq.gz\n",
      "[2021-06-30 17:28:07,423]    INFO [count]         fastqs_2/SC3_v3_NextGem_DI_CRISPR_A549_5K_crispr_S4_L002_R2_001.fastq.gz\n",
      "[2021-06-30 17:28:07,423]    INFO [count]         fastqs_2/SC3_v3_NextGem_DI_CRISPR_A549_5K_crispr_S4_L003_R1_001.fastq.gz\n",
      "[2021-06-30 17:28:07,423]    INFO [count]         fastqs_2/SC3_v3_NextGem_DI_CRISPR_A549_5K_crispr_S4_L003_R2_001.fastq.gz\n",
      "[2021-06-30 17:28:07,423]    INFO [count]         fastqs_2/SC3_v3_NextGem_DI_CRISPR_A549_5K_crispr_S4_L004_R1_001.fastq.gz\n",
      "[2021-06-30 17:28:07,423]    INFO [count]         fastqs_2/SC3_v3_NextGem_DI_CRISPR_A549_5K_crispr_S4_L004_R2_001.fastq.gz\n",
      "[2021-06-30 17:31:04,095]    INFO [count] Sorting BUS file kite_2/output.bus to kite_2/tmp/output.s.bus\n",
      "[2021-06-30 17:31:28,786]    INFO [count] Whitelist not provided\n",
      "[2021-06-30 17:31:28,786]    INFO [count] Copying pre-packaged 10XV3 whitelist to kite_2\n",
      "[2021-06-30 17:31:29,639]    INFO [count] Copying 10xv3 feature-to-barcode map to kite_2\n",
      "[2021-06-30 17:31:30,495]    INFO [count] Projecting BUS file kite_2/tmp/output.s.bus with map kite_2/10x_version3_whitelist.txt\n",
      "[2021-06-30 17:31:43,339]    INFO [count] Sorting BUS file kite_2/tmp/output.s.p.bus to kite_2/tmp/output.s.p.s.bus\n",
      "[2021-06-30 17:31:52,488]    INFO [count] Inspecting BUS file kite_2/tmp/output.s.p.s.bus\n",
      "[2021-06-30 17:31:57,934]    INFO [count] Correcting BUS records in kite_2/tmp/output.s.p.s.bus to kite_2/tmp/output.s.p.s.c.bus with whitelist kite_2/10x_version3_whitelist.txt\n",
      "[2021-06-30 17:32:04,328]    INFO [count] Sorting BUS file kite_2/tmp/output.s.p.s.c.bus to kite_2/output.unfiltered.bus\n",
      "[2021-06-30 17:32:07,269]    INFO [count] Generating count matrix kite_2/counts_unfiltered/cells_x_features from BUS file kite_2/output.unfiltered.bus\n",
      "[2021-06-30 17:32:07,619]    INFO [count] Reading matrix kite_2/counts_unfiltered/cells_x_features.mtx\n",
      "[2021-06-30 17:32:07,881]    INFO [count] Writing matrix to h5ad kite_2/counts_unfiltered/adata.h5ad\n",
      "[2021-06-30 17:32:07,926]    INFO [count] Filtering with bustools\n",
      "[2021-06-30 17:32:07,926]    INFO [count] Generating whitelist kite_2/filter_barcodes.txt from BUS file kite_2/output.unfiltered.bus\n",
      "[2021-06-30 17:32:07,955]    INFO [count] Correcting BUS records in kite_2/output.unfiltered.bus to kite_2/tmp/output.unfiltered.c.bus with whitelist kite_2/filter_barcodes.txt\n",
      "[2021-06-30 17:32:08,039]    INFO [count] Sorting BUS file kite_2/tmp/output.unfiltered.c.bus to kite_2/output.filtered.bus\n",
      "[2021-06-30 17:32:10,725]    INFO [count] Generating count matrix kite_2/counts_filtered/cells_x_features from BUS file kite_2/output.filtered.bus\n",
      "[2021-06-30 17:32:10,770]    INFO [count] Reading matrix kite_2/counts_filtered/cells_x_features.mtx\n",
      "[2021-06-30 17:32:10,794]    INFO [count] Writing matrix to h5ad kite_2/counts_filtered/adata.h5ad\n"
     ]
    }
   ],
   "source": [
    "%%bash\n",
    "FB=\"BMGP_2020/references/10xCRISPR/kite/fbcs_only/feature_barcodes.txt\" && \\\n",
    "INDEX=\"BMGP_2020/references/10xCRISPR/kite/fbcs_only/features.idx\" && \\\n",
    "F2B=\"BMGP_2020/references/10xCRISPR/kite/fbcs_only/f2b.txt\" && \\\n",
    "FASTA=\"BMGP_2020/references/10xCRISPR/kite/fbcs_only/features.fa\" && \\\n",
    "OUT=\"kite_2\" && \\\n",
    "FASTQS=$(FASTQDIR=\"fastqs_2/\" &&\\\n",
    "         paste -d\" \" \\\n",
    "         <(ls $FASTQDIR | awk -v p=$FASTQDIR '{print p$0}' | grep R1) \\\n",
    "         <(ls $FASTQDIR | awk -v p=$FASTQDIR '{print p$0}' | grep R2)) && \\\n",
    "/usr/bin/time --output=memtime_0.log -v kb count \\\n",
    "--overwrite \\\n",
    "--h5ad \\\n",
    "--filter bustools \\\n",
    "-i $INDEX \\\n",
    "-g $F2B \\\n",
    "--workflow kite:10xFB \\\n",
    "-x 10xv3 \\\n",
    "-o $OUT \\\n",
    "$FASTQS"
   ]
  },
  {
   "cell_type": "markdown",
   "id": "recent-professor",
   "metadata": {},
   "source": [
    "# Preprocess with cellranger"
   ]
  },
  {
   "cell_type": "code",
   "execution_count": 5,
   "id": "surprised-albuquerque",
   "metadata": {},
   "outputs": [
    {
     "data": {
      "text/plain": [
       "'/home/sina/projects/kite/BMGP_2020/analysis/notebooks/10xCRISPR'"
      ]
     },
     "execution_count": 5,
     "metadata": {},
     "output_type": "execute_result"
    }
   ],
   "source": [
    "import os\n",
    "os.getcwd()"
   ]
  },
  {
   "cell_type": "code",
   "execution_count": null,
   "id": "collective-treasurer",
   "metadata": {},
   "outputs": [],
   "source": []
  },
  {
   "cell_type": "code",
   "execution_count": 11,
   "id": "tropical-hollywood",
   "metadata": {},
   "outputs": [],
   "source": [
    "import os\n",
    "pwd = os.getcwd()\n",
    "GREF=f\"{pwd}/refdata-gex-GRCh38-2020-A\"\n",
    "FREF=f\"{pwd}/BMGP_2020/references/10xCRISPR/SC3_v3_NextGem_DI_CRISPR_A549_5K_Multiplex_count_feature_reference.csv\"\n",
    "CELLS=\"5000\"\n",
    "FFID=\"SC3_v3_NextGem_DI_CRISPR_A549_5K_crispr\"\n",
    "GFID=\"SC3_v3_NextGem_DI_CRISPR_A549_5K_gex\"\n",
    "FFASTQ=f\"{pwd}/SC3_v3_NextGem_DI_CRISPR_A549_5K/SC3_v3_NextGem_DI_CRISPR_A549_5K_crispr\"\n",
    "GFASTQ=f\"{pwd}/SC3_v3_NextGem_DI_CRISPR_A549_5K/SC3_v3_NextGem_DI_CRISPR_A549_5K_gex\"\n",
    "\n",
    "f = f'''[gene-expression]\n",
    "reference,{GREF}\n",
    "expect-cells,{CELLS}\n",
    "\n",
    "[feature]\n",
    "reference,{FREF}\n",
    "\n",
    "[libraries]\n",
    "fastq_id,fastqs,lanes,physical_library_id,feature_types,subsample_rate\n",
    "{FFID},{FFASTQ},,,CRISPR Guide Capture,\n",
    "{GFID},{GFASTQ},,,Gene Expression,\n",
    "'''\n",
    "\n",
    "with open(\"BMGP_2020/references/10xCRISPR/feat.csv\", \"w\") as fp:\n",
    "    fp.write(f)"
   ]
  },
  {
   "cell_type": "code",
   "execution_count": 12,
   "id": "operating-affairs",
   "metadata": {},
   "outputs": [
    {
     "name": "stdout",
     "output_type": "stream",
     "text": [
      "[gene-expression]\n",
      "reference,/home/sina/projects/kite/BMGP_2020/analysis/notebooks/10xCRISPR/refdata-gex-GRCh38-2020-A\n",
      "expect-cells,5000\n",
      "\n",
      "[feature]\n",
      "reference,/home/sina/projects/kite/BMGP_2020/analysis/notebooks/10xCRISPR/BMGP_2020/references/10xCRISPR/SC3_v3_NextGem_DI_CRISPR_A549_5K_Multiplex_count_feature_reference.csv\n",
      "\n",
      "[libraries]\n",
      "fastq_id,fastqs,lanes,physical_library_id,feature_types,subsample_rate\n",
      "SC3_v3_NextGem_DI_CRISPR_A549_5K_crispr,/home/sina/projects/kite/BMGP_2020/analysis/notebooks/10xCRISPR/SC3_v3_NextGem_DI_CRISPR_A549_5K/SC3_v3_NextGem_DI_CRISPR_A549_5K_crispr,,,CRISPR Guide Capture,\n",
      "SC3_v3_NextGem_DI_CRISPR_A549_5K_gex,/home/sina/projects/kite/BMGP_2020/analysis/notebooks/10xCRISPR/SC3_v3_NextGem_DI_CRISPR_A549_5K/SC3_v3_NextGem_DI_CRISPR_A549_5K_gex,,,Gene Expression,\n"
     ]
    }
   ],
   "source": [
    "!cat BMGP_2020/references/10xCRISPR/feat.csv"
   ]
  },
  {
   "cell_type": "code",
   "execution_count": null,
   "id": "little-conjunction",
   "metadata": {},
   "outputs": [
    {
     "name": "stdout",
     "output_type": "stream",
     "text": [
      "Martian Runtime - v4.0.4\n",
      "Running preflight checks (please wait)...\n",
      "2021-06-30 17:39:38 [runtime] (ready)           ID.count.SC_MULTI_CS.PARSE_MULTI_CONFIG\n",
      "2021-06-30 17:39:38 [runtime] (run:local)       ID.count.SC_MULTI_CS.PARSE_MULTI_CONFIG.fork0.chnk0.main\n",
      "2021-06-30 17:39:57 [runtime] (chunks_complete) ID.count.SC_MULTI_CS.PARSE_MULTI_CONFIG\n",
      "2021-06-30 17:39:57 [runtime] (ready)           ID.count.SC_MULTI_CS.SC_MULTI_CORE.MULTI_WEBSUMMARY_BUILDER.BUILD_MULTI_GRAPH_VIEW\n",
      "2021-06-30 17:39:57 [runtime] (run:local)       ID.count.SC_MULTI_CS.SC_MULTI_CORE.MULTI_WEBSUMMARY_BUILDER.BUILD_MULTI_GRAPH_VIEW.fork0.chnk0.main\n",
      "2021-06-30 17:39:57 [runtime] (ready)           ID.count.SC_MULTI_CS.SC_MULTI_CORE.MULTI_CHEMISTRY_DETECTOR._GEM_WELL_CHEMISTRY_DETECTOR.DETECT_COUNT_CHEMISTRY\n",
      "2021-06-30 17:39:57 [runtime] (run:local)       ID.count.SC_MULTI_CS.SC_MULTI_CORE.MULTI_CHEMISTRY_DETECTOR._GEM_WELL_CHEMISTRY_DETECTOR.DETECT_COUNT_CHEMISTRY.fork0.chnk0.main\n",
      "2021-06-30 17:39:57 [runtime] (ready)           ID.count.SC_MULTI_CS.FULL_COUNT_INPUTS.WRITE_GENE_INDEX\n",
      "2021-06-30 17:39:57 [runtime] (run:local)       ID.count.SC_MULTI_CS.FULL_COUNT_INPUTS.WRITE_GENE_INDEX.fork0.chnk0.main\n",
      "2021-06-30 17:39:57 [runtime] (ready)           ID.count.SC_MULTI_CS.SC_MULTI_CORE.SAMPLE_ANALYZER.SC_RNA_ANALYZER.CHOOSE_DIMENSION_REDUCTION\n",
      "2021-06-30 17:39:57 [runtime] (run:local)       ID.count.SC_MULTI_CS.SC_MULTI_CORE.SAMPLE_ANALYZER.SC_RNA_ANALYZER.CHOOSE_DIMENSION_REDUCTION.fork0.chnk0.main\n",
      "2021-06-30 17:39:57 [runtime] (ready)           ID.count.SC_MULTI_CS.SC_MULTI_CORE.MULTI_GEM_WELL_PROCESSOR.COUNT_GEM_WELL_PROCESSOR._BASIC_SC_RNA_COUNTER.DISABLE_BAMS\n",
      "2021-06-30 17:39:57 [runtime] (run:local)       ID.count.SC_MULTI_CS.SC_MULTI_CORE.MULTI_GEM_WELL_PROCESSOR.COUNT_GEM_WELL_PROCESSOR._BASIC_SC_RNA_COUNTER.DISABLE_BAMS.fork0.chnk0.main\n",
      "2021-06-30 17:40:00 [runtime] (chunks_complete) ID.count.SC_MULTI_CS.SC_MULTI_CORE.SAMPLE_ANALYZER.SC_RNA_ANALYZER.CHOOSE_DIMENSION_REDUCTION\n",
      "2021-06-30 17:40:03 [runtime] (chunks_complete) ID.count.SC_MULTI_CS.SC_MULTI_CORE.MULTI_WEBSUMMARY_BUILDER.BUILD_MULTI_GRAPH_VIEW\n",
      "2021-06-30 17:40:03 [runtime] (chunks_complete) ID.count.SC_MULTI_CS.SC_MULTI_CORE.MULTI_GEM_WELL_PROCESSOR.COUNT_GEM_WELL_PROCESSOR._BASIC_SC_RNA_COUNTER.DISABLE_BAMS\n",
      "2021-06-30 17:40:13 [runtime] (chunks_complete) ID.count.SC_MULTI_CS.FULL_COUNT_INPUTS.WRITE_GENE_INDEX\n",
      "2021-06-30 17:40:13 [runtime] (ready)           ID.count.SC_MULTI_CS.SC_MULTI_CORE.MULTI_GEM_WELL_PROCESSOR.COUNT_GEM_WELL_PROCESSOR.PARSE_TARGET_FEATURES\n",
      "2021-06-30 17:40:13 [runtime] (run:local)       ID.count.SC_MULTI_CS.SC_MULTI_CORE.MULTI_GEM_WELL_PROCESSOR.COUNT_GEM_WELL_PROCESSOR.PARSE_TARGET_FEATURES.fork0.chnk0.main\n",
      "2021-06-30 17:40:20 [runtime] (chunks_complete) ID.count.SC_MULTI_CS.SC_MULTI_CORE.MULTI_GEM_WELL_PROCESSOR.COUNT_GEM_WELL_PROCESSOR.PARSE_TARGET_FEATURES\n",
      "2021-06-30 17:40:21 [runtime] (chunks_complete) ID.count.SC_MULTI_CS.SC_MULTI_CORE.MULTI_CHEMISTRY_DETECTOR._GEM_WELL_CHEMISTRY_DETECTOR.DETECT_COUNT_CHEMISTRY\n",
      "2021-06-30 17:40:21 [runtime] (ready)           ID.count.SC_MULTI_CS.SC_MULTI_CORE.MULTI_CHEMISTRY_DETECTOR._GEM_WELL_CHEMISTRY_DETECTOR.CHECK_BARCODES_COMPATIBILITY\n",
      "2021-06-30 17:40:21 [runtime] (run:local)       ID.count.SC_MULTI_CS.SC_MULTI_CORE.MULTI_CHEMISTRY_DETECTOR._GEM_WELL_CHEMISTRY_DETECTOR.CHECK_BARCODES_COMPATIBILITY.fork0.chnk0.main\n",
      "2021-06-30 17:40:31 [runtime] (chunks_complete) ID.count.SC_MULTI_CS.SC_MULTI_CORE.MULTI_CHEMISTRY_DETECTOR._GEM_WELL_CHEMISTRY_DETECTOR.CHECK_BARCODES_COMPATIBILITY\n",
      "2021-06-30 17:40:31 [runtime] (ready)           ID.count.SC_MULTI_CS.SC_MULTI_CORE.MULTI_CHEMISTRY_DETECTOR.COMBINE_GEM_WELL_CHEMISTRIES\n",
      "2021-06-30 17:40:31 [runtime] (run:local)       ID.count.SC_MULTI_CS.SC_MULTI_CORE.MULTI_CHEMISTRY_DETECTOR.COMBINE_GEM_WELL_CHEMISTRIES.fork0.chnk0.main\n",
      "2021-06-30 17:40:31 [runtime] (chunks_complete) ID.count.SC_MULTI_CS.SC_MULTI_CORE.MULTI_CHEMISTRY_DETECTOR.COMBINE_GEM_WELL_CHEMISTRIES\n",
      "2021-06-30 17:40:31 [runtime] (ready)           ID.count.SC_MULTI_CS.SC_MULTI_CORE.MULTI_GEM_WELL_PROCESSOR.COUNT_GEM_WELL_PROCESSOR.MULTI_SETUP_CHUNKS\n",
      "2021-06-30 17:40:31 [runtime] (run:local)       ID.count.SC_MULTI_CS.SC_MULTI_CORE.MULTI_GEM_WELL_PROCESSOR.COUNT_GEM_WELL_PROCESSOR.MULTI_SETUP_CHUNKS.fork0.chnk0.main\n",
      "2021-06-30 17:40:31 [runtime] (ready)           ID.count.SC_MULTI_CS.SC_MULTI_CORE.SPLIT_VDJ_INPUTS\n",
      "2021-06-30 17:40:31 [runtime] (ready)           ID.count.SC_MULTI_CS.SC_MULTI_CORE.MAKE_FULL_CONFIG._MAKE_VDJ_CONFIG\n",
      "2021-06-30 17:40:31 [runtime] (run:local)       ID.count.SC_MULTI_CS.SC_MULTI_CORE.MAKE_FULL_CONFIG._MAKE_VDJ_CONFIG.fork0.chnk0.main\n",
      "2021-06-30 17:40:31 [runtime] (chunks_complete) ID.count.SC_MULTI_CS.SC_MULTI_CORE.MULTI_GEM_WELL_PROCESSOR.COUNT_GEM_WELL_PROCESSOR.MULTI_SETUP_CHUNKS\n",
      "2021-06-30 17:40:31 [runtime] (chunks_complete) ID.count.SC_MULTI_CS.SC_MULTI_CORE.MAKE_FULL_CONFIG._MAKE_VDJ_CONFIG\n",
      "2021-06-30 17:40:31 [runtime] (ready)           ID.count.SC_MULTI_CS.SC_MULTI_CORE.MULTI_GEM_WELL_PROCESSOR.COUNT_GEM_WELL_PROCESSOR._BASIC_SC_RNA_COUNTER._MATRIX_COMPUTER.MAKE_SHARD\n",
      "2021-06-30 17:40:31 [runtime] (run:local)       ID.count.SC_MULTI_CS.SC_MULTI_CORE.MULTI_GEM_WELL_PROCESSOR.COUNT_GEM_WELL_PROCESSOR._BASIC_SC_RNA_COUNTER._MATRIX_COMPUTER.MAKE_SHARD.fork0.split\n",
      "2021-06-30 17:40:31 [runtime] (ready)           ID.count.SC_MULTI_CS.SC_MULTI_CORE.MULTI_GEM_WELL_PROCESSOR.VDJ_T_GEM_WELL_PROCESSOR.MULTI_SETUP_CHUNKS\n",
      "2021-06-30 17:40:31 [runtime] (ready)           ID.count.SC_MULTI_CS.SC_MULTI_CORE.MULTI_GEM_WELL_PROCESSOR.VDJ_B_GEM_WELL_PROCESSOR.MULTI_SETUP_CHUNKS\n",
      "2021-06-30 17:40:31 [runtime] (ready)           ID.count.SC_MULTI_CS.SC_MULTI_CORE.MULTI_GEM_WELL_PROCESSOR.VDJ_T_GEM_WELL_PROCESSOR.SC_VDJ_CONTIG_ASSEMBLER.MAKE_SHARD\n",
      "2021-06-30 17:40:31 [runtime] (ready)           ID.count.SC_MULTI_CS.SC_MULTI_CORE.MULTI_GEM_WELL_PROCESSOR.VDJ_B_GEM_WELL_PROCESSOR.SC_VDJ_CONTIG_ASSEMBLER.MAKE_SHARD\n",
      "2021-06-30 17:40:31 [runtime] (ready)           ID.count.SC_MULTI_CS.SC_MULTI_CORE.MULTI_GEM_WELL_PROCESSOR.VDJ_T_GEM_WELL_PROCESSOR.SC_VDJ_CONTIG_ASSEMBLER.BARCODE_CORRECTION\n",
      "2021-06-30 17:40:31 [runtime] (ready)           ID.count.SC_MULTI_CS.SC_MULTI_CORE.MULTI_GEM_WELL_PROCESSOR.VDJ_B_GEM_WELL_PROCESSOR.SC_VDJ_CONTIG_ASSEMBLER.BARCODE_CORRECTION\n",
      "2021-06-30 17:40:31 [runtime] (ready)           ID.count.SC_MULTI_CS.SC_MULTI_CORE.MULTI_GEM_WELL_PROCESSOR.VDJ_T_GEM_WELL_PROCESSOR.SC_VDJ_CONTIG_ASSEMBLER.RUST_BRIDGE\n",
      "2021-06-30 17:40:31 [runtime] (ready)           ID.count.SC_MULTI_CS.SC_MULTI_CORE.MULTI_GEM_WELL_PROCESSOR.VDJ_B_GEM_WELL_PROCESSOR.SC_VDJ_CONTIG_ASSEMBLER.RUST_BRIDGE\n",
      "2021-06-30 17:40:31 [runtime] (ready)           ID.count.SC_MULTI_CS.SC_MULTI_CORE.MULTI_GEM_WELL_PROCESSOR.VDJ_B_GEM_WELL_PROCESSOR.SC_VDJ_CONTIG_ASSEMBLER.ASSEMBLE_VDJ\n",
      "2021-06-30 17:40:31 [runtime] (ready)           ID.count.SC_MULTI_CS.SC_MULTI_CORE.MULTI_GEM_WELL_PROCESSOR.VDJ_T_GEM_WELL_PROCESSOR.SC_VDJ_CONTIG_ASSEMBLER.ASSEMBLE_VDJ\n",
      "2021-06-30 17:40:31 [runtime] (ready)           ID.count.SC_MULTI_CS.SC_MULTI_CORE.MULTI_GEM_WELL_PROCESSOR.VDJ_B_GEM_WELL_PROCESSOR.SC_VDJ_CONTIG_ASSEMBLER.MERGE_METRICS\n",
      "2021-06-30 17:40:31 [runtime] (ready)           ID.count.SC_MULTI_CS.SC_MULTI_CORE.MULTI_GEM_WELL_PROCESSOR.VDJ_T_GEM_WELL_PROCESSOR.SC_VDJ_CONTIG_ASSEMBLER.MERGE_METRICS\n",
      "2021-06-30 17:40:38 [runtime] (split_complete)  ID.count.SC_MULTI_CS.SC_MULTI_CORE.MULTI_GEM_WELL_PROCESSOR.COUNT_GEM_WELL_PROCESSOR._BASIC_SC_RNA_COUNTER._MATRIX_COMPUTER.MAKE_SHARD\n",
      "2021-06-30 17:40:38 [runtime] (run:local)       ID.count.SC_MULTI_CS.SC_MULTI_CORE.MULTI_GEM_WELL_PROCESSOR.COUNT_GEM_WELL_PROCESSOR._BASIC_SC_RNA_COUNTER._MATRIX_COMPUTER.MAKE_SHARD.fork0.chnk0.main\n",
      "2021-06-30 17:40:38 [runtime] (run:local)       ID.count.SC_MULTI_CS.SC_MULTI_CORE.MULTI_GEM_WELL_PROCESSOR.COUNT_GEM_WELL_PROCESSOR._BASIC_SC_RNA_COUNTER._MATRIX_COMPUTER.MAKE_SHARD.fork0.chnk1.main\n",
      "2021-06-30 17:40:38 [runtime] (run:local)       ID.count.SC_MULTI_CS.SC_MULTI_CORE.MULTI_GEM_WELL_PROCESSOR.COUNT_GEM_WELL_PROCESSOR._BASIC_SC_RNA_COUNTER._MATRIX_COMPUTER.MAKE_SHARD.fork0.chnk2.main\n",
      "2021-06-30 17:40:38 [runtime] (run:local)       ID.count.SC_MULTI_CS.SC_MULTI_CORE.MULTI_GEM_WELL_PROCESSOR.COUNT_GEM_WELL_PROCESSOR._BASIC_SC_RNA_COUNTER._MATRIX_COMPUTER.MAKE_SHARD.fork0.chnk3.main\n",
      "2021-06-30 17:40:38 [runtime] (run:local)       ID.count.SC_MULTI_CS.SC_MULTI_CORE.MULTI_GEM_WELL_PROCESSOR.COUNT_GEM_WELL_PROCESSOR._BASIC_SC_RNA_COUNTER._MATRIX_COMPUTER.MAKE_SHARD.fork0.chnk4.main\n",
      "2021-06-30 17:40:38 [runtime] (run:local)       ID.count.SC_MULTI_CS.SC_MULTI_CORE.MULTI_GEM_WELL_PROCESSOR.COUNT_GEM_WELL_PROCESSOR._BASIC_SC_RNA_COUNTER._MATRIX_COMPUTER.MAKE_SHARD.fork0.chnk5.main\n",
      "2021-06-30 17:40:38 [runtime] (run:local)       ID.count.SC_MULTI_CS.SC_MULTI_CORE.MULTI_GEM_WELL_PROCESSOR.COUNT_GEM_WELL_PROCESSOR._BASIC_SC_RNA_COUNTER._MATRIX_COMPUTER.MAKE_SHARD.fork0.chnk6.main\n",
      "2021-06-30 17:40:38 [runtime] (run:local)       ID.count.SC_MULTI_CS.SC_MULTI_CORE.MULTI_GEM_WELL_PROCESSOR.COUNT_GEM_WELL_PROCESSOR._BASIC_SC_RNA_COUNTER._MATRIX_COMPUTER.MAKE_SHARD.fork0.chnk7.main\n",
      "2021-06-30 17:46:23 [runtime] (update)          ID.count.SC_MULTI_CS.SC_MULTI_CORE.MULTI_GEM_WELL_PROCESSOR.COUNT_GEM_WELL_PROCESSOR._BASIC_SC_RNA_COUNTER._MATRIX_COMPUTER.MAKE_SHARD.fork0 chunks running (1/8 completed)\n"
     ]
    }
   ],
   "source": [
    "# !LIB=\"BMGP_2020/references/10xFB_5k_pbmc_v3/5k_pbmc_protein_v3_libraries.csv\" && \\\n",
    "# FR=\"BMGP_2020/references/10xFB_5k_pbmc_v3/5k_pbmc_protein_v3_feature_ref.csv\" && \\\n",
    "# ./cellranger-6.0.1/cellranger count \\\n",
    "# --libraries $LIB \\\n",
    "# --feature-ref $FR \\\n",
    "# --id count \\\n",
    "# --nosecondary \\\n",
    "# --disable-ui \\\n",
    "# --expect-cells 5867 \\\n",
    "# --transcriptome refdata-gex-GRCh38-2020-A\n",
    "\n",
    "# !LIB=\"../../../references/10xCRISPR/SC3_v3_NextGem_DI_CRISPR_A549_5K_crispr_libraries.csv\" && \\\n",
    "# FR=\"../../../references/10xCRISPR/SC3_v3_NextGem_DI_CRISPR_A549_5K_Multiplex_count_feature_reference.csv\" && \\\n",
    "# ./cellranger-6.0.1/cellranger count \\\n",
    "# --libraries $LIB \\\n",
    "# --feature-ref $FR \\\n",
    "# --id count \\\n",
    "# --nosecondary \\\n",
    "# --disable-ui \\\n",
    "# --expect-cells 5867 \\\n",
    "# --transcriptome refdata-gex-GRCh38-2020-A\n",
    "\n",
    "!FR=\"BMGP_2020/references/10xCRISPR/feat.csv\" && \\\n",
    "/usr/bin/time --output=memtime_1.log -v ./cellranger-6.0.1/cellranger multi \\\n",
    "--csv $FR \\\n",
    "--id count \\\n",
    "--disable-ui"
   ]
  },
  {
   "cell_type": "code",
   "execution_count": 15,
   "id": "related-glass",
   "metadata": {},
   "outputs": [
    {
     "name": "stdout",
     "output_type": "stream",
     "text": [
      "Library or Sample,Library Type,Grouped By,Group Name,Metric Name,Metric Value\n",
      "Library,CRISPR Guide Capture,Fastq ID,SC3_v3_NextGem_DI_CRISPR_A549_5K_crispr,Number of reads,\"121,241,237\"\n",
      "Library,CRISPR Guide Capture,Fastq ID,SC3_v3_NextGem_DI_CRISPR_A549_5K_crispr,Number of short reads skipped,0\n",
      "Library,CRISPR Guide Capture,Fastq ID,SC3_v3_NextGem_DI_CRISPR_A549_5K_crispr,Q30 RNA read,93.0%\n",
      "Library,CRISPR Guide Capture,Fastq ID,SC3_v3_NextGem_DI_CRISPR_A549_5K_crispr,Q30 UMI,94.8%\n",
      "Library,CRISPR Guide Capture,Fastq ID,SC3_v3_NextGem_DI_CRISPR_A549_5K_crispr,Q30 barcodes,94.6%\n",
      "Library,CRISPR Guide Capture,Physical library ID,CGC_1,Estimated number of cells,\"5,867\"\n",
      "Library,CRISPR Guide Capture,Physical library ID,CGC_1,Fraction guide reads,75.48%\n",
      "Library,CRISPR Guide Capture,Physical library ID,CGC_1,Fraction guide reads usable,55.65%\n",
      "Library,CRISPR Guide Capture,Physical library ID,CGC_1,Fraction protospacer not recognized,3.52%\n",
      "Library,CRISPR Guide Capture,Physical library ID,CGC_1,Fraction reads in cells,74.13%\n",
      "Library,CRISPR Guide Capture,Physical library ID,CGC_1,Fraction reads with putative protospacer sequence,78.23%\n",
      "Library,CRISPR Guide Capture,Physical library ID,CGC_1,Mean reads per cell,\"20,665\"\n",
      "Library,CRISPR Guide Capture,Physical library ID,CGC_1,Number of reads,\"121,241,237\"\n",
      "Library,CRISPR Guide Capture,Physical library ID,CGC_1,Valid UMIs,99.93%\n",
      "Library,CRISPR Guide Capture,Physical library ID,CGC_1,Valid barcodes,97.55%\n",
      "Library,Gene Expression,Fastq ID,SC3_v3_NextGem_DI_CRISPR_A549_5K_gex,Number of reads,\"125,558,627\"\n",
      "Library,Gene Expression,Fastq ID,SC3_v3_NextGem_DI_CRISPR_A549_5K_gex,Number of short reads skipped,0\n",
      "Library,Gene Expression,Fastq ID,SC3_v3_NextGem_DI_CRISPR_A549_5K_gex,Q30 RNA read,90.4%\n",
      "Library,Gene Expression,Fastq ID,SC3_v3_NextGem_DI_CRISPR_A549_5K_gex,Q30 UMI,92.3%\n",
      "Library,Gene Expression,Fastq ID,SC3_v3_NextGem_DI_CRISPR_A549_5K_gex,Q30 barcodes,93.4%\n",
      "Library,Gene Expression,Physical library ID,GEX_1,Confidently mapped antisense,1.24%\n",
      "Library,Gene Expression,Physical library ID,GEX_1,Confidently mapped to exonic regions,72.25%\n",
      "Library,Gene Expression,Physical library ID,GEX_1,Confidently mapped to genome,94.89%\n",
      "Library,Gene Expression,Physical library ID,GEX_1,Confidently mapped to intergenic regions,5.90%\n",
      "Library,Gene Expression,Physical library ID,GEX_1,Confidently mapped to intronic regions,16.74%\n",
      "Library,Gene Expression,Physical library ID,GEX_1,Confidently mapped to transcriptome,69.73%\n",
      "Library,Gene Expression,Physical library ID,GEX_1,Estimated number of cells,\"5,867\"\n",
      "Library,Gene Expression,Physical library ID,GEX_1,Fraction reads in cells,81.59%\n",
      "Library,Gene Expression,Physical library ID,GEX_1,Mapped to genome,97.52%\n",
      "Library,Gene Expression,Physical library ID,GEX_1,Mean reads per cell,\"21,401\"\n",
      "Library,Gene Expression,Physical library ID,GEX_1,Number of reads,\"125,558,627\"\n",
      "Library,Gene Expression,Physical library ID,GEX_1,Number of reads in the library,\"125,558,627\"\n",
      "Library,Gene Expression,Physical library ID,GEX_1,Sequencing saturation,9.67%\n",
      "Library,Gene Expression,Physical library ID,GEX_1,Valid UMIs,99.96%\n",
      "Library,Gene Expression,Physical library ID,GEX_1,Valid barcodes,98.33%\n",
      "Sample,CRISPR Guide Capture,,,Cells,\"5,867\"\n",
      "Sample,CRISPR Guide Capture,,,Cells with one or more protospacers detected,82.96%\n",
      "Sample,CRISPR Guide Capture,,,Cells with two or more protospacers detected,24.29%\n",
      "Sample,CRISPR Guide Capture,,,Guide reads usable per cell,\"11,499\"\n",
      "Sample,CRISPR Guide Capture,,,Median UMI counts per cell,986\n",
      "Sample,Gene Expression,,,Cells,\"5,867\"\n",
      "Sample,Gene Expression,,,Confidently mapped antisense,1.05%\n",
      "Sample,Gene Expression,,,Confidently mapped to exonic regions,69.56%\n",
      "Sample,Gene Expression,,,Confidently mapped to genome,95.18%\n",
      "Sample,Gene Expression,,,Confidently mapped to intergenic regions,6.67%\n",
      "Sample,Gene Expression,,,Confidently mapped to intronic regions,18.95%\n",
      "Sample,Gene Expression,,,Confidently mapped to transcriptome,67.28%\n",
      "Sample,Gene Expression,,,Mapped to genome,97.66%\n",
      "Sample,Gene Expression,,,Median UMI counts per cell,\"10,773\"\n",
      "Sample,Gene Expression,,,Median genes per cell,\"3,194\"\n",
      "Sample,Gene Expression,,,Median reads per cell,\"17,217\"\n",
      "Sample,Gene Expression,,,Number of reads assigned to the sample,\"104,862,714\"\n",
      "Sample,Gene Expression,,,Total genes detected,\"23,715\"\n"
     ]
    }
   ],
   "source": [
    "!cat count/outs/per_sample_outs/count/metrics_summary.csv"
   ]
  },
  {
   "cell_type": "code",
   "execution_count": null,
   "id": "greek-beast",
   "metadata": {},
   "outputs": [],
   "source": []
  }
 ],
 "metadata": {
  "kernelspec": {
   "display_name": "Python 3",
   "language": "python",
   "name": "python3"
  },
  "language_info": {
   "codemirror_mode": {
    "name": "ipython",
    "version": 3
   },
   "file_extension": ".py",
   "mimetype": "text/x-python",
   "name": "python",
   "nbconvert_exporter": "python",
   "pygments_lexer": "ipython3",
   "version": "3.7.4"
  }
 },
 "nbformat": 4,
 "nbformat_minor": 5
}
