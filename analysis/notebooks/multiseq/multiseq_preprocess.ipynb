{
 "cells": [
  {
   "cell_type": "code",
   "execution_count": 1,
   "id": "acceptable-karaoke",
   "metadata": {},
   "outputs": [
    {
     "name": "stdout",
     "output_type": "stream",
     "text": [
      "Tue Apr 27 11:45:40 PDT 2021\n"
     ]
    }
   ],
   "source": [
    "!date"
   ]
  },
  {
   "cell_type": "markdown",
   "id": "right-grenada",
   "metadata": {},
   "source": [
    "# Install packages and download data"
   ]
  },
  {
   "cell_type": "code",
   "execution_count": 7,
   "id": "established-segment",
   "metadata": {},
   "outputs": [],
   "source": [
    "import sys\n",
    "COLAB = \"google.colab\" in sys.modules\n"
   ]
  },
  {
   "cell_type": "code",
   "execution_count": 1,
   "id": "damaged-century",
   "metadata": {},
   "outputs": [
    {
     "name": "stdout",
     "output_type": "stream",
     "text": [
      "Cloning into 'BMGP_2020'...\n",
      "remote: Enumerating objects: 165, done.\u001b[K\n",
      "remote: Counting objects: 100% (165/165), done.\u001b[K\n",
      "remote: Compressing objects: 100% (134/134), done.\u001b[K\n",
      "remote: Total 165 (delta 53), reused 121 (delta 23), pack-reused 0\u001b[K\n",
      "Receiving objects: 100% (165/165), 59.24 MiB | 20.61 MiB/s, done.\n",
      "Resolving deltas: 100% (53/53), done.\n"
     ]
    }
   ],
   "source": [
    "if COLAB:\n",
    "    !git clone https://github.com/sbooeshaghi/BMGP_2020.git"
   ]
  },
  {
   "cell_type": "code",
   "execution_count": 2,
   "id": "hired-marriage",
   "metadata": {},
   "outputs": [],
   "source": [
    "!pip --quiet install CITE-seq-Count==1.4.4"
   ]
  },
  {
   "cell_type": "code",
   "execution_count": 4,
   "id": "lyric-second",
   "metadata": {},
   "outputs": [],
   "source": [
    "if COLAB:\n",
    "    !pip install --quiet \\\n",
    "    kb-python==0.26.0 \\\n",
    "    anndata==0.7.6 \\\n",
    "    CITE-seq-Count==1.4.4"
   ]
  },
  {
   "cell_type": "code",
   "execution_count": 2,
   "id": "contemporary-joyce",
   "metadata": {},
   "outputs": [
    {
     "name": "stdout",
     "output_type": "stream",
     "text": [
      "multiseq_fastqs.tar 100%[===================>]   6.47G  16.3MB/s    in 8m 1s   \n"
     ]
    }
   ],
   "source": [
    "if COLAB:\n",
    "    # download the relevant data\n",
    "    !wget -O multiseq_fastqs.tar.gz \\\n",
    "    -q --show-progress --progress=bar:force  \\\n",
    "    https://caltech.box.com/shared/static/0scoe38xvcoxfd62xnm848pimh2zr1ip.gz \\\n",
    "    2>&1\n",
    "    !tar -xf multiseq_fastqs.tar.gz"
   ]
  },
  {
   "cell_type": "markdown",
   "id": "african-laugh",
   "metadata": {},
   "source": [
    "# Preprocess with kb"
   ]
  },
  {
   "cell_type": "code",
   "execution_count": 3,
   "id": "occupied-marker",
   "metadata": {},
   "outputs": [
    {
     "name": "stdout",
     "output_type": "stream",
     "text": [
      "[2021-05-18 11:04:19,470]    INFO Generating mismatch FASTA at BMGP_2020/references/multiseq/kite/features.fa\n",
      "[2021-05-18 11:04:19,476]    INFO Creating transcript-to-gene mapping at BMGP_2020/references/multiseq/kite/f2b.txt\n",
      "[2021-05-18 11:04:19,478]    INFO Skipping kallisto index because BMGP_2020/references/multiseq/kite/features.idx already exists. Use the --overwrite flag to overwrite.\n",
      "CPU times: user 15.6 ms, sys: 17.8 ms, total: 33.4 ms\n",
      "Wall time: 1.6 s\n"
     ]
    }
   ],
   "source": [
    "%%time\n",
    "!INDEX=\"BMGP_2020/references/multiseq/kite/features.idx\" && \\\n",
    "F2B=\"BMGP_2020/references/multiseq/kite/f2b.txt\" && \\\n",
    "FASTA=\"BMGP_2020/references/multiseq/kite/features.fa\" && \\\n",
    "FB=\"BMGP_2020/references/multiseq/kite/feature_barcodes.txt\" && \\\n",
    "kb ref \\\n",
    "-i $INDEX \\\n",
    "-g $F2B \\\n",
    "-f1 $FASTA \\\n",
    "--workflow kite \\\n",
    "$FB"
   ]
  },
  {
   "cell_type": "code",
   "execution_count": 5,
   "id": "alpha-mouth",
   "metadata": {},
   "outputs": [
    {
     "name": "stderr",
     "output_type": "stream",
     "text": [
      "[2021-05-18 11:05:24,083]    INFO Using index BMGP_2020/references/multiseq/kite/features.idx to generate BUS file to kite_out from\n",
      "[2021-05-18 11:05:24,084]    INFO         fastqs/SRR8890644_1.fastq.gz\n",
      "[2021-05-18 11:05:24,084]    INFO         fastqs/SRR8890644_2.fastq.gz\n",
      "[2021-05-18 11:08:29,745]    INFO Sorting BUS file kite_out/output.bus to kite_out/tmp/output.s.bus\n",
      "[2021-05-18 11:08:39,947]    INFO Whitelist not provided\n",
      "[2021-05-18 11:08:39,947]    INFO Copying pre-packaged 10XV2 whitelist to kite_out\n",
      "[2021-05-18 11:08:40,275]    INFO Inspecting BUS file kite_out/tmp/output.s.bus\n",
      "[2021-05-18 11:08:43,914]    INFO Correcting BUS records in kite_out/tmp/output.s.bus to kite_out/tmp/output.s.c.bus with whitelist kite_out/10xv2_whitelist.txt\n",
      "[2021-05-18 11:08:48,255]    INFO Sorting BUS file kite_out/tmp/output.s.c.bus to kite_out/output.unfiltered.bus\n",
      "[2021-05-18 11:08:57,092]    INFO Generating count matrix kite_out/counts_unfiltered/cells_x_features from BUS file kite_out/output.unfiltered.bus\n",
      "[2021-05-18 11:09:00,868]    INFO Reading matrix kite_out/counts_unfiltered/cells_x_features.mtx\n",
      "[2021-05-18 11:09:03,429]    INFO Writing matrix to h5ad kite_out/counts_unfiltered/adata.h5ad\n",
      "[2021-05-18 11:09:03,665]    INFO Filtering with bustools\n",
      "[2021-05-18 11:09:03,665]    INFO Generating whitelist kite_out/filter_barcodes.txt from BUS file kite_out/output.unfiltered.bus\n",
      "[2021-05-18 11:09:03,877]    INFO Correcting BUS records in kite_out/output.unfiltered.bus to kite_out/tmp/output.unfiltered.c.bus with whitelist kite_out/filter_barcodes.txt\n",
      "[2021-05-18 11:09:08,442]    INFO Sorting BUS file kite_out/tmp/output.unfiltered.c.bus to kite_out/output.filtered.bus\n",
      "[2021-05-18 11:09:15,220]    INFO Generating count matrix kite_out/counts_filtered/cells_x_features from BUS file kite_out/output.filtered.bus\n",
      "[2021-05-18 11:09:15,901]    INFO Reading matrix kite_out/counts_filtered/cells_x_features.mtx\n",
      "[2021-05-18 11:09:16,025]    INFO Writing matrix to h5ad kite_out/counts_filtered/adata.h5ad\n"
     ]
    }
   ],
   "source": [
    "%%bash\n",
    "FB=\"BMGP_2020/references/multiseq/kite/feature_barcodes.txt\" && \\\n",
    "INDEX=\"BMGP_2020/references/multiseq/kite/features.idx\" && \\\n",
    "F2B=\"BMGP_2020/references/multiseq/kite/f2b.txt\" && \\\n",
    "FASTA=\"BMGP_2020/references/multiseq/kite/features.fa\" && \\\n",
    "OUT=\"kite_out\" && \\\n",
    "FASTQS=$(FASTQDIR=\"fastqs/\" && paste -d\" \" \\\n",
    "<(ls $FASTQDIR | awk -v p=$FASTQDIR '{print p$0}' | grep 1) \\\n",
    "<(ls $FASTQDIR | awk -v p=$FASTQDIR '{print p$0}' | grep 2)) && \\\n",
    "kb count \\\n",
    "-i $INDEX \\\n",
    "-g $F2B \\\n",
    "-x 10xv2 \\\n",
    "-o $OUT \\\n",
    "--workflow kite \\\n",
    "--h5ad \\\n",
    "--filter bustools \\\n",
    "--overwrite \\\n",
    "$FASTQS"
   ]
  },
  {
   "cell_type": "markdown",
   "id": "consistent-logic",
   "metadata": {},
   "source": [
    "# Preprocess with cite-seq-count"
   ]
  },
  {
   "cell_type": "code",
   "execution_count": 6,
   "id": "looking-antique",
   "metadata": {},
   "outputs": [],
   "source": [
    "!gunzip BMGP_2020/references/whitelist_10xv2.txt.gz"
   ]
  },
  {
   "cell_type": "code",
   "execution_count": null,
   "id": "harmful-miracle",
   "metadata": {},
   "outputs": [
    {
     "name": "stdout",
     "output_type": "stream",
     "text": [
      "Loading whitelist\n",
      "Counting number of reads\n",
      "Started mapping\n",
      "Processing 96,428,956 reads\n",
      "CITE-seq-Count is running with 48 cores.\n",
      "Processed 1,000,000 reads in 13.36 seconds. Total reads: 1,000,000 in child 12655\n",
      "Processed 1,000,000 reads in 13.07 seconds. Total reads: 2,000,000 in child 12655\n",
      "Mapping done for process 12655. Processed 2,008,936 reads\n",
      "Processed 1,000,000 reads in 24.85 seconds. Total reads: 1,000,000 in child 12656\n",
      "Processed 1,000,000 reads in 13.9 seconds. Total reads: 2,000,000 in child 12656\n",
      "Mapping done for process 12656. Processed 2,008,936 reads\n",
      "Processed 1,000,000 reads in 36.04 seconds. Total reads: 1,000,000 in child 12657\n",
      "Processed 1,000,000 reads in 13.61 seconds. Total reads: 2,000,000 in child 12657\n",
      "Mapping done for process 12657. Processed 2,008,936 reads\n",
      "Processed 1,000,000 reads in 48.01 seconds. Total reads: 1,000,000 in child 12658\n",
      "Processed 1,000,000 reads in 14.25 seconds. Total reads: 2,000,000 in child 12658\n",
      "Mapping done for process 12658. Processed 2,008,936 reads\n",
      "Processed 1,000,000 reads in 1.0 minute, 1.018 seconds. Total reads: 1,000,000 in child 12659\n",
      "Processed 1,000,000 reads in 13.62 seconds. Total reads: 2,000,000 in child 12659\n",
      "Mapping done for process 12659. Processed 2,008,936 reads\n",
      "Processed 1,000,000 reads in 1.0 minute, 12.23 seconds. Total reads: 1,000,000 in child 12660\n",
      "Processed 1,000,000 reads in 14.36 seconds. Total reads: 2,000,000 in child 12660\n",
      "Mapping done for process 12660. Processed 2,008,936 reads\n",
      "Processed 1,000,000 reads in 1.0 minute, 24.07 seconds. Total reads: 1,000,000 in child 12661\n",
      "Processed 1,000,000 reads in 13.74 seconds. Total reads: 2,000,000 in child 12661\n",
      "Mapping done for process 12661. Processed 2,008,936 reads\n",
      "Processed 1,000,000 reads in 1.0 minute, 35.01 seconds. Total reads: 1,000,000 in child 12662\n",
      "Processed 1,000,000 reads in 13.92 seconds. Total reads: 2,000,000 in child 12662\n",
      "Mapping done for process 12662. Processed 2,008,936 reads\n",
      "Processed 1,000,000 reads in 1.0 minute, 47.03 seconds. Total reads: 1,000,000 in child 12663\n",
      "Processed 1,000,000 reads in 1.0 minute, 57.49 seconds. Total reads: 1,000,000 in child 12664\n",
      "Processed 1,000,000 reads in 14.46 seconds. Total reads: 2,000,000 in child 12663\n",
      "Mapping done for process 12663. Processed 2,008,936 reads\n",
      "Processed 1,000,000 reads in 14.21 seconds. Total reads: 2,000,000 in child 12664\n",
      "Mapping done for process 12664. Processed 2,008,936 reads\n",
      "Processed 1,000,000 reads in 2.0 minutes, 9.957 seconds. Total reads: 1,000,000 in child 12665\n",
      "Processed 1,000,000 reads in 14.13 seconds. Total reads: 2,000,000 in child 12665\n",
      "Mapping done for process 12665. Processed 2,008,936 reads\n",
      "Processed 1,000,000 reads in 2.0 minutes, 21.32 seconds. Total reads: 1,000,000 in child 12666\n",
      "Processed 1,000,000 reads in 2.0 minutes, 33.13 seconds. Total reads: 1,000,000 in child 12667\n",
      "Processed 1,000,000 reads in 15.81 seconds. Total reads: 2,000,000 in child 12666\n",
      "Mapping done for process 12666. Processed 2,008,936 reads\n",
      "Processed 1,000,000 reads in 13.56 seconds. Total reads: 2,000,000 in child 12667\n",
      "Mapping done for process 12667. Processed 2,008,936 reads\n",
      "Processed 1,000,000 reads in 2.0 minutes, 43.06 seconds. Total reads: 1,000,000 in child 12668\n",
      "Processed 1,000,000 reads in 13.88 seconds. Total reads: 2,000,000 in child 12668\n",
      "Mapping done for process 12668. Processed 2,008,936 reads\n",
      "Processed 1,000,000 reads in 2.0 minutes, 58.52 seconds. Total reads: 1,000,000 in child 12669\n",
      "Processed 1,000,000 reads in 13.66 seconds. Total reads: 2,000,000 in child 12669\n",
      "Mapping done for process 12669. Processed 2,008,936 reads\n",
      "Processed 1,000,000 reads in 3.0 minutes, 13.05 seconds. Total reads: 1,000,000 in child 12670\n",
      "Processed 1,000,000 reads in 3.0 minutes, 22.73 seconds. Total reads: 1,000,000 in child 12671\n",
      "Processed 1,000,000 reads in 16.14 seconds. Total reads: 2,000,000 in child 12670\n",
      "Mapping done for process 12670. Processed 2,008,936 reads\n",
      "Processed 1,000,000 reads in 13.72 seconds. Total reads: 2,000,000 in child 12671\n",
      "Mapping done for process 12671. Processed 2,008,936 reads\n",
      "Processed 1,000,000 reads in 3.0 minutes, 40.75 seconds. Total reads: 1,000,000 in child 12672\n",
      "Processed 1,000,000 reads in 14.7 seconds. Total reads: 2,000,000 in child 12672\n",
      "Mapping done for process 12672. Processed 2,008,936 reads\n",
      "Processed 1,000,000 reads in 3.0 minutes, 49.73 seconds. Total reads: 1,000,000 in child 12673\n",
      "Processed 1,000,000 reads in 16.61 seconds. Total reads: 2,000,000 in child 12673\n",
      "Mapping done for process 12673. Processed 2,008,936 reads\n",
      "Processed 1,000,000 reads in 4.0 minutes, 5.82 seconds. Total reads: 1,000,000 in child 12674\n",
      "Processed 1,000,000 reads in 16.46 seconds. Total reads: 2,000,000 in child 12674\n",
      "Mapping done for process 12674. Processed 2,008,936 reads\n",
      "Processed 1,000,000 reads in 4.0 minutes, 20.93 seconds. Total reads: 1,000,000 in child 12675\n",
      "Processed 1,000,000 reads in 4.0 minutes, 25.05 seconds. Total reads: 1,000,000 in child 12676\n",
      "Processed 1,000,000 reads in 13.64 seconds. Total reads: 2,000,000 in child 12675\n",
      "Mapping done for process 12675. Processed 2,008,936 reads\n",
      "Processed 1,000,000 reads in 13.26 seconds. Total reads: 2,000,000 in child 12676\n",
      "Mapping done for process 12676. Processed 2,008,936 reads\n",
      "Processed 1,000,000 reads in 4.0 minutes, 47.38 seconds. Total reads: 1,000,000 in child 12677\n",
      "Processed 1,000,000 reads in 4.0 minutes, 51.09 seconds. Total reads: 1,000,000 in child 12678\n",
      "Processed 1,000,000 reads in 13.7 seconds. Total reads: 2,000,000 in child 12677\n",
      "Mapping done for process 12677. Processed 2,008,936 reads\n",
      "Processed 1,000,000 reads in 17.99 seconds. Total reads: 2,000,000 in child 12678\n",
      "Mapping done for process 12678. Processed 2,008,936 reads\n",
      "Processed 1,000,000 reads in 5.0 minutes, 16.01 seconds. Total reads: 1,000,000 in child 12679\n",
      "Processed 1,000,000 reads in 5.0 minutes, 21.99 seconds. Total reads: 1,000,000 in child 12680\n",
      "Processed 1,000,000 reads in 14.24 seconds. Total reads: 2,000,000 in child 12679\n",
      "Mapping done for process 12679. Processed 2,008,936 reads\n",
      "Processed 1,000,000 reads in 5.0 minutes, 24.24 seconds. Total reads: 1,000,000 in child 12681\n",
      "Processed 1,000,000 reads in 14.58 seconds. Total reads: 2,000,000 in child 12680\n",
      "Mapping done for process 12680. Processed 2,008,936 reads\n",
      "Processed 1,000,000 reads in 13.84 seconds. Total reads: 2,000,000 in child 12681\n",
      "Mapping done for process 12681. Processed 2,008,936 reads\n",
      "Processed 1,000,000 reads in 5.0 minutes, 45.44 seconds. Total reads: 1,000,000 in child 12682\n",
      "Processed 1,000,000 reads in 14.08 seconds. Total reads: 2,000,000 in child 12682\n",
      "Mapping done for process 12682. Processed 2,008,936 reads\n",
      "Processed 1,000,000 reads in 5.0 minutes, 59.19 seconds. Total reads: 1,000,000 in child 12683\n",
      "Processed 1,000,000 reads in 13.83 seconds. Total reads: 2,000,000 in child 12683\n",
      "Mapping done for process 12683. Processed 2,008,936 reads\n",
      "Processed 1,000,000 reads in 6.0 minutes, 5.919 seconds. Total reads: 1,000,000 in child 12684\n",
      "Processed 1,000,000 reads in 13.57 seconds. Total reads: 2,000,000 in child 12684\n",
      "Mapping done for process 12684. Processed 2,008,936 reads\n",
      "Processed 1,000,000 reads in 6.0 minutes, 19.62 seconds. Total reads: 1,000,000 in child 12685\n",
      "Processed 1,000,000 reads in 6.0 minutes, 23.62 seconds. Total reads: 1,000,000 in child 12686\n",
      "Processed 1,000,000 reads in 13.9 seconds. Total reads: 2,000,000 in child 12685\n",
      "Mapping done for process 12685. Processed 2,008,936 reads\n",
      "Processed 1,000,000 reads in 13.73 seconds. Total reads: 2,000,000 in child 12686\n",
      "Mapping done for process 12686. Processed 2,008,936 reads\n",
      "Processed 1,000,000 reads in 6.0 minutes, 44.06 seconds. Total reads: 1,000,000 in child 12687\n",
      "Processed 1,000,000 reads in 13.64 seconds. Total reads: 2,000,000 in child 12687\n",
      "Mapping done for process 12687. Processed 2,008,936 reads\n",
      "Processed 1,000,000 reads in 6.0 minutes, 50.29 seconds. Total reads: 1,000,000 in child 12688\n",
      "Processed 1,000,000 reads in 13.49 seconds. Total reads: 2,000,000 in child 12688\n",
      "Mapping done for process 12688. Processed 2,008,936 reads\n",
      "Processed 1,000,000 reads in 7.0 minutes, 1.202 seconds. Total reads: 1,000,000 in child 12689\n",
      "Processed 1,000,000 reads in 13.94 seconds. Total reads: 2,000,000 in child 12689\n",
      "Mapping done for process 12689. Processed 2,008,936 reads\n",
      "Processed 1,000,000 reads in 7.0 minutes, 26.84 seconds. Total reads: 1,000,000 in child 12690\n",
      "Processed 1,000,000 reads in 7.0 minutes, 21.08 seconds. Total reads: 1,000,000 in child 12691\n",
      "Processed 1,000,000 reads in 14.3 seconds. Total reads: 2,000,000 in child 12690\n",
      "Mapping done for process 12690. Processed 2,008,936 reads\n",
      "Processed 1,000,000 reads in 14.12 seconds. Total reads: 2,000,000 in child 12691\n",
      "Mapping done for process 12691. Processed 2,008,936 reads\n",
      "Processed 1,000,000 reads in 7.0 minutes, 31.38 seconds. Total reads: 1,000,000 in child 12692\n",
      "Processed 1,000,000 reads in 14.3 seconds. Total reads: 2,000,000 in child 12692\n",
      "Mapping done for process 12692. Processed 2,008,936 reads\n",
      "Processed 1,000,000 reads in 7.0 minutes, 50.58 seconds. Total reads: 1,000,000 in child 12693\n",
      "Processed 1,000,000 reads in 13.47 seconds. Total reads: 2,000,000 in child 12693\n",
      "Mapping done for process 12693. Processed 2,008,936 reads\n",
      "Processed 1,000,000 reads in 7.0 minutes, 54.05 seconds. Total reads: 1,000,000 in child 12694\n",
      "Processed 1,000,000 reads in 13.63 seconds. Total reads: 2,000,000 in child 12694\n",
      "Mapping done for process 12694. Processed 2,008,936 reads\n",
      "Processed 1,000,000 reads in 8.0 minutes, 3.409 seconds. Total reads: 1,000,000 in child 12695\n",
      "Processed 1,000,000 reads in 13.67 seconds. Total reads: 2,000,000 in child 12695\n",
      "Mapping done for process 12695. Processed 2,008,936 reads\n",
      "Processed 1,000,000 reads in 8.0 minutes, 18.7 seconds. Total reads: 1,000,000 in child 12696\n",
      "Processed 1,000,000 reads in 13.55 seconds. Total reads: 2,000,000 in child 12696\n",
      "Mapping done for process 12696. Processed 2,008,936 reads\n",
      "Processed 1,000,000 reads in 8.0 minutes, 23.44 seconds. Total reads: 1,000,000 in child 12697\n",
      "Processed 1,000,000 reads in 13.25 seconds. Total reads: 2,000,000 in child 12697\n",
      "Mapping done for process 12697. Processed 2,008,936 reads\n",
      "Processed 1,000,000 reads in 8.0 minutes, 42.14 seconds. Total reads: 1,000,000 in child 12698\n",
      "Processed 1,000,000 reads in 13.18 seconds. Total reads: 2,000,000 in child 12698\n",
      "Mapping done for process 12698. Processed 2,008,936 reads\n",
      "Processed 1,000,000 reads in 9.0 minutes, 4.653 seconds. Total reads: 1,000,000 in child 12699\n",
      "Processed 1,000,000 reads in 12.81 seconds. Total reads: 2,000,000 in child 12699\n",
      "Mapping done for process 12699. Processed 2,008,936 reads\n",
      "Processed 1,000,000 reads in 9.0 minutes, 4.777 seconds. Total reads: 1,000,000 in child 12700\n",
      "Processed 1,000,000 reads in 12.34 seconds. Total reads: 2,000,000 in child 12700\n",
      "Mapping done for process 12700. Processed 2,008,936 reads\n",
      "Processed 1,000,000 reads in 9.0 minutes, 3.618 seconds. Total reads: 1,000,000 in child 12701\n",
      "Processed 1,000,000 reads in 13.48 seconds. Total reads: 2,000,000 in child 12701\n",
      "Mapping done for process 12701. Processed 2,008,936 reads\n",
      "Processed 1,000,000 reads in 9.0 minutes, 11.46 seconds. Total reads: 1,000,000 in child 12702\n",
      "Processed 1,000,000 reads in 12.6 seconds. Total reads: 2,000,000 in child 12702\n",
      "Mapping done for process 12702. Processed 2,008,964 reads\n",
      "Mapping done\n",
      "Merging results\n",
      "Correcting cell barcodes\n",
      "Generated barcode tree from whitelist\n",
      "Finding reference candidates\n",
      "Processing 1,595,208 cell barcodes\n",
      "Collapsing cell barcodes\n"
     ]
    }
   ],
   "source": [
    "!R1=\"fastqs/SRR8890644_1.fastq.gz\" && \\\n",
    "R2=\"fastqs/SRR8890644_2.fastq.gz\" && \\\n",
    "FB=\"BMGP_2020/references/multiseq/cite_seq_barcodes.csv\" && \\\n",
    "WL=\"BMGP_2020/references/whitelist_10xv2.txt\" && \\\n",
    "/usr/bin/time -v CITE-seq-Count -R1 $R1  -R2 $R2 --no_umi_correction -t $FB -wl $WL -cbf 1 -cbl 16 -umif 17 -umil 26 -cells 65000 -o ./cite_seq_out"
   ]
  },
  {
   "cell_type": "code",
   "execution_count": null,
   "id": "successful-force",
   "metadata": {},
   "outputs": [],
   "source": []
  }
 ],
 "metadata": {
  "kernelspec": {
   "display_name": "Python 3",
   "language": "python",
   "name": "python3"
  },
  "language_info": {
   "codemirror_mode": {
    "name": "ipython",
    "version": 3
   },
   "file_extension": ".py",
   "mimetype": "text/x-python",
   "name": "python",
   "nbconvert_exporter": "python",
   "pygments_lexer": "ipython3",
   "version": "3.7.4"
  }
 },
 "nbformat": 4,
 "nbformat_minor": 5
}
