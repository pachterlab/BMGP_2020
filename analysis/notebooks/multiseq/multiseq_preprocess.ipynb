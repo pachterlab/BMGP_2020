{
  "nbformat": 4,
  "nbformat_minor": 5,
  "metadata": {
    "kernelspec": {
      "display_name": "Python 3",
      "language": "python",
      "name": "python3"
    },
    "language_info": {
      "codemirror_mode": {
        "name": "ipython",
        "version": 3
      },
      "file_extension": ".py",
      "mimetype": "text/x-python",
      "name": "python",
      "nbconvert_exporter": "python",
      "pygments_lexer": "ipython3",
      "version": "3.7.4"
    },
    "colab": {
      "name": "multiseq_preprocess.ipynb",
      "provenance": [],
      "include_colab_link": true
    }
  },
  "cells": [
    {
      "cell_type": "markdown",
      "metadata": {
        "id": "view-in-github",
        "colab_type": "text"
      },
      "source": [
        "<a href=\"https://colab.research.google.com/github/sbooeshaghi/BMGP_2020/blob/main/analysis/notebooks/multiseq/multiseq_preprocess.ipynb\" target=\"_parent\"><img src=\"https://colab.research.google.com/assets/colab-badge.svg\" alt=\"Open In Colab\"/></a>"
      ]
    },
    {
      "cell_type": "code",
      "metadata": {
        "id": "mighty-crazy",
        "outputId": "d687022a-1cc8-48a0-9e21-7e8a92805b54"
      },
      "source": [
        "!date"
      ],
      "id": "mighty-crazy",
      "execution_count": null,
      "outputs": [
        {
          "output_type": "stream",
          "text": [
            "Tue Apr 27 11:45:40 PDT 2021\n"
          ],
          "name": "stdout"
        }
      ]
    },
    {
      "cell_type": "markdown",
      "metadata": {
        "id": "stuffed-brush"
      },
      "source": [
        "# Install packages and download data"
      ],
      "id": "stuffed-brush"
    },
    {
      "cell_type": "code",
      "metadata": {
        "id": "painted-egypt"
      },
      "source": [
        "import sys\n",
        "COLAB = \"google.colab\" in sys.modules\n"
      ],
      "id": "painted-egypt",
      "execution_count": null,
      "outputs": []
    },
    {
      "cell_type": "code",
      "metadata": {
        "id": "civil-press",
        "outputId": "1efbdbd8-b51d-4695-b589-bbd50bfaa44a"
      },
      "source": [
        "if COLAB:\n",
        "    !git clone https://github.com/sbooeshaghi/BMGP_2020.git"
      ],
      "id": "civil-press",
      "execution_count": null,
      "outputs": [
        {
          "output_type": "stream",
          "text": [
            "Cloning into 'BMGP_2020'...\n",
            "remote: Enumerating objects: 165, done.\u001b[K\n",
            "remote: Counting objects: 100% (165/165), done.\u001b[K\n",
            "remote: Compressing objects: 100% (134/134), done.\u001b[K\n",
            "remote: Total 165 (delta 53), reused 121 (delta 23), pack-reused 0\u001b[K\n",
            "Receiving objects: 100% (165/165), 59.24 MiB | 20.61 MiB/s, done.\n",
            "Resolving deltas: 100% (53/53), done.\n"
          ],
          "name": "stdout"
        }
      ]
    },
    {
      "cell_type": "code",
      "metadata": {
        "id": "liberal-brave"
      },
      "source": [
        "if COLAB:\n",
        "    !pip install --quiet \\\n",
        "    kb-python==0.26.3 \\\n",
        "    anndata==0.7.6 \\\n",
        "    CITE-seq-Count==1.4.4"
      ],
      "id": "liberal-brave",
      "execution_count": null,
      "outputs": []
    },
    {
      "cell_type": "code",
      "metadata": {
        "id": "danish-perry",
        "outputId": "1e1391ef-49ce-4793-f269-0b7c44ef9707"
      },
      "source": [
        "if COLAB:\n",
        "    # download the relevant data\n",
        "    !wget -O multiseq_fastqs.tar.gz \\\n",
        "    -q --show-progress --progress=bar:force  \\\n",
        "    https://caltech.box.com/shared/static/0scoe38xvcoxfd62xnm848pimh2zr1ip.gz \\\n",
        "    2>&1\n",
        "    !tar -xf multiseq_fastqs.tar.gz"
      ],
      "id": "danish-perry",
      "execution_count": null,
      "outputs": [
        {
          "output_type": "stream",
          "text": [
            "multiseq_fastqs.tar 100%[===================>]   6.47G  16.3MB/s    in 8m 1s   \n"
          ],
          "name": "stdout"
        }
      ]
    },
    {
      "cell_type": "markdown",
      "metadata": {
        "id": "professional-jonathan"
      },
      "source": [
        "# Preprocess with kb"
      ],
      "id": "professional-jonathan"
    },
    {
      "cell_type": "code",
      "metadata": {
        "id": "actual-server"
      },
      "source": [
        "# trim fastqs for consistency (150 bp in length), 8bp length barcode 150-(8+2)\n",
        "# seqtk trimfq -e 142 SRR8890644_R2.fastq.gz | gzip > tmp && mv tmp SRR8890644_R2.fastq.gz"
      ],
      "id": "actual-server",
      "execution_count": null,
      "outputs": []
    },
    {
      "cell_type": "code",
      "metadata": {
        "id": "diagnostic-banks",
        "outputId": "940a4306-2569-4cf8-ff3e-451fba7d9124"
      },
      "source": [
        "%%time\n",
        "!INDEX=\"BMGP_2020/references/multiseq/kite/features.idx\" && \\\n",
        "F2B=\"BMGP_2020/references/multiseq/kite/f2b.txt\" && \\\n",
        "FASTA=\"BMGP_2020/references/multiseq/kite/features.fa\" && \\\n",
        "FB=\"BMGP_2020/references/multiseq/kite/feature_barcodes.txt\" && \\\n",
        "kb ref \\\n",
        "-i $INDEX \\\n",
        "-g $F2B \\\n",
        "-f1 $FASTA \\\n",
        "--workflow kite \\\n",
        "--overwrite \\\n",
        "$FB"
      ],
      "id": "diagnostic-banks",
      "execution_count": null,
      "outputs": [
        {
          "output_type": "stream",
          "text": [
            "[2021-06-29 15:27:45,471]    INFO [ref_kite] Generating mismatch FASTA at BMGP_2020/references/multiseq/kite/features.fa\n",
            "[2021-06-29 15:27:45,478]    INFO [ref_kite] Creating transcript-to-gene mapping at BMGP_2020/references/multiseq/kite/f2b.txt\n",
            "[2021-06-29 15:27:45,480]    INFO [ref_kite] Indexing BMGP_2020/references/multiseq/kite/features.fa to BMGP_2020/references/multiseq/kite/features.idx\n",
            "\u001b[0mCPU times: user 33.2 ms, sys: 12.3 ms, total: 45.5 ms\n",
            "Wall time: 2.04 s\n"
          ],
          "name": "stdout"
        }
      ]
    },
    {
      "cell_type": "code",
      "metadata": {
        "id": "modified-disabled",
        "outputId": "a16e3b9d-2b8d-49ea-bf7a-9216413e867a"
      },
      "source": [
        "%%bash\n",
        "FB=\"BMGP_2020/references/multiseq/kite/feature_barcodes.txt\" && \\\n",
        "INDEX=\"BMGP_2020/references/multiseq/kite/features.idx\" && \\\n",
        "F2B=\"BMGP_2020/references/multiseq/kite/f2b.txt\" && \\\n",
        "FASTA=\"BMGP_2020/references/multiseq/kite/features.fa\" && \\\n",
        "OUT=\"kite_0\" && \\\n",
        "FASTQS=$(FASTQDIR=\"fastqs_0/\" && paste -d\" \" \\\n",
        "<(ls $FASTQDIR | awk -v p=$FASTQDIR '{print p$0}' | grep \"R1\") \\\n",
        "<(ls $FASTQDIR | awk -v p=$FASTQDIR '{print p$0}' | grep \"R2\")) && \\\n",
        "/usr/bin/time --output=memtime_0.log -v kb count \\\n",
        "-i $INDEX \\\n",
        "-g $F2B \\\n",
        "-x 10xv2 \\\n",
        "-o $OUT \\\n",
        "--workflow kite \\\n",
        "--h5ad \\\n",
        "--filter bustools \\\n",
        "--overwrite \\\n",
        "$FASTQS"
      ],
      "id": "modified-disabled",
      "execution_count": null,
      "outputs": [
        {
          "output_type": "stream",
          "text": [
            "[2021-06-30 12:41:09,293]    INFO [count] Using index BMGP_2020/references/multiseq/kite/features.idx to generate BUS file to kite_out_0 from\n",
            "[2021-06-30 12:41:09,294]    INFO [count]         fastqs_0/SRR8890644_R1.fastq.gz\n",
            "[2021-06-30 12:41:09,294]    INFO [count]         fastqs_0/SRR8890644_R2.fastq.gz\n",
            "[2021-06-30 12:42:36,063]    INFO [count] Sorting BUS file kite_out_0/output.bus to kite_out_0/tmp/output.s.bus\n",
            "[2021-06-30 12:43:08,906]    INFO [count] Whitelist not provided\n",
            "[2021-06-30 12:43:08,906]    INFO [count] Copying pre-packaged 10XV2 whitelist to kite_out_0\n",
            "[2021-06-30 12:43:08,997]    INFO [count] Inspecting BUS file kite_out_0/tmp/output.s.bus\n",
            "[2021-06-30 12:43:21,774]    INFO [count] Correcting BUS records in kite_out_0/tmp/output.s.bus to kite_out_0/tmp/output.s.c.bus with whitelist kite_out_0/10x_version2_whitelist.txt\n",
            "[2021-06-30 12:43:34,422]    INFO [count] Sorting BUS file kite_out_0/tmp/output.s.c.bus to kite_out_0/output.unfiltered.bus\n",
            "[2021-06-30 12:44:00,983]    INFO [count] Generating count matrix kite_out_0/counts_unfiltered/cells_x_features from BUS file kite_out_0/output.unfiltered.bus\n",
            "[2021-06-30 12:44:10,275]    INFO [count] Reading matrix kite_out_0/counts_unfiltered/cells_x_features.mtx\n",
            "[2021-06-30 12:44:15,607]    INFO [count] Writing matrix to h5ad kite_out_0/counts_unfiltered/adata.h5ad\n",
            "[2021-06-30 12:44:15,998]    INFO [count] Filtering with bustools\n",
            "[2021-06-30 12:44:15,998]    INFO [count] Generating whitelist kite_out_0/filter_barcodes.txt from BUS file kite_out_0/output.unfiltered.bus\n",
            "[2021-06-30 12:44:16,471]    INFO [count] Correcting BUS records in kite_out_0/output.unfiltered.bus to kite_out_0/tmp/output.unfiltered.c.bus with whitelist kite_out_0/filter_barcodes.txt\n",
            "[2021-06-30 12:44:32,746]    INFO [count] Sorting BUS file kite_out_0/tmp/output.unfiltered.c.bus to kite_out_0/output.filtered.bus\n",
            "[2021-06-30 12:44:50,780]    INFO [count] Generating count matrix kite_out_0/counts_filtered/cells_x_features from BUS file kite_out_0/output.filtered.bus\n",
            "[2021-06-30 12:44:53,468]    INFO [count] Reading matrix kite_out_0/counts_filtered/cells_x_features.mtx\n",
            "[2021-06-30 12:44:53,724]    INFO [count] Writing matrix to h5ad kite_out_0/counts_filtered/adata.h5ad\n"
          ],
          "name": "stderr"
        }
      ]
    },
    {
      "cell_type": "markdown",
      "metadata": {
        "id": "proprietary-compromise"
      },
      "source": [
        "# Preprocess with cite-seq-count"
      ],
      "id": "proprietary-compromise"
    },
    {
      "cell_type": "code",
      "metadata": {
        "id": "colonial-democracy"
      },
      "source": [
        "!gunzip BMGP_2020/references/whitelist_10xv2.txt.gz"
      ],
      "id": "colonial-democracy",
      "execution_count": null,
      "outputs": []
    },
    {
      "cell_type": "code",
      "metadata": {
        "id": "deadly-safety",
        "outputId": "dc97e124-bbdf-48df-f833-2979685ef4ae"
      },
      "source": [
        "!R1=\"fastqs_0/SRR8890644_R1.fastq.gz\" && \\\n",
        "R2=\"fastqs_0/SRR8890644_R2.fastq.gz\" && \\\n",
        "FB=\"BMGP_2020/references/multiseq/cite_seq_barcodes.csv\" && \\\n",
        "WL=\"BMGP_2020/references/whitelist_10xv2.txt\" && \\\n",
        "/usr/bin/time --output=memtime_1.log -v CITE-seq-Count -R1 $R1  -R2 $R2 --no_umi_correction -t $FB -wl $WL -cbf 1 -cbl 16 -umif 17 -umil 26 -cells 65000 --max-errors 1 -o ./citeseqout_0"
      ],
      "id": "deadly-safety",
      "execution_count": null,
      "outputs": [
        {
          "output_type": "stream",
          "text": [
            "Loading whitelist\n",
            "Counting number of reads\n",
            "Started mapping\n",
            "Processing 96,428,956 reads\n",
            "CITE-seq-Count is running with 48 cores.\n",
            "Processed 1,000,000 reads in 13.62 seconds. Total reads: 1,000,000 in child 31020\n",
            "Processed 1,000,000 reads in 22.01 seconds. Total reads: 1,000,000 in child 31021\n",
            "Processed 1,000,000 reads in 13.0 seconds. Total reads: 2,000,000 in child 31020\n",
            "Mapping done for process 31020. Processed 2,008,936 reads\n",
            "Processed 1,000,000 reads in 12.98 seconds. Total reads: 2,000,000 in child 31021\n",
            "Mapping done for process 31021. Processed 2,008,936 reads\n",
            "Processed 1,000,000 reads in 33.54 seconds. Total reads: 1,000,000 in child 31022\n",
            "Processed 1,000,000 reads in 13.21 seconds. Total reads: 2,000,000 in child 31022\n",
            "Mapping done for process 31022. Processed 2,008,936 reads\n",
            "Processed 1,000,000 reads in 44.3 seconds. Total reads: 1,000,000 in child 31023\n",
            "Processed 1,000,000 reads in 13.83 seconds. Total reads: 2,000,000 in child 31023\n",
            "Mapping done for process 31023. Processed 2,008,936 reads\n",
            "Processed 1,000,000 reads in 54.8 seconds. Total reads: 1,000,000 in child 31024\n",
            "Processed 1,000,000 reads in 13.21 seconds. Total reads: 2,000,000 in child 31024\n",
            "Mapping done for process 31024. Processed 2,008,936 reads\n",
            "Processed 1,000,000 reads in 1.0 minute, 5.983 seconds. Total reads: 1,000,000 in child 31025\n",
            "Processed 1,000,000 reads in 13.42 seconds. Total reads: 2,000,000 in child 31025\n",
            "Mapping done for process 31025. Processed 2,008,936 reads\n",
            "Processed 1,000,000 reads in 1.0 minute, 16.97 seconds. Total reads: 1,000,000 in child 31026\n",
            "Processed 1,000,000 reads in 1.0 minute, 26.48 seconds. Total reads: 1,000,000 in child 31027\n",
            "Processed 1,000,000 reads in 13.56 seconds. Total reads: 2,000,000 in child 31026\n",
            "Mapping done for process 31026. Processed 2,008,936 reads\n",
            "Processed 1,000,000 reads in 1.0 minute, 39.26 seconds. Total reads: 1,000,000 in child 31028\n",
            "Processed 1,000,000 reads in 16.62 seconds. Total reads: 2,000,000 in child 31027\n",
            "Mapping done for process 31027. Processed 2,008,936 reads\n",
            "Processed 1,000,000 reads in 13.42 seconds. Total reads: 2,000,000 in child 31028\n",
            "Processed 1,000,000 reads in 1.0 minute, 48.97 seconds. Total reads: 1,000,000 in child 31029\n",
            "Mapping done for process 31028. Processed 2,008,936 reads\n",
            "Processed 1,000,000 reads in 1.0 minute, 58.5 seconds. Total reads: 1,000,000 in child 31030\n",
            "Processed 1,000,000 reads in 13.47 seconds. Total reads: 2,000,000 in child 31029\n",
            "Mapping done for process 31029. Processed 2,008,936 reads\n",
            "Processed 1,000,000 reads in 13.65 seconds. Total reads: 2,000,000 in child 31030\n",
            "Mapping done for process 31030. Processed 2,008,936 reads\n",
            "Processed 1,000,000 reads in 2.0 minutes, 10.23 seconds. Total reads: 1,000,000 in child 31031\n",
            "Processed 1,000,000 reads in 2.0 minutes, 18.12 seconds. Total reads: 1,000,000 in child 31032\n",
            "Processed 1,000,000 reads in 13.49 seconds. Total reads: 2,000,000 in child 31031\n",
            "Mapping done for process 31031. Processed 2,008,936 reads\n",
            "Processed 1,000,000 reads in 13.35 seconds. Total reads: 2,000,000 in child 31032\n",
            "Mapping done for process 31032. Processed 2,008,936 reads\n",
            "Processed 1,000,000 reads in 2.0 minutes, 29.76 seconds. Total reads: 1,000,000 in child 31033\n",
            "Processed 1,000,000 reads in 13.4 seconds. Total reads: 2,000,000 in child 31033\n",
            "Mapping done for process 31033. Processed 2,008,936 reads\n",
            "Processed 1,000,000 reads in 2.0 minutes, 40.79 seconds. Total reads: 1,000,000 in child 31034\n",
            "Processed 1,000,000 reads in 13.49 seconds. Total reads: 2,000,000 in child 31034\n",
            "Mapping done for process 31034. Processed 2,008,936 reads\n",
            "Processed 1,000,000 reads in 2.0 minutes, 55.73 seconds. Total reads: 1,000,000 in child 31035\n",
            "Processed 1,000,000 reads in 2.0 minutes, 58.97 seconds. Total reads: 1,000,000 in child 31036\n",
            "Processed 1,000,000 reads in 14.0 seconds. Total reads: 2,000,000 in child 31035\n",
            "Mapping done for process 31035. Processed 2,008,936 reads\n",
            "Processed 1,000,000 reads in 13.16 seconds. Total reads: 2,000,000 in child 31036\n",
            "Mapping done for process 31036. Processed 2,008,936 reads\n",
            "Processed 1,000,000 reads in 3.0 minutes, 13.24 seconds. Total reads: 1,000,000 in child 31037\n",
            "Processed 1,000,000 reads in 13.31 seconds. Total reads: 2,000,000 in child 31037\n",
            "Mapping done for process 31037. Processed 2,008,936 reads\n",
            "Processed 1,000,000 reads in 3.0 minutes, 23.29 seconds. Total reads: 1,000,000 in child 31038\n",
            "Processed 1,000,000 reads in 13.41 seconds. Total reads: 2,000,000 in child 31038\n",
            "Mapping done for process 31038. Processed 2,008,936 reads\n",
            "Processed 1,000,000 reads in 3.0 minutes, 34.16 seconds. Total reads: 1,000,000 in child 31039\n",
            "Processed 1,000,000 reads in 14.2 seconds. Total reads: 2,000,000 in child 31039\n",
            "Mapping done for process 31039. Processed 2,008,936 reads\n",
            "Processed 1,000,000 reads in 3.0 minutes, 44.31 seconds. Total reads: 1,000,000 in child 31040\n",
            "Processed 1,000,000 reads in 13.8 seconds. Total reads: 2,000,000 in child 31040\n",
            "Mapping done for process 31040. Processed 2,008,936 reads\n",
            "Processed 1,000,000 reads in 3.0 minutes, 56.05 seconds. Total reads: 1,000,000 in child 31041\n",
            "Processed 1,000,000 reads in 13.23 seconds. Total reads: 2,000,000 in child 31041\n",
            "Mapping done for process 31041. Processed 2,008,936 reads\n",
            "Processed 1,000,000 reads in 4.0 minutes, 15.3 seconds. Total reads: 1,000,000 in child 31042\n",
            "Processed 1,000,000 reads in 4.0 minutes, 22.03 seconds. Total reads: 1,000,000 in child 31043\n",
            "Processed 1,000,000 reads in 13.65 seconds. Total reads: 2,000,000 in child 31042\n",
            "Mapping done for process 31042. Processed 2,008,936 reads\n",
            "Processed 1,000,000 reads in 17.26 seconds. Total reads: 2,000,000 in child 31043\n",
            "Mapping done for process 31043. Processed 2,008,936 reads\n",
            "Processed 1,000,000 reads in 4.0 minutes, 33.17 seconds. Total reads: 1,000,000 in child 31044\n",
            "Processed 1,000,000 reads in 13.27 seconds. Total reads: 2,000,000 in child 31044\n",
            "Mapping done for process 31044. Processed 2,008,936 reads\n",
            "Processed 1,000,000 reads in 4.0 minutes, 38.82 seconds. Total reads: 1,000,000 in child 31045\n",
            "Processed 1,000,000 reads in 13.79 seconds. Total reads: 2,000,000 in child 31045\n",
            "Mapping done for process 31045. Processed 2,008,936 reads\n",
            "Processed 1,000,000 reads in 4.0 minutes, 58.12 seconds. Total reads: 1,000,000 in child 31046\n",
            "Processed 1,000,000 reads in 4.0 minutes, 56.97 seconds. Total reads: 1,000,000 in child 31047\n",
            "Processed 1,000,000 reads in 13.56 seconds. Total reads: 2,000,000 in child 31046\n",
            "Mapping done for process 31046. Processed 2,008,936 reads\n",
            "Processed 1,000,000 reads in 13.61 seconds. Total reads: 2,000,000 in child 31047\n",
            "Mapping done for process 31047. Processed 2,008,936 reads\n",
            "Processed 1,000,000 reads in 5.0 minutes, 11.5 seconds. Total reads: 1,000,000 in child 31048\n",
            "Processed 1,000,000 reads in 13.26 seconds. Total reads: 2,000,000 in child 31048\n",
            "Mapping done for process 31048. Processed 2,008,936 reads\n",
            "Processed 1,000,000 reads in 5.0 minutes, 20.66 seconds. Total reads: 1,000,000 in child 31049\n",
            "Processed 1,000,000 reads in 13.39 seconds. Total reads: 2,000,000 in child 31049\n",
            "Mapping done for process 31049. Processed 2,008,936 reads\n",
            "Processed 1,000,000 reads in 5.0 minutes, 32.46 seconds. Total reads: 1,000,000 in child 31050\n",
            "Processed 1,000,000 reads in 13.38 seconds. Total reads: 2,000,000 in child 31050\n",
            "Mapping done for process 31050. Processed 2,008,936 reads\n",
            "Processed 1,000,000 reads in 5.0 minutes, 42.97 seconds. Total reads: 1,000,000 in child 31051\n",
            "Processed 1,000,000 reads in 13.31 seconds. Total reads: 2,000,000 in child 31051\n",
            "Mapping done for process 31051. Processed 2,008,936 reads\n",
            "Processed 1,000,000 reads in 5.0 minutes, 57.29 seconds. Total reads: 1,000,000 in child 31052\n",
            "Processed 1,000,000 reads in 13.7 seconds. Total reads: 2,000,000 in child 31052\n",
            "Mapping done for process 31052. Processed 2,008,936 reads\n",
            "Processed 1,000,000 reads in 6.0 minutes, 8.717 seconds. Total reads: 1,000,000 in child 31053\n",
            "Processed 1,000,000 reads in 13.29 seconds. Total reads: 2,000,000 in child 31053\n",
            "Mapping done for process 31053. Processed 2,008,936 reads\n",
            "Processed 1,000,000 reads in 6.0 minutes, 18.49 seconds. Total reads: 1,000,000 in child 31054\n",
            "Processed 1,000,000 reads in 13.28 seconds. Total reads: 2,000,000 in child 31054\n",
            "Mapping done for process 31054. Processed 2,008,936 reads\n",
            "Processed 1,000,000 reads in 6.0 minutes, 26.99 seconds. Total reads: 1,000,000 in child 31055\n",
            "Processed 1,000,000 reads in 13.68 seconds. Total reads: 2,000,000 in child 31055\n",
            "Mapping done for process 31055. Processed 2,008,936 reads\n",
            "Processed 1,000,000 reads in 6.0 minutes, 45.15 seconds. Total reads: 1,000,000 in child 31056\n",
            "Processed 1,000,000 reads in 6.0 minutes, 44.41 seconds. Total reads: 1,000,000 in child 31057\n",
            "Processed 1,000,000 reads in 13.07 seconds. Total reads: 2,000,000 in child 31056\n",
            "Mapping done for process 31056. Processed 2,008,936 reads\n",
            "Processed 1,000,000 reads in 13.27 seconds. Total reads: 2,000,000 in child 31057\n",
            "Mapping done for process 31057. Processed 2,008,936 reads\n",
            "Processed 1,000,000 reads in 6.0 minutes, 51.56 seconds. Total reads: 1,000,000 in child 31058\n",
            "Processed 1,000,000 reads in 13.24 seconds. Total reads: 2,000,000 in child 31058\n",
            "Mapping done for process 31058. Processed 2,008,936 reads\n",
            "Processed 1,000,000 reads in 6.0 minutes, 57.49 seconds. Total reads: 1,000,000 in child 31059\n",
            "Processed 1,000,000 reads in 13.4 seconds. Total reads: 2,000,000 in child 31059\n",
            "Mapping done for process 31059. Processed 2,008,936 reads\n",
            "Processed 1,000,000 reads in 7.0 minutes, 20.81 seconds. Total reads: 1,000,000 in child 31060\n",
            "Processed 1,000,000 reads in 7.0 minutes, 19.12 seconds. Total reads: 1,000,000 in child 31061\n",
            "Processed 1,000,000 reads in 13.24 seconds. Total reads: 2,000,000 in child 31060\n",
            "Mapping done for process 31060. Processed 2,008,936 reads\n",
            "Processed 1,000,000 reads in 12.92 seconds. Total reads: 2,000,000 in child 31061\n",
            "Mapping done for process 31061. Processed 2,008,936 reads\n",
            "Processed 1,000,000 reads in 7.0 minutes, 34.35 seconds. Total reads: 1,000,000 in child 31062\n",
            "Processed 1,000,000 reads in 12.6 seconds. Total reads: 2,000,000 in child 31062\n",
            "Mapping done for process 31062. Processed 2,008,936 reads\n",
            "Processed 1,000,000 reads in 7.0 minutes, 40.99 seconds. Total reads: 1,000,000 in child 31063\n",
            "Processed 1,000,000 reads in 12.54 seconds. Total reads: 2,000,000 in child 31063\n",
            "Mapping done for process 31063. Processed 2,008,936 reads\n",
            "Processed 1,000,000 reads in 7.0 minutes, 49.37 seconds. Total reads: 1,000,000 in child 31064\n",
            "Processed 1,000,000 reads in 12.92 seconds. Total reads: 2,000,000 in child 31064\n",
            "Mapping done for process 31064. Processed 2,008,936 reads\n",
            "Processed 1,000,000 reads in 7.0 minutes, 57.98 seconds. Total reads: 1,000,000 in child 31065\n",
            "Processed 1,000,000 reads in 12.75 seconds. Total reads: 2,000,000 in child 31065\n",
            "Mapping done for process 31065. Processed 2,008,936 reads\n",
            "Processed 1,000,000 reads in 8.0 minutes, 5.801 seconds. Total reads: 1,000,000 in child 31066\n",
            "Processed 1,000,000 reads in 12.8 seconds. Total reads: 2,000,000 in child 31066\n",
            "Mapping done for process 31066. Processed 2,008,936 reads\n",
            "Processed 1,000,000 reads in 8.0 minutes, 20.4 seconds. Total reads: 1,000,000 in child 31067\n",
            "Processed 1,000,000 reads in 11.66 seconds. Total reads: 2,000,000 in child 31067\n",
            "Mapping done for process 31067. Processed 2,008,964 reads\n",
            "Mapping done\n",
            "Merging results\n",
            "Correcting cell barcodes\n",
            "Generated barcode tree from whitelist\n",
            "Finding reference candidates\n",
            "Processing 1,595,208 cell barcodes\n",
            "Collapsing cell barcodes\n",
            "\tCommand being timed: \"CITE-seq-Count -R1 fastqs/SRR8890644_1.fastq.gz -R2 fastqs/SRR8890644_2.fastq.gz --no_umi_correction -t BMGP_2020/references/multiseq/cite_seq_barcodes.csv -wl BMGP_2020/references/whitelist_10xv2.txt -cbf 1 -cbl 16 -umif 17 -umil 26 -cells 65000 --max-errors 1 -o ./cite_seq_out_no_err\"\n",
            "\tUser time (seconds): 18234.42\n",
            "\tSystem time (seconds): 334.91\n",
            "\tPercent of CPU this job got: 469%\n",
            "\tElapsed (wall clock) time (h:mm:ss or m:ss): 1:05:57\n",
            "\tAverage shared text size (kbytes): 0\n",
            "\tAverage unshared data size (kbytes): 0\n",
            "\tAverage stack size (kbytes): 0\n",
            "\tAverage total size (kbytes): 0\n",
            "\tMaximum resident set size (kbytes): 19709072\n",
            "\tAverage resident set size (kbytes): 0\n",
            "\tMajor (requiring I/O) page faults: 0\n",
            "\tMinor (reclaiming a frame) page faults: 79949788\n",
            "\tVoluntary context switches: 950842\n",
            "\tInvoluntary context switches: 14283\n",
            "\tSwaps: 0\n",
            "\tFile system inputs: 0\n",
            "\tFile system outputs: 130472\n",
            "\tSocket messages sent: 0\n",
            "\tSocket messages received: 0\n",
            "\tSignals delivered: 0\n",
            "\tPage size (bytes): 4096\n",
            "\tExit status: 0\n"
          ],
          "name": "stdout"
        }
      ]
    },
    {
      "cell_type": "code",
      "metadata": {
        "id": "quality-manor"
      },
      "source": [
        ""
      ],
      "id": "quality-manor",
      "execution_count": null,
      "outputs": []
    }
  ]
}