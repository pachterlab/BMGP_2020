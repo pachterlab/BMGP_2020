{
  "nbformat": 4,
  "nbformat_minor": 0,
  "metadata": {
    "colab": {
      "name": "10xFB.ipynb",
      "provenance": [],
      "include_colab_link": true
    },
    "kernelspec": {
      "display_name": "Python 3",
      "language": "python",
      "name": "python3"
    },
    "language_info": {
      "codemirror_mode": {
        "name": "ipython",
        "version": 3
      },
      "file_extension": ".py",
      "mimetype": "text/x-python",
      "name": "python",
      "nbconvert_exporter": "python",
      "pygments_lexer": "ipython3",
      "version": "3.7.4"
    }
  },
  "cells": [
    {
      "cell_type": "markdown",
      "metadata": {
        "id": "view-in-github",
        "colab_type": "text"
      },
      "source": [
        "<a href=\"https://colab.research.google.com/github/sbooeshaghi/BMGP_2020/blob/main/analysis/notebooks/tapseq/tapseq.ipynb\" target=\"_parent\"><img src=\"https://colab.research.google.com/assets/colab-badge.svg\" alt=\"Open In Colab\"/></a>"
      ]
    },
    {
      "cell_type": "code",
      "metadata": {
        "colab": {
          "base_uri": "https://localhost:8080/"
        },
        "id": "SxjjKLZp4jz8",
        "outputId": "f0412f53-b0b8-4575-904e-7887cc8eaadc"
      },
      "source": [
        "!date"
      ],
      "execution_count": 11,
      "outputs": [
        {
          "output_type": "stream",
          "text": [
            "Mon Jun 21 23:46:25 UTC 2021\n"
          ],
          "name": "stdout"
        }
      ]
    },
    {
      "cell_type": "code",
      "metadata": {
        "id": "T_MTz1NW4hVo"
      },
      "source": [
        "name_map = {'CCNE2_+_95907328.23-P1P2' : 'CCNE2-A',\n",
        "'CCNE2_+_95907382.23-P1P2' : 'CCNE2-B',\n",
        "'CCNE2_+_95907406.23-P1P2' : 'CCNE2-C',\n",
        "'CCNE2_-_95907017.23-P1P2' : 'CCNE2-D',\n",
        "'CPQ_+_97657557.23-P1P2' : 'CPQ-A',\n",
        "'CPQ_+_97657573.23-P1P2' : 'CPQ-B',\n",
        "'CPQ_-_97657567.23-P1P2' : 'CPQ-C',\n",
        "'CPQ_-_97657591.23-P1P2' : 'CPQ-D',\n",
        "'DSCC1_+_120867694.23-P1P2' : 'DSCC1-A',\n",
        "'DSCC1_+_120868042.23-P1P2' : 'DSCC1-B',\n",
        "'DSCC1_-_120867704.23-P1P2' : 'DSCC1-C',\n",
        "'DSCC1_-_120868119.23-P1P2' : 'DSCC1-D',\n",
        "'FAM83A_+_124194986-P1P2' : 'FAM83A-A',\n",
        "'FAM83A_+_124195012-P1P2' : 'FAM83A-B',\n",
        "'FAM83A_-_124194976-P1P2' : 'FAM83A-C',\n",
        "'FAM83A_-_124194996-P1P2' : 'FAM83A-D',\n",
        "'GATA1-A' : 'GATA1-A',\n",
        "'GATA1-B' : 'GATA1-B',\n",
        "'GATA1-C' : 'GATA1-C',\n",
        "'GATA1-D' : 'GATA1-D',\n",
        "'HS2-A' : 'HS2-A',\n",
        "'HS2-B' : 'HS2-B',\n",
        "'HS2-C' : 'HS2-C',\n",
        "'HS2-D' : 'HS2-D',\n",
        "'LRRCC1_+_86019483.23-P1P2' : 'LRRCC1-A',\n",
        "'LRRCC1_+_86019509.23-P1P2' : 'LRRCC1-B',\n",
        "'LRRCC1_+_86019522.23-P1P2' : 'LRRCC1-C',\n",
        "'LRRCC1_+_86019818.23-P1P2' : 'LRRCC1-D',\n",
        "'MYC-A' : 'MYC-A',\n",
        "'MYC-B' : 'MYC-B',\n",
        "'MYC-C' : 'MYC-C',\n",
        "'MYC-D' : 'MYC-D',\n",
        "'OXR1_+_107670106.23' : 'OXR1-A',\n",
        "'OXR1_+_107670159.23' : 'OXR1-B',\n",
        "'OXR1_+_107670422.23' : 'OXR1-C',\n",
        "'OXR1_-_107670413.23' : 'OXR1-D',\n",
        "'PHF20L1_+_133787682-P1P2' : 'PHF20L1-A',\n",
        "'PHF20L1_+_133788017-P1P2' : 'PHF20L1-B',\n",
        "'PHF20L1_+_133788065-P1P2' : 'PHF20L1-C',\n",
        "'PHF20L1_-_133787636-P1P2' : 'PHF20L1-D',\n",
        "'RIPK2_+_90770127.23-P1P2' : 'RIPK2-A',\n",
        "'RIPK2_+_90770318.23-P1P2' : 'RIPK2-B',\n",
        "'RIPK2_-_90770297.23-P1P2' : 'RIPK2-C',\n",
        "'RIPK2_-_90770465.23-P1P2' : 'RIPK2-D',\n",
        "'STK3_+_99837558.23-P1P2' : 'STK3-A',\n",
        "'STK3_+_99837574.23-P1P2' : 'STK3-B',\n",
        "'STK3_+_99837894.23-P1P2' : 'STK3-C',\n",
        "'STK3_-_99837866.23-P1P2' : 'STK3-D',\n",
        "'UBR5_+_103424908.23-P1P2' : 'UBR5-A',\n",
        "'UBR5_+_103424940.23-P1P2' : 'UBR5-B',\n",
        "'UBR5_-_103424644.23-P1P2' : 'UBR5-C',\n",
        "'UBR5_-_103424857.23-P1P2' : 'UBR5-D',\n",
        "'ZFPM2-A' : 'ZFPM2-A',\n",
        "'ZFPM2-B' : 'ZFPM2-B',\n",
        "'ZFPM2-C' : 'ZFPM2-C',\n",
        "'ZFPM2-D' : 'ZFPM2-D',\n",
        "'non-targeting_00000' : 'NT0',\n",
        "'non-targeting_00001' : 'NT1',\n",
        "'non-targeting_00002' : 'NT2',\n",
        "'non-targeting_00003' : 'NT3',\n",
        "'non-targeting_00004' : 'NT4',\n",
        "'non-targeting_00005' : 'NT5',\n",
        "'non-targeting_00006' : 'NT6',\n",
        "'non-targeting_00007' : 'NT7',\n",
        "'non-targeting_00008' : 'NT8',\n",
        "'non-targeting_00009' : 'NT9',\n",
        "'non-targeting_00010' : 'NT10',\n",
        "'non-targeting_00011' : 'NT11',\n",
        "'non-targeting_00012' : 'NT12',\n",
        "'non-targeting_00013' : 'NT13',\n",
        "'non-targeting_00014' : 'NT14',\n",
        "'non-targeting_00015' : 'NT15',\n",
        "'non-targeting_00016' : 'NT16',\n",
        "'non-targeting_00017' : 'NT17',\n",
        "'non-targeting_00018' : 'NT18',\n",
        "'non-targeting_00019' : 'NT19',\n",
        "'non-targeting_00020' : 'NT20',\n",
        "'non-targeting_00021' : 'NT21',\n",
        "'non-targeting_00022' : 'NT22',\n",
        "'non-targeting_00023' : 'NT23',\n",
        "'non-targeting_00024' : 'NT24',\n",
        "'non-targeting_00025' : 'NT25',\n",
        "'non-targeting_00026' : 'NT26',\n",
        "'non-targeting_00027' : 'NT27',\n",
        "'non-targeting_00028' : 'NT28',\n",
        "'non-targeting_00029' : 'NT29'}"
      ],
      "execution_count": 12,
      "outputs": []
    },
    {
      "cell_type": "code",
      "metadata": {
        "colab": {
          "base_uri": "https://localhost:8080/"
        },
        "id": "fOV3xJGiQmN7",
        "outputId": "798bf1d1-8103-445e-faba-441a76343aac"
      },
      "source": [
        "!rm -rf BMGP_2020\n",
        "!git clone https://github.com/sbooeshaghi/BMGP_2020.git"
      ],
      "execution_count": 13,
      "outputs": [
        {
          "output_type": "stream",
          "text": [
            "Cloning into 'BMGP_2020'...\n",
            "remote: Enumerating objects: 548, done.\u001b[K\n",
            "remote: Counting objects: 100% (252/252), done.\u001b[K\n",
            "remote: Compressing objects: 100% (223/223), done.\u001b[K\n",
            "remote: Total 548 (delta 90), reused 124 (delta 28), pack-reused 296\u001b[K\n",
            "Receiving objects: 100% (548/548), 426.30 MiB | 23.79 MiB/s, done.\n",
            "Resolving deltas: 100% (181/181), done.\n",
            "Checking out files: 100% (131/131), done.\n"
          ],
          "name": "stdout"
        }
      ]
    },
    {
      "cell_type": "code",
      "metadata": {
        "id": "9ETzVhIdQz30"
      },
      "source": [
        "import sys\n",
        "COLAB = \"google.colab\" in sys.modules\n",
        "\n",
        "if COLAB:\n",
        "  !pip install --quiet \\\n",
        "  kb-python==0.26.0 \\\n",
        "  anndata==0.7.6 \\"
      ],
      "execution_count": 14,
      "outputs": []
    },
    {
      "cell_type": "code",
      "metadata": {
        "id": "q_wJoZ1kRW23"
      },
      "source": [
        "# extract everything\n",
        "!ls /content/BMGP_2020/data/tapseq/*/*.tar.gz |xargs -n1 tar -xf"
      ],
      "execution_count": 15,
      "outputs": []
    },
    {
      "cell_type": "code",
      "metadata": {
        "colab": {
          "base_uri": "https://localhost:8080/"
        },
        "id": "T6kDv1agV-Us",
        "outputId": "033aa7ca-6de1-4b18-f071-1ef0188f2fbe"
      },
      "source": [
        "!pip install --no-deps -i https://test.pypi.org/simple/ diffmx==0.0.5"
      ],
      "execution_count": 16,
      "outputs": [
        {
          "output_type": "stream",
          "text": [
            "Looking in indexes: https://test.pypi.org/simple/\n",
            "Requirement already satisfied: diffmx==0.0.5 in /usr/local/lib/python3.7/dist-packages (0.0.5)\n"
          ],
          "name": "stdout"
        }
      ]
    },
    {
      "cell_type": "markdown",
      "metadata": {
        "id": "kwRcQflwSN5Y"
      },
      "source": [
        "# Imports"
      ]
    },
    {
      "cell_type": "code",
      "metadata": {
        "id": "_U7MKfoCSMfY"
      },
      "source": [
        "import anndata\n",
        "from scipy.io import mmread, mmwrite\n",
        "from kb_python.utils import import_matrix_as_anndata\n",
        "import pandas as pd\n",
        "import numpy as np\n",
        "import matplotlib.pyplot as plt\n",
        "from scipy.spatial.distance import hamming, jaccard\n",
        "\n",
        "from diffmx import plot, compare\n",
        "from diffmx.utils import nd, yex\n",
        "\n",
        "fsize = 18\n",
        "\n",
        "plt.rcParams.update({'font.size': fsize})\n",
        "\n",
        "%config InlineBackend.figure_format = 'retina'\n",
        "\n",
        "colors = {\n",
        "    \"kb\": \"black\",\n",
        "    \"ts\": \"red\"\n",
        "}"
      ],
      "execution_count": 17,
      "outputs": []
    },
    {
      "cell_type": "code",
      "metadata": {
        "id": "5aBofE_1SER9"
      },
      "source": [
        "path = \"kite/counts_unfiltered/adata.h5ad\"\n",
        "if COLAB:\n",
        "  path = \"/content/counts_unfiltered/adata.h5ad\"\n",
        "\n",
        "raw_kb = anndata.read_h5ad(path)\n",
        "raw_kb.var = raw_kb.var.rename(columns={\"gene_name\": \"feature_name\"})"
      ],
      "execution_count": 18,
      "outputs": []
    },
    {
      "cell_type": "code",
      "metadata": {
        "id": "dWnOpGYE4hVt"
      },
      "source": [
        "ts_data_path = \"/home/sina/projects/kite/BMGP_2020/data/tapseq/ref/GSM4012688_TASC_DIFFEX_sample1.pertStatus.csv.gz\"\n",
        "if COLAB:\n",
        "  ts_data_path = \"/content/BMGP_2020/data/tapseq/ref/GSM4012688_TASC_DIFFEX_sample1.pertStatus.csv.gz\"\n",
        "ts_data = pd.read_csv(ts_data_path, index_col=0)"
      ],
      "execution_count": 19,
      "outputs": []
    },
    {
      "cell_type": "code",
      "metadata": {
        "id": "bMM9zoR14hVu"
      },
      "source": [
        "gene_names = pd.DataFrame(index=ts_data.index.values)\n",
        "barcode_names = pd.DataFrame(index = np.array([x.split(\"-\")[-1] for x in ts_data.columns.values]))\n",
        "mtx = ts_data.values.T"
      ],
      "execution_count": 20,
      "outputs": []
    },
    {
      "cell_type": "code",
      "metadata": {
        "id": "aiKQgpcD4hVu"
      },
      "source": [
        "raw_ts = anndata.AnnData(X=mtx.astype(int), obs=barcode_names, var = gene_names)"
      ],
      "execution_count": 21,
      "outputs": []
    },
    {
      "cell_type": "code",
      "metadata": {
        "id": "6Tk4O8Yt4hVu"
      },
      "source": [
        "raw_ts.var[\"feature_name\"] = raw_ts.var.index.map(name_map)\n",
        "raw_ts.var[\"feature_name_details\"] = raw_ts.var.index.values\n",
        "raw_ts.var.index = raw_ts.var[\"feature_name\"]"
      ],
      "execution_count": 22,
      "outputs": []
    },
    {
      "cell_type": "code",
      "metadata": {
        "id": "QszCFmXUWzEr"
      },
      "source": [
        "common = np.intersect1d(np.intersect1d(raw_ts.obs.index.values, raw_kb.obs.index.values), barcode_names.index.values)"
      ],
      "execution_count": 23,
      "outputs": []
    },
    {
      "cell_type": "code",
      "metadata": {
        "id": "qQXEJi2mXWvz"
      },
      "source": [
        "kb = raw_kb[raw_kb.obs.index.isin(common)]\n",
        "ts = raw_ts[raw_ts.obs.index.isin(common)]"
      ],
      "execution_count": 24,
      "outputs": []
    },
    {
      "cell_type": "code",
      "metadata": {
        "colab": {
          "base_uri": "https://localhost:8080/"
        },
        "id": "04OEL2YgX2jB",
        "outputId": "bc6de231-dfbc-4f51-fef7-0a9b46f43249"
      },
      "source": [
        "print(kb)\n",
        "print(ts)"
      ],
      "execution_count": 25,
      "outputs": [
        {
          "output_type": "stream",
          "text": [
            "View of AnnData object with n_obs × n_vars = 10860 × 86\n",
            "    var: 'feature_name'\n",
            "View of AnnData object with n_obs × n_vars = 10860 × 86\n",
            "    var: 'feature_name', 'feature_name_details'\n"
          ],
          "name": "stdout"
        }
      ]
    },
    {
      "cell_type": "code",
      "metadata": {
        "id": "ZQzEGtdg4hVv"
      },
      "source": [
        "common_genes = np.intersect1d(kb.var.index.values, ts.var.index.values)"
      ],
      "execution_count": 26,
      "outputs": []
    },
    {
      "cell_type": "code",
      "metadata": {
        "id": "GSJyFrJj4hVv"
      },
      "source": [
        "kb = kb[:,kb.var.index.isin(common_genes)].copy()\n",
        "ts = ts[:,ts.var.index.isin(common_genes)].copy()"
      ],
      "execution_count": 27,
      "outputs": []
    },
    {
      "cell_type": "code",
      "metadata": {
        "colab": {
          "base_uri": "https://localhost:8080/"
        },
        "id": "wCk9A_6g4hVv",
        "outputId": "c07c1218-f26c-4452-d0a3-937a927d9c49"
      },
      "source": [
        "ts"
      ],
      "execution_count": 28,
      "outputs": [
        {
          "output_type": "execute_result",
          "data": {
            "text/plain": [
              "AnnData object with n_obs × n_vars = 10860 × 86\n",
              "    var: 'feature_name', 'feature_name_details'"
            ]
          },
          "metadata": {
            "tags": []
          },
          "execution_count": 28
        }
      ]
    },
    {
      "cell_type": "code",
      "metadata": {
        "colab": {
          "base_uri": "https://localhost:8080/"
        },
        "id": "GUKRNgkp4hVw",
        "outputId": "7c1f86ea-6b11-417e-bf17-2e5f26cd6cef"
      },
      "source": [
        "print(kb)\n",
        "print(ts)"
      ],
      "execution_count": 29,
      "outputs": [
        {
          "output_type": "stream",
          "text": [
            "AnnData object with n_obs × n_vars = 10860 × 86\n",
            "    var: 'feature_name'\n",
            "AnnData object with n_obs × n_vars = 10860 × 86\n",
            "    var: 'feature_name', 'feature_name_details'\n"
          ],
          "name": "stdout"
        }
      ]
    },
    {
      "cell_type": "code",
      "metadata": {
        "colab": {
          "base_uri": "https://localhost:8080/"
        },
        "id": "RlvjP7TC4hVw",
        "outputId": "3f793570-ae5a-4492-82f0-61e7fb8ad8dd"
      },
      "source": [
        "False in (kb.obs.index.values == ts.obs.index.values)"
      ],
      "execution_count": 30,
      "outputs": [
        {
          "output_type": "execute_result",
          "data": {
            "text/plain": [
              "False"
            ]
          },
          "metadata": {
            "tags": []
          },
          "execution_count": 30
        }
      ]
    },
    {
      "cell_type": "code",
      "metadata": {
        "colab": {
          "base_uri": "https://localhost:8080/"
        },
        "id": "acJVY9Ne4hVw",
        "outputId": "07fe19bb-f2ab-43ad-8e48-92051ab6ad11"
      },
      "source": [
        "False in (kb.var.index.values == ts.var.index.values)"
      ],
      "execution_count": 31,
      "outputs": [
        {
          "output_type": "execute_result",
          "data": {
            "text/plain": [
              "True"
            ]
          },
          "metadata": {
            "tags": []
          },
          "execution_count": 31
        }
      ]
    },
    {
      "cell_type": "code",
      "metadata": {
        "id": "PpNBqmuV4hVw"
      },
      "source": [
        "kb = kb[:,~kb.var.feature_name.str.contains(\"Non-Targeting\")].copy()\n",
        "ts = ts[:,~ts.var.feature_name.str.contains(\"Non-Targeting\")].copy()"
      ],
      "execution_count": 32,
      "outputs": []
    },
    {
      "cell_type": "code",
      "metadata": {
        "id": "44U21p684hVx"
      },
      "source": [
        "kb = kb[:,kb.var.sort_index().index]\n",
        "ts = ts[:,ts.var.sort_index().index]"
      ],
      "execution_count": 33,
      "outputs": []
    },
    {
      "cell_type": "code",
      "metadata": {
        "colab": {
          "base_uri": "https://localhost:8080/"
        },
        "id": "F724HuaS4hVx",
        "outputId": "c7efed67-1f7b-40ec-d3f2-2a1f247b9b7c"
      },
      "source": [
        "False in (kb.obs.index.values == ts.obs.index.values)"
      ],
      "execution_count": 34,
      "outputs": [
        {
          "output_type": "execute_result",
          "data": {
            "text/plain": [
              "False"
            ]
          },
          "metadata": {
            "tags": []
          },
          "execution_count": 34
        }
      ]
    },
    {
      "cell_type": "code",
      "metadata": {
        "colab": {
          "base_uri": "https://localhost:8080/"
        },
        "id": "L1fKj3mE4hVx",
        "outputId": "11a67144-00ec-44d7-f36e-1216a3681711"
      },
      "source": [
        "False in (kb.var.index.values == ts.var.index.values)"
      ],
      "execution_count": 35,
      "outputs": [
        {
          "output_type": "execute_result",
          "data": {
            "text/plain": [
              "False"
            ]
          },
          "metadata": {
            "tags": []
          },
          "execution_count": 35
        }
      ]
    },
    {
      "cell_type": "code",
      "metadata": {
        "colab": {
          "base_uri": "https://localhost:8080/"
        },
        "id": "C877s0W94hVx",
        "outputId": "c271ec36-c35d-4b32-8675-9d26299aadd5"
      },
      "source": [
        "print(kb)\n",
        "print(ts)"
      ],
      "execution_count": 36,
      "outputs": [
        {
          "output_type": "stream",
          "text": [
            "View of AnnData object with n_obs × n_vars = 10860 × 86\n",
            "    var: 'feature_name'\n",
            "View of AnnData object with n_obs × n_vars = 10860 × 86\n",
            "    var: 'feature_name', 'feature_name_details'\n"
          ],
          "name": "stdout"
        }
      ]
    },
    {
      "cell_type": "code",
      "metadata": {
        "id": "9f0hZo2U4hVx"
      },
      "source": [
        "kb.layers[\"assignment\"] = (kb.X>8).astype(int)"
      ],
      "execution_count": 37,
      "outputs": []
    },
    {
      "cell_type": "code",
      "metadata": {
        "id": "RH_58Z0V4hVy"
      },
      "source": [
        "ts.X = ts.X.astype(int)"
      ],
      "execution_count": 38,
      "outputs": []
    },
    {
      "cell_type": "code",
      "metadata": {
        "id": "yjO4xC4z9veE"
      },
      "source": [
        "kb.layers[0] = kb.layers[\"assignment\"]\n",
        "kb.layers[1] = ts.X\n",
        "\n",
        "kb.write_h5ad(\"tapseq.h5ad\")"
      ],
      "execution_count": 39,
      "outputs": []
    },
    {
      "cell_type": "markdown",
      "metadata": {
        "id": "nln-xLddYHwF"
      },
      "source": [
        "# Visualizations"
      ]
    },
    {
      "cell_type": "markdown",
      "metadata": {
        "id": "uGRvrYFE4hVy"
      },
      "source": [
        "### hamming"
      ]
    },
    {
      "cell_type": "code",
      "metadata": {
        "id": "26JYgVkm4hVy"
      },
      "source": [
        "ham = np.array([hamming(kb.layers[\"assignment\"][i].todense(), ts.X[i]) for i in range(kb.shape[0])])\n",
        "jac = np.array([jaccard(kb.layers[\"assignment\"][i].todense(), ts.X[i]) for i in range(kb.shape[0])])"
      ],
      "execution_count": 40,
      "outputs": []
    },
    {
      "cell_type": "code",
      "metadata": {
        "colab": {
          "base_uri": "https://localhost:8080/"
        },
        "id": "PAx3372J6cSi",
        "outputId": "21f72a9f-3400-475a-d26c-73436d179d31"
      },
      "source": [
        "pd.Series(jac).value_counts()"
      ],
      "execution_count": 41,
      "outputs": [
        {
          "output_type": "execute_result",
          "data": {
            "text/plain": [
              "0.000000    10621\n",
              "1.000000      181\n",
              "0.500000       47\n",
              "0.333333        9\n",
              "0.200000        1\n",
              "0.250000        1\n",
              "dtype: int64"
            ]
          },
          "metadata": {
            "tags": []
          },
          "execution_count": 41
        }
      ]
    },
    {
      "cell_type": "markdown",
      "metadata": {
        "id": "mwJSzvSObv_D"
      },
      "source": [
        "## Knee"
      ]
    },
    {
      "cell_type": "markdown",
      "metadata": {
        "id": "MB-gU-APbxql"
      },
      "source": [
        "## pseudobulk"
      ]
    },
    {
      "cell_type": "code",
      "metadata": {
        "colab": {
          "base_uri": "https://localhost:8080/",
          "height": 371
        },
        "id": "ONOCdJivbz5_",
        "outputId": "bfd2f49a-a7e8-44e4-8ed4-e2bb64308cf3"
      },
      "source": [
        "fig, ax = plt.subplots(figsize=(5,5))\n",
        "\n",
        "x0, x1 = compare.cmp_sum(kb.layers[\"assignment\"], ts.X)\n",
        "plot.cmp_sum(x0, x1, ax=ax, alpha=0.5)\n",
        "\n",
        "fig.show()"
      ],
      "execution_count": 43,
      "outputs": [
        {
          "output_type": "display_data",
          "data": {
            "image/png": "[encoded data removed]",
            "text/plain": [
              "<Figure size 360x360 with 1 Axes>"
            ]
          },
          "metadata": {
            "tags": [],
            "image/png": {
              "width": 345,
              "height": 354
            },
            "needs_background": "light"
          }
        }
      ]
    },
    {
      "cell_type": "markdown",
      "metadata": {
        "id": "27qh0HjE4hV2"
      },
      "source": [
        "# Pseudobulk - cell"
      ]
    },
    {
      "cell_type": "code",
      "metadata": {
        "colab": {
          "base_uri": "https://localhost:8080/",
          "height": 371
        },
        "id": "iKOKKDAO4hV2",
        "outputId": "8537150b-ef58-4716-af4d-679b936c07ea"
      },
      "source": [
        "fig, ax = plt.subplots(figsize=(5,5))\n",
        "\n",
        "x0, x1 = compare.cmp_sum(kb.layers[\"assignment\"], ts.X, axis=1)\n",
        "plot.cmp_sum(x0, x1, ax=ax, alpha=0.5)\n",
        "\n",
        "fig.show()"
      ],
      "execution_count": 44,
      "outputs": [
        {
          "output_type": "display_data",
          "data": {
            "image/png": "[encoded data removed]",
            "text/plain": [
              "<Figure size 360x360 with 1 Axes>"
            ]
          },
          "metadata": {
            "tags": [],
            "image/png": {
              "width": 349,
              "height": 354
            },
            "needs_background": "light"
          }
        }
      ]
    },
    {
      "cell_type": "code",
      "metadata": {
        "id": "gEmekGyDERjY"
      },
      "source": [
        ""
      ],
      "execution_count": null,
      "outputs": []
    }
  ]
}