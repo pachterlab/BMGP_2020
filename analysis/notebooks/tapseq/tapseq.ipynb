{
  "nbformat": 4,
  "nbformat_minor": 0,
  "metadata": {
    "colab": {
      "name": "10xFB.ipynb",
      "provenance": [],
      "include_colab_link": true
    },
    "kernelspec": {
      "display_name": "Python 3",
      "language": "python",
      "name": "python3"
    },
    "language_info": {
      "codemirror_mode": {
        "name": "ipython",
        "version": 3
      },
      "file_extension": ".py",
      "mimetype": "text/x-python",
      "name": "python",
      "nbconvert_exporter": "python",
      "pygments_lexer": "ipython3",
      "version": "3.7.4"
    }
  },
  "cells": [
    {
      "cell_type": "markdown",
      "metadata": {
        "id": "view-in-github",
        "colab_type": "text"
      },
      "source": [
        "<a href=\"https://colab.research.google.com/github/sbooeshaghi/BMGP_2020/blob/main/analysis/notebooks/tapseq/tapseq.ipynb\" target=\"_parent\"><img src=\"https://colab.research.google.com/assets/colab-badge.svg\" alt=\"Open In Colab\"/></a>"
      ]
    },
    {
      "cell_type": "code",
      "metadata": {
        "colab": {
          "base_uri": "https://localhost:8080/"
        },
        "id": "SxjjKLZp4jz8",
        "outputId": "94b2e8b8-81e5-448c-e951-91f3347c0338"
      },
      "source": [
        "!date"
      ],
      "execution_count": 1,
      "outputs": [
        {
          "output_type": "stream",
          "name": "stdout",
          "text": [
            "Tue Oct  4 20:04:05 UTC 2022\n"
          ]
        }
      ]
    },
    {
      "cell_type": "code",
      "metadata": {
        "id": "9ETzVhIdQz30",
        "colab": {
          "base_uri": "https://localhost:8080/",
          "height": 782
        },
        "outputId": "7100d4fe-5ffa-4a36-8941-59e7b726afb0"
      },
      "source": [
        "import sys\n",
        "COLAB = \"google.colab\" in sys.modules\n",
        "\n",
        "if COLAB:\n",
        "  !pip install -U matplotlib\n",
        "  !pip install --quiet kb-python \n",
        "  !pip install --quiet --no-deps -i https://test.pypi.org/simple/ diffmx==0.0.5"
      ],
      "execution_count": 2,
      "outputs": [
        {
          "output_type": "stream",
          "name": "stdout",
          "text": [
            "Looking in indexes: https://pypi.org/simple, https://us-python.pkg.dev/colab-wheels/public/simple/\n",
            "Requirement already satisfied: matplotlib in /usr/local/lib/python3.7/dist-packages (3.2.2)\n",
            "Collecting matplotlib\n",
            "  Downloading matplotlib-3.5.3-cp37-cp37m-manylinux_2_5_x86_64.manylinux1_x86_64.whl (11.2 MB)\n",
            "\u001b[K     |████████████████████████████████| 11.2 MB 5.6 MB/s \n",
            "\u001b[?25hRequirement already satisfied: pillow>=6.2.0 in /usr/local/lib/python3.7/dist-packages (from matplotlib) (7.1.2)\n",
            "Requirement already satisfied: packaging>=20.0 in /usr/local/lib/python3.7/dist-packages (from matplotlib) (21.3)\n",
            "Requirement already satisfied: cycler>=0.10 in /usr/local/lib/python3.7/dist-packages (from matplotlib) (0.11.0)\n",
            "Requirement already satisfied: python-dateutil>=2.7 in /usr/local/lib/python3.7/dist-packages (from matplotlib) (2.8.2)\n",
            "Requirement already satisfied: numpy>=1.17 in /usr/local/lib/python3.7/dist-packages (from matplotlib) (1.21.6)\n",
            "Collecting fonttools>=4.22.0\n",
            "  Downloading fonttools-4.37.4-py3-none-any.whl (960 kB)\n",
            "\u001b[K     |████████████████████████████████| 960 kB 8.1 MB/s \n",
            "\u001b[?25hRequirement already satisfied: kiwisolver>=1.0.1 in /usr/local/lib/python3.7/dist-packages (from matplotlib) (1.4.4)\n",
            "Requirement already satisfied: pyparsing>=2.2.1 in /usr/local/lib/python3.7/dist-packages (from matplotlib) (3.0.9)\n",
            "Requirement already satisfied: typing-extensions in /usr/local/lib/python3.7/dist-packages (from kiwisolver>=1.0.1->matplotlib) (4.1.1)\n",
            "Requirement already satisfied: six>=1.5 in /usr/local/lib/python3.7/dist-packages (from python-dateutil>=2.7->matplotlib) (1.15.0)\n",
            "Installing collected packages: fonttools, matplotlib\n",
            "  Attempting uninstall: matplotlib\n",
            "    Found existing installation: matplotlib 3.2.2\n",
            "    Uninstalling matplotlib-3.2.2:\n",
            "      Successfully uninstalled matplotlib-3.2.2\n",
            "Successfully installed fonttools-4.37.4 matplotlib-3.5.3\n"
          ]
        },
        {
          "output_type": "display_data",
          "data": {
            "application/vnd.colab-display-data+json": {
              "pip_warning": {
                "packages": [
                  "matplotlib",
                  "mpl_toolkits"
                ]
              }
            }
          },
          "metadata": {}
        },
        {
          "output_type": "stream",
          "name": "stdout",
          "text": [
            "\u001b[K     |████████████████████████████████| 7.5 MB 5.3 MB/s \n",
            "\u001b[K     |████████████████████████████████| 96 kB 4.4 MB/s \n",
            "\u001b[K     |████████████████████████████████| 4.8 MB 52.2 MB/s \n",
            "\u001b[K     |████████████████████████████████| 45.2 MB 1.6 MB/s \n",
            "\u001b[K     |████████████████████████████████| 2.0 MB 38.7 MB/s \n",
            "\u001b[K     |████████████████████████████████| 15.1 MB 21.4 MB/s \n",
            "\u001b[K     |████████████████████████████████| 88 kB 6.5 MB/s \n",
            "\u001b[K     |████████████████████████████████| 1.1 MB 65.6 MB/s \n",
            "\u001b[K     |████████████████████████████████| 63 kB 1.9 MB/s \n",
            "\u001b[?25h  Building wheel for kb-python (setup.py) ... \u001b[?25l\u001b[?25hdone\n",
            "  Building wheel for loompy (setup.py) ... \u001b[?25l\u001b[?25hdone\n",
            "  Building wheel for ngs-tools (setup.py) ... \u001b[?25l\u001b[?25hdone\n",
            "  Building wheel for umap-learn (setup.py) ... \u001b[?25l\u001b[?25hdone\n",
            "  Building wheel for pynndescent (setup.py) ... \u001b[?25l\u001b[?25hdone\n",
            "  Building wheel for session-info (setup.py) ... \u001b[?25l\u001b[?25hdone\n"
          ]
        }
      ]
    },
    {
      "cell_type": "code",
      "metadata": {
        "id": "T_MTz1NW4hVo"
      },
      "source": [
        "name_map = {'CCNE2_+_95907328.23-P1P2' : 'CCNE2-A',\n",
        "'CCNE2_+_95907382.23-P1P2' : 'CCNE2-B',\n",
        "'CCNE2_+_95907406.23-P1P2' : 'CCNE2-C',\n",
        "'CCNE2_-_95907017.23-P1P2' : 'CCNE2-D',\n",
        "'CPQ_+_97657557.23-P1P2' : 'CPQ-A',\n",
        "'CPQ_+_97657573.23-P1P2' : 'CPQ-B',\n",
        "'CPQ_-_97657567.23-P1P2' : 'CPQ-C',\n",
        "'CPQ_-_97657591.23-P1P2' : 'CPQ-D',\n",
        "'DSCC1_+_120867694.23-P1P2' : 'DSCC1-A',\n",
        "'DSCC1_+_120868042.23-P1P2' : 'DSCC1-B',\n",
        "'DSCC1_-_120867704.23-P1P2' : 'DSCC1-C',\n",
        "'DSCC1_-_120868119.23-P1P2' : 'DSCC1-D',\n",
        "'FAM83A_+_124194986-P1P2' : 'FAM83A-A',\n",
        "'FAM83A_+_124195012-P1P2' : 'FAM83A-B',\n",
        "'FAM83A_-_124194976-P1P2' : 'FAM83A-C',\n",
        "'FAM83A_-_124194996-P1P2' : 'FAM83A-D',\n",
        "'GATA1-A' : 'GATA1-A',\n",
        "'GATA1-B' : 'GATA1-B',\n",
        "'GATA1-C' : 'GATA1-C',\n",
        "'GATA1-D' : 'GATA1-D',\n",
        "'HS2-A' : 'HS2-A',\n",
        "'HS2-B' : 'HS2-B',\n",
        "'HS2-C' : 'HS2-C',\n",
        "'HS2-D' : 'HS2-D',\n",
        "'LRRCC1_+_86019483.23-P1P2' : 'LRRCC1-A',\n",
        "'LRRCC1_+_86019509.23-P1P2' : 'LRRCC1-B',\n",
        "'LRRCC1_+_86019522.23-P1P2' : 'LRRCC1-C',\n",
        "'LRRCC1_+_86019818.23-P1P2' : 'LRRCC1-D',\n",
        "'MYC-A' : 'MYC-A',\n",
        "'MYC-B' : 'MYC-B',\n",
        "'MYC-C' : 'MYC-C',\n",
        "'MYC-D' : 'MYC-D',\n",
        "'OXR1_+_107670106.23' : 'OXR1-A',\n",
        "'OXR1_+_107670159.23' : 'OXR1-B',\n",
        "'OXR1_+_107670422.23' : 'OXR1-C',\n",
        "'OXR1_-_107670413.23' : 'OXR1-D',\n",
        "'PHF20L1_+_133787682-P1P2' : 'PHF20L1-A',\n",
        "'PHF20L1_+_133788017-P1P2' : 'PHF20L1-B',\n",
        "'PHF20L1_+_133788065-P1P2' : 'PHF20L1-C',\n",
        "'PHF20L1_-_133787636-P1P2' : 'PHF20L1-D',\n",
        "'RIPK2_+_90770127.23-P1P2' : 'RIPK2-A',\n",
        "'RIPK2_+_90770318.23-P1P2' : 'RIPK2-B',\n",
        "'RIPK2_-_90770297.23-P1P2' : 'RIPK2-C',\n",
        "'RIPK2_-_90770465.23-P1P2' : 'RIPK2-D',\n",
        "'STK3_+_99837558.23-P1P2' : 'STK3-A',\n",
        "'STK3_+_99837574.23-P1P2' : 'STK3-B',\n",
        "'STK3_+_99837894.23-P1P2' : 'STK3-C',\n",
        "'STK3_-_99837866.23-P1P2' : 'STK3-D',\n",
        "'UBR5_+_103424908.23-P1P2' : 'UBR5-A',\n",
        "'UBR5_+_103424940.23-P1P2' : 'UBR5-B',\n",
        "'UBR5_-_103424644.23-P1P2' : 'UBR5-C',\n",
        "'UBR5_-_103424857.23-P1P2' : 'UBR5-D',\n",
        "'ZFPM2-A' : 'ZFPM2-A',\n",
        "'ZFPM2-B' : 'ZFPM2-B',\n",
        "'ZFPM2-C' : 'ZFPM2-C',\n",
        "'ZFPM2-D' : 'ZFPM2-D',\n",
        "'non-targeting_00000' : 'NT0',\n",
        "'non-targeting_00001' : 'NT1',\n",
        "'non-targeting_00002' : 'NT2',\n",
        "'non-targeting_00003' : 'NT3',\n",
        "'non-targeting_00004' : 'NT4',\n",
        "'non-targeting_00005' : 'NT5',\n",
        "'non-targeting_00006' : 'NT6',\n",
        "'non-targeting_00007' : 'NT7',\n",
        "'non-targeting_00008' : 'NT8',\n",
        "'non-targeting_00009' : 'NT9',\n",
        "'non-targeting_00010' : 'NT10',\n",
        "'non-targeting_00011' : 'NT11',\n",
        "'non-targeting_00012' : 'NT12',\n",
        "'non-targeting_00013' : 'NT13',\n",
        "'non-targeting_00014' : 'NT14',\n",
        "'non-targeting_00015' : 'NT15',\n",
        "'non-targeting_00016' : 'NT16',\n",
        "'non-targeting_00017' : 'NT17',\n",
        "'non-targeting_00018' : 'NT18',\n",
        "'non-targeting_00019' : 'NT19',\n",
        "'non-targeting_00020' : 'NT20',\n",
        "'non-targeting_00021' : 'NT21',\n",
        "'non-targeting_00022' : 'NT22',\n",
        "'non-targeting_00023' : 'NT23',\n",
        "'non-targeting_00024' : 'NT24',\n",
        "'non-targeting_00025' : 'NT25',\n",
        "'non-targeting_00026' : 'NT26',\n",
        "'non-targeting_00027' : 'NT27',\n",
        "'non-targeting_00028' : 'NT28',\n",
        "'non-targeting_00029' : 'NT29'}"
      ],
      "execution_count": 1,
      "outputs": []
    },
    {
      "cell_type": "code",
      "metadata": {
        "colab": {
          "base_uri": "https://localhost:8080/"
        },
        "id": "fOV3xJGiQmN7",
        "outputId": "4c466987-0d3e-4052-a75c-57c9b1dc815c"
      },
      "source": [
        "!rm -rf BMGP_2020\n",
        "!git clone https://github.com/sbooeshaghi/BMGP_2020.git"
      ],
      "execution_count": 4,
      "outputs": [
        {
          "output_type": "stream",
          "name": "stdout",
          "text": [
            "Cloning into 'BMGP_2020'...\n",
            "remote: Enumerating objects: 1104, done.\u001b[K\n",
            "remote: Counting objects: 100% (287/287), done.\u001b[K\n",
            "remote: Compressing objects: 100% (171/171), done.\u001b[K\n",
            "remote: Total 1104 (delta 124), reused 256 (delta 114), pack-reused 817\u001b[K\n",
            "Receiving objects: 100% (1104/1104), 495.52 MiB | 26.11 MiB/s, done.\n",
            "Resolving deltas: 100% (448/448), done.\n",
            "Checking out files: 100% (155/155), done.\n"
          ]
        }
      ]
    },
    {
      "cell_type": "code",
      "metadata": {
        "id": "q_wJoZ1kRW23"
      },
      "source": [
        "# extract everything\n",
        "!ls /content/BMGP_2020/data/tapseq/*/*.tar.gz |xargs -n1 tar -xf"
      ],
      "execution_count": 5,
      "outputs": []
    },
    {
      "cell_type": "markdown",
      "metadata": {
        "id": "kwRcQflwSN5Y"
      },
      "source": [
        "# Imports"
      ]
    },
    {
      "cell_type": "code",
      "metadata": {
        "id": "_U7MKfoCSMfY"
      },
      "source": [
        "import anndata\n",
        "from scipy.io import mmread, mmwrite\n",
        "from kb_python.utils import import_matrix_as_anndata\n",
        "import pandas as pd\n",
        "import numpy as np\n",
        "import matplotlib.pyplot as plt\n",
        "from scipy.spatial.distance import hamming, jaccard\n",
        "\n",
        "from diffmx import plot, compare\n",
        "from diffmx.utils import nd, yex\n",
        "\n",
        "fsize = 18\n",
        "\n",
        "plt.rcParams.update({'font.size': fsize})\n",
        "\n",
        "%config InlineBackend.figure_format = 'retina'\n",
        "\n",
        "colors = {\n",
        "    \"kb\": \"black\",\n",
        "    \"ts\": \"red\"\n",
        "}"
      ],
      "execution_count": 2,
      "outputs": []
    },
    {
      "cell_type": "code",
      "source": [
        "import sys\n",
        "COLAB = \"google.colab\" in sys.modules"
      ],
      "metadata": {
        "id": "9frr3_9JrmPZ"
      },
      "execution_count": 3,
      "outputs": []
    },
    {
      "cell_type": "code",
      "metadata": {
        "id": "5aBofE_1SER9"
      },
      "source": [
        "path = \"kite/counts_unfiltered/adata.h5ad\"\n",
        "if COLAB:\n",
        "  path = \"/content/counts_unfiltered/adata.h5ad\"\n",
        "\n",
        "raw_kb = anndata.read_h5ad(path)\n",
        "raw_kb.var = raw_kb.var.rename(columns={\"gene_name\": \"feature_name\"})"
      ],
      "execution_count": 4,
      "outputs": []
    },
    {
      "cell_type": "code",
      "metadata": {
        "id": "dWnOpGYE4hVt"
      },
      "source": [
        "ts_data_path = \"/home/sina/projects/kite/BMGP_2020/data/tapseq/ref/GSM4012688_TASC_DIFFEX_sample1.pertStatus.csv.gz\"\n",
        "if COLAB:\n",
        "  ts_data_path = \"/content/BMGP_2020/data/tapseq/ref/GSM4012688_TASC_DIFFEX_sample1.pertStatus.csv.gz\"\n",
        "ts_data = pd.read_csv(ts_data_path, index_col=0)"
      ],
      "execution_count": 5,
      "outputs": []
    },
    {
      "cell_type": "code",
      "metadata": {
        "id": "bMM9zoR14hVu"
      },
      "source": [
        "gene_names = pd.DataFrame(index=ts_data.index.values)\n",
        "barcode_names = pd.DataFrame(index = np.array([x.split(\"-\")[-1] for x in ts_data.columns.values]))\n",
        "mtx = ts_data.values.T"
      ],
      "execution_count": 6,
      "outputs": []
    },
    {
      "cell_type": "code",
      "metadata": {
        "id": "aiKQgpcD4hVu",
        "outputId": "3a8c7b41-714b-48d1-cef4-b7d0d31b5342",
        "colab": {
          "base_uri": "https://localhost:8080/"
        }
      },
      "source": [
        "raw_ts = anndata.AnnData(X=mtx.astype(int), obs=barcode_names, var = gene_names)"
      ],
      "execution_count": 7,
      "outputs": [
        {
          "output_type": "stream",
          "name": "stderr",
          "text": [
            "/usr/local/lib/python3.7/dist-packages/ipykernel_launcher.py:1: FutureWarning: X.dtype being converted to np.float32 from int64. In the next version of anndata (0.9) conversion will not be automatic. Pass dtype explicitly to avoid this warning. Pass `AnnData(X, dtype=X.dtype, ...)` to get the future behavour.\n",
            "  \"\"\"Entry point for launching an IPython kernel.\n"
          ]
        }
      ]
    },
    {
      "cell_type": "code",
      "metadata": {
        "id": "6Tk4O8Yt4hVu"
      },
      "source": [
        "raw_ts.var[\"feature_name\"] = raw_ts.var.index.map(name_map)\n",
        "raw_ts.var[\"feature_name_details\"] = raw_ts.var.index.values\n",
        "raw_ts.var.index = raw_ts.var[\"feature_name\"]"
      ],
      "execution_count": 8,
      "outputs": []
    },
    {
      "cell_type": "code",
      "metadata": {
        "id": "QszCFmXUWzEr"
      },
      "source": [
        "common = np.intersect1d(np.intersect1d(raw_ts.obs.index.values, raw_kb.obs.index.values), barcode_names.index.values)"
      ],
      "execution_count": 9,
      "outputs": []
    },
    {
      "cell_type": "code",
      "metadata": {
        "id": "qQXEJi2mXWvz"
      },
      "source": [
        "kb = raw_kb[raw_kb.obs.index.isin(common)]\n",
        "ts = raw_ts[raw_ts.obs.index.isin(common)]"
      ],
      "execution_count": 10,
      "outputs": []
    },
    {
      "cell_type": "code",
      "metadata": {
        "colab": {
          "base_uri": "https://localhost:8080/"
        },
        "id": "04OEL2YgX2jB",
        "outputId": "80afd409-b128-412b-b893-5fe637118f35"
      },
      "source": [
        "print(kb)\n",
        "print(ts)"
      ],
      "execution_count": 11,
      "outputs": [
        {
          "output_type": "stream",
          "name": "stdout",
          "text": [
            "View of AnnData object with n_obs × n_vars = 10860 × 86\n",
            "    var: 'feature_name'\n",
            "View of AnnData object with n_obs × n_vars = 10860 × 86\n",
            "    var: 'feature_name', 'feature_name_details'\n"
          ]
        }
      ]
    },
    {
      "cell_type": "code",
      "metadata": {
        "id": "ZQzEGtdg4hVv"
      },
      "source": [
        "common_genes = np.intersect1d(kb.var.index.values, ts.var.index.values)"
      ],
      "execution_count": 12,
      "outputs": []
    },
    {
      "cell_type": "code",
      "metadata": {
        "id": "GSJyFrJj4hVv"
      },
      "source": [
        "kb = kb[:,kb.var.index.isin(common_genes)].copy()\n",
        "ts = ts[:,ts.var.index.isin(common_genes)].copy()"
      ],
      "execution_count": 13,
      "outputs": []
    },
    {
      "cell_type": "code",
      "metadata": {
        "colab": {
          "base_uri": "https://localhost:8080/"
        },
        "id": "wCk9A_6g4hVv",
        "outputId": "ff0152f2-4acb-491b-d5d9-0e166ce4129e"
      },
      "source": [
        "ts"
      ],
      "execution_count": 14,
      "outputs": [
        {
          "output_type": "execute_result",
          "data": {
            "text/plain": [
              "AnnData object with n_obs × n_vars = 10860 × 86\n",
              "    var: 'feature_name', 'feature_name_details'"
            ]
          },
          "metadata": {},
          "execution_count": 14
        }
      ]
    },
    {
      "cell_type": "code",
      "metadata": {
        "colab": {
          "base_uri": "https://localhost:8080/"
        },
        "id": "GUKRNgkp4hVw",
        "outputId": "54efc64b-d31e-4d2e-e9e1-999d6aa04837"
      },
      "source": [
        "print(kb)\n",
        "print(ts)"
      ],
      "execution_count": 15,
      "outputs": [
        {
          "output_type": "stream",
          "name": "stdout",
          "text": [
            "AnnData object with n_obs × n_vars = 10860 × 86\n",
            "    var: 'feature_name'\n",
            "AnnData object with n_obs × n_vars = 10860 × 86\n",
            "    var: 'feature_name', 'feature_name_details'\n"
          ]
        }
      ]
    },
    {
      "cell_type": "code",
      "metadata": {
        "colab": {
          "base_uri": "https://localhost:8080/"
        },
        "id": "RlvjP7TC4hVw",
        "outputId": "48a91f2d-cdd5-4cae-b865-3989dd577c0f"
      },
      "source": [
        "False in (kb.obs.index.values == ts.obs.index.values)"
      ],
      "execution_count": 16,
      "outputs": [
        {
          "output_type": "execute_result",
          "data": {
            "text/plain": [
              "False"
            ]
          },
          "metadata": {},
          "execution_count": 16
        }
      ]
    },
    {
      "cell_type": "code",
      "metadata": {
        "colab": {
          "base_uri": "https://localhost:8080/"
        },
        "id": "acJVY9Ne4hVw",
        "outputId": "d1ef8f8a-617b-459a-c811-afba9a63ffb7"
      },
      "source": [
        "False in (kb.var.index.values == ts.var.index.values)"
      ],
      "execution_count": 17,
      "outputs": [
        {
          "output_type": "execute_result",
          "data": {
            "text/plain": [
              "True"
            ]
          },
          "metadata": {},
          "execution_count": 17
        }
      ]
    },
    {
      "cell_type": "code",
      "metadata": {
        "id": "PpNBqmuV4hVw"
      },
      "source": [
        "kb = kb[:,~kb.var.feature_name.str.contains(\"Non-Targeting\")].copy()\n",
        "ts = ts[:,~ts.var.feature_name.str.contains(\"Non-Targeting\")].copy()"
      ],
      "execution_count": 18,
      "outputs": []
    },
    {
      "cell_type": "code",
      "metadata": {
        "id": "44U21p684hVx"
      },
      "source": [
        "kb = kb[:,kb.var.sort_index().index]\n",
        "ts = ts[:,ts.var.sort_index().index]"
      ],
      "execution_count": 19,
      "outputs": []
    },
    {
      "cell_type": "code",
      "metadata": {
        "colab": {
          "base_uri": "https://localhost:8080/"
        },
        "id": "F724HuaS4hVx",
        "outputId": "586f5f29-efe9-4460-92e5-1a40d2949a60"
      },
      "source": [
        "False in (kb.obs.index.values == ts.obs.index.values)"
      ],
      "execution_count": 20,
      "outputs": [
        {
          "output_type": "execute_result",
          "data": {
            "text/plain": [
              "False"
            ]
          },
          "metadata": {},
          "execution_count": 20
        }
      ]
    },
    {
      "cell_type": "code",
      "metadata": {
        "colab": {
          "base_uri": "https://localhost:8080/"
        },
        "id": "L1fKj3mE4hVx",
        "outputId": "5d50ad63-e81a-45d0-e80c-cbfcd562a8ff"
      },
      "source": [
        "False in (kb.var.index.values == ts.var.index.values)"
      ],
      "execution_count": 21,
      "outputs": [
        {
          "output_type": "execute_result",
          "data": {
            "text/plain": [
              "False"
            ]
          },
          "metadata": {},
          "execution_count": 21
        }
      ]
    },
    {
      "cell_type": "code",
      "metadata": {
        "colab": {
          "base_uri": "https://localhost:8080/"
        },
        "id": "C877s0W94hVx",
        "outputId": "e40cee40-196a-43a8-cfb4-e13c2412dda4"
      },
      "source": [
        "print(kb)\n",
        "print(ts)"
      ],
      "execution_count": 22,
      "outputs": [
        {
          "output_type": "stream",
          "name": "stdout",
          "text": [
            "View of AnnData object with n_obs × n_vars = 10860 × 86\n",
            "    var: 'feature_name'\n",
            "View of AnnData object with n_obs × n_vars = 10860 × 86\n",
            "    var: 'feature_name', 'feature_name_details'\n"
          ]
        }
      ]
    },
    {
      "cell_type": "code",
      "metadata": {
        "id": "9f0hZo2U4hVx"
      },
      "source": [
        "kb.layers[\"assignment\"] = (kb.X>8).astype(int)"
      ],
      "execution_count": 23,
      "outputs": []
    },
    {
      "cell_type": "code",
      "metadata": {
        "id": "RH_58Z0V4hVy"
      },
      "source": [
        "ts.X = ts.X.astype(int)"
      ],
      "execution_count": 24,
      "outputs": []
    },
    {
      "cell_type": "code",
      "metadata": {
        "id": "yjO4xC4z9veE"
      },
      "source": [
        "kb.layers[0] = kb.layers[\"assignment\"]\n",
        "kb.layers[1] = ts.X\n",
        "\n",
        "# kb.write_h5ad(\"tapseq.h5ad\")"
      ],
      "execution_count": 25,
      "outputs": []
    },
    {
      "cell_type": "markdown",
      "metadata": {
        "id": "nln-xLddYHwF"
      },
      "source": [
        "# Visualizations"
      ]
    },
    {
      "cell_type": "markdown",
      "metadata": {
        "id": "uGRvrYFE4hVy"
      },
      "source": [
        "### hamming"
      ]
    },
    {
      "cell_type": "code",
      "metadata": {
        "id": "26JYgVkm4hVy"
      },
      "source": [
        "ham = np.array([hamming(kb.layers[\"assignment\"][i].todense(), ts.X[i]) for i in range(kb.shape[0])])\n",
        "jac = np.array([jaccard(kb.layers[\"assignment\"][i].todense(), ts.X[i]) for i in range(kb.shape[0])])"
      ],
      "execution_count": 26,
      "outputs": []
    },
    {
      "cell_type": "code",
      "metadata": {
        "colab": {
          "base_uri": "https://localhost:8080/"
        },
        "id": "PAx3372J6cSi",
        "outputId": "8881d677-db2d-40a1-c104-d53f397c68dc"
      },
      "source": [
        "pd.Series(jac).value_counts()"
      ],
      "execution_count": 27,
      "outputs": [
        {
          "output_type": "execute_result",
          "data": {
            "text/plain": [
              "0.000000    10621\n",
              "1.000000      181\n",
              "0.500000       47\n",
              "0.333333        9\n",
              "0.250000        1\n",
              "0.200000        1\n",
              "dtype: int64"
            ]
          },
          "metadata": {},
          "execution_count": 27
        }
      ]
    },
    {
      "cell_type": "code",
      "metadata": {
        "colab": {
          "base_uri": "https://localhost:8080/"
        },
        "id": "NTrac3msUsNt",
        "outputId": "377f5362-2060-4392-d42e-ad9c6d2298b1"
      },
      "source": [
        "pd.Series(jac).value_counts()/pd.Series(jac).value_counts().values.sum()*100"
      ],
      "execution_count": 28,
      "outputs": [
        {
          "output_type": "execute_result",
          "data": {
            "text/plain": [
              "0.000000    97.799263\n",
              "1.000000     1.666667\n",
              "0.500000     0.432781\n",
              "0.333333     0.082873\n",
              "0.250000     0.009208\n",
              "0.200000     0.009208\n",
              "dtype: float64"
            ]
          },
          "metadata": {},
          "execution_count": 28
        }
      ]
    },
    {
      "cell_type": "code",
      "metadata": {
        "id": "xjx8RD4WI4Qs",
        "outputId": "5a6840f6-b3ca-4a26-b05a-687d51da0794",
        "colab": {
          "base_uri": "https://localhost:8080/"
        }
      },
      "source": [
        "kb[jac!=1].X.sum(1).mean()"
      ],
      "execution_count": 29,
      "outputs": [
        {
          "output_type": "execute_result",
          "data": {
            "text/plain": [
              "57.979588"
            ]
          },
          "metadata": {},
          "execution_count": 29
        }
      ]
    },
    {
      "cell_type": "code",
      "metadata": {
        "id": "wqslwJqLJK9f",
        "outputId": "0ae71054-1e51-4e63-db41-037aec9c64d8",
        "colab": {
          "base_uri": "https://localhost:8080/"
        }
      },
      "source": [
        "kb[jac==1].X.sum(1).mean()"
      ],
      "execution_count": 30,
      "outputs": [
        {
          "output_type": "execute_result",
          "data": {
            "text/plain": [
              "7.154696"
            ]
          },
          "metadata": {},
          "execution_count": 30
        }
      ]
    },
    {
      "cell_type": "code",
      "metadata": {
        "id": "bxary9W8JiH8",
        "outputId": "20fbe951-407b-4be0-c6dc-42f6404e4b60",
        "colab": {
          "base_uri": "https://localhost:8080/"
        }
      },
      "source": [
        "kb[np.logical_or(jac!=1, jac!=0)].X.sum(1).mean()"
      ],
      "execution_count": 31,
      "outputs": [
        {
          "output_type": "execute_result",
          "data": {
            "text/plain": [
              "57.132504"
            ]
          },
          "metadata": {},
          "execution_count": 31
        }
      ]
    },
    {
      "cell_type": "code",
      "metadata": {
        "id": "2RsJLq8CJp5G",
        "outputId": "19cdade1-b849-4dec-d94a-ddaf777e9c9b",
        "colab": {
          "base_uri": "https://localhost:8080/"
        }
      },
      "source": [
        " 0.432781 +0.082873 +0.009208 +0.009208"
      ],
      "execution_count": 32,
      "outputs": [
        {
          "output_type": "execute_result",
          "data": {
            "text/plain": [
              "0.53407"
            ]
          },
          "metadata": {},
          "execution_count": 32
        }
      ]
    },
    {
      "cell_type": "markdown",
      "metadata": {
        "id": "mwJSzvSObv_D"
      },
      "source": [
        "## Knee"
      ]
    },
    {
      "cell_type": "markdown",
      "metadata": {
        "id": "MB-gU-APbxql"
      },
      "source": [
        "## pseudobulk"
      ]
    },
    {
      "cell_type": "code",
      "metadata": {
        "colab": {
          "base_uri": "https://localhost:8080/",
          "height": 371
        },
        "id": "ONOCdJivbz5_",
        "outputId": "117bd2df-2ac3-49ac-e308-795382f91227"
      },
      "source": [
        "fig, ax = plt.subplots(figsize=(5,5))\n",
        "\n",
        "x0, x1 = compare.cmp_sum(kb.layers[\"assignment\"], ts.X)\n",
        "plot.cmp_sum(x0, x1, ax=ax, alpha=0.5)\n",
        "\n",
        "fig.show()"
      ],
      "execution_count": 33,
      "outputs": [
        {
          "output_type": "display_data",
          "data": {
            "text/plain": [
              "<Figure size 360x360 with 1 Axes>"
            ],
            "image/png": "[encoded data removed]"
          },
          "metadata": {
            "image/png": {
              "width": 345,
              "height": 354
            },
            "needs_background": "light"
          }
        }
      ]
    },
    {
      "cell_type": "markdown",
      "metadata": {
        "id": "27qh0HjE4hV2"
      },
      "source": [
        "# Pseudobulk - cell"
      ]
    },
    {
      "cell_type": "code",
      "metadata": {
        "colab": {
          "base_uri": "https://localhost:8080/",
          "height": 371
        },
        "id": "iKOKKDAO4hV2",
        "outputId": "956babce-95a2-4651-9150-2af46bceca33"
      },
      "source": [
        "fig, ax = plt.subplots(figsize=(5,5))\n",
        "\n",
        "x0, x1 = compare.cmp_sum(kb.layers[\"assignment\"], ts.X, axis=1)\n",
        "plot.cmp_sum(x0, x1, ax=ax, alpha=0.5)\n",
        "\n",
        "fig.show()"
      ],
      "execution_count": 34,
      "outputs": [
        {
          "output_type": "display_data",
          "data": {
            "text/plain": [
              "<Figure size 360x360 with 1 Axes>"
            ],
            "image/png": "[encoded data removed]"
          },
          "metadata": {
            "image/png": {
              "width": 377,
              "height": 354
            },
            "needs_background": "light"
          }
        }
      ]
    },
    {
      "cell_type": "code",
      "metadata": {
        "id": "gEmekGyDERjY"
      },
      "source": [],
      "execution_count": 34,
      "outputs": []
    }
  ]
}