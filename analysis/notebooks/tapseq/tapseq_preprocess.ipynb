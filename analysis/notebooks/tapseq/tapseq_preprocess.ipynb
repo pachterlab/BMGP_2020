{
 "cells": [
  {
   "cell_type": "code",
   "execution_count": 1,
   "id": "received-criminal",
   "metadata": {},
   "outputs": [
    {
     "name": "stdout",
     "output_type": "stream",
     "text": [
      "Tue Apr 27 11:45:40 PDT 2021\n"
     ]
    }
   ],
   "source": [
    "!date"
   ]
  },
  {
   "cell_type": "code",
   "execution_count": 9,
   "id": "informational-asthma",
   "metadata": {},
   "outputs": [
    {
     "name": "stdout",
     "output_type": "stream",
     "text": [
      "{\n",
      "    \"accession\": \"SRR9916613\",\n",
      "    \"experiment\": {\n",
      "        \"accession\": \"SRX6665859\",\n",
      "        \"title\": \"NextSeq 500 paired end sequencing; GSM4012688: TASC_DIFFEX, sample 1; Homo sapiens; RNA-Seq\",\n",
      "        \"platform\": \"ILLUMINA\",\n",
      "        \"instrument\": \"NextSeq 500\"\n",
      "    },\n",
      "    \"study\": {\n",
      "        \"accession\": \"SRP217685\",\n",
      "        \"title\": \"Targeted single-cell transcriptome readouts for high-throughput genetics and functional genomics\",\n",
      "        \"abstract\": \"We show that targeted single-cell RNA-sequencing (TAP-seq) permits reliable mapping of cell (sub)types with as little as 100 reads per cell and reduces the sequencing costs for differential expression testing by a factor of 10-30, thereby enabling a cost-effective profiling of a large number of genotypes at the single cell level. We demonstrate the use of TAP-seq by generating comprehensive perturbation-based enhancer-target gene maps for 1.5% of the human genome. Overall design: The performance of targeted single-cell RNA-seq (TAP) was compared to whole transcriptome seq (WTX) in various scenarios (for detail, refer to sample description): - TAP_DEEP: Comparison of targeting panels, targeted seq (deeply sequenced) - WTX_REF: Unperturbed K562 reference, whole Tx - TAP_CT: Cell type mapping (mouse bone marrow panel), targeted seq. - WTX_CT: Cell type mapping, whole Tx - see series GSE122465 - TAP_DIFFEX: Dataset for evaluation of differential expression, targeted seq. - WTX_DIFFEX: Dataset for evaluation of differential expression, whole tx. - TAP_SCREEN: Enhancer screen on chromosome 8 and 11, targeted seq. Additional datasets (supplement only): - TAP_TAR: Initial test experiments - TAP_REDESIGN: Redesign of Targeting panel 2\"\n",
      "    },\n",
      "    \"sample\": {\n",
      "        \"accession\": \"SRS5225664\",\n",
      "        \"title\": \"TAP_DIFFEX, sample 1\",\n",
      "        \"organism\": \"Homo sapiens\",\n",
      "        \"attributes\": {\n",
      "            \"source_name\": \"K562 dCas9-KRAB\",\n",
      "            \"cell line\": \"K562 Cell line\",\n",
      "            \"targeting panel\": \"Chromosome 8 panel\",\n",
      "            \"perturbations\": \"Control perturbations\",\n",
      "            \"ENA-SPOT-COUNT\": \"41712373\",\n",
      "            \"ENA-BASE-COUNT\": \"3503839332\",\n",
      "            \"ENA-FIRST-PUBLIC\": \"2020-03-24\",\n",
      "            \"ENA-LAST-UPDATE\": \"2020-03-25\"\n",
      "        }\n",
      "    },\n",
      "    \"title\": \"NextSeq 500 paired end sequencing; GSM4012688: TASC_DIFFEX, sample 1; Homo sapiens; RNA-Seq\",\n",
      "    \"files\": [\n",
      "        {\n",
      "            \"url\": \"ftp://ftp.sra.ebi.ac.uk/vol1/fastq/SRR991/003/SRR9916613/SRR9916613_1.fastq.gz\",\n",
      "            \"md5\": \"00b566e49e4ba511a44e051fbc54ab24\",\n",
      "            \"size\": \"825262568\"\n",
      "        },\n",
      "        {\n",
      "            \"url\": \"ftp://ftp.sra.ebi.ac.uk/vol1/fastq/SRR991/003/SRR9916613/SRR9916613_2.fastq.gz\",\n",
      "            \"md5\": \"56f33bbbc2774742fbdd408be8d37256\",\n",
      "            \"size\": \"1261114788\"\n",
      "        }\n",
      "    ]\n",
      "}"
     ]
    }
   ],
   "source": []
  },
  {
   "cell_type": "code",
   "execution_count": 5,
   "id": "subtle-output",
   "metadata": {},
   "outputs": [
    {
     "name": "stdout",
     "output_type": "stream",
     "text": [
      "    },\n",
      "    \"title\": \"NextSeq 500 paired end sequencing; GSM4012688: TASC_DIFFEX, sample 1; Homo sapiens; RNA-Seq\",\n",
      "    \"files\": [\n",
      "        {\n",
      "            \"url\": \"ftp://ftp.sra.ebi.ac.uk/vol1/fastq/SRR991/003/SRR9916613/SRR9916613_1.fastq.gz\",\n",
      "            \"md5\": \"00b566e49e4ba511a44e051fbc54ab24\",\n",
      "            \"size\": \"825262568\"\n",
      "        },\n",
      "        {\n",
      "            \"url\": \"ftp://ftp.sra.ebi.ac.uk/vol1/fastq/SRR991/003/SRR9916613/SRR9916613_2.fastq.gz\",\n",
      "            \"md5\": \"56f33bbbc2774742fbdd408be8d37256\",\n",
      "            \"size\": \"1261114788\"\n",
      "        }\n",
      "    ]\n",
      "}"
     ]
    }
   ],
   "source": [
    "!tail -15 ../../../references/tapseq/TAP_DIFFEX/SRR9916613.json"
   ]
  },
  {
   "cell_type": "code",
   "execution_count": 6,
   "id": "saved-funeral",
   "metadata": {},
   "outputs": [
    {
     "name": "stdout",
     "output_type": "stream",
     "text": [
      "    },\n",
      "    \"title\": \"NextSeq 500 paired end sequencing; GSM4012689: TASC_DIFFEX, sample 2; Homo sapiens; RNA-Seq\",\n",
      "    \"files\": [\n",
      "        {\n",
      "            \"url\": \"ftp://ftp.sra.ebi.ac.uk/vol1/fastq/SRR991/004/SRR9916614/SRR9916614_1.fastq.gz\",\n",
      "            \"md5\": \"94b923c0a629058cc374879289f70c60\",\n",
      "            \"size\": \"815990487\"\n",
      "        },\n",
      "        {\n",
      "            \"url\": \"ftp://ftp.sra.ebi.ac.uk/vol1/fastq/SRR991/004/SRR9916614/SRR9916614_2.fastq.gz\",\n",
      "            \"md5\": \"1fa1c974998d70a8d6f1fc286ff533ab\",\n",
      "            \"size\": \"1259156375\"\n",
      "        }\n",
      "    ]\n",
      "}"
     ]
    }
   ],
   "source": [
    "!tail -15 ../../../references/tapseq/TAP_DIFFEX/SRR9916614.json"
   ]
  },
  {
   "cell_type": "markdown",
   "id": "advance-employee",
   "metadata": {},
   "source": [
    "# Install packages and download data"
   ]
  },
  {
   "cell_type": "code",
   "execution_count": 7,
   "id": "global-applicant",
   "metadata": {},
   "outputs": [],
   "source": [
    "import sys\n",
    "COLAB = \"google.colab\" in sys.modules\n"
   ]
  },
  {
   "cell_type": "code",
   "execution_count": 12,
   "id": "cross-howard",
   "metadata": {},
   "outputs": [
    {
     "name": "stdout",
     "output_type": "stream",
     "text": [
      "Cloning into 'BMGP_2020'...\n",
      "remote: Enumerating objects: 75, done.\u001b[K\n",
      "remote: Counting objects: 100% (75/75), done.\u001b[K\n",
      "remote: Compressing objects: 100% (61/61), done.\u001b[K\n",
      "remote: Total 75 (delta 16), reused 67 (delta 8), pack-reused 0\u001b[K\n",
      "Unpacking objects: 100% (75/75), done.\n"
     ]
    }
   ],
   "source": [
    "if COLAB:\n",
    "    !git clone https://github.com/sbooeshaghi/BMGP_2020.git"
   ]
  },
  {
   "cell_type": "code",
   "execution_count": 4,
   "id": "continental-plasma",
   "metadata": {},
   "outputs": [],
   "source": [
    "if COLAB:\n",
    "    !pip install --quiet \\\n",
    "    kb-python==0.26.0 \\\n",
    "    anndata==0.7.6 \\\n"
   ]
  },
  {
   "cell_type": "code",
   "execution_count": 5,
   "id": "mature-jaguar",
   "metadata": {},
   "outputs": [
    {
     "name": "stdout",
     "output_type": "stream",
     "text": [
      "cellranger-6.0.1.ta 100%[===================>]   1.01G  37.7MB/s    in 26s     \n"
     ]
    }
   ],
   "source": [
    "if COLAB:\n",
    "    # download cellranger (30sec)\n",
    "    !wget -O cellranger-6.0.1.tar.gz \\\n",
    "    -q --show-progress --progress=bar:force  \\\n",
    "    \"https://cf.10xgenomics.com/releases/cell-exp/cellranger-6.0.1.tar.gz?Expires=1619593023&Policy=eyJTdGF0ZW1lbnQiOlt7IlJlc291cmNlIjoiaHR0cHM6Ly9jZi4xMHhnZW5vbWljcy5jb20vcmVsZWFzZXMvY2VsbC1leHAvY2VsbHJhbmdlci02LjAuMS50YXIuZ3oiLCJDb25kaXRpb24iOnsiRGF0ZUxlc3NUaGFuIjp7IkFXUzpFcG9jaFRpbWUiOjE2MTk1OTMwMjN9fX1dfQ__&Signature=EfUmpmiiOtatL9nfNGsODQnSC2a5GmvKesMiVee~04H2ndGVBNkLGB7uWuU3c1NvgG5R1GMk6MYNaPcTaF100IPncjjnFFot7qawOb1LiZQx7sxXLlDfyEPr4TshlXdwzVkU8DX1yZeq82iHVc3etUHiugVLVttUW7wrfd1do35jVoJzjHacWeFGBS6CWvFpvAhNsT29-YULeJRDbdYe~TYhjsKnl1BVWSQzKUtdNsrsiPgXAnAf4GsNmEDNA~b~Gnwyubs3cGGna4TDXw65IcoduOHcIxOMHlhgX5wIabfcMZx3i9Jaw7TpwFxRHHEpoFftHuEsGHs1lusxB8pKYQ__&Key-Pair-Id=APKAI7S6A5RYOXBWRPDA\" \\\n",
    "    2>&1\n",
    "    \n",
    "    !tar -xf cellranger-6.0.1.tar.gz\n",
    "\n",
    "    \n",
    "    # download cellranger reference (5min)\n",
    "    !wget \\\n",
    "    -q --show-progress --progress=bar:force  \\\n",
    "    https://cf.10xgenomics.com/supp/cell-exp/refdata-gex-GRCh38-2020-A.tar.gz \\\n",
    "    2>&1\n",
    "    \n",
    "    !tar -xf refdata-gex-GRCh38-2020-A.tar.gz\n"
   ]
  },
  {
   "cell_type": "code",
   "execution_count": 29,
   "id": "nominated-radar",
   "metadata": {},
   "outputs": [],
   "source": [
    "%%bash\n",
    "source cellranger-6.0.1/sourceme.bash"
   ]
  },
  {
   "cell_type": "code",
   "execution_count": 8,
   "id": "creative-pastor",
   "metadata": {},
   "outputs": [
    {
     "name": "stdout",
     "output_type": "stream",
     "text": [
      "SRR9916613_1.fastq. 100%[===================>] 787.03M  4.93MB/s    in 2m 59s  \n",
      "SRR9916613_2.fastq. 100%[===================>]   1.17G  7.45MB/s    in 3m 49s  \n"
     ]
    }
   ],
   "source": [
    "!mkdir -p fastqs\n",
    "if COLAB:\n",
    "    # download the relevant data\n",
    "    !wget -O fastqs/SRR9916613_R1.fastq.gz \\\n",
    "    -q --show-progress --progress=bar:force  \\\n",
    "    ftp://ftp.sra.ebi.ac.uk/vol1/fastq/SRR991/003/SRR9916613/SRR9916613_1.fastq.gz \\\n",
    "    2>&1\n",
    "\n",
    "    # download the relevant data\n",
    "    !wget -O fastqs/SRR9916613_R2.fastq.gz \\\n",
    "    -q --show-progress --progress=bar:force  \\\n",
    "    ftp://ftp.sra.ebi.ac.uk/vol1/fastq/SRR991/003/SRR9916613/SRR9916613_2.fastq.gz \\\n",
    "    2>&1"
   ]
  },
  {
   "cell_type": "code",
   "execution_count": null,
   "id": "western-starter",
   "metadata": {},
   "outputs": [],
   "source": [
    "# targets gene in panel 2 (panel_2_chr8.csv)\n",
    "# uses guide RNA from control perturbations chr8 (gRNA_chr8_control.csv)"
   ]
  },
  {
   "cell_type": "markdown",
   "id": "auburn-island",
   "metadata": {},
   "source": [
    "# Preprocess with kb"
   ]
  },
  {
   "cell_type": "code",
   "execution_count": null,
   "id": "relevant-framework",
   "metadata": {},
   "outputs": [],
   "source": []
  },
  {
   "cell_type": "code",
   "execution_count": 14,
   "id": "changing-earthquake",
   "metadata": {},
   "outputs": [
    {
     "name": "stdout",
     "output_type": "stream",
     "text": [
      "[2021-06-09 12:17:57,130]    INFO Generating mismatch FASTA at ../../../references/tapseq/kite/features.fa\n",
      "[2021-06-09 12:17:57,154] WARNING Detected barcodes of different lengths: 19,20\n",
      "[2021-06-09 12:17:57,182]    INFO Creating transcript-to-gene mapping at ../../../references/tapseq/kite/f2b.txt\n",
      "[2021-06-09 12:17:57,219]    INFO Indexing ../../../references/tapseq/kite/features.fa to ../../../references/tapseq/kite/features.idx\n",
      "CPU times: user 18 ms, sys: 19.4 ms, total: 37.3 ms\n",
      "Wall time: 1.79 s\n"
     ]
    }
   ],
   "source": [
    "%%time\n",
    "# !FB=\"BMGP_2020/references/tapseq/kite/feature_barcodes.txt\" && \\\n",
    "# INDEX=\"BMGP_2020/references/tapseq/kite/features.idx\" && \\\n",
    "# F2B=\"BMGP_2020/references/tapseq/kite/f2b.txt\" && \\\n",
    "# FASTA=\"BMGP_2020/references/tapseq/kite/features.fa\" && \\\n",
    "!FB=\"../../../references/tapseq/kite/feature_barcodes.txt\" && \\\n",
    "INDEX=\"../../../references/tapseq/kite/features.idx\" && \\\n",
    "F2B=\"../../../references/tapseq/kite/f2b.txt\" && \\\n",
    "FASTA=\"../../../references/tapseq/kite/features.fa\" && \\\n",
    "kb ref \\\n",
    "-i $INDEX \\\n",
    "-g $F2B \\\n",
    "-f1 $FASTA \\\n",
    "--workflow kite \\\n",
    "$FB"
   ]
  },
  {
   "cell_type": "code",
   "execution_count": 15,
   "id": "recent-lodge",
   "metadata": {},
   "outputs": [
    {
     "name": "stderr",
     "output_type": "stream",
     "text": [
      "[2021-06-09 12:19:10,908]    INFO Using index ../../../references/tapseq/kite/features.idx to generate BUS file to kite from\n",
      "[2021-06-09 12:19:10,908]    INFO         fastqs/SRR9916613_R1.fastq.gz\n",
      "[2021-06-09 12:19:10,909]    INFO         fastqs/SRR9916613_R2.fastq.gz\n",
      "[2021-06-09 12:20:05,695]    INFO Sorting BUS file kite/output.bus to kite/tmp/output.s.bus\n",
      "[2021-06-09 12:20:09,318]    INFO Whitelist not provided\n",
      "[2021-06-09 12:20:09,319]    INFO Copying pre-packaged 10XV2 whitelist to kite\n",
      "[2021-06-09 12:20:09,408]    INFO Inspecting BUS file kite/tmp/output.s.bus\n",
      "[2021-06-09 12:20:09,772]    INFO Correcting BUS records in kite/tmp/output.s.bus to kite/tmp/output.s.c.bus with whitelist kite/10xv2_whitelist.txt\n",
      "[2021-06-09 12:20:10,362]    INFO Sorting BUS file kite/tmp/output.s.c.bus to kite/output.unfiltered.bus\n",
      "[2021-06-09 12:20:13,306]    INFO Generating count matrix kite/counts_unfiltered/cells_x_genes from BUS file kite/output.unfiltered.bus\n",
      "[2021-06-09 12:20:13,567]    INFO Reading matrix kite/counts_unfiltered/cells_x_genes.mtx\n",
      "[2021-06-09 12:20:13,762]    INFO Writing matrix to h5ad kite/counts_unfiltered/adata.h5ad\n",
      "[2021-06-09 12:20:13,798]    INFO Filtering with bustools\n",
      "[2021-06-09 12:20:13,798]    INFO Generating whitelist kite/filter_barcodes.txt from BUS file kite/output.unfiltered.bus\n",
      "[2021-06-09 12:20:13,827]    INFO Correcting BUS records in kite/output.unfiltered.bus to kite/tmp/output.unfiltered.c.bus with whitelist kite/filter_barcodes.txt\n",
      "[2021-06-09 12:20:14,062]    INFO Sorting BUS file kite/tmp/output.unfiltered.c.bus to kite/output.filtered.bus\n",
      "[2021-06-09 12:20:16,954]    INFO Generating count matrix kite/counts_filtered/cells_x_genes from BUS file kite/output.filtered.bus\n",
      "[2021-06-09 12:20:17,069]    INFO Reading matrix kite/counts_filtered/cells_x_genes.mtx\n",
      "[2021-06-09 12:20:17,134]    INFO Writing matrix to h5ad kite/counts_filtered/adata.h5ad\n"
     ]
    }
   ],
   "source": [
    "%%bash\n",
    "# FB=\"BMGP_2020/references/10xFB_5k_pbmc_v3/kite/feature_barcodes.txt\" && \\\n",
    "# INDEX=\"BMGP_2020/references/10xFB_5k_pbmc_v3/kite/features.idx\" && \\\n",
    "# F2B=\"BMGP_2020/references/10xFB_5k_pbmc_v3/kite/f2b.txt\" && \\\n",
    "# FASTA=\"BMGP_2020/references/10xFB_5k_pbmc_v3/kite/features.fa\" && \\\n",
    "FB=\"../../../references/tapseq/kite/feature_barcodes.txt\" && \\\n",
    "INDEX=\"../../../references/tapseq/kite/features.idx\" && \\\n",
    "F2B=\"../../../references/tapseq/kite/f2b.txt\" && \\\n",
    "FASTA=\"../../../references/tapseq/kite/features.fa\" && \\\n",
    "OUT=\"kite\" && \\\n",
    "FASTQS=$(FASTQDIR=\"fastqs/\" && paste -d\" \" \\\n",
    "<(ls $FASTQDIR | awk -v p=$FASTQDIR '{print p$0}' | grep R1) \\\n",
    "<(ls $FASTQDIR | awk -v p=$FASTQDIR '{print p$0}' | grep R2)) && \\\n",
    "kb count \\\n",
    "-i $INDEX \\\n",
    "-g $F2B \\\n",
    "-x 10xv2 \\\n",
    "-o $OUT \\\n",
    "--h5ad \\\n",
    "--filter bustools \\\n",
    "$FASTQS"
   ]
  }
 ],
 "metadata": {
  "kernelspec": {
   "display_name": "Python 3",
   "language": "python",
   "name": "python3"
  },
  "language_info": {
   "codemirror_mode": {
    "name": "ipython",
    "version": 3
   },
   "file_extension": ".py",
   "mimetype": "text/x-python",
   "name": "python",
   "nbconvert_exporter": "python",
   "pygments_lexer": "ipython3",
   "version": "3.7.4"
  }
 },
 "nbformat": 4,
 "nbformat_minor": 5
}
