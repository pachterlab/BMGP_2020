{
  "nbformat": 4,
  "nbformat_minor": 5,
  "metadata": {
    "kernelspec": {
      "display_name": "Python 3",
      "language": "python",
      "name": "python3"
    },
    "language_info": {
      "codemirror_mode": {
        "name": "ipython",
        "version": 3
      },
      "file_extension": ".py",
      "mimetype": "text/x-python",
      "name": "python",
      "nbconvert_exporter": "python",
      "pygments_lexer": "ipython3",
      "version": "3.7.4"
    },
    "colab": {
      "name": "tapseq_preprocess.ipynb",
      "provenance": [],
      "include_colab_link": true
    }
  },
  "cells": [
    {
      "cell_type": "markdown",
      "metadata": {
        "id": "view-in-github",
        "colab_type": "text"
      },
      "source": [
        "<a href=\"https://colab.research.google.com/github/sbooeshaghi/BMGP_2020/blob/main/analysis/notebooks/tapseq/tapseq_preprocess.ipynb\" target=\"_parent\"><img src=\"https://colab.research.google.com/assets/colab-badge.svg\" alt=\"Open In Colab\"/></a>"
      ]
    },
    {
      "cell_type": "code",
      "metadata": {
        "id": "alone-college",
        "outputId": "c1fd0e5d-3cb9-410e-f6f7-ff6740fdfc92",
        "colab": {
          "base_uri": "https://localhost:8080/"
        }
      },
      "source": [
        "!date"
      ],
      "id": "alone-college",
      "execution_count": 1,
      "outputs": [
        {
          "output_type": "stream",
          "text": [
            "Fri Jul 16 18:11:21 UTC 2021\n"
          ],
          "name": "stdout"
        }
      ]
    },
    {
      "cell_type": "markdown",
      "metadata": {
        "id": "excess-rapid"
      },
      "source": [
        "# Install packages and download data"
      ],
      "id": "excess-rapid"
    },
    {
      "cell_type": "code",
      "metadata": {
        "id": "protective-cover"
      },
      "source": [
        "import sys\n",
        "COLAB = \"google.colab\" in sys.modules\n"
      ],
      "id": "protective-cover",
      "execution_count": 2,
      "outputs": []
    },
    {
      "cell_type": "code",
      "metadata": {
        "id": "knowing-lewis",
        "outputId": "f8836ab4-4080-45e3-dbb8-677e8ee6f426",
        "colab": {
          "base_uri": "https://localhost:8080/"
        }
      },
      "source": [
        "if COLAB:\n",
        "    !git clone https://github.com/sbooeshaghi/BMGP_2020.git"
      ],
      "id": "knowing-lewis",
      "execution_count": 3,
      "outputs": [
        {
          "output_type": "stream",
          "text": [
            "Cloning into 'BMGP_2020'...\n",
            "remote: Enumerating objects: 930, done.\u001b[K\n",
            "remote: Counting objects: 100% (113/113), done.\u001b[K\n",
            "remote: Compressing objects: 100% (113/113), done.\u001b[K\n",
            "remote: Total 930 (delta 50), reused 0 (delta 0), pack-reused 817\u001b[K\n",
            "Receiving objects: 100% (930/930), 474.46 MiB | 27.71 MiB/s, done.\n",
            "Resolving deltas: 100% (374/374), done.\n",
            "Checking out files: 100% (154/154), done.\n"
          ],
          "name": "stdout"
        }
      ]
    },
    {
      "cell_type": "code",
      "metadata": {
        "id": "xv_nC0FSg3pv",
        "outputId": "93c5f5bf-9342-48e8-93de-34ef21a6d9c3",
        "colab": {
          "base_uri": "https://localhost:8080/"
        }
      },
      "source": [
        "!cat BMGP_2020/references/tapseq/fastq_links-TAP_DIFFEX/SRR9916613.json"
      ],
      "id": "xv_nC0FSg3pv",
      "execution_count": 5,
      "outputs": [
        {
          "output_type": "stream",
          "text": [
            "{\n",
            "    \"accession\": \"SRR9916613\",\n",
            "    \"experiment\": {\n",
            "        \"accession\": \"SRX6665859\",\n",
            "        \"title\": \"NextSeq 500 paired end sequencing; GSM4012688: TASC_DIFFEX, sample 1; Homo sapiens; RNA-Seq\",\n",
            "        \"platform\": \"ILLUMINA\",\n",
            "        \"instrument\": \"NextSeq 500\"\n",
            "    },\n",
            "    \"study\": {\n",
            "        \"accession\": \"SRP217685\",\n",
            "        \"title\": \"Targeted single-cell transcriptome readouts for high-throughput genetics and functional genomics\",\n",
            "        \"abstract\": \"We show that targeted single-cell RNA-sequencing (TAP-seq) permits reliable mapping of cell (sub)types with as little as 100 reads per cell and reduces the sequencing costs for differential expression testing by a factor of 10-30, thereby enabling a cost-effective profiling of a large number of genotypes at the single cell level. We demonstrate the use of TAP-seq by generating comprehensive perturbation-based enhancer-target gene maps for 1.5% of the human genome. Overall design: The performance of targeted single-cell RNA-seq (TAP) was compared to whole transcriptome seq (WTX) in various scenarios (for detail, refer to sample description): - TAP_DEEP: Comparison of targeting panels, targeted seq (deeply sequenced) - WTX_REF: Unperturbed K562 reference, whole Tx - TAP_CT: Cell type mapping (mouse bone marrow panel), targeted seq. - WTX_CT: Cell type mapping, whole Tx - see series GSE122465 - TAP_DIFFEX: Dataset for evaluation of differential expression, targeted seq. - WTX_DIFFEX: Dataset for evaluation of differential expression, whole tx. - TAP_SCREEN: Enhancer screen on chromosome 8 and 11, targeted seq. Additional datasets (supplement only): - TAP_TAR: Initial test experiments - TAP_REDESIGN: Redesign of Targeting panel 2\"\n",
            "    },\n",
            "    \"sample\": {\n",
            "        \"accession\": \"SRS5225664\",\n",
            "        \"title\": \"TAP_DIFFEX, sample 1\",\n",
            "        \"organism\": \"Homo sapiens\",\n",
            "        \"attributes\": {\n",
            "            \"source_name\": \"K562 dCas9-KRAB\",\n",
            "            \"cell line\": \"K562 Cell line\",\n",
            "            \"targeting panel\": \"Chromosome 8 panel\",\n",
            "            \"perturbations\": \"Control perturbations\",\n",
            "            \"ENA-SPOT-COUNT\": \"41712373\",\n",
            "            \"ENA-BASE-COUNT\": \"3503839332\",\n",
            "            \"ENA-FIRST-PUBLIC\": \"2020-03-24\",\n",
            "            \"ENA-LAST-UPDATE\": \"2020-03-25\"\n",
            "        }\n",
            "    },\n",
            "    \"title\": \"NextSeq 500 paired end sequencing; GSM4012688: TASC_DIFFEX, sample 1; Homo sapiens; RNA-Seq\",\n",
            "    \"files\": [\n",
            "        {\n",
            "            \"url\": \"ftp://ftp.sra.ebi.ac.uk/vol1/fastq/SRR991/003/SRR9916613/SRR9916613_1.fastq.gz\",\n",
            "            \"md5\": \"00b566e49e4ba511a44e051fbc54ab24\",\n",
            "            \"size\": \"825262568\"\n",
            "        },\n",
            "        {\n",
            "            \"url\": \"ftp://ftp.sra.ebi.ac.uk/vol1/fastq/SRR991/003/SRR9916613/SRR9916613_2.fastq.gz\",\n",
            "            \"md5\": \"56f33bbbc2774742fbdd408be8d37256\",\n",
            "            \"size\": \"1261114788\"\n",
            "        }\n",
            "    ]\n",
            "}"
          ],
          "name": "stdout"
        }
      ]
    },
    {
      "cell_type": "code",
      "metadata": {
        "id": "2OFax_UChZty",
        "outputId": "c60d948b-fd18-4687-8b9a-df66f1c6594e",
        "colab": {
          "base_uri": "https://localhost:8080/"
        }
      },
      "source": [
        "!cat BMGP_2020/references/tapseq/fastq_links-TAP_DIFFEX/SRR9916614.json"
      ],
      "id": "2OFax_UChZty",
      "execution_count": 6,
      "outputs": [
        {
          "output_type": "stream",
          "text": [
            "{\n",
            "    \"accession\": \"SRR9916614\",\n",
            "    \"experiment\": {\n",
            "        \"accession\": \"SRX6665860\",\n",
            "        \"title\": \"NextSeq 500 paired end sequencing; GSM4012689: TASC_DIFFEX, sample 2; Homo sapiens; RNA-Seq\",\n",
            "        \"platform\": \"ILLUMINA\",\n",
            "        \"instrument\": \"NextSeq 500\"\n",
            "    },\n",
            "    \"study\": {\n",
            "        \"accession\": \"SRP217685\",\n",
            "        \"title\": \"Targeted single-cell transcriptome readouts for high-throughput genetics and functional genomics\",\n",
            "        \"abstract\": \"We show that targeted single-cell RNA-sequencing (TAP-seq) permits reliable mapping of cell (sub)types with as little as 100 reads per cell and reduces the sequencing costs for differential expression testing by a factor of 10-30, thereby enabling a cost-effective profiling of a large number of genotypes at the single cell level. We demonstrate the use of TAP-seq by generating comprehensive perturbation-based enhancer-target gene maps for 1.5% of the human genome. Overall design: The performance of targeted single-cell RNA-seq (TAP) was compared to whole transcriptome seq (WTX) in various scenarios (for detail, refer to sample description): - TAP_DEEP: Comparison of targeting panels, targeted seq (deeply sequenced) - WTX_REF: Unperturbed K562 reference, whole Tx - TAP_CT: Cell type mapping (mouse bone marrow panel), targeted seq. - WTX_CT: Cell type mapping, whole Tx - see series GSE122465 - TAP_DIFFEX: Dataset for evaluation of differential expression, targeted seq. - WTX_DIFFEX: Dataset for evaluation of differential expression, whole tx. - TAP_SCREEN: Enhancer screen on chromosome 8 and 11, targeted seq. Additional datasets (supplement only): - TAP_TAR: Initial test experiments - TAP_REDESIGN: Redesign of Targeting panel 2\"\n",
            "    },\n",
            "    \"sample\": {\n",
            "        \"accession\": \"SRS5225665\",\n",
            "        \"title\": \"TAP_DIFFEX, sample 2\",\n",
            "        \"organism\": \"Homo sapiens\",\n",
            "        \"attributes\": {\n",
            "            \"source_name\": \"K562 dCas9-KRAB\",\n",
            "            \"cell line\": \"K562 Cell line\",\n",
            "            \"targeting panel\": \"Chromosome 8 panel\",\n",
            "            \"perturbations\": \"Control perturbations\",\n",
            "            \"ENA-SPOT-COUNT\": \"41329080\",\n",
            "            \"ENA-BASE-COUNT\": \"3471642720\",\n",
            "            \"ENA-FIRST-PUBLIC\": \"2020-03-24\",\n",
            "            \"ENA-LAST-UPDATE\": \"2020-03-25\"\n",
            "        }\n",
            "    },\n",
            "    \"title\": \"NextSeq 500 paired end sequencing; GSM4012689: TASC_DIFFEX, sample 2; Homo sapiens; RNA-Seq\",\n",
            "    \"files\": [\n",
            "        {\n",
            "            \"url\": \"ftp://ftp.sra.ebi.ac.uk/vol1/fastq/SRR991/004/SRR9916614/SRR9916614_1.fastq.gz\",\n",
            "            \"md5\": \"94b923c0a629058cc374879289f70c60\",\n",
            "            \"size\": \"815990487\"\n",
            "        },\n",
            "        {\n",
            "            \"url\": \"ftp://ftp.sra.ebi.ac.uk/vol1/fastq/SRR991/004/SRR9916614/SRR9916614_2.fastq.gz\",\n",
            "            \"md5\": \"1fa1c974998d70a8d6f1fc286ff533ab\",\n",
            "            \"size\": \"1259156375\"\n",
            "        }\n",
            "    ]\n",
            "}"
          ],
          "name": "stdout"
        }
      ]
    },
    {
      "cell_type": "code",
      "metadata": {
        "id": "automotive-viewer"
      },
      "source": [
        "if COLAB:\n",
        "    !pip install --quiet \\\n",
        "    kb-python==0.26.3 \\\n",
        "    anndata==0.7.6 \\\n"
      ],
      "id": "automotive-viewer",
      "execution_count": null,
      "outputs": []
    },
    {
      "cell_type": "code",
      "metadata": {
        "id": "aerial-imaging",
        "outputId": "54b5c59b-786f-430b-dd27-c6f6fe9cd2fc"
      },
      "source": [
        "if COLAB:\n",
        "    # download cellranger (30sec)\n",
        "    !wget -O cellranger-6.0.1.tar.gz \\\n",
        "    -q --show-progress --progress=bar:force  \\\n",
        "    \"https://cf.10xgenomics.com/releases/cell-exp/cellranger-6.0.1.tar.gz?Expires=1619593023&Policy=eyJTdGF0ZW1lbnQiOlt7IlJlc291cmNlIjoiaHR0cHM6Ly9jZi4xMHhnZW5vbWljcy5jb20vcmVsZWFzZXMvY2VsbC1leHAvY2VsbHJhbmdlci02LjAuMS50YXIuZ3oiLCJDb25kaXRpb24iOnsiRGF0ZUxlc3NUaGFuIjp7IkFXUzpFcG9jaFRpbWUiOjE2MTk1OTMwMjN9fX1dfQ__&Signature=EfUmpmiiOtatL9nfNGsODQnSC2a5GmvKesMiVee~04H2ndGVBNkLGB7uWuU3c1NvgG5R1GMk6MYNaPcTaF100IPncjjnFFot7qawOb1LiZQx7sxXLlDfyEPr4TshlXdwzVkU8DX1yZeq82iHVc3etUHiugVLVttUW7wrfd1do35jVoJzjHacWeFGBS6CWvFpvAhNsT29-YULeJRDbdYe~TYhjsKnl1BVWSQzKUtdNsrsiPgXAnAf4GsNmEDNA~b~Gnwyubs3cGGna4TDXw65IcoduOHcIxOMHlhgX5wIabfcMZx3i9Jaw7TpwFxRHHEpoFftHuEsGHs1lusxB8pKYQ__&Key-Pair-Id=APKAI7S6A5RYOXBWRPDA\" \\\n",
        "    2>&1\n",
        "    \n",
        "    !tar -xf cellranger-6.0.1.tar.gz\n",
        "\n",
        "    \n",
        "    # download cellranger reference (5min)\n",
        "    !wget \\\n",
        "    -q --show-progress --progress=bar:force  \\\n",
        "    https://cf.10xgenomics.com/supp/cell-exp/refdata-gex-GRCh38-2020-A.tar.gz \\\n",
        "    2>&1\n",
        "    \n",
        "    !tar -xf refdata-gex-GRCh38-2020-A.tar.gz\n"
      ],
      "id": "aerial-imaging",
      "execution_count": null,
      "outputs": [
        {
          "output_type": "stream",
          "text": [
            "cellranger-6.0.1.ta 100%[===================>]   1.01G  37.7MB/s    in 26s     \n"
          ],
          "name": "stdout"
        }
      ]
    },
    {
      "cell_type": "code",
      "metadata": {
        "id": "moderate-bracket"
      },
      "source": [
        "%%bash\n",
        "source cellranger-6.0.1/sourceme.bash"
      ],
      "id": "moderate-bracket",
      "execution_count": null,
      "outputs": []
    },
    {
      "cell_type": "code",
      "metadata": {
        "id": "cellular-person",
        "outputId": "53d3e6c1-eef6-4b77-951b-3f94a018f039"
      },
      "source": [
        "!mkdir -p fastqs\n",
        "if COLAB:\n",
        "    # download the relevant data\n",
        "    !wget -O fastqs/SRR9916613_R1.fastq.gz \\\n",
        "    -q --show-progress --progress=bar:force  \\\n",
        "    ftp://ftp.sra.ebi.ac.uk/vol1/fastq/SRR991/003/SRR9916613/SRR9916613_1.fastq.gz \\\n",
        "    2>&1\n",
        "\n",
        "    # download the relevant data\n",
        "    !wget -O fastqs/SRR9916613_R2.fastq.gz \\\n",
        "    -q --show-progress --progress=bar:force  \\\n",
        "    ftp://ftp.sra.ebi.ac.uk/vol1/fastq/SRR991/003/SRR9916613/SRR9916613_2.fastq.gz \\\n",
        "    2>&1"
      ],
      "id": "cellular-person",
      "execution_count": null,
      "outputs": [
        {
          "output_type": "stream",
          "text": [
            "SRR9916613_1.fastq. 100%[===================>] 787.03M  4.93MB/s    in 2m 59s  \n",
            "SRR9916613_2.fastq. 100%[===================>]   1.17G  7.45MB/s    in 3m 49s  \n"
          ],
          "name": "stdout"
        }
      ]
    },
    {
      "cell_type": "code",
      "metadata": {
        "id": "connected-corrections"
      },
      "source": [
        "# targets gene in panel 2 (panel_2_chr8.csv)\n",
        "# uses guide RNA from control perturbations chr8 (gRNA_chr8_control.csv)"
      ],
      "id": "connected-corrections",
      "execution_count": null,
      "outputs": []
    },
    {
      "cell_type": "markdown",
      "metadata": {
        "id": "illegal-contact"
      },
      "source": [
        "# Preprocess with kb"
      ],
      "id": "illegal-contact"
    },
    {
      "cell_type": "code",
      "metadata": {
        "id": "respected-robert"
      },
      "source": [
        "# seqtk trimfq -b 19 -e 16 SRR9916613_R2.fastq.gz | gzip > tmp && mv tmp SRR9916613_R2.fastq.gz"
      ],
      "id": "respected-robert",
      "execution_count": null,
      "outputs": []
    },
    {
      "cell_type": "code",
      "metadata": {
        "id": "manual-price",
        "outputId": "4e752998-5c3a-48db-b087-383e1a44637b"
      },
      "source": [
        "%%time\n",
        "# !FB=\"BMGP_2020/references/tapseq/kite/feature_barcodes.txt\" && \\\n",
        "# INDEX=\"BMGP_2020/references/tapseq/kite/features.idx\" && \\\n",
        "# F2B=\"BMGP_2020/references/tapseq/kite/f2b.txt\" && \\\n",
        "# FASTA=\"BMGP_2020/references/tapseq/kite/features.fa\" && \\\n",
        "!FB=\"../../../references/tapseq/kite/feature_barcodes.txt\" && \\\n",
        "INDEX=\"../../../references/tapseq/kite/features.idx\" && \\\n",
        "F2B=\"../../../references/tapseq/kite/f2b.txt\" && \\\n",
        "FASTA=\"../../../references/tapseq/kite/features.fa\" && \\\n",
        "kb ref \\\n",
        "-i $INDEX \\\n",
        "-g $F2B \\\n",
        "-f1 $FASTA \\\n",
        "--workflow kite \\\n",
        "$FB"
      ],
      "id": "manual-price",
      "execution_count": null,
      "outputs": [
        {
          "output_type": "stream",
          "text": [
            "[2021-06-09 12:17:57,130]    INFO Generating mismatch FASTA at ../../../references/tapseq/kite/features.fa\n",
            "[2021-06-09 12:17:57,154] WARNING Detected barcodes of different lengths: 19,20\n",
            "[2021-06-09 12:17:57,182]    INFO Creating transcript-to-gene mapping at ../../../references/tapseq/kite/f2b.txt\n",
            "[2021-06-09 12:17:57,219]    INFO Indexing ../../../references/tapseq/kite/features.fa to ../../../references/tapseq/kite/features.idx\n",
            "CPU times: user 18 ms, sys: 19.4 ms, total: 37.3 ms\n",
            "Wall time: 1.79 s\n"
          ],
          "name": "stdout"
        }
      ]
    },
    {
      "cell_type": "code",
      "metadata": {
        "id": "experimental-hindu",
        "outputId": "2b72437f-30cc-4fd6-c6c1-ebac0743ec03"
      },
      "source": [
        "%%bash\n",
        "# FB=\"BMGP_2020/references/10xFB_5k_pbmc_v3/kite/feature_barcodes.txt\" && \\\n",
        "# INDEX=\"BMGP_2020/references/10xFB_5k_pbmc_v3/kite/features.idx\" && \\\n",
        "# F2B=\"BMGP_2020/references/10xFB_5k_pbmc_v3/kite/f2b.txt\" && \\\n",
        "# FASTA=\"BMGP_2020/references/10xFB_5k_pbmc_v3/kite/features.fa\" && \\\n",
        "FB=\"../../../references/tapseq/kite/feature_barcodes.txt\" && \\\n",
        "INDEX=\"../../../references/tapseq/kite/features.idx\" && \\\n",
        "F2B=\"../../../references/tapseq/kite/f2b.txt\" && \\\n",
        "FASTA=\"../../../references/tapseq/kite/features.fa\" && \\\n",
        "OUT=\"kite_2\" && \\\n",
        "FASTQS=$(FASTQDIR=\"fastqs_2/\" && paste -d\" \" \\\n",
        "<(ls $FASTQDIR | awk -v p=$FASTQDIR '{print p$0}' | grep R1) \\\n",
        "<(ls $FASTQDIR | awk -v p=$FASTQDIR '{print p$0}' | grep R2)) && \\\n",
        "kb count \\\n",
        "-i $INDEX \\\n",
        "-g $F2B \\\n",
        "-x 10xv2 \\\n",
        "-o $OUT \\\n",
        "--h5ad \\\n",
        "--filter bustools \\\n",
        "$FASTQS"
      ],
      "id": "experimental-hindu",
      "execution_count": null,
      "outputs": [
        {
          "output_type": "stream",
          "text": [
            "[2021-06-09 17:13:10,652]    INFO Using index ../../../references/tapseq/kite/features.idx to generate BUS file to kite_2 from\n",
            "[2021-06-09 17:13:10,652]    INFO         fastqs_2/SRR9916613_R1.fastq.gz\n",
            "[2021-06-09 17:13:10,652]    INFO         fastqs_2/SRR9916613_R2.fastq.gz\n",
            "[2021-06-09 17:13:49,636]    INFO Sorting BUS file kite_2/output.bus to kite_2/tmp/output.s.bus\n",
            "[2021-06-09 17:13:52,771]    INFO Whitelist not provided\n",
            "[2021-06-09 17:13:52,772]    INFO Copying pre-packaged 10XV2 whitelist to kite_2\n",
            "[2021-06-09 17:13:52,863]    INFO Inspecting BUS file kite_2/tmp/output.s.bus\n",
            "[2021-06-09 17:13:53,235]    INFO Correcting BUS records in kite_2/tmp/output.s.bus to kite_2/tmp/output.s.c.bus with whitelist kite_2/10xv2_whitelist.txt\n",
            "[2021-06-09 17:13:53,839]    INFO Sorting BUS file kite_2/tmp/output.s.c.bus to kite_2/output.unfiltered.bus\n",
            "[2021-06-09 17:13:57,009]    INFO Generating count matrix kite_2/counts_unfiltered/cells_x_genes from BUS file kite_2/output.unfiltered.bus\n",
            "[2021-06-09 17:13:57,262]    INFO Reading matrix kite_2/counts_unfiltered/cells_x_genes.mtx\n",
            "[2021-06-09 17:13:57,452]    INFO Writing matrix to h5ad kite_2/counts_unfiltered/adata.h5ad\n",
            "[2021-06-09 17:13:57,487]    INFO Filtering with bustools\n",
            "[2021-06-09 17:13:57,487]    INFO Generating whitelist kite_2/filter_barcodes.txt from BUS file kite_2/output.unfiltered.bus\n",
            "[2021-06-09 17:13:57,518]    INFO Correcting BUS records in kite_2/output.unfiltered.bus to kite_2/tmp/output.unfiltered.c.bus with whitelist kite_2/filter_barcodes.txt\n",
            "[2021-06-09 17:13:57,757]    INFO Sorting BUS file kite_2/tmp/output.unfiltered.c.bus to kite_2/output.filtered.bus\n",
            "[2021-06-09 17:14:00,746]    INFO Generating count matrix kite_2/counts_filtered/cells_x_genes from BUS file kite_2/output.filtered.bus\n",
            "[2021-06-09 17:14:00,858]    INFO Reading matrix kite_2/counts_filtered/cells_x_genes.mtx\n",
            "[2021-06-09 17:14:00,924]    INFO Writing matrix to h5ad kite_2/counts_filtered/adata.h5ad\n"
          ],
          "name": "stderr"
        }
      ]
    },
    {
      "cell_type": "code",
      "metadata": {
        "id": "meaning-dublin"
      },
      "source": [
        ""
      ],
      "id": "meaning-dublin",
      "execution_count": null,
      "outputs": []
    }
  ]
}