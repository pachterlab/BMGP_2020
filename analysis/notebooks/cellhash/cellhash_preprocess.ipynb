{
 "cells": [
  {
   "cell_type": "code",
   "execution_count": 1,
   "id": "grave-amsterdam",
   "metadata": {},
   "outputs": [
    {
     "name": "stdout",
     "output_type": "stream",
     "text": [
      "Tue Apr 27 11:45:40 PDT 2021\n"
     ]
    }
   ],
   "source": [
    "!date"
   ]
  },
  {
   "cell_type": "markdown",
   "id": "capable-graph",
   "metadata": {},
   "source": [
    "# Install packages and download data"
   ]
  },
  {
   "cell_type": "code",
   "execution_count": 7,
   "id": "greater-weekly",
   "metadata": {},
   "outputs": [],
   "source": [
    "import sys\n",
    "COLAB = \"google.colab\" in sys.modules\n"
   ]
  },
  {
   "cell_type": "code",
   "execution_count": 1,
   "id": "bound-exhibit",
   "metadata": {},
   "outputs": [
    {
     "name": "stdout",
     "output_type": "stream",
     "text": [
      "Cloning into 'BMGP_2020'...\n",
      "remote: Enumerating objects: 165, done.\u001b[K\n",
      "remote: Counting objects: 100% (165/165), done.\u001b[K\n",
      "remote: Compressing objects: 100% (134/134), done.\u001b[K\n",
      "remote: Total 165 (delta 53), reused 121 (delta 23), pack-reused 0\u001b[K\n",
      "Receiving objects: 100% (165/165), 59.24 MiB | 28.96 MiB/s, done.\n",
      "Resolving deltas: 100% (53/53), done.\n"
     ]
    }
   ],
   "source": [
    "if True:\n",
    "    !git clone https://github.com/sbooeshaghi/BMGP_2020.git"
   ]
  },
  {
   "cell_type": "code",
   "execution_count": 2,
   "id": "initial-tissue",
   "metadata": {},
   "outputs": [],
   "source": [
    "!pip --quiet install CITE-seq-Count==1.4.4"
   ]
  },
  {
   "cell_type": "code",
   "execution_count": 4,
   "id": "speaking-conference",
   "metadata": {},
   "outputs": [],
   "source": [
    "if COLAB:\n",
    "    !pip install --quiet \\\n",
    "    kb-python==0.26.0 \\\n",
    "    anndata==0.7.6 \\\n",
    "    CITE-seq-Count==1.4.4"
   ]
  },
  {
   "cell_type": "code",
   "execution_count": 3,
   "id": "intense-surgeon",
   "metadata": {},
   "outputs": [
    {
     "name": "stdout",
     "output_type": "stream",
     "text": [
      "cellhash_fastqs.tar 100%[===================>]   6.30G  17.0MB/s    in 6m 50s  \n"
     ]
    }
   ],
   "source": [
    "if Colab:\n",
    "    # download the relevant data\n",
    "    !wget -O cellhash_fastqs.tar.gz \\\n",
    "    -q --show-progress --progress=bar:force  \\\n",
    "    https://caltech.box.com/shared/static/mpv37niu7kxbrx3gb4mfbun3t9zqv3ad.gz \\\n",
    "    2>&1\n",
    "    !tar -xf cellhash_fastqs.tar.gz"
   ]
  },
  {
   "cell_type": "markdown",
   "id": "electric-recipient",
   "metadata": {},
   "source": [
    "# Preprocess with kb"
   ]
  },
  {
   "cell_type": "code",
   "execution_count": 4,
   "id": "surprising-board",
   "metadata": {},
   "outputs": [
    {
     "name": "stdout",
     "output_type": "stream",
     "text": [
      "[2021-05-18 12:20:15,395]    INFO Generating mismatch FASTA at BMGP_2020/references/cellhash/kite/features.fa\n",
      "[2021-05-18 12:20:15,401]    INFO Creating transcript-to-gene mapping at BMGP_2020/references/cellhash/kite/f2b.txt\n",
      "[2021-05-18 12:20:15,404]    INFO Skipping kallisto index because BMGP_2020/references/cellhash/kite/features.idx already exists. Use the --overwrite flag to overwrite.\n",
      "CPU times: user 24 ms, sys: 5.78 ms, total: 29.8 ms\n",
      "Wall time: 1.66 s\n"
     ]
    }
   ],
   "source": [
    "%%time\n",
    "!INDEX=\"BMGP_2020/references/cellhash/kite/features.idx\" && \\\n",
    "F2B=\"BMGP_2020/references/cellhash/kite/f2b.txt\" && \\\n",
    "FASTA=\"BMGP_2020/references/cellhash/kite/features.fa\" && \\\n",
    "FB=\"BMGP_2020/references/cellhash/kite/feature_barcodes.txt\" && \\\n",
    "kb ref \\\n",
    "-i $INDEX \\\n",
    "-g $F2B \\\n",
    "-f1 $FASTA \\\n",
    "--workflow kite \\\n",
    "$FB"
   ]
  },
  {
   "cell_type": "code",
   "execution_count": 1,
   "id": "grateful-wayne",
   "metadata": {},
   "outputs": [
    {
     "name": "stderr",
     "output_type": "stream",
     "text": [
      "[2021-06-11 09:36:09,676]    INFO Using index BMGP_2020/references/cellhash/kite/features.idx to generate BUS file to kite_out from\n",
      "[2021-06-11 09:36:09,676]    INFO         fastqs/SRR8281307_R1.fastq.gz\n",
      "[2021-06-11 09:36:09,677]    INFO         fastqs/SRR8281307_R2.fastq.gz\n",
      "[2021-06-11 09:38:48,210]    INFO Sorting BUS file kite_out/output.bus to kite_out/tmp/output.s.bus\n",
      "[2021-06-11 09:39:09,130]    INFO Whitelist not provided\n",
      "[2021-06-11 09:39:09,131]    INFO Copying pre-packaged 10XV2 whitelist to kite_out\n",
      "[2021-06-11 09:39:09,222]    INFO Inspecting BUS file kite_out/tmp/output.s.bus\n",
      "[2021-06-11 09:39:14,225]    INFO Correcting BUS records in kite_out/tmp/output.s.bus to kite_out/tmp/output.s.c.bus with whitelist kite_out/10xv2_whitelist.txt\n",
      "[2021-06-11 09:39:19,009]    INFO Sorting BUS file kite_out/tmp/output.s.c.bus to kite_out/output.unfiltered.bus\n",
      "[2021-06-11 09:39:28,177]    INFO Generating count matrix kite_out/counts_unfiltered/cells_x_features from BUS file kite_out/output.unfiltered.bus\n",
      "[2021-06-11 09:39:31,785]    INFO Reading matrix kite_out/counts_unfiltered/cells_x_features.mtx\n",
      "[2021-06-11 09:39:34,229]    INFO Writing matrix to h5ad kite_out/counts_unfiltered/adata.h5ad\n",
      "[2021-06-11 09:39:34,404]    INFO Filtering with bustools\n",
      "[2021-06-11 09:39:34,404]    INFO Generating whitelist kite_out/filter_barcodes.txt from BUS file kite_out/output.unfiltered.bus\n",
      "[2021-06-11 09:39:34,582]    INFO Correcting BUS records in kite_out/output.unfiltered.bus to kite_out/tmp/output.unfiltered.c.bus with whitelist kite_out/filter_barcodes.txt\n",
      "[2021-06-11 09:39:39,575]    INFO Sorting BUS file kite_out/tmp/output.unfiltered.c.bus to kite_out/output.filtered.bus\n",
      "[2021-06-11 09:39:45,495]    INFO Generating count matrix kite_out/counts_filtered/cells_x_features from BUS file kite_out/output.filtered.bus\n",
      "[2021-06-11 09:39:46,257]    INFO Reading matrix kite_out/counts_filtered/cells_x_features.mtx\n",
      "[2021-06-11 09:39:46,481]    INFO Writing matrix to h5ad kite_out/counts_filtered/adata.h5ad\n"
     ]
    }
   ],
   "source": [
    "%%bash\n",
    "FB=\"BMGP_2020/references/cellhash/kite/feature_barcodes.txt\" && \\\n",
    "INDEX=\"BMGP_2020/references/cellhash/kite/features.idx\" && \\\n",
    "F2B=\"BMGP_2020/references/cellhash/kite/f2b.txt\" && \\\n",
    "FASTA=\"BMGP_2020/references/cellhash/kite/features.fa\" && \\\n",
    "OUT=\"kite_out\" && \\\n",
    "FASTQS=$(FASTQDIR=\"fastqs/\" && paste -d\" \" \\\n",
    "<(ls $FASTQDIR | awk -v p=$FASTQDIR '{print p$0}' | grep R1) \\\n",
    "<(ls $FASTQDIR | awk -v p=$FASTQDIR '{print p$0}' | grep R2)) && \\\n",
    "kb count \\\n",
    "-i $INDEX \\\n",
    "-g $F2B \\\n",
    "-x 10xv2 \\\n",
    "-o $OUT \\\n",
    "--workflow kite \\\n",
    "--h5ad \\\n",
    "--filter bustools \\\n",
    "--overwrite \\\n",
    "$FASTQS"
   ]
  },
  {
   "cell_type": "code",
   "execution_count": 2,
   "id": "harmful-disposal",
   "metadata": {},
   "outputs": [
    {
     "name": "stdout",
     "output_type": "stream",
     "text": [
      "hello\n"
     ]
    }
   ],
   "source": [
    "print(\"hello\")"
   ]
  },
  {
   "cell_type": "markdown",
   "id": "second-direction",
   "metadata": {},
   "source": [
    "# Preprocess with cite-seq-count"
   ]
  },
  {
   "cell_type": "code",
   "execution_count": 3,
   "id": "appreciated-beach",
   "metadata": {},
   "outputs": [],
   "source": [
    "!gunzip BMGP_2020/references/whitelist_10xv2.txt.gz"
   ]
  },
  {
   "cell_type": "code",
   "execution_count": null,
   "id": "threatened-looking",
   "metadata": {},
   "outputs": [
    {
     "name": "stdout",
     "output_type": "stream",
     "text": [
      "Loading whitelist\n",
      "[WARNING] Read1 length is 29bp but you are using 26bp for Cell and UMI barcodes combined.\n",
      "This might lead to wrong cell attribution and skewed umi counts.\n",
      "\n",
      "Counting number of reads\n",
      "Started mapping\n",
      "Processing 74,219,921 reads\n",
      "CITE-seq-Count is running with 48 cores.\n",
      "Processed 1,000,000 reads in 12.52 seconds. Total reads: 1,000,000 in child 19821\n",
      "Mapping done for process 19821. Processed 1,546,248 reads\n",
      "Processed 1,000,000 reads in 20.1 seconds. Total reads: 1,000,000 in child 19822\n",
      "Mapping done for process 19822. Processed 1,546,248 reads\n",
      "Processed 1,000,000 reads in 26.82 seconds. Total reads: 1,000,000 in child 19823\n",
      "Mapping done for process 19823. Processed 1,546,248 reads\n",
      "Processed 1,000,000 reads in 34.09 seconds. Total reads: 1,000,000 in child 19824\n",
      "Mapping done for process 19824. Processed 1,546,248 reads\n",
      "Processed 1,000,000 reads in 43.32 seconds. Total reads: 1,000,000 in child 19825\n",
      "Mapping done for process 19825. Processed 1,546,248 reads\n",
      "Processed 1,000,000 reads in 50.2 seconds. Total reads: 1,000,000 in child 19826\n",
      "Mapping done for process 19826. Processed 1,546,248 reads\n",
      "Processed 1,000,000 reads in 57.79 seconds. Total reads: 1,000,000 in child 19827\n",
      "Mapping done for process 19827. Processed 1,546,248 reads\n",
      "Processed 1,000,000 reads in 1.0 minute, 4.919 seconds. Total reads: 1,000,000 in child 19828\n",
      "Mapping done for process 19828. Processed 1,546,248 reads\n",
      "Processed 1,000,000 reads in 1.0 minute, 13.14 seconds. Total reads: 1,000,000 in child 19829\n",
      "Mapping done for process 19829. Processed 1,546,248 reads\n",
      "Processed 1,000,000 reads in 1.0 minute, 20.58 seconds. Total reads: 1,000,000 in child 19830\n",
      "Mapping done for process 19830. Processed 1,546,248 reads\n",
      "Processed 1,000,000 reads in 1.0 minute, 27.69 seconds. Total reads: 1,000,000 in child 19831\n",
      "Mapping done for process 19831. Processed 1,546,248 reads\n",
      "Processed 1,000,000 reads in 1.0 minute, 35.08 seconds. Total reads: 1,000,000 in child 19832\n",
      "Mapping done for process 19832. Processed 1,546,248 reads\n",
      "Processed 1,000,000 reads in 1.0 minute, 43.26 seconds. Total reads: 1,000,000 in child 19833\n",
      "Mapping done for process 19833. Processed 1,546,248 reads\n",
      "Processed 1,000,000 reads in 1.0 minute, 50.89 seconds. Total reads: 1,000,000 in child 19834\n",
      "Mapping done for process 19834. Processed 1,546,248 reads\n",
      "Processed 1,000,000 reads in 1.0 minute, 59.25 seconds. Total reads: 1,000,000 in child 19835\n",
      "Mapping done for process 19835. Processed 1,546,248 reads\n",
      "Processed 1,000,000 reads in 2.0 minutes, 6.238 seconds. Total reads: 1,000,000 in child 19836\n",
      "Mapping done for process 19836. Processed 1,546,248 reads\n",
      "Processed 1,000,000 reads in 2.0 minutes, 12.58 seconds. Total reads: 1,000,000 in child 19837\n",
      "Mapping done for process 19837. Processed 1,546,248 reads\n",
      "Processed 1,000,000 reads in 2.0 minutes, 19.94 seconds. Total reads: 1,000,000 in child 19838\n",
      "Mapping done for process 19838. Processed 1,546,248 reads\n",
      "Processed 1,000,000 reads in 2.0 minutes, 27.23 seconds. Total reads: 1,000,000 in child 19839\n",
      "Mapping done for process 19839. Processed 1,546,248 reads\n",
      "Processed 1,000,000 reads in 2.0 minutes, 35.84 seconds. Total reads: 1,000,000 in child 19840\n",
      "Mapping done for process 19840. Processed 1,546,248 reads\n",
      "Processed 1,000,000 reads in 2.0 minutes, 44.22 seconds. Total reads: 1,000,000 in child 19841\n",
      "Mapping done for process 19841. Processed 1,546,248 reads\n",
      "Processed 1,000,000 reads in 2.0 minutes, 49.42 seconds. Total reads: 1,000,000 in child 19842\n",
      "Mapping done for process 19842. Processed 1,546,248 reads\n",
      "Processed 1,000,000 reads in 2.0 minutes, 57.81 seconds. Total reads: 1,000,000 in child 19843\n",
      "Mapping done for process 19843. Processed 1,546,248 reads\n",
      "Processed 1,000,000 reads in 3.0 minutes, 5.092 seconds. Total reads: 1,000,000 in child 19844\n",
      "Mapping done for process 19844. Processed 1,546,248 reads\n",
      "Processed 1,000,000 reads in 3.0 minutes, 14.08 seconds. Total reads: 1,000,000 in child 19845\n",
      "Mapping done for process 19845. Processed 1,546,248 reads\n",
      "Processed 1,000,000 reads in 3.0 minutes, 23.51 seconds. Total reads: 1,000,000 in child 19846\n",
      "Mapping done for process 19846. Processed 1,546,248 reads\n",
      "Processed 1,000,000 reads in 3.0 minutes, 31.21 seconds. Total reads: 1,000,000 in child 19847\n",
      "Mapping done for process 19847. Processed 1,546,248 reads\n",
      "Processed 1,000,000 reads in 3.0 minutes, 35.58 seconds. Total reads: 1,000,000 in child 19848\n",
      "Mapping done for process 19848. Processed 1,546,248 reads\n",
      "Processed 1,000,000 reads in 3.0 minutes, 43.88 seconds. Total reads: 1,000,000 in child 19849\n",
      "Mapping done for process 19849. Processed 1,546,248 reads\n",
      "Processed 1,000,000 reads in 3.0 minutes, 51.74 seconds. Total reads: 1,000,000 in child 19850\n",
      "Mapping done for process 19850. Processed 1,546,248 reads\n",
      "Processed 1,000,000 reads in 3.0 minutes, 57.67 seconds. Total reads: 1,000,000 in child 19851\n",
      "Mapping done for process 19851. Processed 1,546,248 reads\n",
      "Processed 1,000,000 reads in 4.0 minutes, 6.138 seconds. Total reads: 1,000,000 in child 19852\n",
      "Mapping done for process 19852. Processed 1,546,248 reads\n",
      "Processed 1,000,000 reads in 4.0 minutes, 13.69 seconds. Total reads: 1,000,000 in child 19853\n",
      "Mapping done for process 19853. Processed 1,546,248 reads\n",
      "Processed 1,000,000 reads in 4.0 minutes, 22.54 seconds. Total reads: 1,000,000 in child 19854\n",
      "Mapping done for process 19854. Processed 1,546,248 reads\n",
      "Processed 1,000,000 reads in 4.0 minutes, 28.41 seconds. Total reads: 1,000,000 in child 19855\n",
      "Mapping done for process 19855. Processed 1,546,248 reads\n",
      "Processed 1,000,000 reads in 4.0 minutes, 38.15 seconds. Total reads: 1,000,000 in child 19856\n",
      "Mapping done for process 19856. Processed 1,546,248 reads\n",
      "Processed 1,000,000 reads in 4.0 minutes, 45.25 seconds. Total reads: 1,000,000 in child 19857\n",
      "Mapping done for process 19857. Processed 1,546,248 reads\n",
      "Processed 1,000,000 reads in 4.0 minutes, 51.08 seconds. Total reads: 1,000,000 in child 19858\n",
      "Mapping done for process 19858. Processed 1,546,248 reads\n",
      "Processed 1,000,000 reads in 4.0 minutes, 58.47 seconds. Total reads: 1,000,000 in child 19859\n",
      "Mapping done for process 19859. Processed 1,546,248 reads\n",
      "Processed 1,000,000 reads in 5.0 minutes, 6.029 seconds. Total reads: 1,000,000 in child 19860\n",
      "Mapping done for process 19860. Processed 1,546,248 reads\n",
      "Processed 1,000,000 reads in 5.0 minutes, 13.58 seconds. Total reads: 1,000,000 in child 19861\n",
      "Mapping done for process 19861. Processed 1,546,248 reads\n",
      "Processed 1,000,000 reads in 5.0 minutes, 22.38 seconds. Total reads: 1,000,000 in child 19862\n",
      "Mapping done for process 19862. Processed 1,546,248 reads\n",
      "Processed 1,000,000 reads in 5.0 minutes, 24.04 seconds. Total reads: 1,000,000 in child 19863\n",
      "Mapping done for process 19863. Processed 1,546,248 reads\n",
      "Processed 1,000,000 reads in 5.0 minutes, 30.64 seconds. Total reads: 1,000,000 in child 19864\n",
      "Mapping done for process 19864. Processed 1,546,248 reads\n",
      "Processed 1,000,000 reads in 5.0 minutes, 36.69 seconds. Total reads: 1,000,000 in child 19865\n",
      "Mapping done for process 19865. Processed 1,546,248 reads\n",
      "Processed 1,000,000 reads in 5.0 minutes, 44.11 seconds. Total reads: 1,000,000 in child 19866\n",
      "Mapping done for process 19866. Processed 1,546,248 reads\n",
      "Processed 1,000,000 reads in 5.0 minutes, 48.32 seconds. Total reads: 1,000,000 in child 19867\n",
      "Mapping done for process 19867. Processed 1,546,248 reads\n",
      "Processed 1,000,000 reads in 5.0 minutes, 55.85 seconds. Total reads: 1,000,000 in child 19868\n",
      "Mapping done for process 19868. Processed 1,546,265 reads\n",
      "Mapping done\n",
      "Merging results\n",
      "Correcting cell barcodes\n",
      "Generated barcode tree from whitelist\n",
      "Finding reference candidates\n",
      "Processing 1,598,105 cell barcodes\n"
     ]
    }
   ],
   "source": [
    "!R1=\"fastqs/SRR8281307_R1.fastq.gz\" && \\\n",
    "R2=\"fastqs/SRR8281307_R2.fastq.gz\" && \\\n",
    "FB=\"BMGP_2020/references/cellhash/cite_seq_barcodes.csv\" && \\\n",
    "WL=\"BMGP_2020/references/whitelist_10xv2.txt\" && \\\n",
    "/usr/bin/time -v CITE-seq-Count -R1 $R1  -R2 $R2 --no_umi_correction -t $FB -wl $WL -cbf 1 -cbl 16 -umif 17 -umil 26 -cells 65000 -o ./cite_seq_out"
   ]
  },
  {
   "cell_type": "code",
   "execution_count": null,
   "id": "final-kingston",
   "metadata": {},
   "outputs": [],
   "source": []
  }
 ],
 "metadata": {
  "kernelspec": {
   "display_name": "Python 3",
   "language": "python",
   "name": "python3"
  },
  "language_info": {
   "codemirror_mode": {
    "name": "ipython",
    "version": 3
   },
   "file_extension": ".py",
   "mimetype": "text/x-python",
   "name": "python",
   "nbconvert_exporter": "python",
   "pygments_lexer": "ipython3",
   "version": "3.7.4"
  }
 },
 "nbformat": 4,
 "nbformat_minor": 5
}
