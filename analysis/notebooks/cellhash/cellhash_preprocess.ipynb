{
 "cells": [
  {
   "cell_type": "code",
   "execution_count": 1,
   "id": "administrative-tragedy",
   "metadata": {},
   "outputs": [
    {
     "name": "stdout",
     "output_type": "stream",
     "text": [
      "Tue Apr 27 11:45:40 PDT 2021\n"
     ]
    }
   ],
   "source": [
    "!date"
   ]
  },
  {
   "cell_type": "markdown",
   "id": "wanted-longer",
   "metadata": {},
   "source": [
    "# Install packages and download data"
   ]
  },
  {
   "cell_type": "code",
   "execution_count": 7,
   "id": "abandoned-hardware",
   "metadata": {},
   "outputs": [],
   "source": [
    "import sys\n",
    "COLAB = \"google.colab\" in sys.modules\n"
   ]
  },
  {
   "cell_type": "code",
   "execution_count": 1,
   "id": "nutritional-wagon",
   "metadata": {},
   "outputs": [
    {
     "name": "stdout",
     "output_type": "stream",
     "text": [
      "Cloning into 'BMGP_2020'...\n",
      "remote: Enumerating objects: 165, done.\u001b[K\n",
      "remote: Counting objects: 100% (165/165), done.\u001b[K\n",
      "remote: Compressing objects: 100% (134/134), done.\u001b[K\n",
      "remote: Total 165 (delta 53), reused 121 (delta 23), pack-reused 0\u001b[K\n",
      "Receiving objects: 100% (165/165), 59.24 MiB | 28.96 MiB/s, done.\n",
      "Resolving deltas: 100% (53/53), done.\n"
     ]
    }
   ],
   "source": [
    "if True:\n",
    "    !git clone https://github.com/sbooeshaghi/BMGP_2020.git"
   ]
  },
  {
   "cell_type": "code",
   "execution_count": 2,
   "id": "western-wesley",
   "metadata": {},
   "outputs": [],
   "source": [
    "!pip --quiet install CITE-seq-Count==1.4.4"
   ]
  },
  {
   "cell_type": "code",
   "execution_count": 4,
   "id": "aggregate-alcohol",
   "metadata": {},
   "outputs": [],
   "source": [
    "if COLAB:\n",
    "    !pip install --quiet \\\n",
    "    kb-python==0.26.0 \\\n",
    "    anndata==0.7.6 \\\n",
    "    CITE-seq-Count==1.4.4"
   ]
  },
  {
   "cell_type": "code",
   "execution_count": 3,
   "id": "anonymous-edward",
   "metadata": {},
   "outputs": [
    {
     "name": "stdout",
     "output_type": "stream",
     "text": [
      "cellhash_fastqs.tar 100%[===================>]   6.30G  17.0MB/s    in 6m 50s  \n"
     ]
    }
   ],
   "source": [
    "if Colab:\n",
    "    # download the relevant data\n",
    "    !wget -O cellhash_fastqs.tar.gz \\\n",
    "    -q --show-progress --progress=bar:force  \\\n",
    "    https://caltech.box.com/shared/static/mpv37niu7kxbrx3gb4mfbun3t9zqv3ad.gz \\\n",
    "    2>&1\n",
    "    !tar -xf cellhash_fastqs.tar.gz"
   ]
  },
  {
   "cell_type": "markdown",
   "id": "written-contributor",
   "metadata": {},
   "source": [
    "# Preprocess with kb"
   ]
  },
  {
   "cell_type": "code",
   "execution_count": 4,
   "id": "equipped-opportunity",
   "metadata": {},
   "outputs": [
    {
     "name": "stdout",
     "output_type": "stream",
     "text": [
      "[2021-05-18 12:20:15,395]    INFO Generating mismatch FASTA at BMGP_2020/references/cellhash/kite/features.fa\n",
      "[2021-05-18 12:20:15,401]    INFO Creating transcript-to-gene mapping at BMGP_2020/references/cellhash/kite/f2b.txt\n",
      "[2021-05-18 12:20:15,404]    INFO Skipping kallisto index because BMGP_2020/references/cellhash/kite/features.idx already exists. Use the --overwrite flag to overwrite.\n",
      "CPU times: user 24 ms, sys: 5.78 ms, total: 29.8 ms\n",
      "Wall time: 1.66 s\n"
     ]
    }
   ],
   "source": [
    "%%time\n",
    "!INDEX=\"BMGP_2020/references/cellhash/kite/features.idx\" && \\\n",
    "F2B=\"BMGP_2020/references/cellhash/kite/f2b.txt\" && \\\n",
    "FASTA=\"BMGP_2020/references/cellhash/kite/features.fa\" && \\\n",
    "FB=\"BMGP_2020/references/cellhash/kite/feature_barcodes.txt\" && \\\n",
    "kb ref \\\n",
    "-i $INDEX \\\n",
    "-g $F2B \\\n",
    "-f1 $FASTA \\\n",
    "--workflow kite \\\n",
    "$FB"
   ]
  },
  {
   "cell_type": "code",
   "execution_count": 7,
   "id": "expanded-notice",
   "metadata": {},
   "outputs": [
    {
     "name": "stderr",
     "output_type": "stream",
     "text": [
      "[2021-06-30 14:33:42,830]    INFO [count] Using index BMGP_2020/references/cellhash/kite/features.idx to generate BUS file to kite_out from\n",
      "[2021-06-30 14:33:42,830]    INFO [count]         fastqs/SRR8281307_R1.fastq.gz\n",
      "[2021-06-30 14:33:42,830]    INFO [count]         fastqs/SRR8281307_R2.fastq.gz\n",
      "[2021-06-30 14:36:19,376]    INFO [count] Sorting BUS file kite_out/output.bus to kite_out/tmp/output.s.bus\n",
      "[2021-06-30 14:36:39,237]    INFO [count] Whitelist not provided\n",
      "[2021-06-30 14:36:39,237]    INFO [count] Copying pre-packaged 10XV2 whitelist to kite_out\n",
      "[2021-06-30 14:36:39,330]    INFO [count] Inspecting BUS file kite_out/tmp/output.s.bus\n",
      "[2021-06-30 14:36:43,297]    INFO [count] Correcting BUS records in kite_out/tmp/output.s.bus to kite_out/tmp/output.s.c.bus with whitelist kite_out/10x_version2_whitelist.txt\n",
      "[2021-06-30 14:36:47,903]    INFO [count] Sorting BUS file kite_out/tmp/output.s.c.bus to kite_out/output.unfiltered.bus\n",
      "[2021-06-30 14:36:56,207]    INFO [count] Generating count matrix kite_out/counts_unfiltered/cells_x_features from BUS file kite_out/output.unfiltered.bus\n",
      "[2021-06-30 14:36:59,729]    INFO [count] Reading matrix kite_out/counts_unfiltered/cells_x_features.mtx\n",
      "[2021-06-30 14:37:02,075]    INFO [count] Writing matrix to h5ad kite_out/counts_unfiltered/adata.h5ad\n",
      "[2021-06-30 14:37:02,248]    INFO [count] Filtering with bustools\n",
      "[2021-06-30 14:37:02,248]    INFO [count] Generating whitelist kite_out/filter_barcodes.txt from BUS file kite_out/output.unfiltered.bus\n",
      "[2021-06-30 14:37:02,395]    INFO [count] Correcting BUS records in kite_out/output.unfiltered.bus to kite_out/tmp/output.unfiltered.c.bus with whitelist kite_out/filter_barcodes.txt\n",
      "[2021-06-30 14:37:07,354]    INFO [count] Sorting BUS file kite_out/tmp/output.unfiltered.c.bus to kite_out/output.filtered.bus\n",
      "[2021-06-30 14:37:13,292]    INFO [count] Generating count matrix kite_out/counts_filtered/cells_x_features from BUS file kite_out/output.filtered.bus\n",
      "[2021-06-30 14:37:14,070]    INFO [count] Reading matrix kite_out/counts_filtered/cells_x_features.mtx\n",
      "[2021-06-30 14:37:14,297]    INFO [count] Writing matrix to h5ad kite_out/counts_filtered/adata.h5ad\n"
     ]
    }
   ],
   "source": [
    "%%bash\n",
    "FB=\"BMGP_2020/references/cellhash/kite/feature_barcodes.txt\" && \\\n",
    "INDEX=\"BMGP_2020/references/cellhash/kite/features.idx\" && \\\n",
    "F2B=\"BMGP_2020/references/cellhash/kite/f2b.txt\" && \\\n",
    "FASTA=\"BMGP_2020/references/cellhash/kite/features.fa\" && \\\n",
    "OUT=\"kite_out\" && \\\n",
    "FASTQS=$(FASTQDIR=\"fastqs/\" && paste -d\" \" \\\n",
    "<(ls $FASTQDIR | awk -v p=$FASTQDIR '{print p$0}' | grep R1) \\\n",
    "<(ls $FASTQDIR | awk -v p=$FASTQDIR '{print p$0}' | grep R2)) && \\\n",
    "/usr/bin/time --output=memtime_0.log -v kb count \\\n",
    "-i $INDEX \\\n",
    "-g $F2B \\\n",
    "-x 10xv2 \\\n",
    "-o $OUT \\\n",
    "--workflow kite \\\n",
    "--h5ad \\\n",
    "--filter bustools \\\n",
    "--overwrite \\\n",
    "$FASTQS"
   ]
  },
  {
   "cell_type": "markdown",
   "id": "simplified-communist",
   "metadata": {},
   "source": [
    "# Preprocess with cite-seq-count"
   ]
  },
  {
   "cell_type": "code",
   "execution_count": 3,
   "id": "moved-clinic",
   "metadata": {},
   "outputs": [],
   "source": [
    "!gunzip BMGP_2020/references/whitelist_10xv2.txt.gz"
   ]
  },
  {
   "cell_type": "code",
   "execution_count": 8,
   "id": "impossible-dictionary",
   "metadata": {},
   "outputs": [
    {
     "name": "stdout",
     "output_type": "stream",
     "text": [
      "Loading whitelist\n",
      "[WARNING] Read1 length is 29bp but you are using 26bp for Cell and UMI barcodes combined.\n",
      "This might lead to wrong cell attribution and skewed umi counts.\n",
      "\n",
      "Counting number of reads\n",
      "Started mapping\n",
      "Processing 74,219,921 reads\n",
      "CITE-seq-Count is running with 48 cores.\n",
      "Processed 1,000,000 reads in 13.2 seconds. Total reads: 1,000,000 in child 18827\n",
      "Mapping done for process 18827. Processed 1,546,248 reads\n",
      "Processed 1,000,000 reads in 19.55 seconds. Total reads: 1,000,000 in child 18828\n",
      "Mapping done for process 18828. Processed 1,546,248 reads\n",
      "Processed 1,000,000 reads in 27.81 seconds. Total reads: 1,000,000 in child 18829\n",
      "Mapping done for process 18829. Processed 1,546,248 reads\n",
      "Mapping done for process 18830. Processed 1,546,248 reads\n",
      "Processed 1,000,000 reads in 45.97 seconds. Total reads: 1,000,000 in child 18831\n",
      "Mapping done for process 18831. Processed 1,546,248 reads\n",
      "Processed 1,000,000 reads in 51.63 seconds. Total reads: 1,000,000 in child 18832\n",
      "Mapping done for process 18832. Processed 1,546,248 reads\n",
      "Processed 1,000,000 reads in 59.57 seconds. Total reads: 1,000,000 in child 18833\n",
      "Mapping done for process 18833. Processed 1,546,248 reads\n",
      "Processed 1,000,000 reads in 1.0 minute, 8.131 seconds. Total reads: 1,000,000 in child 18834\n",
      "Mapping done for process 18834. Processed 1,546,248 reads\n",
      "Processed 1,000,000 reads in 1.0 minute, 15.67 seconds. Total reads: 1,000,000 in child 18835\n",
      "Mapping done for process 18835. Processed 1,546,248 reads\n",
      "Processed 1,000,000 reads in 1.0 minute, 21.77 seconds. Total reads: 1,000,000 in child 18836\n",
      "Mapping done for process 18836. Processed 1,546,248 reads\n",
      "Processed 1,000,000 reads in 1.0 minute, 30.0 seconds. Total reads: 1,000,000 in child 18837\n",
      "Mapping done for process 18837. Processed 1,546,248 reads\n",
      "Processed 1,000,000 reads in 1.0 minute, 37.41 seconds. Total reads: 1,000,000 in child 18838\n",
      "Mapping done for process 18838. Processed 1,546,248 reads\n",
      "Processed 1,000,000 reads in 1.0 minute, 46.01 seconds. Total reads: 1,000,000 in child 18839\n",
      "Mapping done for process 18839. Processed 1,546,248 reads\n",
      "Processed 1,000,000 reads in 1.0 minute, 52.78 seconds. Total reads: 1,000,000 in child 18840\n",
      "Mapping done for process 18840. Processed 1,546,248 reads\n",
      "Processed 1,000,000 reads in 2.0 minutes, 0.2794 seconds. Total reads: 1,000,000 in child 18841\n",
      "Mapping done for process 18841. Processed 1,546,248 reads\n",
      "Processed 1,000,000 reads in 2.0 minutes, 8.361 seconds. Total reads: 1,000,000 in child 18842\n",
      "Mapping done for process 18842. Processed 1,546,248 reads\n",
      "Processed 1,000,000 reads in 2.0 minutes, 16.81 seconds. Total reads: 1,000,000 in child 18843\n",
      "Mapping done for process 18843. Processed 1,546,248 reads\n",
      "Processed 1,000,000 reads in 2.0 minutes, 23.52 seconds. Total reads: 1,000,000 in child 18844\n",
      "Mapping done for process 18844. Processed 1,546,248 reads\n",
      "Processed 1,000,000 reads in 2.0 minutes, 32.07 seconds. Total reads: 1,000,000 in child 18845\n",
      "Mapping done for process 18845. Processed 1,546,248 reads\n",
      "Processed 1,000,000 reads in 2.0 minutes, 41.1 seconds. Total reads: 1,000,000 in child 18846\n",
      "Mapping done for process 18846. Processed 1,546,248 reads\n",
      "Processed 1,000,000 reads in 2.0 minutes, 47.62 seconds. Total reads: 1,000,000 in child 18847\n",
      "Mapping done for process 18847. Processed 1,546,248 reads\n",
      "Processed 1,000,000 reads in 2.0 minutes, 55.23 seconds. Total reads: 1,000,000 in child 18848\n",
      "Mapping done for process 18848. Processed 1,546,248 reads\n",
      "Processed 1,000,000 reads in 3.0 minutes, 3.088 seconds. Total reads: 1,000,000 in child 18849\n",
      "Mapping done for process 18849. Processed 1,546,248 reads\n",
      "Processed 1,000,000 reads in 3.0 minutes, 10.62 seconds. Total reads: 1,000,000 in child 18850\n",
      "Mapping done for process 18850. Processed 1,546,248 reads\n",
      "Processed 1,000,000 reads in 3.0 minutes, 22.1 seconds. Total reads: 1,000,000 in child 18851\n",
      "Mapping done for process 18851. Processed 1,546,248 reads\n",
      "Processed 1,000,000 reads in 3.0 minutes, 25.86 seconds. Total reads: 1,000,000 in child 18852\n",
      "Mapping done for process 18852. Processed 1,546,248 reads\n",
      "Processed 1,000,000 reads in 3.0 minutes, 37.15 seconds. Total reads: 1,000,000 in child 18853\n",
      "Mapping done for process 18853. Processed 1,546,248 reads\n",
      "Processed 1,000,000 reads in 3.0 minutes, 48.49 seconds. Total reads: 1,000,000 in child 18854\n",
      "Mapping done for process 18854. Processed 1,546,248 reads\n",
      "Processed 1,000,000 reads in 3.0 minutes, 57.06 seconds. Total reads: 1,000,000 in child 18855\n",
      "Mapping done for process 18855. Processed 1,546,248 reads\n",
      "Processed 1,000,000 reads in 4.0 minutes, 4.452 seconds. Total reads: 1,000,000 in child 18856\n",
      "Mapping done for process 18856. Processed 1,546,248 reads\n",
      "Processed 1,000,000 reads in 4.0 minutes, 11.28 seconds. Total reads: 1,000,000 in child 18857\n",
      "Mapping done for process 18857. Processed 1,546,248 reads\n",
      "Processed 1,000,000 reads in 4.0 minutes, 20.62 seconds. Total reads: 1,000,000 in child 18858\n",
      "Mapping done for process 18858. Processed 1,546,248 reads\n",
      "Processed 1,000,000 reads in 4.0 minutes, 23.88 seconds. Total reads: 1,000,000 in child 18859\n",
      "Mapping done for process 18859. Processed 1,546,248 reads\n",
      "Processed 1,000,000 reads in 4.0 minutes, 29.62 seconds. Total reads: 1,000,000 in child 18860\n",
      "Mapping done for process 18860. Processed 1,546,248 reads\n",
      "Processed 1,000,000 reads in 4.0 minutes, 37.92 seconds. Total reads: 1,000,000 in child 18861\n",
      "Mapping done for process 18861. Processed 1,546,248 reads\n",
      "Processed 1,000,000 reads in 4.0 minutes, 43.23 seconds. Total reads: 1,000,000 in child 18862\n",
      "Mapping done for process 18862. Processed 1,546,248 reads\n",
      "Processed 1,000,000 reads in 5.0 minutes, 0.4813 seconds. Total reads: 1,000,000 in child 18863\n",
      "Mapping done for process 18863. Processed 1,546,248 reads\n",
      "Processed 1,000,000 reads in 5.0 minutes, 4.682 seconds. Total reads: 1,000,000 in child 18864\n",
      "Mapping done for process 18864. Processed 1,546,248 reads\n",
      "Processed 1,000,000 reads in 5.0 minutes, 6.933 seconds. Total reads: 1,000,000 in child 18865\n",
      "Mapping done for process 18865. Processed 1,546,248 reads\n",
      "Processed 1,000,000 reads in 5.0 minutes, 11.28 seconds. Total reads: 1,000,000 in child 18866\n",
      "Mapping done for process 18866. Processed 1,546,248 reads\n",
      "Processed 1,000,000 reads in 5.0 minutes, 30.95 seconds. Total reads: 1,000,000 in child 18867\n",
      "Mapping done for process 18867. Processed 1,546,248 reads\n",
      "Processed 1,000,000 reads in 5.0 minutes, 32.83 seconds. Total reads: 1,000,000 in child 18868\n",
      "Mapping done for process 18868. Processed 1,546,248 reads\n",
      "Processed 1,000,000 reads in 5.0 minutes, 43.7 seconds. Total reads: 1,000,000 in child 18869\n",
      "Mapping done for process 18869. Processed 1,546,248 reads\n",
      "Processed 1,000,000 reads in 5.0 minutes, 53.63 seconds. Total reads: 1,000,000 in child 18870\n",
      "Processed 1,000,000 reads in 5.0 minutes, 54.55 seconds. Total reads: 1,000,000 in child 18871\n",
      "Mapping done for process 18870. Processed 1,546,248 reads\n",
      "Mapping done for process 18871. Processed 1,546,248 reads\n",
      "Processed 1,000,000 reads in 6.0 minutes, 2.056 seconds. Total reads: 1,000,000 in child 18872\n",
      "Mapping done for process 18872. Processed 1,546,248 reads\n",
      "Processed 1,000,000 reads in 6.0 minutes, 1.113 seconds. Total reads: 1,000,000 in child 18873\n",
      "Mapping done for process 18873. Processed 1,546,248 reads\n",
      "Processed 1,000,000 reads in 6.0 minutes, 9.199 seconds. Total reads: 1,000,000 in child 18874\n",
      "Mapping done for process 18874. Processed 1,546,265 reads\n",
      "Mapping done\n",
      "Merging results\n",
      "Correcting cell barcodes\n",
      "Generated barcode tree from whitelist\n",
      "Finding reference candidates\n",
      "Processing 1,598,105 cell barcodes\n",
      "Collapsing cell barcodes\n"
     ]
    }
   ],
   "source": [
    "!R1=\"fastqs/SRR8281307_R1.fastq.gz\" && \\\n",
    "R2=\"fastqs/SRR8281307_R2.fastq.gz\" && \\\n",
    "FB=\"BMGP_2020/references/cellhash/cite_seq_barcodes.csv\" && \\\n",
    "WL=\"BMGP_2020/references/whitelist_10xv2.txt\" && \\\n",
    "/usr/bin/time --output=memtime_1.log -v CITE-seq-Count -R1 $R1  -R2 $R2 --no_umi_correction -t $FB -wl $WL -cbf 1 -cbl 16 -umif 17 -umil 26 -cells 65000 -o ./cite_seq_out"
   ]
  },
  {
   "cell_type": "code",
   "execution_count": null,
   "id": "hawaiian-permission",
   "metadata": {},
   "outputs": [],
   "source": []
  }
 ],
 "metadata": {
  "kernelspec": {
   "display_name": "Python 3",
   "language": "python",
   "name": "python3"
  },
  "language_info": {
   "codemirror_mode": {
    "name": "ipython",
    "version": 3
   },
   "file_extension": ".py",
   "mimetype": "text/x-python",
   "name": "python",
   "nbconvert_exporter": "python",
   "pygments_lexer": "ipython3",
   "version": "3.7.4"
  }
 },
 "nbformat": 4,
 "nbformat_minor": 5
}
