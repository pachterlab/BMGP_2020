{
 "cells": [
  {
   "cell_type": "code",
   "execution_count": 1,
   "id": "hairy-yeast",
   "metadata": {},
   "outputs": [
    {
     "name": "stdout",
     "output_type": "stream",
     "text": [
      "Tue Apr 27 11:45:40 PDT 2021\n"
     ]
    }
   ],
   "source": [
    "!date"
   ]
  },
  {
   "cell_type": "markdown",
   "id": "environmental-canal",
   "metadata": {},
   "source": [
    "# Install packages and download data"
   ]
  },
  {
   "cell_type": "code",
   "execution_count": 7,
   "id": "passing-latter",
   "metadata": {},
   "outputs": [],
   "source": [
    "import sys\n",
    "COLAB = \"google.colab\" in sys.modules\n"
   ]
  },
  {
   "cell_type": "code",
   "execution_count": 1,
   "id": "contained-steel",
   "metadata": {},
   "outputs": [
    {
     "name": "stdout",
     "output_type": "stream",
     "text": [
      "Cloning into 'BMGP_2020'...\n",
      "remote: Enumerating objects: 165, done.\u001b[K\n",
      "remote: Counting objects: 100% (165/165), done.\u001b[K\n",
      "remote: Compressing objects: 100% (134/134), done.\u001b[K\n",
      "remote: Total 165 (delta 53), reused 121 (delta 23), pack-reused 0\u001b[K\n",
      "Receiving objects: 100% (165/165), 59.24 MiB | 28.96 MiB/s, done.\n",
      "Resolving deltas: 100% (53/53), done.\n"
     ]
    }
   ],
   "source": [
    "if True:\n",
    "    !git clone https://github.com/sbooeshaghi/BMGP_2020.git"
   ]
  },
  {
   "cell_type": "code",
   "execution_count": 2,
   "id": "knowing-wholesale",
   "metadata": {},
   "outputs": [],
   "source": [
    "!pip --quiet install CITE-seq-Count==1.4.4"
   ]
  },
  {
   "cell_type": "code",
   "execution_count": 4,
   "id": "native-solid",
   "metadata": {},
   "outputs": [],
   "source": [
    "if COLAB:\n",
    "    !pip install --quiet \\\n",
    "    kb-python==0.26.0 \\\n",
    "    anndata==0.7.6 \\\n",
    "    CITE-seq-Count==1.4.4"
   ]
  },
  {
   "cell_type": "code",
   "execution_count": 3,
   "id": "lucky-nigeria",
   "metadata": {},
   "outputs": [
    {
     "name": "stdout",
     "output_type": "stream",
     "text": [
      "cellhash_fastqs.tar 100%[===================>]   6.30G  17.0MB/s    in 6m 50s  \n"
     ]
    }
   ],
   "source": [
    "if Colab:\n",
    "    # download the relevant data\n",
    "    !wget -O cellhash_fastqs.tar.gz \\\n",
    "    -q --show-progress --progress=bar:force  \\\n",
    "    https://caltech.box.com/shared/static/mpv37niu7kxbrx3gb4mfbun3t9zqv3ad.gz \\\n",
    "    2>&1\n",
    "    !tar -xf cellhash_fastqs.tar.gz"
   ]
  },
  {
   "cell_type": "markdown",
   "id": "informational-times",
   "metadata": {},
   "source": [
    "# Preprocess with kb"
   ]
  },
  {
   "cell_type": "code",
   "execution_count": 4,
   "id": "packed-subject",
   "metadata": {},
   "outputs": [
    {
     "name": "stdout",
     "output_type": "stream",
     "text": [
      "[2021-05-18 12:20:15,395]    INFO Generating mismatch FASTA at BMGP_2020/references/cellhash/kite/features.fa\n",
      "[2021-05-18 12:20:15,401]    INFO Creating transcript-to-gene mapping at BMGP_2020/references/cellhash/kite/f2b.txt\n",
      "[2021-05-18 12:20:15,404]    INFO Skipping kallisto index because BMGP_2020/references/cellhash/kite/features.idx already exists. Use the --overwrite flag to overwrite.\n",
      "CPU times: user 24 ms, sys: 5.78 ms, total: 29.8 ms\n",
      "Wall time: 1.66 s\n"
     ]
    }
   ],
   "source": [
    "%%time\n",
    "!INDEX=\"BMGP_2020/references/cellhash/kite/features.idx\" && \\\n",
    "F2B=\"BMGP_2020/references/cellhash/kite/f2b.txt\" && \\\n",
    "FASTA=\"BMGP_2020/references/cellhash/kite/features.fa\" && \\\n",
    "FB=\"BMGP_2020/references/cellhash/kite/feature_barcodes.txt\" && \\\n",
    "kb ref \\\n",
    "-i $INDEX \\\n",
    "-g $F2B \\\n",
    "-f1 $FASTA \\\n",
    "--workflow kite \\\n",
    "$FB"
   ]
  },
  {
   "cell_type": "code",
   "execution_count": 5,
   "id": "inappropriate-manhattan",
   "metadata": {},
   "outputs": [
    {
     "name": "stderr",
     "output_type": "stream",
     "text": [
      "[2021-05-18 12:20:29,979]    INFO Using index BMGP_2020/references/cellhash/kite/features.idx to generate BUS file to kite_out from\n",
      "[2021-05-18 12:20:29,979]    INFO         fastqs/SRR8281307_1.fastq.gz\n",
      "[2021-05-18 12:20:29,979]    INFO         fastqs/SRR8281307_1.fastq.gz\n",
      "[2021-05-18 12:20:29,979]    INFO         fastqs/SRR8281307_2.fastq.gz\n",
      "[2021-05-18 12:20:29,979]    INFO         fastqs/SRR8281307_2.fastq.gz\n",
      "[2021-05-18 12:25:11,269]    INFO Sorting BUS file kite_out/output.bus to kite_out/tmp/output.s.bus\n",
      "[2021-05-18 12:25:22,639]    INFO Whitelist not provided\n",
      "[2021-05-18 12:25:22,639]    INFO Copying pre-packaged 10XV2 whitelist to kite_out\n",
      "[2021-05-18 12:25:22,732]    INFO Inspecting BUS file kite_out/tmp/output.s.bus\n",
      "[2021-05-18 12:25:22,963]    INFO Correcting BUS records in kite_out/tmp/output.s.bus to kite_out/tmp/output.s.c.bus with whitelist kite_out/10xv2_whitelist.txt\n",
      "[2021-05-18 12:25:23,388]    INFO Sorting BUS file kite_out/tmp/output.s.c.bus to kite_out/output.unfiltered.bus\n",
      "[2021-05-18 12:25:26,003]    INFO Generating count matrix kite_out/counts_unfiltered/cells_x_features from BUS file kite_out/output.unfiltered.bus\n",
      "[2021-05-18 12:25:26,115]    INFO Reading matrix kite_out/counts_unfiltered/cells_x_features.mtx\n",
      "[2021-05-18 12:25:26,202]    INFO Writing matrix to h5ad kite_out/counts_unfiltered/adata.h5ad\n",
      "[2021-05-18 12:25:26,224]    INFO Filtering with bustools\n",
      "[2021-05-18 12:25:26,224]    INFO Generating whitelist kite_out/filter_barcodes.txt from BUS file kite_out/output.unfiltered.bus\n",
      "[2021-05-18 12:25:26,242]    INFO Correcting BUS records in kite_out/output.unfiltered.bus to kite_out/tmp/output.unfiltered.c.bus with whitelist kite_out/filter_barcodes.txt\n",
      "[2021-05-18 12:25:26,273]    INFO Sorting BUS file kite_out/tmp/output.unfiltered.c.bus to kite_out/output.filtered.bus\n",
      "[2021-05-18 12:25:28,796]    INFO Generating count matrix kite_out/counts_filtered/cells_x_features from BUS file kite_out/output.filtered.bus\n",
      "[2021-05-18 12:25:28,809]    INFO Reading matrix kite_out/counts_filtered/cells_x_features.mtx\n",
      "[2021-05-18 12:25:28,819]    INFO Writing matrix to h5ad kite_out/counts_filtered/adata.h5ad\n"
     ]
    }
   ],
   "source": [
    "%%bash\n",
    "FB=\"BMGP_2020/references/cellhash/kite/feature_barcodes.txt\" && \\\n",
    "INDEX=\"BMGP_2020/references/cellhash/kite/features.idx\" && \\\n",
    "F2B=\"BMGP_2020/references/cellhash/kite/f2b.txt\" && \\\n",
    "FASTA=\"BMGP_2020/references/cellhash/kite/features.fa\" && \\\n",
    "OUT=\"kite_out\" && \\\n",
    "FASTQS=$(FASTQDIR=\"fastqs/\" && paste -d\" \" \\\n",
    "<(ls $FASTQDIR | awk -v p=$FASTQDIR '{print p$0}' | grep 1) \\\n",
    "<(ls $FASTQDIR | awk -v p=$FASTQDIR '{print p$0}' | grep 2)) && \\\n",
    "kb count \\\n",
    "-i $INDEX \\\n",
    "-g $F2B \\\n",
    "-x 10xv2 \\\n",
    "-o $OUT \\\n",
    "--workflow kite \\\n",
    "--h5ad \\\n",
    "--filter bustools \\\n",
    "--overwrite \\\n",
    "$FASTQS"
   ]
  },
  {
   "cell_type": "markdown",
   "id": "resident-father",
   "metadata": {},
   "source": [
    "# Preprocess with cite-seq-count"
   ]
  },
  {
   "cell_type": "code",
   "execution_count": 6,
   "id": "prepared-juvenile",
   "metadata": {},
   "outputs": [],
   "source": [
    "!gunzip BMGP_2020/references/whitelist_10xv2.txt.gz"
   ]
  },
  {
   "cell_type": "code",
   "execution_count": null,
   "id": "peaceful-memorial",
   "metadata": {},
   "outputs": [
    {
     "name": "stdout",
     "output_type": "stream",
     "text": [
      "Loading whitelist\n",
      "[WARNING] Read1 length is 29bp but you are using 26bp for Cell and UMI barcodes combined.\n",
      "This might lead to wrong cell attribution and skewed umi counts.\n",
      "\n",
      "Counting number of reads\n",
      "Started mapping\n",
      "Processing 74,219,921 reads\n",
      "CITE-seq-Count is running with 48 cores.\n",
      "Processed 1,000,000 reads in 15.08 seconds. Total reads: 1,000,000 in child 4816\n",
      "Mapping done for process 4816. Processed 1,546,248 reads\n",
      "Processed 1,000,000 reads in 23.06 seconds. Total reads: 1,000,000 in child 4817\n",
      "Mapping done for process 4817. Processed 1,546,248 reads\n",
      "Processed 1,000,000 reads in 31.14 seconds. Total reads: 1,000,000 in child 4818\n",
      "Mapping done for process 4818. Processed 1,546,248 reads\n",
      "Processed 1,000,000 reads in 38.67 seconds. Total reads: 1,000,000 in child 4819\n",
      "Mapping done for process 4819. Processed 1,546,248 reads\n",
      "Processed 1,000,000 reads in 47.99 seconds. Total reads: 1,000,000 in child 4820\n",
      "Mapping done for process 4820. Processed 1,546,248 reads\n",
      "Processed 1,000,000 reads in 55.67 seconds. Total reads: 1,000,000 in child 4821\n",
      "Mapping done for process 4821. Processed 1,546,248 reads\n",
      "Processed 1,000,000 reads in 1.0 minute, 3.047 seconds. Total reads: 1,000,000 in child 4822\n",
      "Mapping done for process 4822. Processed 1,546,248 reads\n",
      "Processed 1,000,000 reads in 1.0 minute, 10.77 seconds. Total reads: 1,000,000 in child 4823\n",
      "Mapping done for process 4823. Processed 1,546,248 reads\n",
      "Processed 1,000,000 reads in 1.0 minute, 18.23 seconds. Total reads: 1,000,000 in child 4824\n",
      "Mapping done for process 4824. Processed 1,546,248 reads\n",
      "Processed 1,000,000 reads in 1.0 minute, 26.37 seconds. Total reads: 1,000,000 in child 4825\n",
      "Mapping done for process 4825. Processed 1,546,248 reads\n",
      "Processed 1,000,000 reads in 1.0 minute, 35.35 seconds. Total reads: 1,000,000 in child 4826\n",
      "Mapping done for process 4826. Processed 1,546,248 reads\n",
      "Processed 1,000,000 reads in 1.0 minute, 41.41 seconds. Total reads: 1,000,000 in child 4827\n",
      "Mapping done for process 4827. Processed 1,546,248 reads\n",
      "Processed 1,000,000 reads in 1.0 minute, 49.96 seconds. Total reads: 1,000,000 in child 4828\n",
      "Mapping done for process 4828. Processed 1,546,248 reads\n",
      "Processed 1,000,000 reads in 1.0 minute, 57.87 seconds. Total reads: 1,000,000 in child 4829\n",
      "Mapping done for process 4829. Processed 1,546,248 reads\n",
      "Processed 1,000,000 reads in 2.0 minutes, 6.993 seconds. Total reads: 1,000,000 in child 4830\n",
      "Mapping done for process 4830. Processed 1,546,248 reads\n",
      "Processed 1,000,000 reads in 2.0 minutes, 13.64 seconds. Total reads: 1,000,000 in child 4831\n",
      "Mapping done for process 4831. Processed 1,546,248 reads\n",
      "Processed 1,000,000 reads in 2.0 minutes, 22.05 seconds. Total reads: 1,000,000 in child 4832\n",
      "Mapping done for process 4832. Processed 1,546,248 reads\n",
      "Processed 1,000,000 reads in 2.0 minutes, 29.54 seconds. Total reads: 1,000,000 in child 4833\n",
      "Mapping done for process 4833. Processed 1,546,248 reads\n",
      "Processed 1,000,000 reads in 2.0 minutes, 37.3 seconds. Total reads: 1,000,000 in child 4834\n",
      "Mapping done for process 4834. Processed 1,546,248 reads\n",
      "Processed 1,000,000 reads in 2.0 minutes, 44.59 seconds. Total reads: 1,000,000 in child 4835\n",
      "Mapping done for process 4835. Processed 1,546,248 reads\n",
      "Processed 1,000,000 reads in 2.0 minutes, 53.03 seconds. Total reads: 1,000,000 in child 4836\n",
      "Mapping done for process 4836. Processed 1,546,248 reads\n",
      "Processed 1,000,000 reads in 3.0 minutes, 2.1 seconds. Total reads: 1,000,000 in child 4837\n",
      "Mapping done for process 4837. Processed 1,546,248 reads\n",
      "Processed 1,000,000 reads in 3.0 minutes, 8.865 seconds. Total reads: 1,000,000 in child 4838\n",
      "Mapping done for process 4838. Processed 1,546,248 reads\n",
      "Processed 1,000,000 reads in 3.0 minutes, 16.37 seconds. Total reads: 1,000,000 in child 4839\n",
      "Mapping done for process 4839. Processed 1,546,248 reads\n",
      "Processed 1,000,000 reads in 3.0 minutes, 25.09 seconds. Total reads: 1,000,000 in child 4840\n",
      "Mapping done for process 4840. Processed 1,546,248 reads\n",
      "Processed 1,000,000 reads in 3.0 minutes, 36.11 seconds. Total reads: 1,000,000 in child 4841\n",
      "Mapping done for process 4841. Processed 1,546,248 reads\n",
      "Processed 1,000,000 reads in 3.0 minutes, 42.69 seconds. Total reads: 1,000,000 in child 4842\n",
      "Mapping done for process 4842. Processed 1,546,248 reads\n",
      "Processed 1,000,000 reads in 3.0 minutes, 57.39 seconds. Total reads: 1,000,000 in child 4843\n",
      "Mapping done for process 4843. Processed 1,546,248 reads\n",
      "Processed 1,000,000 reads in 4.0 minutes, 6.383 seconds. Total reads: 1,000,000 in child 4844\n",
      "Mapping done for process 4844. Processed 1,546,248 reads\n",
      "Processed 1,000,000 reads in 4.0 minutes, 18.69 seconds. Total reads: 1,000,000 in child 4845\n",
      "Mapping done for process 4845. Processed 1,546,248 reads\n",
      "Processed 1,000,000 reads in 4.0 minutes, 17.3 seconds. Total reads: 1,000,000 in child 4846\n",
      "Mapping done for process 4846. Processed 1,546,248 reads\n",
      "Processed 1,000,000 reads in 4.0 minutes, 27.68 seconds. Total reads: 1,000,000 in child 4847\n",
      "Mapping done for process 4847. Processed 1,546,248 reads\n",
      "Processed 1,000,000 reads in 4.0 minutes, 27.7 seconds. Total reads: 1,000,000 in child 4848\n",
      "Mapping done for process 4848. Processed 1,546,248 reads\n",
      "Processed 1,000,000 reads in 4.0 minutes, 41.83 seconds. Total reads: 1,000,000 in child 4849\n",
      "Mapping done for process 4849. Processed 1,546,248 reads\n",
      "Processed 1,000,000 reads in 4.0 minutes, 43.24 seconds. Total reads: 1,000,000 in child 4850\n",
      "Mapping done for process 4850. Processed 1,546,248 reads\n",
      "Processed 1,000,000 reads in 4.0 minutes, 53.82 seconds. Total reads: 1,000,000 in child 4851\n",
      "Mapping done for process 4851. Processed 1,546,248 reads\n",
      "Processed 1,000,000 reads in 5.0 minutes, 2.684 seconds. Total reads: 1,000,000 in child 4852\n",
      "Mapping done for process 4852. Processed 1,546,248 reads\n",
      "Processed 1,000,000 reads in 5.0 minutes, 20.09 seconds. Total reads: 1,000,000 in child 4853\n",
      "Mapping done for process 4853. Processed 1,546,248 reads\n",
      "Processed 1,000,000 reads in 5.0 minutes, 18.14 seconds. Total reads: 1,000,000 in child 4854\n",
      "Mapping done for process 4854. Processed 1,546,248 reads\n",
      "Processed 1,000,000 reads in 5.0 minutes, 22.94 seconds. Total reads: 1,000,000 in child 4855\n",
      "Mapping done for process 4855. Processed 1,546,248 reads\n",
      "Processed 1,000,000 reads in 5.0 minutes, 35.07 seconds. Total reads: 1,000,000 in child 4856\n",
      "Mapping done for process 4856. Processed 1,546,248 reads\n",
      "Processed 1,000,000 reads in 5.0 minutes, 38.11 seconds. Total reads: 1,000,000 in child 4857\n",
      "Mapping done for process 4857. Processed 1,546,248 reads\n",
      "Processed 1,000,000 reads in 5.0 minutes, 52.92 seconds. Total reads: 1,000,000 in child 4858\n",
      "Processed 1,000,000 reads in 5.0 minutes, 53.83 seconds. Total reads: 1,000,000 in child 4859\n",
      "Mapping done for process 4858. Processed 1,546,248 reads\n",
      "Mapping done for process 4859. Processed 1,546,248 reads\n",
      "Processed 1,000,000 reads in 6.0 minutes, 0.8291 seconds. Total reads: 1,000,000 in child 4860\n",
      "Mapping done for process 4860. Processed 1,546,248 reads\n",
      "Processed 1,000,000 reads in 6.0 minutes, 11.44 seconds. Total reads: 1,000,000 in child 4861\n"
     ]
    }
   ],
   "source": [
    "!R1=\"fastqs/SRR8281307_1.fastq.gz\" && \\\n",
    "R2=\"fastqs/SRR8281307_2.fastq.gz\" && \\\n",
    "FB=\"BMGP_2020/references/multiseq/cite_seq_barcodes.csv\" && \\\n",
    "WL=\"BMGP_2020/references/whitelist_10xv2.txt\" && \\\n",
    "/usr/bin/time -v CITE-seq-Count -R1 $R1  -R2 $R2 --no_umi_correction -t $FB -wl $WL -cbf 1 -cbl 16 -umif 17 -umil 26 -cells 65000 -o ./cite_seq_out"
   ]
  },
  {
   "cell_type": "code",
   "execution_count": null,
   "id": "genuine-bradley",
   "metadata": {},
   "outputs": [],
   "source": []
  }
 ],
 "metadata": {
  "kernelspec": {
   "display_name": "Python 3",
   "language": "python",
   "name": "python3"
  },
  "language_info": {
   "codemirror_mode": {
    "name": "ipython",
    "version": 3
   },
   "file_extension": ".py",
   "mimetype": "text/x-python",
   "name": "python",
   "nbconvert_exporter": "python",
   "pygments_lexer": "ipython3",
   "version": "3.7.4"
  }
 },
 "nbformat": 4,
 "nbformat_minor": 5
}
