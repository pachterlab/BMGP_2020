{
 "cells": [
  {
   "cell_type": "code",
   "execution_count": 1,
   "id": "mounted-cause",
   "metadata": {},
   "outputs": [
    {
     "name": "stdout",
     "output_type": "stream",
     "text": [
      "Tue Apr 27 11:45:40 PDT 2021\n"
     ]
    }
   ],
   "source": [
    "!date"
   ]
  },
  {
   "cell_type": "markdown",
   "id": "subsequent-gasoline",
   "metadata": {},
   "source": [
    "# Install packages and download data"
   ]
  },
  {
   "cell_type": "code",
   "execution_count": 7,
   "id": "noble-preserve",
   "metadata": {},
   "outputs": [],
   "source": [
    "import sys\n",
    "COLAB = \"google.colab\" in sys.modules\n"
   ]
  },
  {
   "cell_type": "code",
   "execution_count": 1,
   "id": "intellectual-watershed",
   "metadata": {},
   "outputs": [
    {
     "name": "stdout",
     "output_type": "stream",
     "text": [
      "Cloning into 'BMGP_2020'...\n",
      "remote: Enumerating objects: 98, done.\u001b[K\n",
      "remote: Counting objects: 100% (98/98), done.\u001b[K\n",
      "remote: Compressing objects: 100% (81/81), done.\u001b[K\n",
      "remote: Total 98 (delta 24), reused 77 (delta 10), pack-reused 0\u001b[K\n",
      "Unpacking objects: 100% (98/98), done.\n"
     ]
    }
   ],
   "source": [
    "if COLAB:\n",
    "    !git clone https://github.com/sbooeshaghi/BMGP_2020.git"
   ]
  },
  {
   "cell_type": "code",
   "execution_count": 2,
   "id": "fifteen-snake",
   "metadata": {},
   "outputs": [],
   "source": [
    "!pip --quiet install CITE-seq-Count==1.4.4"
   ]
  },
  {
   "cell_type": "code",
   "execution_count": 4,
   "id": "fuzzy-workshop",
   "metadata": {},
   "outputs": [],
   "source": [
    "if COLAB:\n",
    "    !pip install --quiet \\\n",
    "    kb-python==0.26.0 \\\n",
    "    anndata==0.7.6 \\\n",
    "    CITE-seq-Count==1.4.4"
   ]
  },
  {
   "cell_type": "code",
   "execution_count": 3,
   "id": "unexpected-prison",
   "metadata": {},
   "outputs": [
    {
     "name": "stdout",
     "output_type": "stream",
     "text": [
      "clicktag_fastqs.tar 100%[===================>]   1.47G  24.4MB/s    in 74s     \n"
     ]
    }
   ],
   "source": [
    "if COLAB:\n",
    "    # download the relevant data\n",
    "    !wget -O clicktag_fastqs.tar.gz \\\n",
    "    -q --show-progress --progress=bar:force  \\\n",
    "    https://caltech.box.com/shared/static/zqaom7yuul7ujetqyhnd4lvf8vhzqsyg.gz \\\n",
    "    2>&1\n",
    "    !tar -xf clicktag_fastqs.tar.gz"
   ]
  },
  {
   "cell_type": "markdown",
   "id": "sunset-extent",
   "metadata": {},
   "source": [
    "# Preprocess with kb"
   ]
  },
  {
   "cell_type": "code",
   "execution_count": 9,
   "id": "social-daniel",
   "metadata": {},
   "outputs": [
    {
     "name": "stdout",
     "output_type": "stream",
     "text": [
      "[2021-04-29 11:28:29,716]    INFO Generating mismatch FASTA at BMGP_2020/references/clicktag/kite/features.fa\n",
      "[2021-04-29 11:28:29,763]    INFO Creating transcript-to-gene mapping at BMGP_2020/references/clicktag/kite/f2b.txt\n",
      "[2021-04-29 11:28:29,781]    INFO Skipping kallisto index because BMGP_2020/references/clicktag/kite/features.idx already exists. Use the --overwrite flag to overwrite.\n",
      "CPU times: user 123 ms, sys: 32 ms, total: 155 ms\n",
      "Wall time: 5.09 s\n"
     ]
    }
   ],
   "source": [
    "%%time\n",
    "!INDEX=\"BMGP_2020/references/clicktag/kite/features.idx\" && \\\n",
    "F2B=\"BMGP_2020/references/clicktag/kite/f2b.txt\" && \\\n",
    "FASTA=\"BMGP_2020/references/clicktag/kite/features.fa\" && \\\n",
    "FB=\"BMGP_2020/references/clicktag/kite/feature_barcodes.txt\" && \\\n",
    "kb ref \\\n",
    "-i $INDEX \\\n",
    "-g $F2B \\\n",
    "-f1 $FASTA \\\n",
    "--workflow kite \\\n",
    "$FB"
   ]
  },
  {
   "cell_type": "code",
   "execution_count": 18,
   "id": "thousand-documentary",
   "metadata": {},
   "outputs": [
    {
     "name": "stderr",
     "output_type": "stream",
     "text": [
      "[2021-04-29 13:22:47,405]    INFO Using index BMGP_2020/references/clicktag/kite/features.idx to generate BUS file to kite_out from\n",
      "[2021-04-29 13:22:47,406]    INFO         fastqs/NSC_Fixed_S2_L001_R1_001.fastq.gz\n",
      "[2021-04-29 13:22:47,406]    INFO         fastqs/NSC_Fixed_S2_L001_R2_001.fastq.gz\n",
      "[2021-04-29 13:24:52,736]    INFO Sorting BUS file kite_out/output.bus to kite_out/tmp/output.s.bus\n",
      "[2021-04-29 13:25:16,124]    INFO Whitelist not provided\n",
      "[2021-04-29 13:25:16,125]    INFO Copying pre-packaged 10XV2 whitelist to kite_out\n",
      "[2021-04-29 13:25:16,307]    INFO Inspecting BUS file kite_out/tmp/output.s.bus\n",
      "[2021-04-29 13:25:26,103]    INFO Correcting BUS records in kite_out/tmp/output.s.bus to kite_out/tmp/output.s.c.bus with whitelist kite_out/10xv2_whitelist.txt\n",
      "[2021-04-29 13:25:38,368]    INFO Sorting BUS file kite_out/tmp/output.s.c.bus to kite_out/output.unfiltered.bus\n",
      "[2021-04-29 13:25:58,192]    INFO Generating count matrix kite_out/counts_unfiltered/cells_x_features from BUS file kite_out/output.unfiltered.bus\n",
      "[2021-04-29 13:26:04,529]    INFO Reading matrix kite_out/counts_unfiltered/cells_x_features.mtx\n",
      "[2021-04-29 13:26:09,382]    INFO Writing matrix to h5ad kite_out/counts_unfiltered/adata.h5ad\n",
      "[2021-04-29 13:26:09,694]    INFO Filtering with bustools\n",
      "[2021-04-29 13:26:09,694]    INFO Generating whitelist kite_out/filter_barcodes.txt from BUS file kite_out/output.unfiltered.bus\n",
      "[2021-04-29 13:26:09,954]    INFO Correcting BUS records in kite_out/output.unfiltered.bus to kite_out/tmp/output.unfiltered.c.bus with whitelist kite_out/filter_barcodes.txt\n",
      "[2021-04-29 13:26:20,819]    INFO Sorting BUS file kite_out/tmp/output.unfiltered.c.bus to kite_out/output.filtered.bus\n",
      "[2021-04-29 13:26:35,992]    INFO Generating count matrix kite_out/counts_filtered/cells_x_features from BUS file kite_out/output.filtered.bus\n",
      "[2021-04-29 13:26:37,795]    INFO Reading matrix kite_out/counts_filtered/cells_x_features.mtx\n",
      "[2021-04-29 13:26:38,097]    INFO Writing matrix to h5ad kite_out/counts_filtered/adata.h5ad\n"
     ]
    }
   ],
   "source": [
    "%%bash\n",
    "FB=\"BMGP_2020/references/clicktag/kite/feature_barcodes.txt\" && \\\n",
    "INDEX=\"BMGP_2020/references/clicktag/kite/features.idx\" && \\\n",
    "F2B=\"BMGP_2020/references/clicktag/kite/f2b.txt\" && \\\n",
    "FASTA=\"BMGP_2020/references/clicktag/kite/features.fa\" && \\\n",
    "OUT=\"kite_out\" && \\\n",
    "FASTQS=$(FASTQDIR=\"fastqs/\" && paste -d\" \" \\\n",
    "<(ls $FASTQDIR | awk -v p=$FASTQDIR '{print p$0}' | grep R1) \\\n",
    "<(ls $FASTQDIR | awk -v p=$FASTQDIR '{print p$0}' | grep R2)) && \\\n",
    "kb count \\\n",
    "-i $INDEX \\\n",
    "-g $F2B \\\n",
    "-x 10xv2 \\\n",
    "-o $OUT \\\n",
    "--workflow kite \\\n",
    "--h5ad \\\n",
    "--filter bustools \\\n",
    "--overwrite \\\n",
    "$FASTQS"
   ]
  },
  {
   "cell_type": "markdown",
   "id": "concrete-amber",
   "metadata": {},
   "source": [
    "# Preprocess with cellranger"
   ]
  },
  {
   "cell_type": "code",
   "execution_count": 19,
   "id": "attempted-cheat",
   "metadata": {},
   "outputs": [],
   "source": [
    "!gunzip BMGP_2020/references/whitelist_10xv2.txt.gz"
   ]
  },
  {
   "cell_type": "code",
   "execution_count": 20,
   "id": "brown-business",
   "metadata": {},
   "outputs": [
    {
     "name": "stdout",
     "output_type": "stream",
     "text": [
      "Loading whitelist\n",
      "Counting number of reads\n",
      "Started mapping\n",
      "Processing 15,928,888 reads\n",
      "CITE-seq-Count is running with 48 cores.\n",
      "Mapping done for process 47037. Processed 331,851 reads\n",
      "Mapping done for process 47118. Processed 331,851 reads\n",
      "Mapping done for process 47185. Processed 331,851 reads\n",
      "Mapping done for process 47191. Processed 331,851 reads\n",
      "Mapping done for process 47234. Processed 331,851 reads\n",
      "Mapping done for process 47225. Processed 331,851 reads\n",
      "Mapping done for process 47201. Processed 331,851 reads\n",
      "Mapping done for process 47242. Processed 331,851 reads\n",
      "Mapping done for process 47273. Processed 331,851 reads\n",
      "Mapping done for process 47284. Processed 331,851 reads\n",
      "Mapping done for process 47395. Processed 331,851 reads\n",
      "Mapping done for process 47378. Processed 331,851 reads\n",
      "Mapping done for process 47410. Processed 331,851 reads\n",
      "Mapping done for process 47429. Processed 331,851 reads\n",
      "Mapping done for process 47480. Processed 331,851 reads\n",
      "Mapping done for process 47459. Processed 331,851 reads\n",
      "Mapping done for process 47495. Processed 331,851 reads\n",
      "Mapping done for process 47519. Processed 331,851 reads\n",
      "Mapping done for process 47539. Processed 331,851 reads\n",
      "Mapping done for process 47604. Processed 331,851 reads\n",
      "Mapping done for process 47588. Processed 331,851 reads\n",
      "Mapping done for process 47618. Processed 331,851 reads\n",
      "Mapping done for process 47632. Processed 331,851 reads\n",
      "Mapping done for process 47681. Processed 331,851 reads\n",
      "Mapping done for process 47647. Processed 331,851 reads\n",
      "Mapping done for process 47692. Processed 331,851 reads\n",
      "Mapping done for process 47736. Processed 331,851 reads\n",
      "Mapping done for process 47719. Processed 331,851 reads\n",
      "Mapping done for process 47787. Processed 331,851 reads\n",
      "Mapping done for process 47818. Processed 331,851 reads\n",
      "Mapping done for process 47799. Processed 331,851 reads\n",
      "Mapping done for process 47856. Processed 331,851 reads\n",
      "Mapping done for process 47831. Processed 331,851 reads\n",
      "Mapping done for process 47875. Processed 331,851 reads\n",
      "Mapping done for process 47898. Processed 331,851 reads\n",
      "Mapping done for process 47887. Processed 331,851 reads\n",
      "Mapping done for process 47930. Processed 331,851 reads\n",
      "Mapping done for process 47965. Processed 331,851 reads\n",
      "Mapping done for process 47986. Processed 331,851 reads\n",
      "Mapping done for process 47972. Processed 331,851 reads\n",
      "Mapping done for process 48005. Processed 331,851 reads\n",
      "Mapping done for process 48080. Processed 331,851 reads\n",
      "Mapping done for process 48065. Processed 331,851 reads\n",
      "Mapping done for process 48095. Processed 331,851 reads\n",
      "Mapping done for process 48137. Processed 331,851 reads\n",
      "Mapping done for process 48178. Processed 331,851 reads\n",
      "Mapping done for process 48153. Processed 331,851 reads\n",
      "Mapping done for process 48202. Processed 331,891 reads\n",
      "Mapping done\n",
      "Merging results\n",
      "Correcting cell barcodes\n",
      "Generated barcode tree from whitelist\n",
      "Finding reference candidates\n",
      "Processing 494,151 cell barcodes\n",
      "Collapsing cell barcodes\n"
     ]
    }
   ],
   "source": [
    "!R1=\"fastqs/NSC_Fixed_S2_L001_R1_001.fastq.gz\" && \\\n",
    "R2=\"fastqs/NSC_Fixed_S2_L001_R2_001.fastq.gz\" && \\\n",
    "FB=\"BMGP_2020/references/clicktag/cite_seq_barcodes.csv\" && \\\n",
    "WL=\"BMGP_2020/references/whitelist_10xv2.txt\" && \\\n",
    "CITE-seq-Count -R1 $R1  -R2 $R2 --no_umi_correction -t $FB -wl $WL -cbf 1 -cbl 16 -umif 17 -umil 26 -cells 21000 -o ./cite_seq_out"
   ]
  },
  {
   "cell_type": "code",
   "execution_count": null,
   "id": "intellectual-still",
   "metadata": {},
   "outputs": [],
   "source": []
  }
 ],
 "metadata": {
  "kernelspec": {
   "display_name": "Python 3",
   "language": "python",
   "name": "python3"
  },
  "language_info": {
   "codemirror_mode": {
    "name": "ipython",
    "version": 3
   },
   "file_extension": ".py",
   "mimetype": "text/x-python",
   "name": "python",
   "nbconvert_exporter": "python",
   "pygments_lexer": "ipython3",
   "version": "3.7.4"
  }
 },
 "nbformat": 4,
 "nbformat_minor": 5
}
